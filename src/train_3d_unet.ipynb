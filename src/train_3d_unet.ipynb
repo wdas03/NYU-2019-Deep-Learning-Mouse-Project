{
 "cells": [
  {
   "cell_type": "code",
   "execution_count": 1,
   "metadata": {},
   "outputs": [],
   "source": [
    "import sys\n",
    "if not sys.warnoptions:\n",
    "    import warnings\n",
    "    warnings.simplefilter(\"ignore\")\n",
    "\n",
    "import torch\n",
    "import torch.optim as optim\n",
    "from torchvision import transforms\n",
    "from torch.utils.data import DataLoader\n",
    "from tqdm import tqdm\n",
    "\n",
    "from data_utility import *\n",
    "from data_utils import get_dimensions\n",
    "from loss import *\n",
    "from train import *\n",
    "from sync_batchnorm import convert_model\n",
    "from cascade_fcn import UNet3D\n",
    "import datetime\n",
    "\n",
    "%matplotlib inline\n",
    "%load_ext autoreload\n",
    "%autoreload 2"
   ]
  },
  {
   "cell_type": "code",
   "execution_count": 2,
   "metadata": {},
   "outputs": [
    {
     "name": "stdout",
     "output_type": "stream",
     "text": [
      "using GPU for training\n"
     ]
    }
   ],
   "source": [
    "USE_GPU = True\n",
    "NUM_WORKERS = 12\n",
    "BATCH_SIZE = 1\n",
    "\n",
    "dtype = torch.float32 \n",
    "# define dtype, float is space efficient than double\n",
    "\n",
    "if USE_GPU and torch.cuda.is_available():\n",
    "    \n",
    "    device = torch.device('cuda')\n",
    "    \n",
    "    torch.backends.cudnn.benchmark = True\n",
    "    torch.backends.cudnn.enabled = True\n",
    "    # magic flag that accelerate\n",
    "    \n",
    "    print('using GPU for training')\n",
    "else:\n",
    "    device = torch.device('cpu')\n",
    "    print('using CPU for training')"
   ]
  },
  {
   "cell_type": "code",
   "execution_count": 3,
   "metadata": {},
   "outputs": [],
   "source": [
    "train_dataset = pyramid_dataset(data_type = 'nii_train', \n",
    "                transform=transforms.Compose([\n",
    "                random_affine(90, 15),\n",
    "                random_filp(0.5)]))\n",
    "# do data augumentation on train dataset\n",
    "\n",
    "validation_dataset = pyramid_dataset(data_type = 'nii_test', transform=None)\n",
    "# no data augumentation on validation dataset\n",
    "\n",
    "train_loader = DataLoader(train_dataset, batch_size=BATCH_SIZE, shuffle=True,\n",
    "                    num_workers=NUM_WORKERS)\n",
    "validation_loader = DataLoader(validation_dataset, batch_size=BATCH_SIZE, shuffle=True, num_workers=NUM_WORKERS)\n",
    "# loaders come with auto batch division and multi-thread acceleration"
   ]
  },
  {
   "cell_type": "code",
   "execution_count": 4,
   "metadata": {},
   "outputs": [],
   "source": [
    "import torch.nn as nn\n",
    "import torch.nn.init as init\n",
    "import torch.nn.functional as F\n",
    "\n",
    "def init_weights(m):\n",
    "    if isinstance(m, nn.Conv3d):\n",
    "        init.kaiming_normal_(m.weight.data)\n",
    "    elif isinstance(m, nn.BatchNorm3d):\n",
    "        init.normal_(m.weight.data, mean=0, std=1)\n",
    "\n",
    "def downsample_label(label, scale_factor):\n",
    "    return F.interpolate(label, scale_factor=scale_factor, mode='trilinear', align_corners=True)"
   ]
  },
  {
   "cell_type": "code",
   "execution_count": null,
   "metadata": {},
   "outputs": [],
   "source": [
    "def shape_test(model, cuda_bool):\n",
    "    x = torch.zeros((1, 1, 256, 256, 256))\n",
    "    x = x.to(device=device, dtype=dtype) if cuda_bool else x\n",
    "    model = model.to(device=device, dtype=dtype) if cuda_bool else model\n",
    "    scores = model(x)\n",
    "    for i in scores:\n",
    "        print(i.size())"
   ]
  },
  {
   "cell_type": "code",
   "execution_count": null,
   "metadata": {},
   "outputs": [
    {
     "data": {
      "text/plain": [
       "\"\\ncheckpoint = torch.load('../3d_res_save/2019-07-31 20:01:12.105267.pth')\\nm.load_state_dict(checkpoint['state_dict_1'])\\n#m.apply(init_weights)\\nm = m.to(device=device, dtype=dtype)\\n\\noptimizer.load_state_dict(checkpoint['optimizer'])\\nscheduler = optim.lr_scheduler.ReduceLROnPlateau(optimizer)\\nscheduler.load_state_dict(checkpoint['scheduler'])\\nepoch = checkpoint['epoch']\\nprint(epoch)\\n\""
      ]
     },
     "execution_count": 6,
     "metadata": {},
     "output_type": "execute_result"
    }
   ],
   "source": [
    "#test_dictionary = train_dataset[33]\n",
    "\n",
    "#image_1 = test_dictionary['image1_data'].view(1, 1, 256, 256, 256).to(device=device, dtype=dtype)\n",
    "#label_1 = test_dictionary['image1_label'].view(1, 3, 256, 256, 256).to(device=device, dtype=dtype)\n",
    "\n",
    "#image_2 = test_dictionary['image2_data'].view(1, 1, 128, 128, 128).to(device=device, dtype=dtype)\n",
    "#label_2 = test_dictionary['image2_label'].view(1, 3, 128, 128, 128).to(device=device, dtype=dtype)\n",
    "\n",
    "#label_2_resize_2 = downsample_label(label_2, 1/2).to(device=device, dtype=dtype)\n",
    "\n",
    "m = UNet3D(1, 3, final_sigmoid = False)\n",
    "m = nn.DataParallel(m)\n",
    "m = convert_model(m)\n",
    "m = m.to(device, dtype)\n",
    "optimizer = optim.Adam(m.parameters(), lr=1e-2, weight_decay=1e-4)\n",
    "scheduler = optim.lr_scheduler.ReduceLROnPlateau(optimizer)\n",
    "epoch = 0\n",
    "\n",
    "\"\"\"\n",
    "checkpoint = torch.load('../3d_res_save/2019-07-31 20:01:12.105267.pth')\n",
    "m.load_state_dict(checkpoint['state_dict_1'])\n",
    "#m.apply(init_weights)\n",
    "m = m.to(device=device, dtype=dtype)\n",
    "\n",
    "optimizer.load_state_dict(checkpoint['optimizer'])\n",
    "scheduler = optim.lr_scheduler.ReduceLROnPlateau(optimizer)\n",
    "scheduler.load_state_dict(checkpoint['scheduler'])\n",
    "epoch = checkpoint['epoch']\n",
    "print(epoch)\n",
    "\"\"\"\n",
    "#shape_test(m, True)"
   ]
  },
  {
   "cell_type": "code",
   "execution_count": null,
   "metadata": {},
   "outputs": [
    {
     "name": "stderr",
     "output_type": "stream",
     "text": [
      "  0%|          | 1/4999 [08:23<699:37:33, 503.93s/it]"
     ]
    },
    {
     "name": "stdout",
     "output_type": "stream",
     "text": [
      "Epoch 1 finished ! Training Loss: 0.5331\n",
      "\n"
     ]
    },
    {
     "name": "stderr",
     "output_type": "stream",
     "text": [
      "\r",
      "  0%|          | 2/4999 [16:02<680:33:55, 490.30s/it]"
     ]
    },
    {
     "name": "stdout",
     "output_type": "stream",
     "text": [
      "Epoch 2 finished ! Training Loss: 0.4722\n",
      "\n"
     ]
    },
    {
     "name": "stderr",
     "output_type": "stream",
     "text": [
      "\r",
      "  0%|          | 3/4999 [23:40<667:07:45, 480.72s/it]"
     ]
    },
    {
     "name": "stdout",
     "output_type": "stream",
     "text": [
      "Epoch 3 finished ! Training Loss: 0.4695\n",
      "\n"
     ]
    },
    {
     "name": "stderr",
     "output_type": "stream",
     "text": [
      "\r",
      "  0%|          | 4/4999 [31:16<656:35:47, 473.22s/it]"
     ]
    },
    {
     "name": "stdout",
     "output_type": "stream",
     "text": [
      "Epoch 4 finished ! Training Loss: 0.4641\n",
      "\n",
      "Epoch 5 finished ! Training Loss: 0.4737\n",
      "\n",
      "------- 1st valloss=0.4818\n",
      "\n",
      "Checkpoint 5 saved !\n"
     ]
    },
    {
     "name": "stderr",
     "output_type": "stream",
     "text": [
      "  0%|          | 6/4999 [47:21<659:54:31, 475.80s/it]"
     ]
    },
    {
     "name": "stdout",
     "output_type": "stream",
     "text": [
      "Epoch 6 finished ! Training Loss: 0.4680\n",
      "\n"
     ]
    },
    {
     "name": "stderr",
     "output_type": "stream",
     "text": [
      "\r",
      "  0%|          | 7/4999 [54:59<652:15:03, 470.37s/it]"
     ]
    },
    {
     "name": "stdout",
     "output_type": "stream",
     "text": [
      "Epoch 7 finished ! Training Loss: 0.4636\n",
      "\n"
     ]
    },
    {
     "name": "stderr",
     "output_type": "stream",
     "text": [
      "\r",
      "  0%|          | 8/4999 [1:02:36<646:34:07, 466.37s/it]"
     ]
    },
    {
     "name": "stdout",
     "output_type": "stream",
     "text": [
      "Epoch 8 finished ! Training Loss: 0.4648\n",
      "\n"
     ]
    },
    {
     "name": "stderr",
     "output_type": "stream",
     "text": [
      "\r",
      "  0%|          | 9/4999 [1:10:15<643:14:12, 464.06s/it]"
     ]
    },
    {
     "name": "stdout",
     "output_type": "stream",
     "text": [
      "Epoch 9 finished ! Training Loss: 0.4647\n",
      "\n",
      "Epoch 10 finished ! Training Loss: 0.4648\n",
      "\n",
      "------- 1st valloss=0.5138\n",
      "\n",
      "Checkpoint 10 saved !\n"
     ]
    },
    {
     "name": "stderr",
     "output_type": "stream",
     "text": [
      "  0%|          | 11/4999 [1:26:10<649:17:05, 468.61s/it]"
     ]
    },
    {
     "name": "stdout",
     "output_type": "stream",
     "text": [
      "Epoch 11 finished ! Training Loss: 0.4614\n",
      "\n"
     ]
    },
    {
     "name": "stderr",
     "output_type": "stream",
     "text": [
      "\r",
      "  0%|          | 12/4999 [1:33:50<645:30:23, 465.98s/it]"
     ]
    },
    {
     "name": "stdout",
     "output_type": "stream",
     "text": [
      "Epoch 12 finished ! Training Loss: 0.4762\n",
      "\n"
     ]
    },
    {
     "name": "stderr",
     "output_type": "stream",
     "text": [
      "\r",
      "  0%|          | 13/4999 [1:41:24<640:40:47, 462.58s/it]"
     ]
    },
    {
     "name": "stdout",
     "output_type": "stream",
     "text": [
      "Epoch 13 finished ! Training Loss: 0.4684\n",
      "\n"
     ]
    },
    {
     "name": "stderr",
     "output_type": "stream",
     "text": [
      "\r",
      "  0%|          | 14/4999 [1:49:00<637:32:22, 460.41s/it]"
     ]
    },
    {
     "name": "stdout",
     "output_type": "stream",
     "text": [
      "Epoch 14 finished ! Training Loss: 0.4657\n",
      "\n",
      "Epoch 15 finished ! Training Loss: 0.4698\n",
      "\n",
      "------- 1st valloss=0.6084\n",
      "\n",
      "Checkpoint 15 saved !\n"
     ]
    },
    {
     "name": "stderr",
     "output_type": "stream",
     "text": [
      "  0%|          | 16/4999 [2:04:54<646:40:51, 467.20s/it]"
     ]
    },
    {
     "name": "stdout",
     "output_type": "stream",
     "text": [
      "Epoch 16 finished ! Training Loss: 0.4632\n",
      "\n"
     ]
    },
    {
     "name": "stderr",
     "output_type": "stream",
     "text": [
      "\r",
      "  0%|          | 17/4999 [2:12:32<642:47:40, 464.48s/it]"
     ]
    },
    {
     "name": "stdout",
     "output_type": "stream",
     "text": [
      "Epoch 17 finished ! Training Loss: 0.4689\n",
      "\n"
     ]
    },
    {
     "name": "stderr",
     "output_type": "stream",
     "text": [
      "\r",
      "  0%|          | 18/4999 [2:20:06<638:16:40, 461.31s/it]"
     ]
    },
    {
     "name": "stdout",
     "output_type": "stream",
     "text": [
      "Epoch 18 finished ! Training Loss: 0.4657\n",
      "\n"
     ]
    },
    {
     "name": "stderr",
     "output_type": "stream",
     "text": [
      "\r",
      "  0%|          | 19/4999 [2:27:47<637:54:08, 461.13s/it]"
     ]
    },
    {
     "name": "stdout",
     "output_type": "stream",
     "text": [
      "Epoch 19 finished ! Training Loss: 0.4647\n",
      "\n",
      "Epoch 20 finished ! Training Loss: 0.4704\n",
      "\n",
      "------- 1st valloss=0.4684\n",
      "\n",
      "Checkpoint 20 saved !\n"
     ]
    },
    {
     "name": "stderr",
     "output_type": "stream",
     "text": [
      "  0%|          | 21/4999 [2:43:45<647:37:48, 468.35s/it]"
     ]
    },
    {
     "name": "stdout",
     "output_type": "stream",
     "text": [
      "Epoch 21 finished ! Training Loss: 0.4685\n",
      "\n"
     ]
    },
    {
     "name": "stderr",
     "output_type": "stream",
     "text": [
      "\r",
      "  0%|          | 22/4999 [2:51:22<642:37:39, 464.83s/it]"
     ]
    },
    {
     "name": "stdout",
     "output_type": "stream",
     "text": [
      "Epoch 22 finished ! Training Loss: 0.4712\n",
      "\n"
     ]
    },
    {
     "name": "stderr",
     "output_type": "stream",
     "text": [
      "\r",
      "  0%|          | 23/4999 [2:59:02<640:34:38, 463.44s/it]"
     ]
    },
    {
     "name": "stdout",
     "output_type": "stream",
     "text": [
      "Epoch 23 finished ! Training Loss: 0.4649\n",
      "\n"
     ]
    },
    {
     "name": "stderr",
     "output_type": "stream",
     "text": [
      "\r",
      "  0%|          | 24/4999 [3:06:37<637:11:07, 461.08s/it]"
     ]
    },
    {
     "name": "stdout",
     "output_type": "stream",
     "text": [
      "Epoch 24 finished ! Training Loss: 0.4617\n",
      "\n",
      "Epoch 25 finished ! Training Loss: 0.4787\n",
      "\n",
      "------- 1st valloss=0.5668\n",
      "\n",
      "Checkpoint 25 saved !\n"
     ]
    },
    {
     "name": "stderr",
     "output_type": "stream",
     "text": [
      "  1%|          | 26/4999 [3:22:40<648:29:02, 469.44s/it]"
     ]
    },
    {
     "name": "stdout",
     "output_type": "stream",
     "text": [
      "Epoch 26 finished ! Training Loss: 0.4692\n",
      "\n"
     ]
    }
   ],
   "source": [
    "epochs = 5000\n",
    "\n",
    "record = open('train_3d_unet_dropout+weight_decay.txt','w+')\n",
    "\n",
    "logger = {'train':[], 'validation_1':[]}\n",
    "\n",
    "for e in tqdm(range(epoch + 1, epochs)):\n",
    "# iter over epoches\n",
    "\n",
    "    epoch_loss = 0\n",
    "        \n",
    "    for t, batch in enumerate(train_loader):\n",
    "        \n",
    "        # iter over the train mini batches\n",
    "    \n",
    "        m.train()\n",
    "        # Set the model flag to train\n",
    "        # 1. enable dropout\n",
    "        # 2. batchnorm behave differently in train and test\n",
    "        #image_2 = batch['image2_data'].to(device=device, dtype=dtype)\n",
    "        #label_2 = batch['image2_label'].to(device=device, dtype=dtype)\n",
    "        \n",
    "        image_1 = batch['image1_data'].to(device=device, dtype=dtype)\n",
    "        label_1 = batch['image1_label'].to(device=device, dtype=dtype)\n",
    "        \n",
    "        # move data to device, convert dtype to desirable dtype\n",
    "        \n",
    "        # Downsample labels to coincide with icnet model outputs\n",
    "        #label_1_resize_2 = downsample_label(label_1, 1/2)\n",
    "        #label_2_resize_2 = downsample_label(label_2, 1/2)\n",
    "        #label_4_resize_2 = downsample_label(label_4, 1/2)\n",
    "        \n",
    "        out_1 = m(image_1)\n",
    "       \n",
    "        loss_1 = dice_loss_3(out_1, label_1)\n",
    "        # calculate loss\n",
    "        \n",
    "        epoch_loss += loss_1.item()\n",
    "        # record minibatch loss to epoch loss\n",
    "        \n",
    "        optimizer.zero_grad()\n",
    "        # set the model parameter gradient to zero\n",
    "        \n",
    "        loss_1.backward()\n",
    "        # calculate the gradient wrt loss\n",
    "        \n",
    "        optimizer.step()\n",
    "        #scheduler.step(loss)\n",
    "        # take a gradient descent step\n",
    "        torch.cuda.empty_cache()\n",
    "        \n",
    "    outstr = 'Epoch {0} finished ! Training Loss: {1:.4f}'.format(e, epoch_loss/(t+1)) + '\\n'\n",
    "    \n",
    "    logger['train'].append(epoch_loss/(t+1))\n",
    "    \n",
    "    print(outstr)\n",
    "    record.write(outstr)\n",
    "    record.flush()\n",
    "\n",
    "    if e%5 == 0:\n",
    "    # do validation every 5 epoches\n",
    "    \n",
    "        m.eval()\n",
    "        # set model flag to eval\n",
    "        # 1. disable dropout\n",
    "        # 2. batchnorm behave differs\n",
    "\n",
    "        with torch.no_grad():\n",
    "        # stop taking gradient\n",
    "        \n",
    "            #valloss_4 = 0\n",
    "            #valloss_2 = 0\n",
    "            valloss_2 = 0\n",
    "            \n",
    "            for v, vbatch in enumerate(validation_loader):\n",
    "            # iter over validation mini batches\n",
    "            \n",
    "                #image_4_val = vbatch['image4_data'].to(device=device, dtype=dtype)\n",
    "                #if get_dimensions(image_4_val) == 4:\n",
    "                #    image_4_val.unsqueeze_(0)\n",
    "                #label_4_val = vbatch['image4_label'].to(device=device, dtype=dtype)\n",
    "                #if get_dimensions(label_4_val) == 4:\n",
    "                #    label_4_val.unsqueeze_(0)\n",
    "                \n",
    "                #image_2_val = vbatch['image2_data'].to(device=device, dtype=dtype)\n",
    "                #if get_dimensions(image_2_val) == 4:\n",
    "                #    image_2_val.unsqueeze_(0)\n",
    "                #label_2_val = vbatch['image2_label'].to(device=device, dtype=dtype)\n",
    "                #if get_dimensions(label_2_val) == 4:\n",
    "                #    label_2_val.unsqueeze_(0)\n",
    "                \n",
    "                image_2_val = vbatch['image1_data'].to(device=device, dtype=dtype)\n",
    "                if get_dimensions(image_2_val) == 4:\n",
    "                    image_2_val.unsqueeze_(0)\n",
    "                label_2_val = vbatch['image1_label'].to(device=device, dtype=dtype)\n",
    "                if get_dimensions(label_2_val) == 4:\n",
    "                    label_2_val.unsqueeze_(0)\n",
    "                \n",
    "                #print(\"image_1_val:\", image_1_val.shape)\n",
    "                #print(\"label_1_val:\", label_1_val.shape)\n",
    "                # move data to device, convert dtype to desirable dtype\n",
    "                # add dimension to labels if they are 4D tensors\n",
    "                \n",
    "                # Downsample labels to coincide with icnet model outputs\n",
    "                #label_1_val_resize_2 = downsample_label(label_1_val, 1/2) \n",
    "                #label_2_val_resize_2 = downsample_label(label_2_val, 1/2) \n",
    "                #label_4_val_resize_2 = downsample_label(label_4_val, 1/2) \n",
    "                #print(\"label_1_val_resize:\", label_1_val_resize_2.shape) \n",
    "                \n",
    "                out_2_val = m(image_2_val)\n",
    "                # do the inference\n",
    "                \n",
    "                #print(\"out_4:\", out_4_val.shape)\n",
    "                #print(\"label_4:\", label_4_val_resize_2.shape)\n",
    "                #loss_4 = dice_loss_3(out_4_val, label_4_val_resize_2)\n",
    "                #loss_2 = dice_loss_3(out_2_val, label_2_val_resize_2)\n",
    "                loss_2 = dice_loss_3(out_2_val, label_2_val)\n",
    "                # calculate loss\n",
    "\n",
    "                #valloss_4 += loss_4.item()\n",
    "                #valloss_2 += loss_2.item()\n",
    "                valloss_2 += loss_2.item()\n",
    "                # record mini batch loss\n",
    "            \n",
    "            outstr = '------- 1st valloss={0:.4f}'\\\n",
    "                .format(valloss_2/(v+1)) + '\\n'\n",
    "            \n",
    "            logger['validation_1'].append(valloss_2/(v+1))\n",
    "            \n",
    "            scheduler.step(valloss_2/(v+1))\n",
    "            \n",
    "            print(outstr)\n",
    "            record.write(outstr)\n",
    "            record.flush()\n",
    "            \n",
    "            #scheduler.step(valloss_2/(v+1))\n",
    "            \n",
    "            save_1('3d_unet_dropout_weight_decay_save', m, optimizer, logger, e, scheduler)\n",
    "            torch.cuda.empty_cache()\n",
    "\n",
    "record.close()"
   ]
  },
  {
   "cell_type": "code",
   "execution_count": null,
   "metadata": {},
   "outputs": [],
   "source": [
    "m.eval()\n",
    "\n",
    "with torch.no_grad():\n",
    "    \n",
    "    bgloss = 0\n",
    "    bdloss = 0\n",
    "    bvloss = 0\n",
    "    \n",
    "    for v, vbatch in tqdm(enumerate(validation_loader)):\n",
    "            # move data to device, convert dtype to desirable dtype\n",
    "\n",
    "        image_1 = vbatch['image1_data'].to(device=device, dtype=dtype)\n",
    "        label_1 = vbatch['image1_label'].to(device=device, dtype=dtype)\n",
    "\n",
    "        output = m(image_1)\n",
    "        # do the inference\n",
    "        output_numpy = output.cpu().numpy()\n",
    "        \n",
    "        \n",
    "        #out_1 = torch.round(output)\n",
    "        out_1 = torch.from_numpy((output_numpy == output_numpy.max(axis=1)[:, None]).astype(int)).to(device=device, dtype=dtype)\n",
    "        loss_1 = dice_loss_3(out_1, label_1)\n",
    "\n",
    "        bg, bd, bv = dice_loss_3_debug(out_1, label_1)\n",
    "        # calculate loss\n",
    "        print(bg.item(), bd.item(), bv.item(), loss_1.item())\n",
    "        bgloss += bg.item()\n",
    "        bdloss += bd.item()\n",
    "        bvloss += bv.item()\n",
    "\n",
    "    outstr = '------- background loss = {0:.4f}, body loss = {1:.4f}, bv loss = {2:.4f}'\\\n",
    "        .format(bgloss/(v+1), bdloss/(v+1), bvloss/(v+1)) + '\\n'\n",
    "    print(outstr)"
   ]
  },
  {
   "cell_type": "code",
   "execution_count": null,
   "metadata": {},
   "outputs": [],
   "source": [
    "# overfit model on single embryo image (modified ICNet Model)\n",
    "# upsample final outputs by a factor of 4 instead of factor 2\n",
    "import datetime\n",
    "from loss import *\n",
    "from tqdm import tqdm\n",
    "\n",
    "epochs = 5000\n",
    "\n",
    "record = open('over_fit_multi_model.txt','w+')\n",
    "\n",
    "for e in tqdm(range(epochs)):\n",
    "    #torch.cuda.empty_cache()\n",
    "    \n",
    "    out_1 = m(image_1)\n",
    "    #out_1 = m(image_1)\n",
    "    #loss_1 = dice_loss_3(out_1, label_1)\n",
    "    loss_1 = dice_loss_3(out_1, label_1)\n",
    "    \n",
    "    #loss = loss_4 + loss_2 + loss_1 \n",
    "    loss = loss_1\n",
    "    \n",
    "    outstr = 'in epoch {}, loss = {}'.format(e, loss.item()) + '\\n'\n",
    "    \n",
    "    print(outstr) \n",
    "    record.write(outstr)\n",
    "    record.flush()\n",
    "    \n",
    "    optimizer.zero_grad()\n",
    "    loss.backward()\n",
    "    optimizer.step()\n",
    "    #torch.cuda.empty_cache()\n",
    "\n",
    "record.close()"
   ]
  },
  {
   "cell_type": "code",
   "execution_count": null,
   "metadata": {},
   "outputs": [],
   "source": []
  }
 ],
 "metadata": {
  "kernelspec": {
   "display_name": "Python 3",
   "language": "python",
   "name": "python3"
  },
  "language_info": {
   "codemirror_mode": {
    "name": "ipython",
    "version": 3
   },
   "file_extension": ".py",
   "mimetype": "text/x-python",
   "name": "python",
   "nbconvert_exporter": "python",
   "pygments_lexer": "ipython3",
   "version": "3.7.3"
  }
 },
 "nbformat": 4,
 "nbformat_minor": 2
}
