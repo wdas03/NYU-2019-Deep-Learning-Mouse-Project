{
 "cells": [
  {
   "cell_type": "code",
   "execution_count": 1,
   "metadata": {},
   "outputs": [],
   "source": [
    "import sys\n",
    "if not sys.warnoptions:\n",
    "    import warnings\n",
    "    warnings.simplefilter(\"ignore\")\n",
    "\n",
    "import torch\n",
    "import torch.optim as optim\n",
    "from torchvision import transforms\n",
    "from torch.utils.data import DataLoader\n",
    "from tqdm import tqdm\n",
    "\n",
    "from data_utility import *\n",
    "from data_utils import *\n",
    "from loss import *\n",
    "from train import *\n",
    "from deeplab_model.deeplab import *\n",
    "from sync_batchnorm import convert_model\n",
    "import datetime\n",
    "\n",
    "%matplotlib inline\n",
    "%load_ext autoreload\n",
    "%autoreload 2"
   ]
  },
  {
   "cell_type": "code",
   "execution_count": 2,
   "metadata": {},
   "outputs": [
    {
     "name": "stdout",
     "output_type": "stream",
     "text": [
      "using GPU for training\n"
     ]
    }
   ],
   "source": [
    "USE_GPU = True\n",
    "NUM_WORKERS = 12\n",
    "BATCH_SIZE = 2 \n",
    "\n",
    "dtype = torch.float32 \n",
    "# define dtype, float is space efficient than double\n",
    "\n",
    "if USE_GPU and torch.cuda.is_available():\n",
    "    \n",
    "    device = torch.device('cuda')\n",
    "    \n",
    "    torch.backends.cudnn.benchmark = True\n",
    "    torch.backends.cudnn.enabled = True\n",
    "    # magic flag that accelerate\n",
    "    \n",
    "    print('using GPU for training')\n",
    "else:\n",
    "    device = torch.device('cpu')\n",
    "    print('using CPU for training')"
   ]
  },
  {
   "cell_type": "code",
   "execution_count": 3,
   "metadata": {},
   "outputs": [],
   "source": [
    "train_dataset = pyramid_dataset(data_type = 'nii_train', \n",
    "                transform=transforms.Compose([\n",
    "                random_affine(90, 15),\n",
    "                random_filp(0.5)]))\n",
    "# do data augumentation on train dataset\n",
    "\n",
    "validation_dataset = pyramid_dataset(data_type = 'nii_test', \n",
    "                transform=None)\n",
    "# no data augumentation on validation dataset\n",
    "\n",
    "train_loader = DataLoader(train_dataset, batch_size=BATCH_SIZE, shuffle=True,\n",
    "                    num_workers=NUM_WORKERS)\n",
    "validation_loader = DataLoader(validation_dataset, batch_size=BATCH_SIZE, shuffle=True,\n",
    "                    num_workers=NUM_WORKERS) # drop_last\n",
    "# loaders come with auto batch division and multi-thread acceleration"
   ]
  },
  {
   "cell_type": "code",
   "execution_count": null,
   "metadata": {},
   "outputs": [
    {
     "data": {
      "text/plain": [
       "\"\\ndeeplab = DeepLabModified(output_stride=8, elu=True)\\ndeeplab = nn.DataParallel(deeplab)\\ndeeplab = convert_model(deeplab)\\ndeeplab = deeplab.to(device=device, dtype=dtype)\\n#shape_test(icnet1, True)\\n# create the model, by default model type is float, use model.double(), model.float() to convert\\n# move the model to desirable device\\n\\noptimizer = optim.Adam(deeplab.parameters(), lr=1e-2)\\nscheduler = optim.lr_scheduler.ReduceLROnPlateau(optimizer, mode='min', factor=0.1, patience=10)\\nepoch = 0\\n\""
      ]
     },
     "execution_count": 4,
     "metadata": {},
     "output_type": "execute_result"
    }
   ],
   "source": [
    "'''\n",
    "deeplab = DeepLabModified(output_stride=8, elu=True)\n",
    "deeplab = nn.DataParallel(deeplab)\n",
    "deeplab = convert_model(deeplab)\n",
    "deeplab = deeplab.to(device=device, dtype=dtype)\n",
    "#shape_test(icnet1, True)\n",
    "# create the model, by default model type is float, use model.double(), model.float() to convert\n",
    "# move the model to desirable device\n",
    "\n",
    "optimizer = optim.Adam(deeplab.parameters(), lr=1e-2)\n",
    "scheduler = optim.lr_scheduler.ReduceLROnPlateau(optimizer, mode='min', factor=0.1, patience=10)\n",
    "epoch = 0\n",
    "'''\n",
    "\n",
    "# create an optimizer object\n",
    "# note that only the model_2 params and model_4 params will be optimized by optimizer"
   ]
  },
  {
   "cell_type": "code",
   "execution_count": null,
   "metadata": {},
   "outputs": [
    {
     "name": "stdout",
     "output_type": "stream",
     "text": [
      "460\n",
      "0.01\n"
     ]
    }
   ],
   "source": [
    "\n",
    "deeplab = DeepLabModified(output_stride=8, elu=True)\n",
    "deeplab = nn.DataParallel(deeplab)\n",
    "deeplab = convert_model(deeplab)\n",
    "\n",
    "#checkpoint = torch.load('../deeplab_save/2019-07-29 04:00:14.630172.pth') # second best\n",
    "#checkpoint = torch.load('../deeplab_save/2019-07-28 23:47:36.279119.pth') # second best\n",
    "#checkpoint = torch.load('../deeplab_save/2019-07-29 00:15:49.271222.pth') # best\n",
    "#checkpoint = torch.load('../deeplab_save/2019-07-29 00:44:11.825872.pth')\n",
    "checkpoint = torch.load('../deeplab_output_8_modified_elu_save/2019-08-26 08:55:53.958624 epoch: 460.pth') # latest one\n",
    "\n",
    "deeplab.load_state_dict(checkpoint['state_dict_1'])\n",
    "deeplab = deeplab.to(device=device, dtype=dtype)\n",
    "\n",
    "optimizer = optim.Adam(deeplab.parameters(), lr=1e-2)\n",
    "optimizer.load_state_dict(checkpoint['optimizer'])\n",
    "\n",
    "scheduler = optim.lr_scheduler.ReduceLROnPlateau(optimizer, mode='min', factor=0.1, patience=5)\n",
    "scheduler.load_state_dict(checkpoint['scheduler'])\n",
    "\n",
    "epoch = checkpoint['epoch']\n",
    "print(epoch)\n",
    "for param_group in optimizer.param_groups:\n",
    "    print(param_group['lr'])\n"
   ]
  },
  {
   "cell_type": "code",
   "execution_count": null,
   "metadata": {},
   "outputs": [
    {
     "name": "stderr",
     "output_type": "stream",
     "text": [
      "  0%|          | 1/4539 [16:41<1263:00:17, 1001.94s/it]"
     ]
    },
    {
     "name": "stdout",
     "output_type": "stream",
     "text": [
      "Epoch 461 finished ! Training Loss: 0.1350\n",
      "\n",
      "Epoch 462 finished ! Training Loss: 0.1292\n",
      "\n",
      "------- 1st valloss=0.1182\n",
      "\n",
      "0.11819245018388914 less than 1\n"
     ]
    },
    {
     "name": "stderr",
     "output_type": "stream",
     "text": [
      "\r",
      "  0%|          | 2/4539 [31:53<1228:27:56, 974.76s/it] "
     ]
    },
    {
     "name": "stdout",
     "output_type": "stream",
     "text": [
      "Checkpoint 462 saved !\n"
     ]
    },
    {
     "name": "stderr",
     "output_type": "stream",
     "text": [
      "\r",
      "  0%|          | 3/4539 [46:20<1187:39:39, 942.59s/it]"
     ]
    },
    {
     "name": "stdout",
     "output_type": "stream",
     "text": [
      "Epoch 463 finished ! Training Loss: 0.1375\n",
      "\n"
     ]
    },
    {
     "name": "stderr",
     "output_type": "stream",
     "text": [
      "\r",
      "  0%|          | 4/4539 [1:00:45<1158:01:49, 919.27s/it]"
     ]
    },
    {
     "name": "stdout",
     "output_type": "stream",
     "text": [
      "Epoch 464 finished ! Training Loss: 0.1367\n",
      "\n",
      "Epoch 465 finished ! Training Loss: 0.1379\n",
      "\n",
      "------- 1st valloss=0.0650\n",
      "\n",
      "0.0649764040566009 less than 0.11819245018388914\n"
     ]
    },
    {
     "name": "stderr",
     "output_type": "stream",
     "text": [
      "\r",
      "  0%|          | 5/4539 [1:16:25<1165:32:23, 925.44s/it]"
     ]
    },
    {
     "name": "stdout",
     "output_type": "stream",
     "text": [
      "Checkpoint 465 saved !\n"
     ]
    },
    {
     "name": "stderr",
     "output_type": "stream",
     "text": [
      "\r",
      "  0%|          | 6/4539 [1:30:56<1144:49:04, 909.19s/it]"
     ]
    },
    {
     "name": "stdout",
     "output_type": "stream",
     "text": [
      "Epoch 466 finished ! Training Loss: 0.1404\n",
      "\n"
     ]
    },
    {
     "name": "stderr",
     "output_type": "stream",
     "text": [
      "\r",
      "  0%|          | 7/4539 [1:45:38<1134:05:48, 900.87s/it]"
     ]
    },
    {
     "name": "stdout",
     "output_type": "stream",
     "text": [
      "Epoch 467 finished ! Training Loss: 0.1312\n",
      "\n",
      "Epoch 468 finished ! Training Loss: 0.1214\n",
      "\n"
     ]
    },
    {
     "name": "stderr",
     "output_type": "stream",
     "text": [
      "\r",
      "  0%|          | 8/4539 [2:01:19<1149:15:48, 913.12s/it]"
     ]
    },
    {
     "name": "stdout",
     "output_type": "stream",
     "text": [
      "------- 1st valloss=0.0733\n",
      "\n"
     ]
    },
    {
     "name": "stderr",
     "output_type": "stream",
     "text": [
      "\r",
      "  0%|          | 9/4539 [2:16:02<1137:19:39, 903.84s/it]"
     ]
    },
    {
     "name": "stdout",
     "output_type": "stream",
     "text": [
      "Epoch 469 finished ! Training Loss: 0.1446\n",
      "\n"
     ]
    },
    {
     "name": "stderr",
     "output_type": "stream",
     "text": [
      "\r",
      "  0%|          | 10/4539 [2:30:32<1124:23:41, 893.76s/it]"
     ]
    },
    {
     "name": "stdout",
     "output_type": "stream",
     "text": [
      "Epoch 470 finished ! Training Loss: 0.1330\n",
      "\n",
      "Epoch 471 finished ! Training Loss: 0.1339\n",
      "\n"
     ]
    },
    {
     "name": "stderr",
     "output_type": "stream",
     "text": [
      "\r",
      "  0%|          | 11/4539 [2:46:09<1140:23:10, 906.67s/it]"
     ]
    },
    {
     "name": "stdout",
     "output_type": "stream",
     "text": [
      "------- 1st valloss=0.1219\n",
      "\n"
     ]
    },
    {
     "name": "stderr",
     "output_type": "stream",
     "text": [
      "\r",
      "  0%|          | 12/4539 [3:00:27<1122:03:27, 892.29s/it]"
     ]
    },
    {
     "name": "stdout",
     "output_type": "stream",
     "text": [
      "Epoch 472 finished ! Training Loss: 0.1312\n",
      "\n"
     ]
    },
    {
     "name": "stderr",
     "output_type": "stream",
     "text": [
      "\r",
      "  0%|          | 13/4539 [3:14:56<1112:56:30, 885.24s/it]"
     ]
    },
    {
     "name": "stdout",
     "output_type": "stream",
     "text": [
      "Epoch 473 finished ! Training Loss: 0.1289\n",
      "\n",
      "Epoch 474 finished ! Training Loss: 0.1463\n",
      "\n"
     ]
    },
    {
     "name": "stderr",
     "output_type": "stream",
     "text": [
      "\r",
      "  0%|          | 14/4539 [3:30:10<1123:30:55, 893.85s/it]"
     ]
    },
    {
     "name": "stdout",
     "output_type": "stream",
     "text": [
      "------- 1st valloss=0.0822\n",
      "\n"
     ]
    },
    {
     "name": "stderr",
     "output_type": "stream",
     "text": [
      "\r",
      "  0%|          | 15/4539 [3:44:39<1113:46:32, 886.29s/it]"
     ]
    },
    {
     "name": "stdout",
     "output_type": "stream",
     "text": [
      "Epoch 475 finished ! Training Loss: 0.1391\n",
      "\n"
     ]
    },
    {
     "name": "stderr",
     "output_type": "stream",
     "text": [
      "\r",
      "  0%|          | 16/4539 [3:59:15<1109:52:21, 883.38s/it]"
     ]
    },
    {
     "name": "stdout",
     "output_type": "stream",
     "text": [
      "Epoch 476 finished ! Training Loss: 0.1387\n",
      "\n",
      "Epoch 477 finished ! Training Loss: 0.1223\n",
      "\n"
     ]
    },
    {
     "name": "stderr",
     "output_type": "stream",
     "text": [
      "\r",
      "  0%|          | 17/4539 [4:14:40<1125:03:03, 895.66s/it]"
     ]
    },
    {
     "name": "stdout",
     "output_type": "stream",
     "text": [
      "------- 1st valloss=0.0939\n",
      "\n"
     ]
    },
    {
     "name": "stderr",
     "output_type": "stream",
     "text": [
      "\r",
      "  0%|          | 18/4539 [4:29:12<1116:00:35, 888.66s/it]"
     ]
    },
    {
     "name": "stdout",
     "output_type": "stream",
     "text": [
      "Epoch 478 finished ! Training Loss: 0.1258\n",
      "\n"
     ]
    },
    {
     "name": "stderr",
     "output_type": "stream",
     "text": [
      "\r",
      "  0%|          | 19/4539 [4:43:32<1105:07:54, 880.19s/it]"
     ]
    },
    {
     "name": "stdout",
     "output_type": "stream",
     "text": [
      "Epoch 479 finished ! Training Loss: 0.1270\n",
      "\n",
      "Epoch 480 finished ! Training Loss: 0.1373\n",
      "\n",
      "------- 1st valloss=0.0637\n",
      "\n",
      "0.06366169938574666 less than 0.0649764040566009\n"
     ]
    },
    {
     "name": "stderr",
     "output_type": "stream",
     "text": [
      "\r",
      "  0%|          | 20/4539 [4:58:56<1121:18:44, 893.28s/it]"
     ]
    },
    {
     "name": "stdout",
     "output_type": "stream",
     "text": [
      "Checkpoint 480 saved !\n"
     ]
    },
    {
     "name": "stderr",
     "output_type": "stream",
     "text": [
      "\r",
      "  0%|          | 21/4539 [5:13:29<1113:12:11, 887.01s/it]"
     ]
    },
    {
     "name": "stdout",
     "output_type": "stream",
     "text": [
      "Epoch 481 finished ! Training Loss: 0.1317\n",
      "\n"
     ]
    },
    {
     "name": "stderr",
     "output_type": "stream",
     "text": [
      "\r",
      "  0%|          | 22/4539 [5:28:13<1111:55:35, 886.19s/it]"
     ]
    },
    {
     "name": "stdout",
     "output_type": "stream",
     "text": [
      "Epoch 482 finished ! Training Loss: 0.1346\n",
      "\n",
      "Epoch 483 finished ! Training Loss: 0.1510\n",
      "\n"
     ]
    },
    {
     "name": "stderr",
     "output_type": "stream",
     "text": [
      "\r",
      "  1%|          | 23/4539 [5:43:24<1121:00:20, 893.63s/it]"
     ]
    },
    {
     "name": "stdout",
     "output_type": "stream",
     "text": [
      "------- 1st valloss=0.0691\n",
      "\n"
     ]
    },
    {
     "name": "stderr",
     "output_type": "stream",
     "text": [
      "\r",
      "  1%|          | 24/4539 [5:58:06<1116:17:08, 890.06s/it]"
     ]
    },
    {
     "name": "stdout",
     "output_type": "stream",
     "text": [
      "Epoch 484 finished ! Training Loss: 0.1269\n",
      "\n"
     ]
    },
    {
     "name": "stderr",
     "output_type": "stream",
     "text": [
      "\r",
      "  1%|          | 25/4539 [6:12:44<1111:36:57, 886.53s/it]"
     ]
    },
    {
     "name": "stdout",
     "output_type": "stream",
     "text": [
      "Epoch 485 finished ! Training Loss: 0.1417\n",
      "\n",
      "Epoch 486 finished ! Training Loss: 0.1251\n",
      "\n"
     ]
    },
    {
     "name": "stderr",
     "output_type": "stream",
     "text": [
      "\r",
      "  1%|          | 26/4539 [6:27:56<1120:50:43, 894.09s/it]"
     ]
    },
    {
     "name": "stdout",
     "output_type": "stream",
     "text": [
      "------- 1st valloss=0.1365\n",
      "\n"
     ]
    },
    {
     "name": "stderr",
     "output_type": "stream",
     "text": [
      "\r",
      "  1%|          | 27/4539 [6:42:20<1109:24:04, 885.16s/it]"
     ]
    },
    {
     "name": "stdout",
     "output_type": "stream",
     "text": [
      "Epoch 487 finished ! Training Loss: 0.1476\n",
      "\n"
     ]
    },
    {
     "name": "stderr",
     "output_type": "stream",
     "text": [
      "\r",
      "  1%|          | 28/4539 [6:56:55<1105:25:46, 882.19s/it]"
     ]
    },
    {
     "name": "stdout",
     "output_type": "stream",
     "text": [
      "Epoch 488 finished ! Training Loss: 0.1392\n",
      "\n",
      "Epoch 489 finished ! Training Loss: 0.1323\n",
      "\n"
     ]
    },
    {
     "name": "stderr",
     "output_type": "stream",
     "text": [
      "\r",
      "  1%|          | 29/4539 [7:12:21<1121:36:02, 895.29s/it]"
     ]
    },
    {
     "name": "stdout",
     "output_type": "stream",
     "text": [
      "------- 1st valloss=0.0800\n",
      "\n"
     ]
    },
    {
     "name": "stderr",
     "output_type": "stream",
     "text": [
      "\r",
      "  1%|          | 30/4539 [7:26:51<1111:39:15, 887.55s/it]"
     ]
    },
    {
     "name": "stdout",
     "output_type": "stream",
     "text": [
      "Epoch 490 finished ! Training Loss: 0.1264\n",
      "\n"
     ]
    },
    {
     "name": "stderr",
     "output_type": "stream",
     "text": [
      "\r",
      "  1%|          | 31/4539 [7:41:31<1108:52:51, 885.53s/it]"
     ]
    },
    {
     "name": "stdout",
     "output_type": "stream",
     "text": [
      "Epoch 491 finished ! Training Loss: 0.1384\n",
      "\n",
      "Epoch 492 finished ! Training Loss: 0.1074\n",
      "\n"
     ]
    },
    {
     "name": "stderr",
     "output_type": "stream",
     "text": [
      "\r",
      "  1%|          | 32/4539 [7:57:01<1125:13:11, 898.78s/it]"
     ]
    },
    {
     "name": "stdout",
     "output_type": "stream",
     "text": [
      "------- 1st valloss=0.1021\n",
      "\n"
     ]
    },
    {
     "name": "stderr",
     "output_type": "stream",
     "text": [
      "\r",
      "  1%|          | 33/4539 [8:11:35<1115:35:25, 891.28s/it]"
     ]
    },
    {
     "name": "stdout",
     "output_type": "stream",
     "text": [
      "Epoch 493 finished ! Training Loss: 0.1332\n",
      "\n"
     ]
    },
    {
     "name": "stderr",
     "output_type": "stream",
     "text": [
      "\r",
      "  1%|          | 34/4539 [8:26:02<1106:26:55, 884.18s/it]"
     ]
    },
    {
     "name": "stdout",
     "output_type": "stream",
     "text": [
      "Epoch 494 finished ! Training Loss: 0.1238\n",
      "\n",
      "Epoch 495 finished ! Training Loss: 0.1447\n",
      "\n"
     ]
    },
    {
     "name": "stderr",
     "output_type": "stream",
     "text": [
      "\r",
      "  1%|          | 35/4539 [8:41:28<1121:51:02, 896.68s/it]"
     ]
    },
    {
     "name": "stdout",
     "output_type": "stream",
     "text": [
      "------- 1st valloss=0.0682\n",
      "\n"
     ]
    },
    {
     "name": "stderr",
     "output_type": "stream",
     "text": [
      "\r",
      "  1%|          | 36/4539 [8:56:01<1112:44:42, 889.60s/it]"
     ]
    },
    {
     "name": "stdout",
     "output_type": "stream",
     "text": [
      "Epoch 496 finished ! Training Loss: 0.1324\n",
      "\n"
     ]
    },
    {
     "name": "stderr",
     "output_type": "stream",
     "text": [
      "\r",
      "  1%|          | 37/4539 [9:10:29<1104:21:39, 883.10s/it]"
     ]
    },
    {
     "name": "stdout",
     "output_type": "stream",
     "text": [
      "Epoch 497 finished ! Training Loss: 0.1311\n",
      "\n",
      "Epoch 498 finished ! Training Loss: 0.1494\n",
      "\n"
     ]
    },
    {
     "name": "stderr",
     "output_type": "stream",
     "text": [
      "\r",
      "  1%|          | 38/4539 [9:25:48<1117:25:14, 893.74s/it]"
     ]
    },
    {
     "name": "stdout",
     "output_type": "stream",
     "text": [
      "------- 1st valloss=0.1256\n",
      "\n"
     ]
    },
    {
     "name": "stderr",
     "output_type": "stream",
     "text": [
      "\r",
      "  1%|          | 39/4539 [9:40:17<1107:52:36, 886.30s/it]"
     ]
    },
    {
     "name": "stdout",
     "output_type": "stream",
     "text": [
      "Epoch 499 finished ! Training Loss: 0.1364\n",
      "\n"
     ]
    },
    {
     "name": "stderr",
     "output_type": "stream",
     "text": [
      "\r",
      "  1%|          | 40/4539 [9:54:55<1104:24:51, 883.73s/it]"
     ]
    },
    {
     "name": "stdout",
     "output_type": "stream",
     "text": [
      "Epoch 500 finished ! Training Loss: 0.1389\n",
      "\n",
      "Epoch 501 finished ! Training Loss: 0.1287\n",
      "\n"
     ]
    },
    {
     "name": "stderr",
     "output_type": "stream",
     "text": [
      "\r",
      "  1%|          | 41/4539 [10:10:05<1114:08:03, 891.70s/it]"
     ]
    },
    {
     "name": "stdout",
     "output_type": "stream",
     "text": [
      "------- 1st valloss=0.0714\n",
      "\n"
     ]
    },
    {
     "name": "stderr",
     "output_type": "stream",
     "text": [
      "\r",
      "  1%|          | 42/4539 [10:24:22<1101:06:07, 881.47s/it]"
     ]
    },
    {
     "name": "stdout",
     "output_type": "stream",
     "text": [
      "Epoch 502 finished ! Training Loss: 0.1450\n",
      "\n"
     ]
    },
    {
     "name": "stderr",
     "output_type": "stream",
     "text": [
      "\r",
      "  1%|          | 43/4539 [10:39:05<1101:14:34, 881.78s/it]"
     ]
    },
    {
     "name": "stdout",
     "output_type": "stream",
     "text": [
      "Epoch 503 finished ! Training Loss: 0.1212\n",
      "\n",
      "Epoch 504 finished ! Training Loss: 0.1197\n",
      "\n"
     ]
    },
    {
     "name": "stderr",
     "output_type": "stream",
     "text": [
      "\r",
      "  1%|          | 44/4539 [10:54:39<1120:36:52, 897.49s/it]"
     ]
    },
    {
     "name": "stdout",
     "output_type": "stream",
     "text": [
      "------- 1st valloss=0.0939\n",
      "\n"
     ]
    },
    {
     "name": "stderr",
     "output_type": "stream",
     "text": [
      "\r",
      "  1%|          | 45/4539 [11:09:19<1113:56:48, 892.35s/it]"
     ]
    },
    {
     "name": "stdout",
     "output_type": "stream",
     "text": [
      "Epoch 505 finished ! Training Loss: 0.1035\n",
      "\n"
     ]
    },
    {
     "name": "stderr",
     "output_type": "stream",
     "text": [
      "\r",
      "  1%|          | 46/4539 [11:23:50<1105:28:36, 885.76s/it]"
     ]
    },
    {
     "name": "stdout",
     "output_type": "stream",
     "text": [
      "Epoch 506 finished ! Training Loss: 0.1240\n",
      "\n",
      "Epoch 507 finished ! Training Loss: 0.1380\n",
      "\n"
     ]
    },
    {
     "name": "stderr",
     "output_type": "stream",
     "text": [
      "\r",
      "  1%|          | 47/4539 [11:39:21<1122:11:56, 899.36s/it]"
     ]
    },
    {
     "name": "stdout",
     "output_type": "stream",
     "text": [
      "------- 1st valloss=0.0685\n",
      "\n"
     ]
    },
    {
     "name": "stderr",
     "output_type": "stream",
     "text": [
      "\r",
      "  1%|          | 48/4539 [11:53:47<1109:29:03, 889.37s/it]"
     ]
    },
    {
     "name": "stdout",
     "output_type": "stream",
     "text": [
      "Epoch 508 finished ! Training Loss: 0.1196\n",
      "\n"
     ]
    },
    {
     "name": "stderr",
     "output_type": "stream",
     "text": [
      "\r",
      "  1%|          | 49/4539 [12:08:20<1103:07:41, 884.47s/it]"
     ]
    },
    {
     "name": "stdout",
     "output_type": "stream",
     "text": [
      "Epoch 509 finished ! Training Loss: 0.1285\n",
      "\n",
      "Epoch 510 finished ! Training Loss: 0.1315\n",
      "\n",
      "------- 1st valloss=0.0720\n",
      "\n"
     ]
    },
    {
     "name": "stderr",
     "output_type": "stream",
     "text": [
      "\r",
      "  1%|          | 50/4539 [12:23:33<1113:35:25, 893.06s/it]"
     ]
    },
    {
     "name": "stdout",
     "output_type": "stream",
     "text": [
      "Checkpoint 510 saved !\n"
     ]
    },
    {
     "name": "stderr",
     "output_type": "stream",
     "text": [
      "\r",
      "  1%|          | 51/4539 [12:38:13<1108:16:07, 888.99s/it]"
     ]
    },
    {
     "name": "stdout",
     "output_type": "stream",
     "text": [
      "Epoch 511 finished ! Training Loss: 0.1202\n",
      "\n"
     ]
    },
    {
     "name": "stderr",
     "output_type": "stream",
     "text": [
      "\r",
      "  1%|          | 52/4539 [12:52:53<1104:40:56, 886.31s/it]"
     ]
    },
    {
     "name": "stdout",
     "output_type": "stream",
     "text": [
      "Epoch 512 finished ! Training Loss: 0.1349\n",
      "\n",
      "Epoch 513 finished ! Training Loss: 0.1261\n",
      "\n"
     ]
    },
    {
     "name": "stderr",
     "output_type": "stream",
     "text": [
      "\r",
      "  1%|          | 53/4539 [13:08:14<1117:27:58, 896.76s/it]"
     ]
    },
    {
     "name": "stdout",
     "output_type": "stream",
     "text": [
      "------- 1st valloss=0.0641\n",
      "\n"
     ]
    },
    {
     "name": "stderr",
     "output_type": "stream",
     "text": [
      "\r",
      "  1%|          | 54/4539 [13:22:34<1103:22:18, 885.65s/it]"
     ]
    },
    {
     "name": "stdout",
     "output_type": "stream",
     "text": [
      "Epoch 514 finished ! Training Loss: 0.1203\n",
      "\n"
     ]
    },
    {
     "name": "stderr",
     "output_type": "stream",
     "text": [
      "\r",
      "  1%|          | 55/4539 [13:37:09<1099:13:56, 882.52s/it]"
     ]
    },
    {
     "name": "stdout",
     "output_type": "stream",
     "text": [
      "Epoch 515 finished ! Training Loss: 0.1254\n",
      "\n",
      "Epoch 516 finished ! Training Loss: 0.1280\n",
      "\n"
     ]
    },
    {
     "name": "stderr",
     "output_type": "stream",
     "text": [
      "\r",
      "  1%|          | 56/4539 [13:52:17<1108:43:26, 890.34s/it]"
     ]
    },
    {
     "name": "stdout",
     "output_type": "stream",
     "text": [
      "------- 1st valloss=0.1001\n",
      "\n"
     ]
    },
    {
     "name": "stderr",
     "output_type": "stream",
     "text": [
      "\r",
      "  1%|▏         | 57/4539 [14:06:43<1099:22:00, 883.03s/it]"
     ]
    },
    {
     "name": "stdout",
     "output_type": "stream",
     "text": [
      "Epoch 517 finished ! Training Loss: 0.1310\n",
      "\n"
     ]
    },
    {
     "name": "stderr",
     "output_type": "stream",
     "text": [
      "\r",
      "  1%|▏         | 58/4539 [14:21:12<1093:56:08, 878.86s/it]"
     ]
    },
    {
     "name": "stdout",
     "output_type": "stream",
     "text": [
      "Epoch 518 finished ! Training Loss: 0.1279\n",
      "\n",
      "Epoch 519 finished ! Training Loss: 0.1246\n",
      "\n"
     ]
    },
    {
     "name": "stderr",
     "output_type": "stream",
     "text": [
      "\r",
      "  1%|▏         | 59/4539 [14:36:41<1112:11:47, 893.73s/it]"
     ]
    },
    {
     "name": "stdout",
     "output_type": "stream",
     "text": [
      "------- 1st valloss=0.0799\n",
      "\n"
     ]
    },
    {
     "name": "stderr",
     "output_type": "stream",
     "text": [
      "\r",
      "  1%|▏         | 60/4539 [14:51:08<1102:02:38, 885.77s/it]"
     ]
    },
    {
     "name": "stdout",
     "output_type": "stream",
     "text": [
      "Epoch 520 finished ! Training Loss: 0.1371\n",
      "\n"
     ]
    },
    {
     "name": "stderr",
     "output_type": "stream",
     "text": [
      "\r",
      "  1%|▏         | 61/4539 [15:05:38<1095:42:47, 880.88s/it]"
     ]
    },
    {
     "name": "stdout",
     "output_type": "stream",
     "text": [
      "Epoch 521 finished ! Training Loss: 0.1369\n",
      "\n",
      "Epoch 522 finished ! Training Loss: 0.1296\n",
      "\n"
     ]
    },
    {
     "name": "stderr",
     "output_type": "stream",
     "text": [
      "\r",
      "  1%|▏         | 62/4539 [15:20:56<1109:25:20, 892.10s/it]"
     ]
    },
    {
     "name": "stdout",
     "output_type": "stream",
     "text": [
      "------- 1st valloss=0.0683\n",
      "\n"
     ]
    },
    {
     "name": "stderr",
     "output_type": "stream",
     "text": [
      "\r",
      "  1%|▏         | 63/4539 [15:35:33<1103:44:28, 887.73s/it]"
     ]
    },
    {
     "name": "stdout",
     "output_type": "stream",
     "text": [
      "Epoch 523 finished ! Training Loss: 0.1222\n",
      "\n"
     ]
    },
    {
     "name": "stderr",
     "output_type": "stream",
     "text": [
      "\r",
      "  1%|▏         | 64/4539 [15:50:09<1098:52:38, 884.01s/it]"
     ]
    },
    {
     "name": "stdout",
     "output_type": "stream",
     "text": [
      "Epoch 524 finished ! Training Loss: 0.1363\n",
      "\n",
      "Epoch 525 finished ! Training Loss: 0.1254\n",
      "\n",
      "------- 1st valloss=0.0604\n",
      "\n",
      "0.060400609088980636 less than 0.06366169938574666\n"
     ]
    },
    {
     "name": "stderr",
     "output_type": "stream",
     "text": [
      "\r",
      "  1%|▏         | 65/4539 [16:05:39<1115:53:18, 897.90s/it]"
     ]
    },
    {
     "name": "stdout",
     "output_type": "stream",
     "text": [
      "Checkpoint 525 saved !\n"
     ]
    },
    {
     "name": "stderr",
     "output_type": "stream",
     "text": [
      "\r",
      "  1%|▏         | 66/4539 [16:20:27<1111:59:08, 894.96s/it]"
     ]
    },
    {
     "name": "stdout",
     "output_type": "stream",
     "text": [
      "Epoch 526 finished ! Training Loss: 0.1302\n",
      "\n"
     ]
    },
    {
     "name": "stderr",
     "output_type": "stream",
     "text": [
      "\r",
      "  1%|▏         | 67/4539 [16:35:15<1109:00:10, 892.76s/it]"
     ]
    },
    {
     "name": "stdout",
     "output_type": "stream",
     "text": [
      "Epoch 527 finished ! Training Loss: 0.1183\n",
      "\n",
      "Epoch 528 finished ! Training Loss: 0.1231\n",
      "\n",
      "------- 1st valloss=0.0587\n",
      "\n",
      "0.05866425678781841 less than 0.060400609088980636\n"
     ]
    },
    {
     "name": "stderr",
     "output_type": "stream",
     "text": [
      "\r",
      "  1%|▏         | 68/4539 [16:50:30<1117:00:37, 899.40s/it]"
     ]
    },
    {
     "name": "stdout",
     "output_type": "stream",
     "text": [
      "Checkpoint 528 saved !\n"
     ]
    },
    {
     "name": "stderr",
     "output_type": "stream",
     "text": [
      "\r",
      "  2%|▏         | 69/4539 [17:05:10<1109:42:04, 893.72s/it]"
     ]
    },
    {
     "name": "stdout",
     "output_type": "stream",
     "text": [
      "Epoch 529 finished ! Training Loss: 0.1416\n",
      "\n"
     ]
    },
    {
     "name": "stderr",
     "output_type": "stream",
     "text": [
      "\r",
      "  2%|▏         | 70/4539 [17:19:40<1100:27:49, 886.48s/it]"
     ]
    },
    {
     "name": "stdout",
     "output_type": "stream",
     "text": [
      "Epoch 530 finished ! Training Loss: 0.1395\n",
      "\n",
      "Epoch 531 finished ! Training Loss: 0.1317\n",
      "\n"
     ]
    },
    {
     "name": "stderr",
     "output_type": "stream",
     "text": [
      "\r",
      "  2%|▏         | 71/4539 [17:35:08<1115:36:48, 898.88s/it]"
     ]
    },
    {
     "name": "stdout",
     "output_type": "stream",
     "text": [
      "------- 1st valloss=0.0675\n",
      "\n"
     ]
    },
    {
     "name": "stderr",
     "output_type": "stream",
     "text": [
      "\r",
      "  2%|▏         | 72/4539 [17:49:46<1107:52:16, 892.84s/it]"
     ]
    },
    {
     "name": "stdout",
     "output_type": "stream",
     "text": [
      "Epoch 532 finished ! Training Loss: 0.1323\n",
      "\n"
     ]
    },
    {
     "name": "stderr",
     "output_type": "stream",
     "text": [
      "\r",
      "  2%|▏         | 73/4539 [18:04:21<1100:43:04, 887.28s/it]"
     ]
    },
    {
     "name": "stdout",
     "output_type": "stream",
     "text": [
      "Epoch 533 finished ! Training Loss: 0.1389\n",
      "\n",
      "Epoch 534 finished ! Training Loss: 0.1198\n",
      "\n"
     ]
    },
    {
     "name": "stderr",
     "output_type": "stream",
     "text": [
      "\r",
      "  2%|▏         | 74/4539 [18:19:56<1118:32:51, 901.85s/it]"
     ]
    },
    {
     "name": "stdout",
     "output_type": "stream",
     "text": [
      "------- 1st valloss=0.0635\n",
      "\n"
     ]
    },
    {
     "name": "stderr",
     "output_type": "stream",
     "text": [
      "\r",
      "  2%|▏         | 75/4539 [18:34:33<1108:59:01, 894.34s/it]"
     ]
    },
    {
     "name": "stdout",
     "output_type": "stream",
     "text": [
      "Epoch 535 finished ! Training Loss: 0.1310\n",
      "\n"
     ]
    },
    {
     "name": "stderr",
     "output_type": "stream",
     "text": [
      "\r",
      "  2%|▏         | 76/4539 [18:49:10<1102:10:33, 889.05s/it]"
     ]
    },
    {
     "name": "stdout",
     "output_type": "stream",
     "text": [
      "Epoch 536 finished ! Training Loss: 0.1243\n",
      "\n",
      "Epoch 537 finished ! Training Loss: 0.1295\n",
      "\n"
     ]
    },
    {
     "name": "stderr",
     "output_type": "stream",
     "text": [
      "\r",
      "  2%|▏         | 77/4539 [19:04:39<1116:47:28, 901.04s/it]"
     ]
    },
    {
     "name": "stdout",
     "output_type": "stream",
     "text": [
      "------- 1st valloss=0.1207\n",
      "\n"
     ]
    },
    {
     "name": "stderr",
     "output_type": "stream",
     "text": [
      "\r",
      "  2%|▏         | 78/4539 [19:19:11<1105:52:56, 892.44s/it]"
     ]
    },
    {
     "name": "stdout",
     "output_type": "stream",
     "text": [
      "Epoch 538 finished ! Training Loss: 0.1348\n",
      "\n"
     ]
    },
    {
     "name": "stderr",
     "output_type": "stream",
     "text": [
      "\r",
      "  2%|▏         | 79/4539 [19:33:50<1100:33:52, 888.35s/it]"
     ]
    },
    {
     "name": "stdout",
     "output_type": "stream",
     "text": [
      "Epoch 539 finished ! Training Loss: 0.1408\n",
      "\n",
      "Epoch 540 finished ! Training Loss: 0.1342\n",
      "\n",
      "------- 1st valloss=0.1061\n",
      "\n"
     ]
    },
    {
     "name": "stderr",
     "output_type": "stream",
     "text": [
      "\r",
      "  2%|▏         | 80/4539 [19:49:26<1118:08:23, 902.74s/it]"
     ]
    },
    {
     "name": "stdout",
     "output_type": "stream",
     "text": [
      "Checkpoint 540 saved !\n"
     ]
    },
    {
     "name": "stderr",
     "output_type": "stream",
     "text": [
      "\r",
      "  2%|▏         | 81/4539 [20:04:09<1110:12:59, 896.54s/it]"
     ]
    },
    {
     "name": "stdout",
     "output_type": "stream",
     "text": [
      "Epoch 541 finished ! Training Loss: 0.1255\n",
      "\n"
     ]
    },
    {
     "name": "stderr",
     "output_type": "stream",
     "text": [
      "\r",
      "  2%|▏         | 82/4539 [20:18:56<1106:39:21, 893.87s/it]"
     ]
    },
    {
     "name": "stdout",
     "output_type": "stream",
     "text": [
      "Epoch 542 finished ! Training Loss: 0.1378\n",
      "\n",
      "Epoch 543 finished ! Training Loss: 0.1354\n",
      "\n"
     ]
    },
    {
     "name": "stderr",
     "output_type": "stream",
     "text": [
      "\r",
      "  2%|▏         | 83/4539 [20:34:12<1114:35:22, 900.48s/it]"
     ]
    },
    {
     "name": "stdout",
     "output_type": "stream",
     "text": [
      "------- 1st valloss=0.0794\n",
      "\n"
     ]
    },
    {
     "name": "stderr",
     "output_type": "stream",
     "text": [
      "\r",
      "  2%|▏         | 84/4539 [20:48:34<1100:00:24, 888.89s/it]"
     ]
    },
    {
     "name": "stdout",
     "output_type": "stream",
     "text": [
      "Epoch 544 finished ! Training Loss: 0.1451\n",
      "\n"
     ]
    },
    {
     "name": "stderr",
     "output_type": "stream",
     "text": [
      "\r",
      "  2%|▏         | 85/4539 [21:03:04<1092:39:12, 883.15s/it]"
     ]
    },
    {
     "name": "stdout",
     "output_type": "stream",
     "text": [
      "Epoch 545 finished ! Training Loss: 0.1458\n",
      "\n",
      "Epoch 546 finished ! Training Loss: 0.1236\n",
      "\n"
     ]
    },
    {
     "name": "stderr",
     "output_type": "stream",
     "text": [
      "\r",
      "  2%|▏         | 86/4539 [21:18:20<1104:36:16, 893.01s/it]"
     ]
    },
    {
     "name": "stdout",
     "output_type": "stream",
     "text": [
      "------- 1st valloss=0.1214\n",
      "\n"
     ]
    },
    {
     "name": "stderr",
     "output_type": "stream",
     "text": [
      "\r",
      "  2%|▏         | 87/4539 [21:32:48<1095:21:41, 885.74s/it]"
     ]
    },
    {
     "name": "stdout",
     "output_type": "stream",
     "text": [
      "Epoch 547 finished ! Training Loss: 0.1264\n",
      "\n"
     ]
    },
    {
     "name": "stderr",
     "output_type": "stream",
     "text": [
      "\r",
      "  2%|▏         | 88/4539 [21:47:47<1099:49:00, 889.54s/it]"
     ]
    },
    {
     "name": "stdout",
     "output_type": "stream",
     "text": [
      "Epoch 548 finished ! Training Loss: 0.1330\n",
      "\n",
      "Epoch 549 finished ! Training Loss: 0.1309\n",
      "\n"
     ]
    },
    {
     "name": "stderr",
     "output_type": "stream",
     "text": [
      "\r",
      "  2%|▏         | 89/4539 [22:03:17<1114:46:13, 901.84s/it]"
     ]
    },
    {
     "name": "stdout",
     "output_type": "stream",
     "text": [
      "------- 1st valloss=0.0646\n",
      "\n"
     ]
    },
    {
     "name": "stderr",
     "output_type": "stream",
     "text": [
      "\r",
      "  2%|▏         | 90/4539 [22:17:59<1107:04:57, 895.82s/it]"
     ]
    },
    {
     "name": "stdout",
     "output_type": "stream",
     "text": [
      "Epoch 550 finished ! Training Loss: 0.1329\n",
      "\n",
      "Epoch 551 finished ! Training Loss: 0.1266\n",
      "\n"
     ]
    },
    {
     "name": "stderr",
     "output_type": "stream",
     "text": [
      "\r",
      "  2%|▏         | 91/4539 [22:33:22<1116:58:55, 904.03s/it]"
     ]
    },
    {
     "name": "stdout",
     "output_type": "stream",
     "text": [
      "------- 1st valloss=0.0636\n",
      "\n",
      "Epoch 552 finished ! Training Loss: 0.1427\n",
      "\n"
     ]
    },
    {
     "name": "stderr",
     "output_type": "stream",
     "text": [
      "\r",
      "  2%|▏         | 92/4539 [22:48:38<1120:56:46, 907.44s/it]"
     ]
    },
    {
     "name": "stdout",
     "output_type": "stream",
     "text": [
      "------- 1st valloss=0.0919\n",
      "\n",
      "Epoch 553 finished ! Training Loss: 0.1302\n",
      "\n"
     ]
    },
    {
     "name": "stderr",
     "output_type": "stream",
     "text": [
      "\r",
      "  2%|▏         | 93/4539 [23:03:51<1122:56:55, 909.27s/it]"
     ]
    },
    {
     "name": "stdout",
     "output_type": "stream",
     "text": [
      "------- 1st valloss=0.0719\n",
      "\n",
      "Epoch 554 finished ! Training Loss: 0.1373\n",
      "\n"
     ]
    },
    {
     "name": "stderr",
     "output_type": "stream",
     "text": [
      "\r",
      "  2%|▏         | 94/4539 [23:19:15<1128:12:48, 913.74s/it]"
     ]
    },
    {
     "name": "stdout",
     "output_type": "stream",
     "text": [
      "------- 1st valloss=0.0711\n",
      "\n",
      "Epoch 555 finished ! Training Loss: 0.1304\n",
      "\n"
     ]
    },
    {
     "name": "stderr",
     "output_type": "stream",
     "text": [
      "\r",
      "  2%|▏         | 95/4539 [23:34:38<1131:13:13, 916.38s/it]"
     ]
    },
    {
     "name": "stdout",
     "output_type": "stream",
     "text": [
      "------- 1st valloss=0.0839\n",
      "\n",
      "Epoch 556 finished ! Training Loss: 0.1192\n",
      "\n"
     ]
    },
    {
     "name": "stderr",
     "output_type": "stream",
     "text": [
      "\r",
      "  2%|▏         | 96/4539 [23:49:53<1130:25:04, 915.94s/it]"
     ]
    },
    {
     "name": "stdout",
     "output_type": "stream",
     "text": [
      "------- 1st valloss=0.1086\n",
      "\n",
      "Epoch 557 finished ! Training Loss: 0.1234\n",
      "\n",
      "------- 1st valloss=0.0562\n",
      "\n",
      "0.056185849982759224 less than 0.05866425678781841\n"
     ]
    },
    {
     "name": "stderr",
     "output_type": "stream",
     "text": [
      "\r",
      "  2%|▏         | 97/4539 [24:05:20<1134:10:08, 919.18s/it]"
     ]
    },
    {
     "name": "stdout",
     "output_type": "stream",
     "text": [
      "Checkpoint 557 saved !\n",
      "Epoch 558 finished ! Training Loss: 0.1316\n",
      "\n"
     ]
    },
    {
     "name": "stderr",
     "output_type": "stream",
     "text": [
      "\r",
      "  2%|▏         | 98/4539 [24:20:57<1140:41:31, 924.68s/it]"
     ]
    },
    {
     "name": "stdout",
     "output_type": "stream",
     "text": [
      "------- 1st valloss=0.0860\n",
      "\n",
      "Epoch 559 finished ! Training Loss: 0.1418\n",
      "\n"
     ]
    },
    {
     "name": "stderr",
     "output_type": "stream",
     "text": [
      "\r",
      "  2%|▏         | 99/4539 [24:36:37<1145:58:52, 929.17s/it]"
     ]
    },
    {
     "name": "stdout",
     "output_type": "stream",
     "text": [
      "------- 1st valloss=0.0761\n",
      "\n",
      "Epoch 560 finished ! Training Loss: 0.1295\n",
      "\n",
      "------- 1st valloss=0.0828\n",
      "\n"
     ]
    },
    {
     "name": "stderr",
     "output_type": "stream",
     "text": [
      "\r",
      "  2%|▏         | 100/4539 [24:51:49<1139:23:27, 924.04s/it]"
     ]
    },
    {
     "name": "stdout",
     "output_type": "stream",
     "text": [
      "Checkpoint 560 saved !\n",
      "Epoch 561 finished ! Training Loss: 0.1359\n",
      "\n"
     ]
    },
    {
     "name": "stderr",
     "output_type": "stream",
     "text": [
      "\r",
      "  2%|▏         | 101/4539 [25:07:21<1141:57:46, 926.33s/it]"
     ]
    },
    {
     "name": "stdout",
     "output_type": "stream",
     "text": [
      "------- 1st valloss=0.0709\n",
      "\n",
      "Epoch 562 finished ! Training Loss: 0.1378\n",
      "\n"
     ]
    },
    {
     "name": "stderr",
     "output_type": "stream",
     "text": [
      "\r",
      "  2%|▏         | 102/4539 [25:22:44<1140:37:39, 925.46s/it]"
     ]
    },
    {
     "name": "stdout",
     "output_type": "stream",
     "text": [
      "------- 1st valloss=0.0721\n",
      "\n",
      "Epoch 563 finished ! Training Loss: 0.1189\n",
      "\n"
     ]
    },
    {
     "name": "stderr",
     "output_type": "stream",
     "text": [
      "\r",
      "  2%|▏         | 103/4539 [25:38:12<1141:16:49, 926.20s/it]"
     ]
    },
    {
     "name": "stdout",
     "output_type": "stream",
     "text": [
      "------- 1st valloss=0.0651\n",
      "\n",
      "Epoch 564 finished ! Training Loss: 0.1042\n",
      "\n"
     ]
    },
    {
     "name": "stderr",
     "output_type": "stream",
     "text": [
      "\r",
      "  2%|▏         | 104/4539 [25:53:36<1140:10:04, 925.50s/it]"
     ]
    },
    {
     "name": "stdout",
     "output_type": "stream",
     "text": [
      "------- 1st valloss=0.0571\n",
      "\n",
      "Epoch 565 finished ! Training Loss: 0.1348\n",
      "\n",
      "------- 1st valloss=0.0552\n",
      "\n",
      "0.055238250157107475 less than 0.056185849982759224\n"
     ]
    },
    {
     "name": "stderr",
     "output_type": "stream",
     "text": [
      "\r",
      "  2%|▏         | 105/4539 [26:09:03<1140:34:55, 926.05s/it]"
     ]
    },
    {
     "name": "stdout",
     "output_type": "stream",
     "text": [
      "Checkpoint 565 saved !\n",
      "Epoch 566 finished ! Training Loss: 0.1455\n",
      "\n"
     ]
    },
    {
     "name": "stderr",
     "output_type": "stream",
     "text": [
      "\r",
      "  2%|▏         | 106/4539 [26:24:46<1146:23:20, 930.97s/it]"
     ]
    },
    {
     "name": "stdout",
     "output_type": "stream",
     "text": [
      "------- 1st valloss=0.0560\n",
      "\n",
      "Epoch 567 finished ! Training Loss: 0.1223\n",
      "\n"
     ]
    },
    {
     "name": "stderr",
     "output_type": "stream",
     "text": [
      "\r",
      "  2%|▏         | 107/4539 [26:40:29<1150:48:51, 934.78s/it]"
     ]
    },
    {
     "name": "stdout",
     "output_type": "stream",
     "text": [
      "------- 1st valloss=0.0688\n",
      "\n",
      "Epoch 568 finished ! Training Loss: 0.1331\n",
      "\n"
     ]
    },
    {
     "name": "stderr",
     "output_type": "stream",
     "text": [
      "\r",
      "  2%|▏         | 108/4539 [26:56:05<1150:47:18, 934.97s/it]"
     ]
    },
    {
     "name": "stdout",
     "output_type": "stream",
     "text": [
      "------- 1st valloss=0.2558\n",
      "\n",
      "Epoch 569 finished ! Training Loss: 0.1364\n",
      "\n"
     ]
    },
    {
     "name": "stderr",
     "output_type": "stream",
     "text": [
      "\r",
      "  2%|▏         | 109/4539 [27:11:44<1152:02:10, 936.19s/it]"
     ]
    },
    {
     "name": "stdout",
     "output_type": "stream",
     "text": [
      "------- 1st valloss=0.0769\n",
      "\n",
      "Epoch 570 finished ! Training Loss: 0.1537\n",
      "\n",
      "------- 1st valloss=0.1236\n",
      "\n"
     ]
    },
    {
     "name": "stderr",
     "output_type": "stream",
     "text": [
      "\r",
      "  2%|▏         | 110/4539 [27:27:17<1150:37:26, 935.26s/it]"
     ]
    },
    {
     "name": "stdout",
     "output_type": "stream",
     "text": [
      "Checkpoint 570 saved !\n",
      "Epoch 571 finished ! Training Loss: 0.1341\n",
      "\n"
     ]
    },
    {
     "name": "stderr",
     "output_type": "stream",
     "text": [
      "\r",
      "  2%|▏         | 111/4539 [27:42:46<1148:08:41, 933.45s/it]"
     ]
    },
    {
     "name": "stdout",
     "output_type": "stream",
     "text": [
      "------- 1st valloss=0.0702\n",
      "\n",
      "Epoch 572 finished ! Training Loss: 0.1284\n",
      "\n"
     ]
    },
    {
     "name": "stderr",
     "output_type": "stream",
     "text": [
      "\r",
      "  2%|▏         | 112/4539 [27:58:00<1140:42:55, 927.62s/it]"
     ]
    },
    {
     "name": "stdout",
     "output_type": "stream",
     "text": [
      "------- 1st valloss=0.1044\n",
      "\n",
      "Epoch 573 finished ! Training Loss: 0.1238\n",
      "\n"
     ]
    },
    {
     "name": "stderr",
     "output_type": "stream",
     "text": [
      "\r",
      "  2%|▏         | 113/4539 [28:13:16<1136:13:58, 924.18s/it]"
     ]
    },
    {
     "name": "stdout",
     "output_type": "stream",
     "text": [
      "------- 1st valloss=0.1048\n",
      "\n",
      "Epoch 574 finished ! Training Loss: 0.1365\n",
      "\n"
     ]
    },
    {
     "name": "stderr",
     "output_type": "stream",
     "text": [
      "\r",
      "  3%|▎         | 114/4539 [28:28:57<1142:15:42, 929.30s/it]"
     ]
    },
    {
     "name": "stdout",
     "output_type": "stream",
     "text": [
      "------- 1st valloss=0.1026\n",
      "\n",
      "Epoch 575 finished ! Training Loss: 0.1379\n",
      "\n"
     ]
    },
    {
     "name": "stderr",
     "output_type": "stream",
     "text": [
      "\r",
      "  3%|▎         | 115/4539 [28:44:20<1139:26:36, 927.21s/it]"
     ]
    },
    {
     "name": "stdout",
     "output_type": "stream",
     "text": [
      "------- 1st valloss=0.0879\n",
      "\n",
      "Epoch 576 finished ! Training Loss: 0.1238\n",
      "\n"
     ]
    },
    {
     "name": "stderr",
     "output_type": "stream",
     "text": [
      "\r",
      "  3%|▎         | 116/4539 [28:59:50<1140:16:19, 928.10s/it]"
     ]
    },
    {
     "name": "stdout",
     "output_type": "stream",
     "text": [
      "------- 1st valloss=0.0655\n",
      "\n",
      "Epoch 577 finished ! Training Loss: 0.1308\n",
      "\n"
     ]
    },
    {
     "name": "stderr",
     "output_type": "stream",
     "text": [
      "\r",
      "  3%|▎         | 117/4539 [29:15:18<1139:55:41, 928.03s/it]"
     ]
    },
    {
     "name": "stdout",
     "output_type": "stream",
     "text": [
      "------- 1st valloss=0.0633\n",
      "\n",
      "Epoch 578 finished ! Training Loss: 0.1393\n",
      "\n",
      "------- 1st valloss=0.0546\n",
      "\n",
      "0.05462169566232225 less than 0.055238250157107475\n"
     ]
    },
    {
     "name": "stderr",
     "output_type": "stream",
     "text": [
      "\r",
      "  3%|▎         | 118/4539 [29:30:35<1135:43:30, 924.82s/it]"
     ]
    },
    {
     "name": "stdout",
     "output_type": "stream",
     "text": [
      "Checkpoint 578 saved !\n",
      "Epoch 579 finished ! Training Loss: 0.1106\n",
      "\n"
     ]
    },
    {
     "name": "stderr",
     "output_type": "stream",
     "text": [
      "\r",
      "  3%|▎         | 119/4539 [29:46:12<1139:56:27, 928.46s/it]"
     ]
    },
    {
     "name": "stdout",
     "output_type": "stream",
     "text": [
      "------- 1st valloss=0.0613\n",
      "\n",
      "Epoch 580 finished ! Training Loss: 0.1362\n",
      "\n",
      "------- 1st valloss=0.0744\n",
      "\n"
     ]
    },
    {
     "name": "stderr",
     "output_type": "stream",
     "text": [
      "\r",
      "  3%|▎         | 120/4539 [30:01:30<1135:43:18, 925.23s/it]"
     ]
    },
    {
     "name": "stdout",
     "output_type": "stream",
     "text": [
      "Checkpoint 580 saved !\n",
      "Epoch 581 finished ! Training Loss: 0.1124\n",
      "\n"
     ]
    },
    {
     "name": "stderr",
     "output_type": "stream",
     "text": [
      "\r",
      "  3%|▎         | 121/4539 [30:16:33<1127:24:05, 918.66s/it]"
     ]
    },
    {
     "name": "stdout",
     "output_type": "stream",
     "text": [
      "------- 1st valloss=0.0906\n",
      "\n",
      "Epoch 582 finished ! Training Loss: 0.1302\n",
      "\n"
     ]
    },
    {
     "name": "stderr",
     "output_type": "stream",
     "text": [
      "\r",
      "  3%|▎         | 122/4539 [30:31:41<1123:18:26, 915.53s/it]"
     ]
    },
    {
     "name": "stdout",
     "output_type": "stream",
     "text": [
      "------- 1st valloss=0.0822\n",
      "\n",
      "Epoch 583 finished ! Training Loss: 0.1284\n",
      "\n"
     ]
    },
    {
     "name": "stderr",
     "output_type": "stream",
     "text": [
      "\r",
      "  3%|▎         | 123/4539 [30:46:52<1121:14:32, 914.06s/it]"
     ]
    },
    {
     "name": "stdout",
     "output_type": "stream",
     "text": [
      "------- 1st valloss=0.1233\n",
      "\n",
      "Epoch 584 finished ! Training Loss: 0.1413\n",
      "\n"
     ]
    },
    {
     "name": "stderr",
     "output_type": "stream",
     "text": [
      "\r",
      "  3%|▎         | 124/4539 [31:02:11<1122:54:46, 915.63s/it]"
     ]
    },
    {
     "name": "stdout",
     "output_type": "stream",
     "text": [
      "------- 1st valloss=0.0571\n",
      "\n",
      "Epoch 585 finished ! Training Loss: 0.1281\n",
      "\n"
     ]
    },
    {
     "name": "stderr",
     "output_type": "stream",
     "text": [
      "\r",
      "  3%|▎         | 125/4539 [31:17:39<1127:07:10, 919.26s/it]"
     ]
    },
    {
     "name": "stdout",
     "output_type": "stream",
     "text": [
      "------- 1st valloss=0.0708\n",
      "\n",
      "Epoch 586 finished ! Training Loss: 0.1420\n",
      "\n",
      "------- 1st valloss=0.0542\n",
      "\n",
      "0.05420447853596314 less than 0.05462169566232225\n"
     ]
    },
    {
     "name": "stderr",
     "output_type": "stream",
     "text": [
      "\r",
      "  3%|▎         | 126/4539 [31:33:08<1130:27:25, 922.19s/it]"
     ]
    },
    {
     "name": "stdout",
     "output_type": "stream",
     "text": [
      "Checkpoint 586 saved !\n",
      "Epoch 587 finished ! Training Loss: 0.1227\n",
      "\n"
     ]
    },
    {
     "name": "stderr",
     "output_type": "stream",
     "text": [
      "\r",
      "  3%|▎         | 127/4539 [31:48:36<1132:13:45, 923.85s/it]"
     ]
    },
    {
     "name": "stdout",
     "output_type": "stream",
     "text": [
      "------- 1st valloss=0.0661\n",
      "\n",
      "Epoch 588 finished ! Training Loss: 0.1345\n",
      "\n"
     ]
    },
    {
     "name": "stderr",
     "output_type": "stream",
     "text": [
      "\r",
      "  3%|▎         | 128/4539 [32:04:07<1134:31:57, 925.94s/it]"
     ]
    },
    {
     "name": "stdout",
     "output_type": "stream",
     "text": [
      "------- 1st valloss=0.0766\n",
      "\n",
      "Epoch 589 finished ! Training Loss: 0.1286\n",
      "\n"
     ]
    },
    {
     "name": "stderr",
     "output_type": "stream",
     "text": [
      "\r",
      "  3%|▎         | 129/4539 [32:19:28<1132:44:56, 924.69s/it]"
     ]
    },
    {
     "name": "stdout",
     "output_type": "stream",
     "text": [
      "------- 1st valloss=0.0660\n",
      "\n",
      "Epoch 590 finished ! Training Loss: 0.1181\n",
      "\n",
      "------- 1st valloss=0.0650\n",
      "\n"
     ]
    },
    {
     "name": "stderr",
     "output_type": "stream",
     "text": [
      "\r",
      "  3%|▎         | 130/4539 [32:34:39<1127:25:26, 920.55s/it]"
     ]
    },
    {
     "name": "stdout",
     "output_type": "stream",
     "text": [
      "Checkpoint 590 saved !\n",
      "Epoch 591 finished ! Training Loss: 0.1288\n",
      "\n"
     ]
    },
    {
     "name": "stderr",
     "output_type": "stream",
     "text": [
      "\r",
      "  3%|▎         | 131/4539 [32:50:05<1129:01:22, 922.07s/it]"
     ]
    },
    {
     "name": "stdout",
     "output_type": "stream",
     "text": [
      "------- 1st valloss=0.1041\n",
      "\n",
      "Epoch 592 finished ! Training Loss: 0.1206\n",
      "\n"
     ]
    },
    {
     "name": "stderr",
     "output_type": "stream",
     "text": [
      "\r",
      "  3%|▎         | 132/4539 [33:05:15<1124:15:04, 918.38s/it]"
     ]
    },
    {
     "name": "stdout",
     "output_type": "stream",
     "text": [
      "------- 1st valloss=0.0784\n",
      "\n",
      "Epoch 593 finished ! Training Loss: 0.1234\n",
      "\n"
     ]
    },
    {
     "name": "stderr",
     "output_type": "stream",
     "text": [
      "\r",
      "  3%|▎         | 133/4539 [33:20:31<1123:15:56, 917.78s/it]"
     ]
    },
    {
     "name": "stdout",
     "output_type": "stream",
     "text": [
      "------- 1st valloss=0.0554\n",
      "\n",
      "Epoch 594 finished ! Training Loss: 0.1349\n",
      "\n"
     ]
    },
    {
     "name": "stderr",
     "output_type": "stream",
     "text": [
      "\r",
      "  3%|▎         | 134/4539 [33:35:55<1125:09:24, 919.54s/it]"
     ]
    },
    {
     "name": "stdout",
     "output_type": "stream",
     "text": [
      "------- 1st valloss=0.0799\n",
      "\n",
      "Epoch 595 finished ! Training Loss: 0.1302\n",
      "\n",
      "------- 1st valloss=0.0534\n",
      "\n",
      "0.05344928298955378 less than 0.05420447853596314\n"
     ]
    },
    {
     "name": "stderr",
     "output_type": "stream",
     "text": [
      "\r",
      "  3%|▎         | 135/4539 [33:51:19<1126:47:09, 921.08s/it]"
     ]
    },
    {
     "name": "stdout",
     "output_type": "stream",
     "text": [
      "Checkpoint 595 saved !\n",
      "Epoch 596 finished ! Training Loss: 0.1181\n",
      "\n"
     ]
    },
    {
     "name": "stderr",
     "output_type": "stream",
     "text": [
      "\r",
      "  3%|▎         | 136/4539 [34:06:34<1124:10:52, 919.16s/it]"
     ]
    },
    {
     "name": "stdout",
     "output_type": "stream",
     "text": [
      "------- 1st valloss=0.0902\n",
      "\n",
      "Epoch 597 finished ! Training Loss: 0.1095\n",
      "\n"
     ]
    },
    {
     "name": "stderr",
     "output_type": "stream",
     "text": [
      "\r",
      "  3%|▎         | 137/4539 [34:22:00<1126:20:29, 921.13s/it]"
     ]
    },
    {
     "name": "stdout",
     "output_type": "stream",
     "text": [
      "------- 1st valloss=0.1479\n",
      "\n",
      "Epoch 598 finished ! Training Loss: 0.1311\n",
      "\n"
     ]
    },
    {
     "name": "stderr",
     "output_type": "stream",
     "text": [
      "\r",
      "  3%|▎         | 138/4539 [34:37:09<1121:45:47, 917.60s/it]"
     ]
    },
    {
     "name": "stdout",
     "output_type": "stream",
     "text": [
      "------- 1st valloss=0.5144\n",
      "\n",
      "Epoch 599 finished ! Training Loss: 0.1598\n",
      "\n"
     ]
    },
    {
     "name": "stderr",
     "output_type": "stream",
     "text": [
      "\r",
      "  3%|▎         | 139/4539 [34:52:22<1119:54:01, 916.28s/it]"
     ]
    },
    {
     "name": "stdout",
     "output_type": "stream",
     "text": [
      "------- 1st valloss=0.0978\n",
      "\n",
      "Epoch 600 finished ! Training Loss: 0.1394\n",
      "\n",
      "------- 1st valloss=0.0787\n",
      "\n"
     ]
    },
    {
     "name": "stderr",
     "output_type": "stream",
     "text": [
      "\r",
      "  3%|▎         | 140/4539 [35:07:48<1123:15:30, 919.24s/it]"
     ]
    },
    {
     "name": "stdout",
     "output_type": "stream",
     "text": [
      "Checkpoint 600 saved !\n",
      "Epoch 601 finished ! Training Loss: 0.1129\n",
      "\n"
     ]
    },
    {
     "name": "stderr",
     "output_type": "stream",
     "text": [
      "\r",
      "  3%|▎         | 141/4539 [35:22:53<1117:34:19, 914.79s/it]"
     ]
    },
    {
     "name": "stdout",
     "output_type": "stream",
     "text": [
      "------- 1st valloss=0.0736\n",
      "\n",
      "Epoch 602 finished ! Training Loss: 0.1375\n",
      "\n"
     ]
    },
    {
     "name": "stderr",
     "output_type": "stream",
     "text": [
      "\r",
      "  3%|▎         | 142/4539 [35:38:08<1117:18:13, 914.78s/it]"
     ]
    },
    {
     "name": "stdout",
     "output_type": "stream",
     "text": [
      "------- 1st valloss=0.1138\n",
      "\n",
      "Epoch 603 finished ! Training Loss: 0.1306\n",
      "\n"
     ]
    },
    {
     "name": "stderr",
     "output_type": "stream",
     "text": [
      "\r",
      "  3%|▎         | 143/4539 [35:53:22<1116:47:20, 914.57s/it]"
     ]
    },
    {
     "name": "stdout",
     "output_type": "stream",
     "text": [
      "------- 1st valloss=0.0785\n",
      "\n",
      "Epoch 604 finished ! Training Loss: 0.1503\n",
      "\n"
     ]
    },
    {
     "name": "stderr",
     "output_type": "stream",
     "text": [
      "\r",
      "  3%|▎         | 144/4539 [36:08:49<1121:14:23, 918.42s/it]"
     ]
    },
    {
     "name": "stdout",
     "output_type": "stream",
     "text": [
      "------- 1st valloss=0.1024\n",
      "\n",
      "Epoch 605 finished ! Training Loss: 0.1427\n",
      "\n"
     ]
    },
    {
     "name": "stderr",
     "output_type": "stream",
     "text": [
      "\r",
      "  3%|▎         | 145/4539 [36:24:06<1120:29:23, 918.02s/it]"
     ]
    },
    {
     "name": "stdout",
     "output_type": "stream",
     "text": [
      "------- 1st valloss=0.0957\n",
      "\n",
      "Epoch 606 finished ! Training Loss: 0.1349\n",
      "\n"
     ]
    },
    {
     "name": "stderr",
     "output_type": "stream",
     "text": [
      "\r",
      "  3%|▎         | 146/4539 [36:39:22<1119:25:03, 917.35s/it]"
     ]
    },
    {
     "name": "stdout",
     "output_type": "stream",
     "text": [
      "------- 1st valloss=0.0768\n",
      "\n",
      "Epoch 607 finished ! Training Loss: 0.1393\n",
      "\n"
     ]
    },
    {
     "name": "stderr",
     "output_type": "stream",
     "text": [
      "\r",
      "  3%|▎         | 147/4539 [36:54:41<1119:39:23, 917.75s/it]"
     ]
    },
    {
     "name": "stdout",
     "output_type": "stream",
     "text": [
      "------- 1st valloss=0.0981\n",
      "\n",
      "Epoch 608 finished ! Training Loss: 0.1309\n",
      "\n"
     ]
    },
    {
     "name": "stderr",
     "output_type": "stream",
     "text": [
      "\r",
      "  3%|▎         | 148/4539 [37:10:13<1124:43:51, 922.12s/it]"
     ]
    },
    {
     "name": "stdout",
     "output_type": "stream",
     "text": [
      "------- 1st valloss=0.0605\n",
      "\n",
      "Epoch 609 finished ! Training Loss: 0.1210\n",
      "\n"
     ]
    },
    {
     "name": "stderr",
     "output_type": "stream",
     "text": [
      "\r",
      "  3%|▎         | 149/4539 [37:25:45<1127:56:18, 924.96s/it]"
     ]
    },
    {
     "name": "stdout",
     "output_type": "stream",
     "text": [
      "------- 1st valloss=0.1237\n",
      "\n",
      "Epoch 610 finished ! Training Loss: 0.1138\n",
      "\n",
      "------- 1st valloss=0.1110\n",
      "\n"
     ]
    },
    {
     "name": "stderr",
     "output_type": "stream",
     "text": [
      "\r",
      "  3%|▎         | 150/4539 [37:41:14<1129:13:30, 926.23s/it]"
     ]
    },
    {
     "name": "stdout",
     "output_type": "stream",
     "text": [
      "Checkpoint 610 saved !\n",
      "Epoch 611 finished ! Training Loss: 0.1247\n",
      "\n"
     ]
    },
    {
     "name": "stderr",
     "output_type": "stream",
     "text": [
      "\r",
      "  3%|▎         | 151/4539 [37:56:29<1124:54:40, 922.90s/it]"
     ]
    },
    {
     "name": "stdout",
     "output_type": "stream",
     "text": [
      "------- 1st valloss=0.0571\n",
      "\n",
      "Epoch 612 finished ! Training Loss: 0.1420\n",
      "\n"
     ]
    },
    {
     "name": "stderr",
     "output_type": "stream",
     "text": [
      "\r",
      "  3%|▎         | 152/4539 [38:11:43<1121:31:52, 920.34s/it]"
     ]
    },
    {
     "name": "stdout",
     "output_type": "stream",
     "text": [
      "------- 1st valloss=0.0550\n",
      "\n",
      "Epoch 613 finished ! Training Loss: 0.1308\n",
      "\n"
     ]
    },
    {
     "name": "stderr",
     "output_type": "stream",
     "text": [
      "\r",
      "  3%|▎         | 153/4539 [38:27:11<1123:55:52, 922.52s/it]"
     ]
    },
    {
     "name": "stdout",
     "output_type": "stream",
     "text": [
      "------- 1st valloss=0.1055\n",
      "\n",
      "Epoch 614 finished ! Training Loss: 0.1311\n",
      "\n"
     ]
    },
    {
     "name": "stderr",
     "output_type": "stream",
     "text": [
      "\r",
      "  3%|▎         | 154/4539 [38:42:27<1121:28:55, 920.72s/it]"
     ]
    },
    {
     "name": "stdout",
     "output_type": "stream",
     "text": [
      "------- 1st valloss=0.0716\n",
      "\n",
      "Epoch 615 finished ! Training Loss: 0.1288\n",
      "\n"
     ]
    },
    {
     "name": "stderr",
     "output_type": "stream",
     "text": [
      "\r",
      "  3%|▎         | 155/4539 [38:57:42<1118:55:49, 918.83s/it]"
     ]
    },
    {
     "name": "stdout",
     "output_type": "stream",
     "text": [
      "------- 1st valloss=0.1020\n",
      "\n",
      "Epoch 616 finished ! Training Loss: 0.1310\n",
      "\n"
     ]
    },
    {
     "name": "stderr",
     "output_type": "stream",
     "text": [
      "\r",
      "  3%|▎         | 156/4539 [39:12:59<1118:02:00, 918.30s/it]"
     ]
    },
    {
     "name": "stdout",
     "output_type": "stream",
     "text": [
      "------- 1st valloss=0.0589\n",
      "\n",
      "Epoch 617 finished ! Training Loss: 0.1404\n",
      "\n"
     ]
    },
    {
     "name": "stderr",
     "output_type": "stream",
     "text": [
      "\r",
      "  3%|▎         | 157/4539 [39:28:19<1118:35:09, 918.97s/it]"
     ]
    },
    {
     "name": "stdout",
     "output_type": "stream",
     "text": [
      "------- 1st valloss=0.1104\n",
      "\n",
      "Epoch 618 finished ! Training Loss: 0.1434\n",
      "\n"
     ]
    },
    {
     "name": "stderr",
     "output_type": "stream",
     "text": [
      "\r",
      "  3%|▎         | 158/4539 [39:43:43<1119:57:29, 920.30s/it]"
     ]
    },
    {
     "name": "stdout",
     "output_type": "stream",
     "text": [
      "------- 1st valloss=0.0673\n",
      "\n",
      "Epoch 619 finished ! Training Loss: 0.1128\n",
      "\n"
     ]
    },
    {
     "name": "stderr",
     "output_type": "stream",
     "text": [
      "\r",
      "  4%|▎         | 159/4539 [39:58:54<1116:22:17, 917.57s/it]"
     ]
    },
    {
     "name": "stdout",
     "output_type": "stream",
     "text": [
      "------- 1st valloss=0.1099\n",
      "\n",
      "Epoch 620 finished ! Training Loss: 0.1254\n",
      "\n",
      "------- 1st valloss=0.1017\n",
      "\n"
     ]
    },
    {
     "name": "stderr",
     "output_type": "stream",
     "text": [
      "\r",
      "  4%|▎         | 160/4539 [40:14:04<1113:25:34, 915.35s/it]"
     ]
    },
    {
     "name": "stdout",
     "output_type": "stream",
     "text": [
      "Checkpoint 620 saved !\n",
      "Epoch 621 finished ! Training Loss: 0.1247\n",
      "\n"
     ]
    },
    {
     "name": "stderr",
     "output_type": "stream",
     "text": [
      "\r",
      "  4%|▎         | 161/4539 [40:29:28<1116:27:33, 918.06s/it]"
     ]
    },
    {
     "name": "stdout",
     "output_type": "stream",
     "text": [
      "------- 1st valloss=0.0547\n",
      "\n",
      "Epoch 622 finished ! Training Loss: 0.1289\n",
      "\n"
     ]
    },
    {
     "name": "stderr",
     "output_type": "stream",
     "text": [
      "\r",
      "  4%|▎         | 162/4539 [40:44:55<1119:27:05, 920.73s/it]"
     ]
    },
    {
     "name": "stdout",
     "output_type": "stream",
     "text": [
      "------- 1st valloss=0.0952\n",
      "\n",
      "Epoch 623 finished ! Training Loss: 0.1250\n",
      "\n"
     ]
    },
    {
     "name": "stderr",
     "output_type": "stream",
     "text": [
      "\r",
      "  4%|▎         | 163/4539 [41:00:20<1120:38:51, 921.92s/it]"
     ]
    },
    {
     "name": "stdout",
     "output_type": "stream",
     "text": [
      "------- 1st valloss=0.0610\n",
      "\n",
      "Epoch 624 finished ! Training Loss: 0.1069\n",
      "\n"
     ]
    },
    {
     "name": "stderr",
     "output_type": "stream",
     "text": [
      "\r",
      "  4%|▎         | 164/4539 [41:15:42<1120:21:31, 921.90s/it]"
     ]
    },
    {
     "name": "stdout",
     "output_type": "stream",
     "text": [
      "------- 1st valloss=0.1447\n",
      "\n",
      "Epoch 625 finished ! Training Loss: 0.1281\n",
      "\n",
      "------- 1st valloss=0.0530\n",
      "\n",
      "0.05302535548158314 less than 0.05344928298955378\n"
     ]
    },
    {
     "name": "stderr",
     "output_type": "stream",
     "text": [
      "\r",
      "  4%|▎         | 165/4539 [41:31:08<1121:40:17, 923.19s/it]"
     ]
    },
    {
     "name": "stdout",
     "output_type": "stream",
     "text": [
      "Checkpoint 625 saved !\n",
      "Epoch 626 finished ! Training Loss: 0.1407\n",
      "\n"
     ]
    },
    {
     "name": "stderr",
     "output_type": "stream",
     "text": [
      "\r",
      "  4%|▎         | 166/4539 [41:46:13<1114:34:52, 917.56s/it]"
     ]
    },
    {
     "name": "stdout",
     "output_type": "stream",
     "text": [
      "------- 1st valloss=0.0576\n",
      "\n",
      "Epoch 627 finished ! Training Loss: 0.1334\n",
      "\n",
      "------- 1st valloss=0.0529\n",
      "\n",
      "0.0529177263379097 less than 0.05302535548158314\n"
     ]
    },
    {
     "name": "stderr",
     "output_type": "stream",
     "text": [
      "\r",
      "  4%|▎         | 167/4539 [42:01:37<1116:52:22, 919.66s/it]"
     ]
    },
    {
     "name": "stdout",
     "output_type": "stream",
     "text": [
      "Checkpoint 627 saved !\n",
      "Epoch 628 finished ! Training Loss: 0.1289\n",
      "\n"
     ]
    },
    {
     "name": "stderr",
     "output_type": "stream",
     "text": [
      "\r",
      "  4%|▎         | 168/4539 [42:16:49<1113:49:15, 917.35s/it]"
     ]
    },
    {
     "name": "stdout",
     "output_type": "stream",
     "text": [
      "------- 1st valloss=0.0706\n",
      "\n",
      "Epoch 629 finished ! Training Loss: 0.1243\n",
      "\n"
     ]
    },
    {
     "name": "stderr",
     "output_type": "stream",
     "text": [
      "\r",
      "  4%|▎         | 169/4539 [42:32:07<1113:37:18, 917.40s/it]"
     ]
    },
    {
     "name": "stdout",
     "output_type": "stream",
     "text": [
      "------- 1st valloss=0.0889\n",
      "\n",
      "Epoch 630 finished ! Training Loss: 0.1209\n",
      "\n",
      "------- 1st valloss=0.0600\n",
      "\n"
     ]
    },
    {
     "name": "stderr",
     "output_type": "stream",
     "text": [
      "\r",
      "  4%|▎         | 170/4539 [42:47:24<1113:17:41, 917.34s/it]"
     ]
    },
    {
     "name": "stdout",
     "output_type": "stream",
     "text": [
      "Checkpoint 630 saved !\n",
      "Epoch 631 finished ! Training Loss: 0.1249\n",
      "\n"
     ]
    },
    {
     "name": "stderr",
     "output_type": "stream",
     "text": [
      "\r",
      "  4%|▍         | 171/4539 [43:02:54<1117:40:21, 921.16s/it]"
     ]
    },
    {
     "name": "stdout",
     "output_type": "stream",
     "text": [
      "------- 1st valloss=0.0604\n",
      "\n",
      "Epoch 632 finished ! Training Loss: 0.1298\n",
      "\n"
     ]
    },
    {
     "name": "stderr",
     "output_type": "stream",
     "text": [
      "\r",
      "  4%|▍         | 172/4539 [43:18:03<1113:04:05, 917.57s/it]"
     ]
    },
    {
     "name": "stdout",
     "output_type": "stream",
     "text": [
      "------- 1st valloss=0.0647\n",
      "\n",
      "Epoch 633 finished ! Training Loss: 0.1326\n",
      "\n",
      "------- 1st valloss=0.0517\n",
      "\n",
      "0.0516899652455164 less than 0.0529177263379097\n"
     ]
    },
    {
     "name": "stderr",
     "output_type": "stream",
     "text": [
      "\r",
      "  4%|▍         | 173/4539 [43:33:25<1114:22:52, 918.87s/it]"
     ]
    },
    {
     "name": "stdout",
     "output_type": "stream",
     "text": [
      "Checkpoint 633 saved !\n",
      "Epoch 634 finished ! Training Loss: 0.1122\n",
      "\n"
     ]
    },
    {
     "name": "stderr",
     "output_type": "stream",
     "text": [
      "\r",
      "  4%|▍         | 174/4539 [43:48:41<1113:08:35, 918.06s/it]"
     ]
    },
    {
     "name": "stdout",
     "output_type": "stream",
     "text": [
      "------- 1st valloss=0.0724\n",
      "\n",
      "Epoch 635 finished ! Training Loss: 0.1408\n",
      "\n",
      "------- 1st valloss=0.0515\n",
      "\n",
      "0.05146448152220767 less than 0.0516899652455164\n"
     ]
    },
    {
     "name": "stderr",
     "output_type": "stream",
     "text": [
      "\r",
      "  4%|▍         | 175/4539 [44:03:56<1111:45:10, 917.12s/it]"
     ]
    },
    {
     "name": "stdout",
     "output_type": "stream",
     "text": [
      "Checkpoint 635 saved !\n",
      "Epoch 636 finished ! Training Loss: 0.1290\n",
      "\n"
     ]
    },
    {
     "name": "stderr",
     "output_type": "stream",
     "text": [
      "\r",
      "  4%|▍         | 176/4539 [44:19:36<1119:48:45, 923.98s/it]"
     ]
    },
    {
     "name": "stdout",
     "output_type": "stream",
     "text": [
      "------- 1st valloss=0.0708\n",
      "\n",
      "Epoch 637 finished ! Training Loss: 0.1301\n",
      "\n"
     ]
    },
    {
     "name": "stderr",
     "output_type": "stream",
     "text": [
      "\r",
      "  4%|▍         | 177/4539 [44:34:58<1118:52:31, 923.42s/it]"
     ]
    },
    {
     "name": "stdout",
     "output_type": "stream",
     "text": [
      "------- 1st valloss=0.0670\n",
      "\n",
      "Epoch 638 finished ! Training Loss: 0.1245\n",
      "\n"
     ]
    },
    {
     "name": "stderr",
     "output_type": "stream",
     "text": [
      "\r",
      "  4%|▍         | 178/4539 [44:50:25<1119:40:27, 924.29s/it]"
     ]
    },
    {
     "name": "stdout",
     "output_type": "stream",
     "text": [
      "------- 1st valloss=0.0825\n",
      "\n",
      "Epoch 639 finished ! Training Loss: 0.1178\n",
      "\n"
     ]
    },
    {
     "name": "stderr",
     "output_type": "stream",
     "text": [
      "\r",
      "  4%|▍         | 179/4539 [45:05:51<1120:14:58, 924.98s/it]"
     ]
    },
    {
     "name": "stdout",
     "output_type": "stream",
     "text": [
      "------- 1st valloss=0.0987\n",
      "\n",
      "Epoch 640 finished ! Training Loss: 0.1262\n",
      "\n",
      "------- 1st valloss=0.0539\n",
      "\n"
     ]
    },
    {
     "name": "stderr",
     "output_type": "stream",
     "text": [
      "\r",
      "  4%|▍         | 180/4539 [45:21:03<1115:07:49, 920.96s/it]"
     ]
    },
    {
     "name": "stdout",
     "output_type": "stream",
     "text": [
      "Checkpoint 640 saved !\n",
      "Epoch 641 finished ! Training Loss: 0.1283\n",
      "\n"
     ]
    },
    {
     "name": "stderr",
     "output_type": "stream",
     "text": [
      "\r",
      "  4%|▍         | 181/4539 [45:36:13<1110:59:26, 917.75s/it]"
     ]
    },
    {
     "name": "stdout",
     "output_type": "stream",
     "text": [
      "------- 1st valloss=0.0608\n",
      "\n",
      "Epoch 642 finished ! Training Loss: 0.1324\n",
      "\n"
     ]
    },
    {
     "name": "stderr",
     "output_type": "stream",
     "text": [
      "\r",
      "  4%|▍         | 182/4539 [45:51:18<1106:07:43, 913.95s/it]"
     ]
    },
    {
     "name": "stdout",
     "output_type": "stream",
     "text": [
      "------- 1st valloss=0.0684\n",
      "\n",
      "Epoch 643 finished ! Training Loss: 0.1333\n",
      "\n"
     ]
    },
    {
     "name": "stderr",
     "output_type": "stream",
     "text": [
      "\r",
      "  4%|▍         | 183/4539 [46:06:46<1111:00:17, 918.19s/it]"
     ]
    },
    {
     "name": "stdout",
     "output_type": "stream",
     "text": [
      "------- 1st valloss=0.0655\n",
      "\n",
      "Epoch 644 finished ! Training Loss: 0.1302\n",
      "\n"
     ]
    },
    {
     "name": "stderr",
     "output_type": "stream",
     "text": [
      "\r",
      "  4%|▍         | 184/4539 [46:22:10<1112:42:18, 919.80s/it]"
     ]
    },
    {
     "name": "stdout",
     "output_type": "stream",
     "text": [
      "------- 1st valloss=0.0532\n",
      "\n",
      "Epoch 645 finished ! Training Loss: 0.1282\n",
      "\n"
     ]
    },
    {
     "name": "stderr",
     "output_type": "stream",
     "text": [
      "\r",
      "  4%|▍         | 185/4539 [46:37:29<1112:11:52, 919.59s/it]"
     ]
    },
    {
     "name": "stdout",
     "output_type": "stream",
     "text": [
      "------- 1st valloss=0.1227\n",
      "\n",
      "Epoch 646 finished ! Training Loss: 0.1153\n",
      "\n"
     ]
    },
    {
     "name": "stderr",
     "output_type": "stream",
     "text": [
      "\r",
      "  4%|▍         | 186/4539 [46:52:59<1115:37:06, 922.63s/it]"
     ]
    },
    {
     "name": "stdout",
     "output_type": "stream",
     "text": [
      "------- 1st valloss=0.0834\n",
      "\n",
      "Epoch 647 finished ! Training Loss: 0.1264\n",
      "\n"
     ]
    },
    {
     "name": "stderr",
     "output_type": "stream",
     "text": [
      "\r",
      "  4%|▍         | 187/4539 [47:08:18<1114:17:43, 921.75s/it]"
     ]
    },
    {
     "name": "stdout",
     "output_type": "stream",
     "text": [
      "------- 1st valloss=0.0738\n",
      "\n",
      "Epoch 648 finished ! Training Loss: 0.1415\n",
      "\n"
     ]
    },
    {
     "name": "stderr",
     "output_type": "stream",
     "text": [
      "\r",
      "  4%|▍         | 188/4539 [47:23:31<1110:44:01, 919.02s/it]"
     ]
    },
    {
     "name": "stdout",
     "output_type": "stream",
     "text": [
      "------- 1st valloss=0.0574\n",
      "\n",
      "Epoch 649 finished ! Training Loss: 0.1281\n",
      "\n"
     ]
    },
    {
     "name": "stderr",
     "output_type": "stream",
     "text": [
      "\r",
      "  4%|▍         | 189/4539 [47:38:48<1109:51:01, 918.50s/it]"
     ]
    },
    {
     "name": "stdout",
     "output_type": "stream",
     "text": [
      "------- 1st valloss=0.0755\n",
      "\n",
      "Epoch 650 finished ! Training Loss: 0.1227\n",
      "\n",
      "------- 1st valloss=0.0944\n",
      "\n"
     ]
    },
    {
     "name": "stderr",
     "output_type": "stream",
     "text": [
      "\r",
      "  4%|▍         | 190/4539 [47:54:02<1107:48:59, 917.02s/it]"
     ]
    },
    {
     "name": "stdout",
     "output_type": "stream",
     "text": [
      "Checkpoint 650 saved !\n",
      "Epoch 651 finished ! Training Loss: 0.1345\n",
      "\n"
     ]
    },
    {
     "name": "stderr",
     "output_type": "stream",
     "text": [
      "\r",
      "  4%|▍         | 191/4539 [48:09:20<1108:09:05, 917.51s/it]"
     ]
    },
    {
     "name": "stdout",
     "output_type": "stream",
     "text": [
      "------- 1st valloss=0.1133\n",
      "\n",
      "Epoch 652 finished ! Training Loss: 0.1179\n",
      "\n"
     ]
    },
    {
     "name": "stderr",
     "output_type": "stream",
     "text": [
      "\r",
      "  4%|▍         | 192/4539 [48:24:32<1105:46:31, 915.76s/it]"
     ]
    },
    {
     "name": "stdout",
     "output_type": "stream",
     "text": [
      "------- 1st valloss=0.0821\n",
      "\n",
      "Epoch 653 finished ! Training Loss: 0.1285\n",
      "\n"
     ]
    },
    {
     "name": "stderr",
     "output_type": "stream",
     "text": [
      "\r",
      "  4%|▍         | 193/4539 [48:39:55<1108:02:25, 917.84s/it]"
     ]
    },
    {
     "name": "stdout",
     "output_type": "stream",
     "text": [
      "------- 1st valloss=0.1094\n",
      "\n",
      "Epoch 654 finished ! Training Loss: 0.1257\n",
      "\n"
     ]
    },
    {
     "name": "stderr",
     "output_type": "stream",
     "text": [
      "\r",
      "  4%|▍         | 194/4539 [48:55:09<1106:24:53, 916.71s/it]"
     ]
    },
    {
     "name": "stdout",
     "output_type": "stream",
     "text": [
      "------- 1st valloss=0.2312\n",
      "\n",
      "Epoch 655 finished ! Training Loss: 0.1384\n",
      "\n"
     ]
    },
    {
     "name": "stderr",
     "output_type": "stream",
     "text": [
      "\r",
      "  4%|▍         | 195/4539 [49:10:31<1108:19:15, 918.50s/it]"
     ]
    },
    {
     "name": "stdout",
     "output_type": "stream",
     "text": [
      "------- 1st valloss=0.0587\n",
      "\n",
      "Epoch 656 finished ! Training Loss: 0.1164\n",
      "\n"
     ]
    },
    {
     "name": "stderr",
     "output_type": "stream",
     "text": [
      "\r",
      "  4%|▍         | 196/4539 [49:25:54<1109:22:01, 919.58s/it]"
     ]
    },
    {
     "name": "stdout",
     "output_type": "stream",
     "text": [
      "------- 1st valloss=0.1163\n",
      "\n",
      "Epoch 657 finished ! Training Loss: 0.1222\n",
      "\n"
     ]
    },
    {
     "name": "stderr",
     "output_type": "stream",
     "text": [
      "\r",
      "  4%|▍         | 197/4539 [49:41:11<1108:20:25, 918.94s/it]"
     ]
    },
    {
     "name": "stdout",
     "output_type": "stream",
     "text": [
      "------- 1st valloss=0.0919\n",
      "\n",
      "Epoch 658 finished ! Training Loss: 0.1336\n",
      "\n"
     ]
    },
    {
     "name": "stderr",
     "output_type": "stream",
     "text": [
      "\r",
      "  4%|▍         | 198/4539 [49:56:36<1110:24:08, 920.86s/it]"
     ]
    },
    {
     "name": "stdout",
     "output_type": "stream",
     "text": [
      "------- 1st valloss=0.0865\n",
      "\n",
      "Epoch 659 finished ! Training Loss: 0.1158\n",
      "\n"
     ]
    },
    {
     "name": "stderr",
     "output_type": "stream",
     "text": [
      "\r",
      "  4%|▍         | 199/4539 [50:11:57<1109:54:21, 920.66s/it]"
     ]
    },
    {
     "name": "stdout",
     "output_type": "stream",
     "text": [
      "------- 1st valloss=0.1009\n",
      "\n",
      "Epoch 660 finished ! Training Loss: 0.1208\n",
      "\n",
      "------- 1st valloss=0.0641\n",
      "\n"
     ]
    },
    {
     "name": "stderr",
     "output_type": "stream",
     "text": [
      "\r",
      "  4%|▍         | 200/4539 [50:27:26<1112:43:02, 923.20s/it]"
     ]
    },
    {
     "name": "stdout",
     "output_type": "stream",
     "text": [
      "Checkpoint 660 saved !\n",
      "Epoch 661 finished ! Training Loss: 0.1403\n",
      "\n"
     ]
    },
    {
     "name": "stderr",
     "output_type": "stream",
     "text": [
      "\r",
      "  4%|▍         | 201/4539 [50:42:48<1112:15:03, 923.03s/it]"
     ]
    },
    {
     "name": "stdout",
     "output_type": "stream",
     "text": [
      "------- 1st valloss=0.0733\n",
      "\n",
      "Epoch 662 finished ! Training Loss: 0.1293\n",
      "\n"
     ]
    },
    {
     "name": "stderr",
     "output_type": "stream",
     "text": [
      "\r",
      "  4%|▍         | 202/4539 [50:58:06<1109:59:01, 921.36s/it]"
     ]
    },
    {
     "name": "stdout",
     "output_type": "stream",
     "text": [
      "------- 1st valloss=0.1025\n",
      "\n",
      "Epoch 663 finished ! Training Loss: 0.1295\n",
      "\n"
     ]
    },
    {
     "name": "stderr",
     "output_type": "stream",
     "text": [
      "\r",
      "  4%|▍         | 203/4539 [51:13:22<1107:44:34, 919.71s/it]"
     ]
    },
    {
     "name": "stdout",
     "output_type": "stream",
     "text": [
      "------- 1st valloss=0.0829\n",
      "\n",
      "Epoch 664 finished ! Training Loss: 0.1323\n",
      "\n"
     ]
    },
    {
     "name": "stderr",
     "output_type": "stream",
     "text": [
      "\r",
      "  4%|▍         | 204/4539 [51:28:46<1109:08:22, 921.08s/it]"
     ]
    },
    {
     "name": "stdout",
     "output_type": "stream",
     "text": [
      "------- 1st valloss=0.0784\n",
      "\n",
      "Epoch 665 finished ! Training Loss: 0.1100\n",
      "\n"
     ]
    },
    {
     "name": "stderr",
     "output_type": "stream",
     "text": [
      "\r",
      "  5%|▍         | 205/4539 [51:44:09<1109:42:01, 921.76s/it]"
     ]
    },
    {
     "name": "stdout",
     "output_type": "stream",
     "text": [
      "------- 1st valloss=0.0735\n",
      "\n",
      "Epoch 666 finished ! Training Loss: 0.1311\n",
      "\n"
     ]
    },
    {
     "name": "stderr",
     "output_type": "stream",
     "text": [
      "\r",
      "  5%|▍         | 206/4539 [51:59:27<1108:07:04, 920.66s/it]"
     ]
    },
    {
     "name": "stdout",
     "output_type": "stream",
     "text": [
      "------- 1st valloss=0.0763\n",
      "\n",
      "Epoch 667 finished ! Training Loss: 0.1170\n",
      "\n"
     ]
    },
    {
     "name": "stderr",
     "output_type": "stream",
     "text": [
      "\r",
      "  5%|▍         | 207/4539 [52:14:46<1107:04:48, 920.01s/it]"
     ]
    },
    {
     "name": "stdout",
     "output_type": "stream",
     "text": [
      "------- 1st valloss=0.1091\n",
      "\n",
      "Epoch 668 finished ! Training Loss: 0.1254\n",
      "\n"
     ]
    },
    {
     "name": "stderr",
     "output_type": "stream",
     "text": [
      "\r",
      "  5%|▍         | 208/4539 [52:30:19<1111:32:10, 923.93s/it]"
     ]
    },
    {
     "name": "stdout",
     "output_type": "stream",
     "text": [
      "------- 1st valloss=0.0771\n",
      "\n",
      "Epoch 669 finished ! Training Loss: 0.1387\n",
      "\n"
     ]
    },
    {
     "name": "stderr",
     "output_type": "stream",
     "text": [
      "\r",
      "  5%|▍         | 209/4539 [52:45:42<1111:01:58, 923.72s/it]"
     ]
    },
    {
     "name": "stdout",
     "output_type": "stream",
     "text": [
      "------- 1st valloss=0.0820\n",
      "\n",
      "Epoch 670 finished ! Training Loss: 0.1195\n",
      "\n",
      "------- 1st valloss=0.1137\n",
      "\n"
     ]
    },
    {
     "name": "stderr",
     "output_type": "stream",
     "text": [
      "\r",
      "  5%|▍         | 210/4539 [53:01:07<1110:59:29, 923.90s/it]"
     ]
    },
    {
     "name": "stdout",
     "output_type": "stream",
     "text": [
      "Checkpoint 670 saved !\n",
      "Epoch 671 finished ! Training Loss: 0.1372\n",
      "\n"
     ]
    },
    {
     "name": "stderr",
     "output_type": "stream",
     "text": [
      "\r",
      "  5%|▍         | 211/4539 [53:16:20<1107:01:54, 920.82s/it]"
     ]
    },
    {
     "name": "stdout",
     "output_type": "stream",
     "text": [
      "------- 1st valloss=0.0995\n",
      "\n",
      "Epoch 672 finished ! Training Loss: 0.1133\n",
      "\n"
     ]
    },
    {
     "name": "stderr",
     "output_type": "stream",
     "text": [
      "\r",
      "  5%|▍         | 212/4539 [53:31:27<1101:52:54, 916.75s/it]"
     ]
    },
    {
     "name": "stdout",
     "output_type": "stream",
     "text": [
      "------- 1st valloss=0.1099\n",
      "\n",
      "Epoch 673 finished ! Training Loss: 0.1201\n",
      "\n"
     ]
    },
    {
     "name": "stderr",
     "output_type": "stream",
     "text": [
      "\r",
      "  5%|▍         | 213/4539 [53:46:48<1102:58:32, 917.87s/it]"
     ]
    },
    {
     "name": "stdout",
     "output_type": "stream",
     "text": [
      "------- 1st valloss=0.0883\n",
      "\n",
      "Epoch 674 finished ! Training Loss: 0.1179\n",
      "\n"
     ]
    },
    {
     "name": "stderr",
     "output_type": "stream",
     "text": [
      "\r",
      "  5%|▍         | 214/4539 [54:02:01<1100:51:21, 916.32s/it]"
     ]
    },
    {
     "name": "stdout",
     "output_type": "stream",
     "text": [
      "------- 1st valloss=0.1162\n",
      "\n",
      "Epoch 675 finished ! Training Loss: 0.1228\n",
      "\n"
     ]
    },
    {
     "name": "stderr",
     "output_type": "stream",
     "text": [
      "\r",
      "  5%|▍         | 215/4539 [54:17:25<1103:36:36, 918.82s/it]"
     ]
    },
    {
     "name": "stdout",
     "output_type": "stream",
     "text": [
      "------- 1st valloss=0.1188\n",
      "\n",
      "Epoch 676 finished ! Training Loss: 0.1231\n",
      "\n"
     ]
    },
    {
     "name": "stderr",
     "output_type": "stream",
     "text": [
      "\r",
      "  5%|▍         | 216/4539 [54:33:00<1109:09:58, 923.66s/it]"
     ]
    },
    {
     "name": "stdout",
     "output_type": "stream",
     "text": [
      "------- 1st valloss=0.0994\n",
      "\n",
      "Epoch 677 finished ! Training Loss: 0.1012\n",
      "\n"
     ]
    },
    {
     "name": "stderr",
     "output_type": "stream",
     "text": [
      "\r",
      "  5%|▍         | 217/4539 [54:48:22<1108:17:12, 923.14s/it]"
     ]
    },
    {
     "name": "stdout",
     "output_type": "stream",
     "text": [
      "------- 1st valloss=0.0671\n",
      "\n",
      "Epoch 678 finished ! Training Loss: 0.1165\n",
      "\n"
     ]
    },
    {
     "name": "stderr",
     "output_type": "stream",
     "text": [
      "\r",
      "  5%|▍         | 218/4539 [55:03:31<1102:57:21, 918.92s/it]"
     ]
    },
    {
     "name": "stdout",
     "output_type": "stream",
     "text": [
      "------- 1st valloss=0.0619\n",
      "\n",
      "Epoch 679 finished ! Training Loss: 0.1215\n",
      "\n"
     ]
    },
    {
     "name": "stderr",
     "output_type": "stream",
     "text": [
      "\r",
      "  5%|▍         | 219/4539 [55:18:43<1100:02:47, 916.71s/it]"
     ]
    },
    {
     "name": "stdout",
     "output_type": "stream",
     "text": [
      "------- 1st valloss=0.0731\n",
      "\n",
      "Epoch 680 finished ! Training Loss: 0.1268\n",
      "\n",
      "------- 1st valloss=0.0769\n",
      "\n"
     ]
    },
    {
     "name": "stderr",
     "output_type": "stream",
     "text": [
      "\r",
      "  5%|▍         | 220/4539 [55:33:53<1097:28:41, 914.78s/it]"
     ]
    },
    {
     "name": "stdout",
     "output_type": "stream",
     "text": [
      "Checkpoint 680 saved !\n",
      "Epoch 681 finished ! Training Loss: 0.1203\n",
      "\n"
     ]
    },
    {
     "name": "stderr",
     "output_type": "stream",
     "text": [
      "\r",
      "  5%|▍         | 221/4539 [55:49:04<1095:55:07, 913.69s/it]"
     ]
    },
    {
     "name": "stdout",
     "output_type": "stream",
     "text": [
      "------- 1st valloss=0.0690\n",
      "\n",
      "Epoch 682 finished ! Training Loss: 0.1153\n",
      "\n"
     ]
    },
    {
     "name": "stderr",
     "output_type": "stream",
     "text": [
      "\r",
      "  5%|▍         | 222/4539 [56:04:32<1100:53:25, 918.05s/it]"
     ]
    },
    {
     "name": "stdout",
     "output_type": "stream",
     "text": [
      "------- 1st valloss=0.0890\n",
      "\n",
      "Epoch 683 finished ! Training Loss: 0.1395\n",
      "\n"
     ]
    },
    {
     "name": "stderr",
     "output_type": "stream",
     "text": [
      "\r",
      "  5%|▍         | 223/4539 [56:19:48<1099:49:12, 917.37s/it]"
     ]
    },
    {
     "name": "stdout",
     "output_type": "stream",
     "text": [
      "------- 1st valloss=0.0637\n",
      "\n",
      "Epoch 684 finished ! Training Loss: 0.1154\n",
      "\n"
     ]
    },
    {
     "name": "stderr",
     "output_type": "stream",
     "text": [
      "\r",
      "  5%|▍         | 224/4539 [56:35:03<1098:37:31, 916.58s/it]"
     ]
    },
    {
     "name": "stdout",
     "output_type": "stream",
     "text": [
      "------- 1st valloss=0.0542\n",
      "\n",
      "Epoch 685 finished ! Training Loss: 0.1314\n",
      "\n"
     ]
    },
    {
     "name": "stderr",
     "output_type": "stream",
     "text": [
      "\r",
      "  5%|▍         | 225/4539 [56:50:18<1097:48:02, 916.11s/it]"
     ]
    },
    {
     "name": "stdout",
     "output_type": "stream",
     "text": [
      "------- 1st valloss=0.0750\n",
      "\n",
      "Epoch 686 finished ! Training Loss: 0.1253\n",
      "\n"
     ]
    },
    {
     "name": "stderr",
     "output_type": "stream",
     "text": [
      "\r",
      "  5%|▍         | 226/4539 [57:05:29<1095:50:37, 914.69s/it]"
     ]
    },
    {
     "name": "stdout",
     "output_type": "stream",
     "text": [
      "------- 1st valloss=0.0662\n",
      "\n",
      "Epoch 687 finished ! Training Loss: 0.1266\n",
      "\n"
     ]
    },
    {
     "name": "stderr",
     "output_type": "stream",
     "text": [
      "\r",
      "  5%|▌         | 227/4539 [57:20:46<1096:11:01, 915.18s/it]"
     ]
    },
    {
     "name": "stdout",
     "output_type": "stream",
     "text": [
      "------- 1st valloss=0.0742\n",
      "\n",
      "Epoch 688 finished ! Training Loss: 0.1265\n",
      "\n"
     ]
    },
    {
     "name": "stderr",
     "output_type": "stream",
     "text": [
      "\r",
      "  5%|▌         | 228/4539 [57:36:08<1098:41:30, 917.49s/it]"
     ]
    },
    {
     "name": "stdout",
     "output_type": "stream",
     "text": [
      "------- 1st valloss=0.0843\n",
      "\n",
      "Epoch 689 finished ! Training Loss: 0.1199\n",
      "\n"
     ]
    },
    {
     "name": "stderr",
     "output_type": "stream",
     "text": [
      "\r",
      "  5%|▌         | 229/4539 [57:51:28<1099:00:42, 917.97s/it]"
     ]
    },
    {
     "name": "stdout",
     "output_type": "stream",
     "text": [
      "------- 1st valloss=0.0907\n",
      "\n",
      "Epoch 690 finished ! Training Loss: 0.1257\n",
      "\n",
      "------- 1st valloss=0.1202\n",
      "\n"
     ]
    },
    {
     "name": "stderr",
     "output_type": "stream",
     "text": [
      "\r",
      "  5%|▌         | 230/4539 [58:06:51<1100:36:30, 919.52s/it]"
     ]
    },
    {
     "name": "stdout",
     "output_type": "stream",
     "text": [
      "Checkpoint 690 saved !\n",
      "Epoch 691 finished ! Training Loss: 0.1201\n",
      "\n"
     ]
    },
    {
     "name": "stderr",
     "output_type": "stream",
     "text": [
      "\r",
      "  5%|▌         | 231/4539 [58:22:15<1101:59:32, 920.89s/it]"
     ]
    },
    {
     "name": "stdout",
     "output_type": "stream",
     "text": [
      "------- 1st valloss=0.0886\n",
      "\n",
      "Epoch 692 finished ! Training Loss: 0.1179\n",
      "\n"
     ]
    },
    {
     "name": "stderr",
     "output_type": "stream",
     "text": [
      "\r",
      "  5%|▌         | 232/4539 [58:37:35<1101:27:40, 920.65s/it]"
     ]
    },
    {
     "name": "stdout",
     "output_type": "stream",
     "text": [
      "------- 1st valloss=0.0669\n",
      "\n",
      "Epoch 693 finished ! Training Loss: 0.1301\n",
      "\n"
     ]
    },
    {
     "name": "stderr",
     "output_type": "stream",
     "text": [
      "\r",
      "  5%|▌         | 233/4539 [58:52:58<1102:08:54, 921.44s/it]"
     ]
    },
    {
     "name": "stdout",
     "output_type": "stream",
     "text": [
      "------- 1st valloss=0.0843\n",
      "\n",
      "Epoch 694 finished ! Training Loss: 0.1217\n",
      "\n"
     ]
    },
    {
     "name": "stderr",
     "output_type": "stream",
     "text": [
      "\r",
      "  5%|▌         | 234/4539 [59:08:07<1097:32:07, 917.80s/it]"
     ]
    },
    {
     "name": "stdout",
     "output_type": "stream",
     "text": [
      "------- 1st valloss=0.1593\n",
      "\n",
      "Epoch 695 finished ! Training Loss: 0.1301\n",
      "\n"
     ]
    },
    {
     "name": "stderr",
     "output_type": "stream",
     "text": [
      "\r",
      "  5%|▌         | 235/4539 [59:23:27<1097:57:42, 918.37s/it]"
     ]
    },
    {
     "name": "stdout",
     "output_type": "stream",
     "text": [
      "------- 1st valloss=0.0699\n",
      "\n",
      "Epoch 696 finished ! Training Loss: 0.1295\n",
      "\n"
     ]
    },
    {
     "name": "stderr",
     "output_type": "stream",
     "text": [
      "\r",
      "  5%|▌         | 236/4539 [59:38:43<1096:47:30, 917.60s/it]"
     ]
    },
    {
     "name": "stdout",
     "output_type": "stream",
     "text": [
      "------- 1st valloss=0.1220\n",
      "\n",
      "Epoch 697 finished ! Training Loss: 0.1080\n",
      "\n"
     ]
    },
    {
     "name": "stderr",
     "output_type": "stream",
     "text": [
      "\r",
      "  5%|▌         | 237/4539 [59:53:55<1094:38:49, 916.02s/it]"
     ]
    },
    {
     "name": "stdout",
     "output_type": "stream",
     "text": [
      "------- 1st valloss=0.1108\n",
      "\n",
      "Epoch 698 finished ! Training Loss: 0.1092\n",
      "\n"
     ]
    },
    {
     "name": "stderr",
     "output_type": "stream",
     "text": [
      "\r",
      "  5%|▌         | 238/4539 [60:09:20<1097:27:24, 918.59s/it]"
     ]
    },
    {
     "name": "stdout",
     "output_type": "stream",
     "text": [
      "------- 1st valloss=0.0857\n",
      "\n",
      "Epoch 699 finished ! Training Loss: 0.1128\n",
      "\n"
     ]
    },
    {
     "name": "stderr",
     "output_type": "stream",
     "text": [
      "\r",
      "  5%|▌         | 239/4539 [60:24:36<1096:10:42, 917.73s/it]"
     ]
    },
    {
     "name": "stdout",
     "output_type": "stream",
     "text": [
      "------- 1st valloss=0.1765\n",
      "\n",
      "Epoch 700 finished ! Training Loss: 0.1136\n",
      "\n",
      "------- 1st valloss=0.0675\n",
      "\n"
     ]
    },
    {
     "name": "stderr",
     "output_type": "stream",
     "text": [
      "\r",
      "  5%|▌         | 240/4539 [60:40:01<1098:39:16, 920.02s/it]"
     ]
    },
    {
     "name": "stdout",
     "output_type": "stream",
     "text": [
      "Checkpoint 700 saved !\n",
      "Epoch 701 finished ! Training Loss: 0.1128\n",
      "\n"
     ]
    },
    {
     "name": "stderr",
     "output_type": "stream",
     "text": [
      "\r",
      "  5%|▌         | 241/4539 [60:55:27<1100:40:33, 921.93s/it]"
     ]
    },
    {
     "name": "stdout",
     "output_type": "stream",
     "text": [
      "------- 1st valloss=0.0714\n",
      "\n",
      "Epoch 702 finished ! Training Loss: 0.1073\n",
      "\n"
     ]
    },
    {
     "name": "stderr",
     "output_type": "stream",
     "text": [
      "\r",
      "  5%|▌         | 242/4539 [61:10:36<1095:40:04, 917.94s/it]"
     ]
    },
    {
     "name": "stdout",
     "output_type": "stream",
     "text": [
      "------- 1st valloss=0.1554\n",
      "\n",
      "Epoch 703 finished ! Training Loss: 0.1068\n",
      "\n"
     ]
    },
    {
     "name": "stderr",
     "output_type": "stream",
     "text": [
      "\r",
      "  5%|▌         | 243/4539 [61:26:02<1098:20:01, 920.39s/it]"
     ]
    },
    {
     "name": "stdout",
     "output_type": "stream",
     "text": [
      "------- 1st valloss=0.1807\n",
      "\n",
      "Epoch 704 finished ! Training Loss: 0.0952\n",
      "\n"
     ]
    },
    {
     "name": "stderr",
     "output_type": "stream",
     "text": [
      "\r",
      "  5%|▌         | 244/4539 [61:41:30<1100:43:34, 922.61s/it]"
     ]
    },
    {
     "name": "stdout",
     "output_type": "stream",
     "text": [
      "------- 1st valloss=0.0771\n",
      "\n",
      "Epoch 705 finished ! Training Loss: 0.0898\n",
      "\n"
     ]
    },
    {
     "name": "stderr",
     "output_type": "stream",
     "text": [
      "\r",
      "  5%|▌         | 245/4539 [61:56:56<1101:35:48, 923.56s/it]"
     ]
    },
    {
     "name": "stdout",
     "output_type": "stream",
     "text": [
      "------- 1st valloss=0.0662\n",
      "\n",
      "Epoch 706 finished ! Training Loss: 0.0983\n",
      "\n"
     ]
    },
    {
     "name": "stderr",
     "output_type": "stream",
     "text": [
      "\r",
      "  5%|▌         | 246/4539 [62:12:14<1099:32:18, 922.04s/it]"
     ]
    },
    {
     "name": "stdout",
     "output_type": "stream",
     "text": [
      "------- 1st valloss=0.0750\n",
      "\n",
      "Epoch 707 finished ! Training Loss: 0.0862\n",
      "\n"
     ]
    },
    {
     "name": "stderr",
     "output_type": "stream",
     "text": [
      "\r",
      "  5%|▌         | 247/4539 [62:27:35<1098:47:03, 921.63s/it]"
     ]
    },
    {
     "name": "stdout",
     "output_type": "stream",
     "text": [
      "------- 1st valloss=0.1805\n",
      "\n",
      "Epoch 708 finished ! Training Loss: 0.0897\n",
      "\n"
     ]
    },
    {
     "name": "stderr",
     "output_type": "stream",
     "text": [
      "\r",
      "  5%|▌         | 248/4539 [62:42:55<1097:50:57, 921.06s/it]"
     ]
    },
    {
     "name": "stdout",
     "output_type": "stream",
     "text": [
      "------- 1st valloss=0.0783\n",
      "\n",
      "Epoch 709 finished ! Training Loss: 0.0848\n",
      "\n"
     ]
    },
    {
     "name": "stderr",
     "output_type": "stream",
     "text": [
      "\r",
      "  5%|▌         | 249/4539 [62:58:08<1095:02:03, 918.91s/it]"
     ]
    },
    {
     "name": "stdout",
     "output_type": "stream",
     "text": [
      "------- 1st valloss=0.0623\n",
      "\n",
      "Epoch 710 finished ! Training Loss: 0.0866\n",
      "\n",
      "------- 1st valloss=0.0916\n",
      "\n"
     ]
    },
    {
     "name": "stderr",
     "output_type": "stream",
     "text": [
      "\r",
      "  6%|▌         | 250/4539 [63:13:39<1098:49:58, 922.31s/it]"
     ]
    },
    {
     "name": "stdout",
     "output_type": "stream",
     "text": [
      "Checkpoint 710 saved !\n",
      "Epoch 711 finished ! Training Loss: 0.0772\n",
      "\n"
     ]
    },
    {
     "name": "stderr",
     "output_type": "stream",
     "text": [
      "\r",
      "  6%|▌         | 251/4539 [63:28:53<1095:34:12, 919.79s/it]"
     ]
    },
    {
     "name": "stdout",
     "output_type": "stream",
     "text": [
      "------- 1st valloss=0.0848\n",
      "\n",
      "Epoch 712 finished ! Training Loss: 0.0817\n",
      "\n"
     ]
    },
    {
     "name": "stderr",
     "output_type": "stream",
     "text": [
      "\r",
      "  6%|▌         | 252/4539 [63:44:10<1094:16:37, 918.92s/it]"
     ]
    },
    {
     "name": "stdout",
     "output_type": "stream",
     "text": [
      "------- 1st valloss=0.0672\n",
      "\n",
      "Epoch 713 finished ! Training Loss: 0.0801\n",
      "\n"
     ]
    },
    {
     "name": "stderr",
     "output_type": "stream",
     "text": [
      "\r",
      "  6%|▌         | 253/4539 [63:59:33<1095:41:55, 920.33s/it]"
     ]
    },
    {
     "name": "stdout",
     "output_type": "stream",
     "text": [
      "------- 1st valloss=0.0717\n",
      "\n",
      "Epoch 714 finished ! Training Loss: 0.0793\n",
      "\n"
     ]
    },
    {
     "name": "stderr",
     "output_type": "stream",
     "text": [
      "\r",
      "  6%|▌         | 254/4539 [64:14:54<1095:45:17, 920.59s/it]"
     ]
    },
    {
     "name": "stdout",
     "output_type": "stream",
     "text": [
      "------- 1st valloss=0.0603\n",
      "\n",
      "Epoch 715 finished ! Training Loss: 0.0763\n",
      "\n"
     ]
    },
    {
     "name": "stderr",
     "output_type": "stream",
     "text": [
      "\r",
      "  6%|▌         | 255/4539 [64:30:40<1104:35:27, 928.23s/it]"
     ]
    },
    {
     "name": "stdout",
     "output_type": "stream",
     "text": [
      "------- 1st valloss=0.0568\n",
      "\n",
      "Epoch 716 finished ! Training Loss: 0.0698\n",
      "\n"
     ]
    },
    {
     "name": "stderr",
     "output_type": "stream",
     "text": [
      "\r",
      "  6%|▌         | 256/4539 [64:45:56<1099:40:24, 924.31s/it]"
     ]
    },
    {
     "name": "stdout",
     "output_type": "stream",
     "text": [
      "------- 1st valloss=0.0582\n",
      "\n",
      "Epoch 717 finished ! Training Loss: 0.0711\n",
      "\n"
     ]
    },
    {
     "name": "stderr",
     "output_type": "stream",
     "text": [
      "\r",
      "  6%|▌         | 257/4539 [65:01:10<1095:50:19, 921.30s/it]"
     ]
    },
    {
     "name": "stdout",
     "output_type": "stream",
     "text": [
      "------- 1st valloss=0.0636\n",
      "\n",
      "Epoch 718 finished ! Training Loss: 0.0722\n",
      "\n"
     ]
    },
    {
     "name": "stderr",
     "output_type": "stream",
     "text": [
      "\r",
      "  6%|▌         | 258/4539 [65:16:40<1098:52:14, 924.07s/it]"
     ]
    },
    {
     "name": "stdout",
     "output_type": "stream",
     "text": [
      "------- 1st valloss=0.0536\n",
      "\n",
      "Epoch 719 finished ! Training Loss: 0.0727\n",
      "\n"
     ]
    },
    {
     "name": "stderr",
     "output_type": "stream",
     "text": [
      "\r",
      "  6%|▌         | 259/4539 [65:31:59<1096:45:44, 922.51s/it]"
     ]
    },
    {
     "name": "stdout",
     "output_type": "stream",
     "text": [
      "------- 1st valloss=0.0545\n",
      "\n",
      "Epoch 720 finished ! Training Loss: 0.0690\n",
      "\n",
      "------- 1st valloss=0.1034\n",
      "\n"
     ]
    },
    {
     "name": "stderr",
     "output_type": "stream",
     "text": [
      "\r",
      "  6%|▌         | 260/4539 [65:47:15<1093:57:36, 920.37s/it]"
     ]
    },
    {
     "name": "stdout",
     "output_type": "stream",
     "text": [
      "Checkpoint 720 saved !\n",
      "Epoch 721 finished ! Training Loss: 0.0717\n",
      "\n"
     ]
    },
    {
     "name": "stderr",
     "output_type": "stream",
     "text": [
      "\r",
      "  6%|▌         | 261/4539 [66:02:31<1092:11:59, 919.10s/it]"
     ]
    },
    {
     "name": "stdout",
     "output_type": "stream",
     "text": [
      "------- 1st valloss=0.0657\n",
      "\n",
      "Epoch 722 finished ! Training Loss: 0.0707\n",
      "\n"
     ]
    },
    {
     "name": "stderr",
     "output_type": "stream",
     "text": [
      "\r",
      "  6%|▌         | 262/4539 [66:17:37<1087:24:40, 915.29s/it]"
     ]
    },
    {
     "name": "stdout",
     "output_type": "stream",
     "text": [
      "------- 1st valloss=0.1483\n",
      "\n",
      "Epoch 723 finished ! Training Loss: 0.0766\n",
      "\n"
     ]
    },
    {
     "name": "stderr",
     "output_type": "stream",
     "text": [
      "\r",
      "  6%|▌         | 263/4539 [66:33:02<1090:29:58, 918.10s/it]"
     ]
    },
    {
     "name": "stdout",
     "output_type": "stream",
     "text": [
      "------- 1st valloss=0.0648\n",
      "\n",
      "Epoch 724 finished ! Training Loss: 0.0694\n",
      "\n"
     ]
    },
    {
     "name": "stderr",
     "output_type": "stream",
     "text": [
      "\r",
      "  6%|▌         | 264/4539 [66:48:13<1087:54:45, 916.14s/it]"
     ]
    },
    {
     "name": "stdout",
     "output_type": "stream",
     "text": [
      "------- 1st valloss=0.0665\n",
      "\n",
      "Epoch 725 finished ! Training Loss: 0.0735\n",
      "\n"
     ]
    },
    {
     "name": "stderr",
     "output_type": "stream",
     "text": [
      "\r",
      "  6%|▌         | 265/4539 [67:03:33<1089:05:14, 917.34s/it]"
     ]
    },
    {
     "name": "stdout",
     "output_type": "stream",
     "text": [
      "------- 1st valloss=0.0675\n",
      "\n",
      "Epoch 726 finished ! Training Loss: 0.0762\n",
      "\n"
     ]
    },
    {
     "name": "stderr",
     "output_type": "stream",
     "text": [
      "\r",
      "  6%|▌         | 266/4539 [67:19:09<1095:18:59, 922.80s/it]"
     ]
    },
    {
     "name": "stdout",
     "output_type": "stream",
     "text": [
      "------- 1st valloss=0.0920\n",
      "\n",
      "Epoch 727 finished ! Training Loss: 0.0756\n",
      "\n"
     ]
    },
    {
     "name": "stderr",
     "output_type": "stream",
     "text": [
      "\r",
      "  6%|▌         | 267/4539 [67:34:29<1093:54:14, 921.83s/it]"
     ]
    },
    {
     "name": "stdout",
     "output_type": "stream",
     "text": [
      "------- 1st valloss=0.0556\n",
      "\n",
      "Epoch 728 finished ! Training Loss: 0.0699\n",
      "\n"
     ]
    },
    {
     "name": "stderr",
     "output_type": "stream",
     "text": [
      "\r",
      "  6%|▌         | 268/4539 [67:50:07<1099:34:44, 926.83s/it]"
     ]
    },
    {
     "name": "stdout",
     "output_type": "stream",
     "text": [
      "------- 1st valloss=0.0681\n",
      "\n",
      "Epoch 729 finished ! Training Loss: 0.0692\n",
      "\n"
     ]
    },
    {
     "name": "stderr",
     "output_type": "stream",
     "text": [
      "\r",
      "  6%|▌         | 269/4539 [68:05:30<1097:50:46, 925.58s/it]"
     ]
    },
    {
     "name": "stdout",
     "output_type": "stream",
     "text": [
      "------- 1st valloss=0.0949\n",
      "\n",
      "Epoch 730 finished ! Training Loss: 0.0666\n",
      "\n",
      "------- 1st valloss=0.0643\n",
      "\n"
     ]
    },
    {
     "name": "stderr",
     "output_type": "stream",
     "text": [
      "\r",
      "  6%|▌         | 270/4539 [68:20:59<1098:49:16, 926.62s/it]"
     ]
    },
    {
     "name": "stdout",
     "output_type": "stream",
     "text": [
      "Checkpoint 730 saved !\n",
      "Epoch 731 finished ! Training Loss: 0.0676\n",
      "\n"
     ]
    },
    {
     "name": "stderr",
     "output_type": "stream",
     "text": [
      "\r",
      "  6%|▌         | 271/4539 [68:36:28<1099:38:20, 927.53s/it]"
     ]
    },
    {
     "name": "stdout",
     "output_type": "stream",
     "text": [
      "------- 1st valloss=0.0617\n",
      "\n",
      "Epoch 732 finished ! Training Loss: 0.0728\n",
      "\n"
     ]
    },
    {
     "name": "stderr",
     "output_type": "stream",
     "text": [
      "\r",
      "  6%|▌         | 272/4539 [68:51:59<1100:37:15, 928.58s/it]"
     ]
    },
    {
     "name": "stdout",
     "output_type": "stream",
     "text": [
      "------- 1st valloss=0.1010\n",
      "\n",
      "Epoch 733 finished ! Training Loss: 0.0680\n",
      "\n"
     ]
    },
    {
     "name": "stderr",
     "output_type": "stream",
     "text": [
      "\r",
      "  6%|▌         | 273/4539 [69:07:31<1101:34:04, 929.59s/it]"
     ]
    },
    {
     "name": "stdout",
     "output_type": "stream",
     "text": [
      "------- 1st valloss=0.0580\n",
      "\n",
      "Epoch 734 finished ! Training Loss: 0.0702\n",
      "\n"
     ]
    },
    {
     "name": "stderr",
     "output_type": "stream",
     "text": [
      "\r",
      "  6%|▌         | 274/4539 [69:22:40<1093:49:30, 923.28s/it]"
     ]
    },
    {
     "name": "stdout",
     "output_type": "stream",
     "text": [
      "------- 1st valloss=0.0575\n",
      "\n",
      "Epoch 735 finished ! Training Loss: 0.0688\n",
      "\n"
     ]
    },
    {
     "name": "stderr",
     "output_type": "stream",
     "text": [
      "\r",
      "  6%|▌         | 275/4539 [69:38:04<1093:55:15, 923.57s/it]"
     ]
    },
    {
     "name": "stdout",
     "output_type": "stream",
     "text": [
      "------- 1st valloss=0.0587\n",
      "\n",
      "Epoch 736 finished ! Training Loss: 0.0660\n",
      "\n"
     ]
    },
    {
     "name": "stderr",
     "output_type": "stream",
     "text": [
      "\r",
      "  6%|▌         | 276/4539 [69:53:36<1096:39:56, 926.11s/it]"
     ]
    },
    {
     "name": "stdout",
     "output_type": "stream",
     "text": [
      "------- 1st valloss=0.0755\n",
      "\n",
      "Epoch 737 finished ! Training Loss: 0.0700\n",
      "\n"
     ]
    },
    {
     "name": "stderr",
     "output_type": "stream",
     "text": [
      "\r",
      "  6%|▌         | 277/4539 [70:08:55<1093:56:43, 924.03s/it]"
     ]
    },
    {
     "name": "stdout",
     "output_type": "stream",
     "text": [
      "------- 1st valloss=0.0936\n",
      "\n",
      "Epoch 738 finished ! Training Loss: 0.0671\n",
      "\n"
     ]
    },
    {
     "name": "stderr",
     "output_type": "stream",
     "text": [
      "\r",
      "  6%|▌         | 278/4539 [70:24:23<1094:49:03, 924.98s/it]"
     ]
    },
    {
     "name": "stdout",
     "output_type": "stream",
     "text": [
      "------- 1st valloss=0.0711\n",
      "\n",
      "Epoch 739 finished ! Training Loss: 0.0670\n",
      "\n"
     ]
    },
    {
     "name": "stderr",
     "output_type": "stream",
     "text": [
      "\r",
      "  6%|▌         | 279/4539 [70:39:55<1097:11:47, 927.21s/it]"
     ]
    },
    {
     "name": "stdout",
     "output_type": "stream",
     "text": [
      "------- 1st valloss=0.0876\n",
      "\n",
      "Epoch 740 finished ! Training Loss: 0.0670\n",
      "\n",
      "------- 1st valloss=0.0678\n",
      "\n"
     ]
    },
    {
     "name": "stderr",
     "output_type": "stream",
     "text": [
      "\r",
      "  6%|▌         | 280/4539 [70:55:25<1097:44:07, 927.88s/it]"
     ]
    },
    {
     "name": "stdout",
     "output_type": "stream",
     "text": [
      "Checkpoint 740 saved !\n",
      "Epoch 741 finished ! Training Loss: 0.0651\n",
      "\n"
     ]
    },
    {
     "name": "stderr",
     "output_type": "stream",
     "text": [
      "\r",
      "  6%|▌         | 281/4539 [71:10:54<1098:12:51, 928.50s/it]"
     ]
    },
    {
     "name": "stdout",
     "output_type": "stream",
     "text": [
      "------- 1st valloss=0.0569\n",
      "\n",
      "Epoch 742 finished ! Training Loss: 0.0629\n",
      "\n"
     ]
    },
    {
     "name": "stderr",
     "output_type": "stream",
     "text": [
      "\r",
      "  6%|▌         | 282/4539 [71:26:15<1095:11:01, 926.16s/it]"
     ]
    },
    {
     "name": "stdout",
     "output_type": "stream",
     "text": [
      "------- 1st valloss=0.1082\n",
      "\n",
      "Epoch 743 finished ! Training Loss: 0.0661\n",
      "\n"
     ]
    },
    {
     "name": "stderr",
     "output_type": "stream",
     "text": [
      "\r",
      "  6%|▌         | 283/4539 [71:41:54<1099:30:48, 930.04s/it]"
     ]
    },
    {
     "name": "stdout",
     "output_type": "stream",
     "text": [
      "------- 1st valloss=0.0539\n",
      "\n",
      "Epoch 744 finished ! Training Loss: 0.0654\n",
      "\n"
     ]
    },
    {
     "name": "stderr",
     "output_type": "stream",
     "text": [
      "\r",
      "  6%|▋         | 284/4539 [71:57:30<1101:23:48, 931.85s/it]"
     ]
    },
    {
     "name": "stdout",
     "output_type": "stream",
     "text": [
      "------- 1st valloss=0.0548\n",
      "\n",
      "Epoch 745 finished ! Training Loss: 0.0677\n",
      "\n"
     ]
    },
    {
     "name": "stderr",
     "output_type": "stream",
     "text": [
      "\r",
      "  6%|▋         | 285/4539 [72:12:58<1099:29:50, 930.46s/it]"
     ]
    },
    {
     "name": "stdout",
     "output_type": "stream",
     "text": [
      "------- 1st valloss=0.0585\n",
      "\n",
      "Epoch 746 finished ! Training Loss: 0.0644\n",
      "\n"
     ]
    },
    {
     "name": "stderr",
     "output_type": "stream",
     "text": [
      "\r",
      "  6%|▋         | 286/4539 [72:28:37<1102:29:47, 933.22s/it]"
     ]
    },
    {
     "name": "stdout",
     "output_type": "stream",
     "text": [
      "------- 1st valloss=0.1392\n",
      "\n",
      "Epoch 747 finished ! Training Loss: 0.0637\n",
      "\n"
     ]
    },
    {
     "name": "stderr",
     "output_type": "stream",
     "text": [
      "\r",
      "  6%|▋         | 287/4539 [72:43:59<1098:13:24, 929.82s/it]"
     ]
    },
    {
     "name": "stdout",
     "output_type": "stream",
     "text": [
      "------- 1st valloss=0.1399\n",
      "\n",
      "Epoch 748 finished ! Training Loss: 0.0694\n",
      "\n"
     ]
    },
    {
     "name": "stderr",
     "output_type": "stream",
     "text": [
      "\r",
      "  6%|▋         | 288/4539 [72:59:21<1095:14:18, 927.51s/it]"
     ]
    },
    {
     "name": "stdout",
     "output_type": "stream",
     "text": [
      "------- 1st valloss=0.0577\n",
      "\n",
      "Epoch 749 finished ! Training Loss: 0.0697\n",
      "\n"
     ]
    },
    {
     "name": "stderr",
     "output_type": "stream",
     "text": [
      "\r",
      "  6%|▋         | 289/4539 [73:14:56<1097:28:05, 929.62s/it]"
     ]
    },
    {
     "name": "stdout",
     "output_type": "stream",
     "text": [
      "------- 1st valloss=0.0769\n",
      "\n",
      "Epoch 750 finished ! Training Loss: 0.0661\n",
      "\n",
      "------- 1st valloss=0.1443\n",
      "\n"
     ]
    },
    {
     "name": "stderr",
     "output_type": "stream",
     "text": [
      "\r",
      "  6%|▋         | 290/4539 [73:30:33<1099:57:09, 931.94s/it]"
     ]
    },
    {
     "name": "stdout",
     "output_type": "stream",
     "text": [
      "Checkpoint 750 saved !\n",
      "Epoch 751 finished ! Training Loss: 0.0648\n",
      "\n"
     ]
    },
    {
     "name": "stderr",
     "output_type": "stream",
     "text": [
      "\r",
      "  6%|▋         | 291/4539 [73:45:45<1092:31:44, 925.87s/it]"
     ]
    },
    {
     "name": "stdout",
     "output_type": "stream",
     "text": [
      "------- 1st valloss=0.0607\n",
      "\n",
      "Epoch 752 finished ! Training Loss: 0.0620\n",
      "\n"
     ]
    },
    {
     "name": "stderr",
     "output_type": "stream",
     "text": [
      "\r",
      "  6%|▋         | 292/4539 [74:01:04<1089:43:40, 923.72s/it]"
     ]
    },
    {
     "name": "stdout",
     "output_type": "stream",
     "text": [
      "------- 1st valloss=0.0750\n",
      "\n",
      "Epoch 753 finished ! Training Loss: 0.0625\n",
      "\n"
     ]
    },
    {
     "name": "stderr",
     "output_type": "stream",
     "text": [
      "\r",
      "  6%|▋         | 293/4539 [74:16:26<1088:52:02, 923.20s/it]"
     ]
    },
    {
     "name": "stdout",
     "output_type": "stream",
     "text": [
      "------- 1st valloss=0.0539\n",
      "\n",
      "Epoch 754 finished ! Training Loss: 0.0634\n",
      "\n"
     ]
    },
    {
     "name": "stderr",
     "output_type": "stream",
     "text": [
      "\r",
      "  6%|▋         | 294/4539 [74:31:39<1085:04:00, 920.20s/it]"
     ]
    },
    {
     "name": "stdout",
     "output_type": "stream",
     "text": [
      "------- 1st valloss=0.0978\n",
      "\n",
      "Epoch 755 finished ! Training Loss: 0.0627\n",
      "\n"
     ]
    },
    {
     "name": "stderr",
     "output_type": "stream",
     "text": [
      "\r",
      "  6%|▋         | 295/4539 [74:46:52<1082:18:25, 918.07s/it]"
     ]
    },
    {
     "name": "stdout",
     "output_type": "stream",
     "text": [
      "------- 1st valloss=0.0969\n",
      "\n",
      "Epoch 756 finished ! Training Loss: 0.0604\n",
      "\n"
     ]
    },
    {
     "name": "stderr",
     "output_type": "stream",
     "text": [
      "\r",
      "  7%|▋         | 296/4539 [75:02:10<1082:11:03, 918.19s/it]"
     ]
    },
    {
     "name": "stdout",
     "output_type": "stream",
     "text": [
      "------- 1st valloss=0.0545\n",
      "\n",
      "Epoch 757 finished ! Training Loss: 0.0613\n",
      "\n"
     ]
    },
    {
     "name": "stderr",
     "output_type": "stream",
     "text": [
      "\r",
      "  7%|▋         | 297/4539 [75:17:27<1081:25:58, 917.76s/it]"
     ]
    },
    {
     "name": "stdout",
     "output_type": "stream",
     "text": [
      "------- 1st valloss=0.0552\n",
      "\n",
      "Epoch 758 finished ! Training Loss: 0.0621\n",
      "\n"
     ]
    },
    {
     "name": "stderr",
     "output_type": "stream",
     "text": [
      "\r",
      "  7%|▋         | 298/4539 [75:32:54<1084:17:29, 920.41s/it]"
     ]
    },
    {
     "name": "stdout",
     "output_type": "stream",
     "text": [
      "------- 1st valloss=0.1032\n",
      "\n",
      "Epoch 759 finished ! Training Loss: 0.0648\n",
      "\n"
     ]
    },
    {
     "name": "stderr",
     "output_type": "stream",
     "text": [
      "\r",
      "  7%|▋         | 299/4539 [75:48:10<1082:42:58, 919.29s/it]"
     ]
    },
    {
     "name": "stdout",
     "output_type": "stream",
     "text": [
      "------- 1st valloss=0.0534\n",
      "\n",
      "Epoch 760 finished ! Training Loss: 0.0635\n",
      "\n",
      "------- 1st valloss=0.0599\n",
      "\n"
     ]
    },
    {
     "name": "stderr",
     "output_type": "stream",
     "text": [
      "\r",
      "  7%|▋         | 300/4539 [76:03:45<1087:46:52, 923.81s/it]"
     ]
    },
    {
     "name": "stdout",
     "output_type": "stream",
     "text": [
      "Checkpoint 760 saved !\n",
      "Epoch 761 finished ! Training Loss: 0.0611\n",
      "\n"
     ]
    },
    {
     "name": "stderr",
     "output_type": "stream",
     "text": [
      "\r",
      "  7%|▋         | 301/4539 [76:19:27<1093:53:51, 929.22s/it]"
     ]
    },
    {
     "name": "stdout",
     "output_type": "stream",
     "text": [
      "------- 1st valloss=0.1247\n",
      "\n",
      "Epoch 762 finished ! Training Loss: 0.0630\n",
      "\n"
     ]
    },
    {
     "name": "stderr",
     "output_type": "stream",
     "text": [
      "\r",
      "  7%|▋         | 302/4539 [76:34:40<1088:13:57, 924.63s/it]"
     ]
    },
    {
     "name": "stdout",
     "output_type": "stream",
     "text": [
      "------- 1st valloss=0.0549\n",
      "\n",
      "Epoch 763 finished ! Training Loss: 0.0652\n",
      "\n"
     ]
    },
    {
     "name": "stderr",
     "output_type": "stream",
     "text": [
      "\r",
      "  7%|▋         | 303/4539 [76:50:11<1089:54:16, 926.26s/it]"
     ]
    },
    {
     "name": "stdout",
     "output_type": "stream",
     "text": [
      "------- 1st valloss=0.0658\n",
      "\n",
      "Epoch 764 finished ! Training Loss: 0.0623\n",
      "\n"
     ]
    },
    {
     "name": "stderr",
     "output_type": "stream",
     "text": [
      "\r",
      "  7%|▋         | 304/4539 [77:05:40<1090:47:14, 927.23s/it]"
     ]
    },
    {
     "name": "stdout",
     "output_type": "stream",
     "text": [
      "------- 1st valloss=0.0783\n",
      "\n",
      "Epoch 765 finished ! Training Loss: 0.0600\n",
      "\n"
     ]
    },
    {
     "name": "stderr",
     "output_type": "stream",
     "text": [
      "\r",
      "  7%|▋         | 305/4539 [77:20:58<1087:12:28, 924.41s/it]"
     ]
    },
    {
     "name": "stdout",
     "output_type": "stream",
     "text": [
      "------- 1st valloss=0.0761\n",
      "\n",
      "Epoch 766 finished ! Training Loss: 0.0635\n",
      "\n"
     ]
    },
    {
     "name": "stderr",
     "output_type": "stream",
     "text": [
      "\r",
      "  7%|▋         | 306/4539 [77:36:15<1084:20:54, 922.20s/it]"
     ]
    },
    {
     "name": "stdout",
     "output_type": "stream",
     "text": [
      "------- 1st valloss=0.1106\n",
      "\n",
      "Epoch 767 finished ! Training Loss: 0.0650\n",
      "\n"
     ]
    },
    {
     "name": "stderr",
     "output_type": "stream",
     "text": [
      "\r",
      "  7%|▋         | 307/4539 [77:51:35<1083:18:59, 921.54s/it]"
     ]
    },
    {
     "name": "stdout",
     "output_type": "stream",
     "text": [
      "------- 1st valloss=0.0666\n",
      "\n",
      "Epoch 768 finished ! Training Loss: 0.0627\n",
      "\n"
     ]
    },
    {
     "name": "stderr",
     "output_type": "stream",
     "text": [
      "\r",
      "  7%|▋         | 308/4539 [78:07:20<1091:25:06, 928.65s/it]"
     ]
    },
    {
     "name": "stdout",
     "output_type": "stream",
     "text": [
      "------- 1st valloss=0.0623\n",
      "\n",
      "Epoch 769 finished ! Training Loss: 0.0625\n",
      "\n"
     ]
    },
    {
     "name": "stderr",
     "output_type": "stream",
     "text": [
      "\r",
      "  7%|▋         | 309/4539 [78:22:39<1087:51:27, 925.84s/it]"
     ]
    },
    {
     "name": "stdout",
     "output_type": "stream",
     "text": [
      "------- 1st valloss=0.0955\n",
      "\n",
      "Epoch 770 finished ! Training Loss: 0.0653\n",
      "\n",
      "------- 1st valloss=0.0576\n",
      "\n"
     ]
    },
    {
     "name": "stderr",
     "output_type": "stream",
     "text": [
      "\r",
      "  7%|▋         | 310/4539 [78:38:04<1087:09:07, 925.45s/it]"
     ]
    },
    {
     "name": "stdout",
     "output_type": "stream",
     "text": [
      "Checkpoint 770 saved !\n",
      "Epoch 771 finished ! Training Loss: 0.0636\n",
      "\n"
     ]
    },
    {
     "name": "stderr",
     "output_type": "stream",
     "text": [
      "\r",
      "  7%|▋         | 311/4539 [78:53:23<1084:37:15, 923.52s/it]"
     ]
    },
    {
     "name": "stdout",
     "output_type": "stream",
     "text": [
      "------- 1st valloss=0.0837\n",
      "\n",
      "Epoch 772 finished ! Training Loss: 0.0672\n",
      "\n"
     ]
    },
    {
     "name": "stderr",
     "output_type": "stream",
     "text": [
      "\r",
      "  7%|▋         | 312/4539 [79:08:36<1080:43:05, 920.41s/it]"
     ]
    },
    {
     "name": "stdout",
     "output_type": "stream",
     "text": [
      "------- 1st valloss=0.2583\n",
      "\n",
      "Epoch 773 finished ! Training Loss: 0.0815\n",
      "\n"
     ]
    },
    {
     "name": "stderr",
     "output_type": "stream",
     "text": [
      "\r",
      "  7%|▋         | 313/4539 [79:23:46<1076:44:00, 917.24s/it]"
     ]
    },
    {
     "name": "stdout",
     "output_type": "stream",
     "text": [
      "------- 1st valloss=0.0747\n",
      "\n",
      "Epoch 774 finished ! Training Loss: 0.0723\n",
      "\n"
     ]
    },
    {
     "name": "stderr",
     "output_type": "stream",
     "text": [
      "\r",
      "  7%|▋         | 314/4539 [79:39:12<1079:40:51, 919.96s/it]"
     ]
    },
    {
     "name": "stdout",
     "output_type": "stream",
     "text": [
      "------- 1st valloss=0.1122\n",
      "\n",
      "Epoch 775 finished ! Training Loss: 0.0622\n",
      "\n"
     ]
    },
    {
     "name": "stderr",
     "output_type": "stream",
     "text": [
      "\r",
      "  7%|▋         | 315/4539 [79:54:30<1078:44:45, 919.39s/it]"
     ]
    },
    {
     "name": "stdout",
     "output_type": "stream",
     "text": [
      "------- 1st valloss=0.0608\n",
      "\n",
      "Epoch 776 finished ! Training Loss: 0.0633\n",
      "\n"
     ]
    },
    {
     "name": "stderr",
     "output_type": "stream",
     "text": [
      "\r",
      "  7%|▋         | 316/4539 [80:10:01<1082:26:15, 922.75s/it]"
     ]
    },
    {
     "name": "stdout",
     "output_type": "stream",
     "text": [
      "------- 1st valloss=0.0692\n",
      "\n",
      "Epoch 777 finished ! Training Loss: 0.0608\n",
      "\n"
     ]
    },
    {
     "name": "stderr",
     "output_type": "stream",
     "text": [
      "\r",
      "  7%|▋         | 317/4539 [80:25:25<1082:38:22, 923.14s/it]"
     ]
    },
    {
     "name": "stdout",
     "output_type": "stream",
     "text": [
      "------- 1st valloss=0.2237\n",
      "\n",
      "Epoch 778 finished ! Training Loss: 0.0609\n",
      "\n"
     ]
    },
    {
     "name": "stderr",
     "output_type": "stream",
     "text": [
      "\r",
      "  7%|▋         | 318/4539 [80:40:44<1080:50:11, 921.82s/it]"
     ]
    },
    {
     "name": "stdout",
     "output_type": "stream",
     "text": [
      "------- 1st valloss=0.0563\n",
      "\n",
      "Epoch 779 finished ! Training Loss: 0.0598\n",
      "\n"
     ]
    },
    {
     "name": "stderr",
     "output_type": "stream",
     "text": [
      "\r",
      "  7%|▋         | 319/4539 [80:56:18<1084:55:01, 925.52s/it]"
     ]
    },
    {
     "name": "stdout",
     "output_type": "stream",
     "text": [
      "------- 1st valloss=0.2032\n",
      "\n",
      "Epoch 780 finished ! Training Loss: 0.0599\n",
      "\n",
      "------- 1st valloss=0.0526\n",
      "\n"
     ]
    },
    {
     "name": "stderr",
     "output_type": "stream",
     "text": [
      "\r",
      "  7%|▋         | 320/4539 [81:11:43<1084:23:45, 925.30s/it]"
     ]
    },
    {
     "name": "stdout",
     "output_type": "stream",
     "text": [
      "Checkpoint 780 saved !\n",
      "Epoch 781 finished ! Training Loss: 0.0634\n",
      "\n"
     ]
    },
    {
     "name": "stderr",
     "output_type": "stream",
     "text": [
      "\r",
      "  7%|▋         | 321/4539 [81:27:18<1087:34:57, 928.24s/it]"
     ]
    },
    {
     "name": "stdout",
     "output_type": "stream",
     "text": [
      "------- 1st valloss=0.1185\n",
      "\n",
      "Epoch 782 finished ! Training Loss: 0.0604\n",
      "\n"
     ]
    },
    {
     "name": "stderr",
     "output_type": "stream",
     "text": [
      "\r",
      "  7%|▋         | 322/4539 [81:42:43<1086:17:19, 927.35s/it]"
     ]
    },
    {
     "name": "stdout",
     "output_type": "stream",
     "text": [
      "------- 1st valloss=0.0629\n",
      "\n",
      "Epoch 783 finished ! Training Loss: 0.0604\n",
      "\n"
     ]
    },
    {
     "name": "stderr",
     "output_type": "stream",
     "text": [
      "\r",
      "  7%|▋         | 323/4539 [81:57:54<1080:13:25, 922.39s/it]"
     ]
    },
    {
     "name": "stdout",
     "output_type": "stream",
     "text": [
      "------- 1st valloss=0.0686\n",
      "\n",
      "Epoch 784 finished ! Training Loss: 0.0596\n",
      "\n"
     ]
    },
    {
     "name": "stderr",
     "output_type": "stream",
     "text": [
      "\r",
      "  7%|▋         | 324/4539 [82:13:15<1079:37:26, 922.10s/it]"
     ]
    },
    {
     "name": "stdout",
     "output_type": "stream",
     "text": [
      "------- 1st valloss=0.0543\n",
      "\n",
      "Epoch 785 finished ! Training Loss: 0.0584\n",
      "\n"
     ]
    },
    {
     "name": "stderr",
     "output_type": "stream",
     "text": [
      "\r",
      "  7%|▋         | 325/4539 [82:28:30<1076:54:19, 920.00s/it]"
     ]
    },
    {
     "name": "stdout",
     "output_type": "stream",
     "text": [
      "------- 1st valloss=0.0865\n",
      "\n",
      "Epoch 786 finished ! Training Loss: 0.0595\n",
      "\n"
     ]
    },
    {
     "name": "stderr",
     "output_type": "stream",
     "text": [
      "\r",
      "  7%|▋         | 326/4539 [82:44:19<1086:34:59, 928.48s/it]"
     ]
    },
    {
     "name": "stdout",
     "output_type": "stream",
     "text": [
      "------- 1st valloss=0.0545\n",
      "\n",
      "Epoch 787 finished ! Training Loss: 0.0593\n",
      "\n"
     ]
    },
    {
     "name": "stderr",
     "output_type": "stream",
     "text": [
      "\r",
      "  7%|▋         | 327/4539 [82:59:45<1085:35:12, 927.85s/it]"
     ]
    },
    {
     "name": "stdout",
     "output_type": "stream",
     "text": [
      "------- 1st valloss=0.0966\n",
      "\n",
      "Epoch 788 finished ! Training Loss: 0.0638\n",
      "\n"
     ]
    },
    {
     "name": "stderr",
     "output_type": "stream",
     "text": [
      "\r",
      "  7%|▋         | 328/4539 [83:15:22<1088:36:35, 930.66s/it]"
     ]
    },
    {
     "name": "stdout",
     "output_type": "stream",
     "text": [
      "------- 1st valloss=0.0590\n",
      "\n",
      "Epoch 789 finished ! Training Loss: 0.0612\n",
      "\n"
     ]
    },
    {
     "name": "stderr",
     "output_type": "stream",
     "text": [
      "\r",
      "  7%|▋         | 329/4539 [83:30:57<1089:52:43, 931.96s/it]"
     ]
    },
    {
     "name": "stdout",
     "output_type": "stream",
     "text": [
      "------- 1st valloss=0.1244\n",
      "\n",
      "Epoch 790 finished ! Training Loss: 0.0596\n",
      "\n",
      "------- 1st valloss=0.0520\n",
      "\n"
     ]
    },
    {
     "name": "stderr",
     "output_type": "stream",
     "text": [
      "\r",
      "  7%|▋         | 330/4539 [83:46:07<1081:45:11, 925.23s/it]"
     ]
    },
    {
     "name": "stdout",
     "output_type": "stream",
     "text": [
      "Checkpoint 790 saved !\n",
      "Epoch 791 finished ! Training Loss: 0.0586\n",
      "\n"
     ]
    },
    {
     "name": "stderr",
     "output_type": "stream",
     "text": [
      "\r",
      "  7%|▋         | 331/4539 [84:01:41<1084:49:09, 928.08s/it]"
     ]
    },
    {
     "name": "stdout",
     "output_type": "stream",
     "text": [
      "------- 1st valloss=0.0525\n",
      "\n",
      "Epoch 792 finished ! Training Loss: 0.0602\n",
      "\n"
     ]
    },
    {
     "name": "stderr",
     "output_type": "stream",
     "text": [
      "\r",
      "  7%|▋         | 332/4539 [84:17:10<1084:51:06, 928.33s/it]"
     ]
    },
    {
     "name": "stdout",
     "output_type": "stream",
     "text": [
      "------- 1st valloss=0.0548\n",
      "\n",
      "Epoch 793 finished ! Training Loss: 0.0615\n",
      "\n"
     ]
    },
    {
     "name": "stderr",
     "output_type": "stream",
     "text": [
      "\r",
      "  7%|▋         | 333/4539 [84:32:31<1082:03:15, 926.15s/it]"
     ]
    },
    {
     "name": "stdout",
     "output_type": "stream",
     "text": [
      "------- 1st valloss=0.0539\n",
      "\n",
      "Epoch 794 finished ! Training Loss: 0.0622\n",
      "\n"
     ]
    },
    {
     "name": "stderr",
     "output_type": "stream",
     "text": [
      "\r",
      "  7%|▋         | 334/4539 [84:48:01<1082:50:36, 927.05s/it]"
     ]
    },
    {
     "name": "stdout",
     "output_type": "stream",
     "text": [
      "------- 1st valloss=0.0614\n",
      "\n",
      "Epoch 795 finished ! Training Loss: 0.0618\n",
      "\n"
     ]
    },
    {
     "name": "stderr",
     "output_type": "stream",
     "text": [
      "\r",
      "  7%|▋         | 335/4539 [85:03:19<1079:29:50, 924.40s/it]"
     ]
    },
    {
     "name": "stdout",
     "output_type": "stream",
     "text": [
      "------- 1st valloss=0.0538\n",
      "\n",
      "Epoch 796 finished ! Training Loss: 0.0601\n",
      "\n"
     ]
    },
    {
     "name": "stderr",
     "output_type": "stream",
     "text": [
      "\r",
      "  7%|▋         | 336/4539 [85:18:29<1074:20:50, 920.21s/it]"
     ]
    },
    {
     "name": "stdout",
     "output_type": "stream",
     "text": [
      "------- 1st valloss=0.1032\n",
      "\n",
      "Epoch 797 finished ! Training Loss: 0.0597\n",
      "\n"
     ]
    },
    {
     "name": "stderr",
     "output_type": "stream",
     "text": [
      "\r",
      "  7%|▋         | 337/4539 [85:33:46<1073:01:45, 919.30s/it]"
     ]
    },
    {
     "name": "stdout",
     "output_type": "stream",
     "text": [
      "------- 1st valloss=0.0791\n",
      "\n",
      "Epoch 798 finished ! Training Loss: 0.0595\n",
      "\n"
     ]
    },
    {
     "name": "stderr",
     "output_type": "stream",
     "text": [
      "\r",
      "  7%|▋         | 338/4539 [85:48:58<1070:03:23, 916.97s/it]"
     ]
    },
    {
     "name": "stdout",
     "output_type": "stream",
     "text": [
      "------- 1st valloss=0.0749\n",
      "\n",
      "Epoch 799 finished ! Training Loss: 0.0585\n",
      "\n"
     ]
    },
    {
     "name": "stderr",
     "output_type": "stream",
     "text": [
      "\r",
      "  7%|▋         | 339/4539 [86:04:19<1071:16:39, 918.24s/it]"
     ]
    },
    {
     "name": "stdout",
     "output_type": "stream",
     "text": [
      "------- 1st valloss=0.0568\n",
      "\n",
      "Epoch 800 finished ! Training Loss: 0.0639\n",
      "\n",
      "------- 1st valloss=0.1781\n",
      "\n"
     ]
    },
    {
     "name": "stderr",
     "output_type": "stream",
     "text": [
      "\r",
      "  7%|▋         | 340/4539 [86:19:35<1070:06:41, 917.46s/it]"
     ]
    },
    {
     "name": "stdout",
     "output_type": "stream",
     "text": [
      "Checkpoint 800 saved !\n",
      "Epoch 801 finished ! Training Loss: 0.0581\n",
      "\n"
     ]
    },
    {
     "name": "stderr",
     "output_type": "stream",
     "text": [
      "\r",
      "  8%|▊         | 341/4539 [86:34:53<1070:01:24, 917.60s/it]"
     ]
    },
    {
     "name": "stdout",
     "output_type": "stream",
     "text": [
      "------- 1st valloss=0.1393\n",
      "\n",
      "Epoch 802 finished ! Training Loss: 0.0612\n",
      "\n"
     ]
    },
    {
     "name": "stderr",
     "output_type": "stream",
     "text": [
      "\r",
      "  8%|▊         | 342/4539 [86:50:18<1072:31:14, 919.96s/it]"
     ]
    },
    {
     "name": "stdout",
     "output_type": "stream",
     "text": [
      "------- 1st valloss=0.0737\n",
      "\n",
      "Epoch 803 finished ! Training Loss: 0.0598\n",
      "\n"
     ]
    },
    {
     "name": "stderr",
     "output_type": "stream",
     "text": [
      "\r",
      "  8%|▊         | 343/4539 [87:05:37<1071:54:37, 919.66s/it]"
     ]
    },
    {
     "name": "stdout",
     "output_type": "stream",
     "text": [
      "------- 1st valloss=0.1149\n",
      "\n",
      "Epoch 804 finished ! Training Loss: 0.0585\n",
      "\n"
     ]
    },
    {
     "name": "stderr",
     "output_type": "stream",
     "text": [
      "\r",
      "  8%|▊         | 344/4539 [87:20:54<1070:41:04, 918.82s/it]"
     ]
    },
    {
     "name": "stdout",
     "output_type": "stream",
     "text": [
      "------- 1st valloss=0.0675\n",
      "\n",
      "Epoch 805 finished ! Training Loss: 0.0596\n",
      "\n"
     ]
    },
    {
     "name": "stderr",
     "output_type": "stream",
     "text": [
      "\r",
      "  8%|▊         | 345/4539 [87:36:21<1073:23:52, 921.37s/it]"
     ]
    },
    {
     "name": "stdout",
     "output_type": "stream",
     "text": [
      "------- 1st valloss=0.0797\n",
      "\n",
      "Epoch 806 finished ! Training Loss: 0.0578\n",
      "\n"
     ]
    },
    {
     "name": "stderr",
     "output_type": "stream",
     "text": [
      "\r",
      "  8%|▊         | 346/4539 [87:52:04<1080:30:02, 927.69s/it]"
     ]
    },
    {
     "name": "stdout",
     "output_type": "stream",
     "text": [
      "------- 1st valloss=0.0521\n",
      "\n",
      "Epoch 807 finished ! Training Loss: 0.0605\n",
      "\n"
     ]
    },
    {
     "name": "stderr",
     "output_type": "stream",
     "text": [
      "\r",
      "  8%|▊         | 347/4539 [88:07:29<1079:29:07, 927.04s/it]"
     ]
    },
    {
     "name": "stdout",
     "output_type": "stream",
     "text": [
      "------- 1st valloss=0.0550\n",
      "\n",
      "Epoch 808 finished ! Training Loss: 0.0579\n",
      "\n"
     ]
    },
    {
     "name": "stderr",
     "output_type": "stream",
     "text": [
      "\r",
      "  8%|▊         | 348/4539 [88:23:03<1081:30:56, 929.00s/it]"
     ]
    },
    {
     "name": "stdout",
     "output_type": "stream",
     "text": [
      "------- 1st valloss=0.0562\n",
      "\n",
      "Epoch 809 finished ! Training Loss: 0.0604\n",
      "\n"
     ]
    },
    {
     "name": "stderr",
     "output_type": "stream",
     "text": [
      "\r",
      "  8%|▊         | 349/4539 [88:38:35<1082:19:04, 929.92s/it]"
     ]
    },
    {
     "name": "stdout",
     "output_type": "stream",
     "text": [
      "------- 1st valloss=0.0708\n",
      "\n",
      "Epoch 810 finished ! Training Loss: 0.0652\n",
      "\n",
      "------- 1st valloss=0.0610\n",
      "\n"
     ]
    },
    {
     "name": "stderr",
     "output_type": "stream",
     "text": [
      "\r",
      "  8%|▊         | 350/4539 [88:54:00<1080:16:13, 928.38s/it]"
     ]
    },
    {
     "name": "stdout",
     "output_type": "stream",
     "text": [
      "Checkpoint 810 saved !\n",
      "Epoch 811 finished ! Training Loss: 0.0593\n",
      "\n"
     ]
    },
    {
     "name": "stderr",
     "output_type": "stream",
     "text": [
      "\r",
      "  8%|▊         | 351/4539 [89:09:20<1077:13:21, 925.98s/it]"
     ]
    },
    {
     "name": "stdout",
     "output_type": "stream",
     "text": [
      "------- 1st valloss=0.1689\n",
      "\n",
      "Epoch 812 finished ! Training Loss: 0.0586\n",
      "\n"
     ]
    },
    {
     "name": "stderr",
     "output_type": "stream",
     "text": [
      "\r",
      "  8%|▊         | 352/4539 [89:24:40<1074:56:57, 924.25s/it]"
     ]
    },
    {
     "name": "stdout",
     "output_type": "stream",
     "text": [
      "------- 1st valloss=0.0665\n",
      "\n",
      "Epoch 813 finished ! Training Loss: 0.0609\n",
      "\n"
     ]
    },
    {
     "name": "stderr",
     "output_type": "stream",
     "text": [
      "\r",
      "  8%|▊         | 353/4539 [89:39:50<1069:46:06, 920.01s/it]"
     ]
    },
    {
     "name": "stdout",
     "output_type": "stream",
     "text": [
      "------- 1st valloss=0.0847\n",
      "\n",
      "Epoch 814 finished ! Training Loss: 0.0613\n",
      "\n"
     ]
    },
    {
     "name": "stderr",
     "output_type": "stream",
     "text": [
      "\r",
      "  8%|▊         | 354/4539 [89:55:15<1071:12:17, 921.47s/it]"
     ]
    },
    {
     "name": "stdout",
     "output_type": "stream",
     "text": [
      "------- 1st valloss=0.0546\n",
      "\n",
      "Epoch 815 finished ! Training Loss: 0.0629\n",
      "\n"
     ]
    },
    {
     "name": "stderr",
     "output_type": "stream",
     "text": [
      "\r",
      "  8%|▊         | 355/4539 [90:10:21<1065:20:18, 916.64s/it]"
     ]
    },
    {
     "name": "stdout",
     "output_type": "stream",
     "text": [
      "------- 1st valloss=0.0796\n",
      "\n",
      "Epoch 816 finished ! Training Loss: 0.0607\n",
      "\n"
     ]
    },
    {
     "name": "stderr",
     "output_type": "stream",
     "text": [
      "\r",
      "  8%|▊         | 356/4539 [90:25:51<1069:55:26, 920.80s/it]"
     ]
    },
    {
     "name": "stdout",
     "output_type": "stream",
     "text": [
      "------- 1st valloss=0.0751\n",
      "\n",
      "Epoch 817 finished ! Training Loss: 0.0583\n",
      "\n"
     ]
    },
    {
     "name": "stderr",
     "output_type": "stream",
     "text": [
      "\r",
      "  8%|▊         | 357/4539 [90:40:59<1064:59:38, 916.78s/it]"
     ]
    },
    {
     "name": "stdout",
     "output_type": "stream",
     "text": [
      "------- 1st valloss=0.0694\n",
      "\n",
      "Epoch 818 finished ! Training Loss: 0.0579\n",
      "\n"
     ]
    },
    {
     "name": "stderr",
     "output_type": "stream",
     "text": [
      "\r",
      "  8%|▊         | 358/4539 [90:56:30<1069:42:24, 921.06s/it]"
     ]
    },
    {
     "name": "stdout",
     "output_type": "stream",
     "text": [
      "------- 1st valloss=0.1032\n",
      "\n",
      "Epoch 819 finished ! Training Loss: 0.0650\n",
      "\n"
     ]
    },
    {
     "name": "stderr",
     "output_type": "stream",
     "text": [
      "\r",
      "  8%|▊         | 359/4539 [91:11:51<1069:31:01, 921.12s/it]"
     ]
    },
    {
     "name": "stdout",
     "output_type": "stream",
     "text": [
      "------- 1st valloss=0.3450\n",
      "\n",
      "Epoch 820 finished ! Training Loss: 0.0673\n",
      "\n",
      "------- 1st valloss=0.0681\n",
      "\n"
     ]
    },
    {
     "name": "stderr",
     "output_type": "stream",
     "text": [
      "\r",
      "  8%|▊         | 360/4539 [91:27:05<1067:00:43, 919.18s/it]"
     ]
    },
    {
     "name": "stdout",
     "output_type": "stream",
     "text": [
      "Checkpoint 820 saved !\n",
      "Epoch 821 finished ! Training Loss: 0.0619\n",
      "\n"
     ]
    },
    {
     "name": "stderr",
     "output_type": "stream",
     "text": [
      "\r",
      "  8%|▊         | 361/4539 [91:42:18<1064:20:21, 917.09s/it]"
     ]
    },
    {
     "name": "stdout",
     "output_type": "stream",
     "text": [
      "------- 1st valloss=0.0687\n",
      "\n",
      "Epoch 822 finished ! Training Loss: 0.0599\n",
      "\n"
     ]
    },
    {
     "name": "stderr",
     "output_type": "stream",
     "text": [
      "\r",
      "  8%|▊         | 362/4539 [91:57:29<1062:01:49, 915.32s/it]"
     ]
    },
    {
     "name": "stdout",
     "output_type": "stream",
     "text": [
      "------- 1st valloss=0.1217\n",
      "\n",
      "Epoch 823 finished ! Training Loss: 0.0579\n",
      "\n"
     ]
    },
    {
     "name": "stderr",
     "output_type": "stream",
     "text": [
      "\r",
      "  8%|▊         | 363/4539 [92:12:57<1066:06:43, 919.06s/it]"
     ]
    },
    {
     "name": "stdout",
     "output_type": "stream",
     "text": [
      "------- 1st valloss=0.1335\n",
      "\n",
      "Epoch 824 finished ! Training Loss: 0.0604\n",
      "\n"
     ]
    },
    {
     "name": "stderr",
     "output_type": "stream",
     "text": [
      "\r",
      "  8%|▊         | 364/4539 [92:28:15<1065:41:01, 918.91s/it]"
     ]
    },
    {
     "name": "stdout",
     "output_type": "stream",
     "text": [
      "------- 1st valloss=0.1683\n",
      "\n",
      "Epoch 825 finished ! Training Loss: 0.0613\n",
      "\n"
     ]
    },
    {
     "name": "stderr",
     "output_type": "stream",
     "text": [
      "\r",
      "  8%|▊         | 365/4539 [92:43:32<1064:44:04, 918.31s/it]"
     ]
    },
    {
     "name": "stdout",
     "output_type": "stream",
     "text": [
      "------- 1st valloss=0.0518\n",
      "\n",
      "Epoch 826 finished ! Training Loss: 0.0581\n",
      "\n"
     ]
    },
    {
     "name": "stderr",
     "output_type": "stream",
     "text": [
      "\r",
      "  8%|▊         | 366/4539 [92:58:54<1065:41:46, 919.36s/it]"
     ]
    },
    {
     "name": "stdout",
     "output_type": "stream",
     "text": [
      "------- 1st valloss=0.0553\n",
      "\n",
      "Epoch 827 finished ! Training Loss: 0.0627\n",
      "\n"
     ]
    },
    {
     "name": "stderr",
     "output_type": "stream",
     "text": [
      "\r",
      "  8%|▊         | 367/4539 [93:14:29<1070:46:52, 923.97s/it]"
     ]
    },
    {
     "name": "stdout",
     "output_type": "stream",
     "text": [
      "------- 1st valloss=0.1704\n",
      "\n",
      "Epoch 828 finished ! Training Loss: 0.0730\n",
      "\n"
     ]
    },
    {
     "name": "stderr",
     "output_type": "stream",
     "text": [
      "\r",
      "  8%|▊         | 368/4539 [93:30:03<1074:02:45, 927.01s/it]"
     ]
    },
    {
     "name": "stdout",
     "output_type": "stream",
     "text": [
      "------- 1st valloss=0.1317\n",
      "\n",
      "Epoch 829 finished ! Training Loss: 0.0632\n",
      "\n"
     ]
    },
    {
     "name": "stderr",
     "output_type": "stream",
     "text": [
      "\r",
      "  8%|▊         | 369/4539 [93:45:39<1077:07:47, 929.90s/it]"
     ]
    },
    {
     "name": "stdout",
     "output_type": "stream",
     "text": [
      "------- 1st valloss=0.0565\n",
      "\n",
      "Epoch 830 finished ! Training Loss: 0.0606\n",
      "\n",
      "------- 1st valloss=0.0543\n",
      "\n"
     ]
    },
    {
     "name": "stderr",
     "output_type": "stream",
     "text": [
      "\r",
      "  8%|▊         | 370/4539 [94:01:15<1079:00:25, 931.74s/it]"
     ]
    },
    {
     "name": "stdout",
     "output_type": "stream",
     "text": [
      "Checkpoint 830 saved !\n",
      "Epoch 831 finished ! Training Loss: 0.0616\n",
      "\n"
     ]
    },
    {
     "name": "stderr",
     "output_type": "stream",
     "text": [
      "\r",
      "  8%|▊         | 371/4539 [94:16:31<1073:03:18, 926.82s/it]"
     ]
    },
    {
     "name": "stdout",
     "output_type": "stream",
     "text": [
      "------- 1st valloss=0.0681\n",
      "\n",
      "Epoch 832 finished ! Training Loss: 0.0582\n",
      "\n"
     ]
    },
    {
     "name": "stderr",
     "output_type": "stream",
     "text": [
      "\r",
      "  8%|▊         | 372/4539 [94:32:15<1078:56:50, 932.14s/it]"
     ]
    },
    {
     "name": "stdout",
     "output_type": "stream",
     "text": [
      "------- 1st valloss=0.0629\n",
      "\n",
      "Epoch 833 finished ! Training Loss: 0.0595\n",
      "\n"
     ]
    },
    {
     "name": "stderr",
     "output_type": "stream",
     "text": [
      "\r",
      "  8%|▊         | 373/4539 [94:47:35<1074:28:35, 928.50s/it]"
     ]
    },
    {
     "name": "stdout",
     "output_type": "stream",
     "text": [
      "------- 1st valloss=0.0749\n",
      "\n",
      "Epoch 834 finished ! Training Loss: 0.0577\n",
      "\n"
     ]
    },
    {
     "name": "stderr",
     "output_type": "stream",
     "text": [
      "\r",
      "  8%|▊         | 374/4539 [95:03:02<1073:40:45, 928.03s/it]"
     ]
    },
    {
     "name": "stdout",
     "output_type": "stream",
     "text": [
      "------- 1st valloss=0.0556\n",
      "\n",
      "Epoch 835 finished ! Training Loss: 0.0588\n",
      "\n"
     ]
    },
    {
     "name": "stderr",
     "output_type": "stream",
     "text": [
      "\r",
      "  8%|▊         | 375/4539 [95:18:29<1072:55:25, 927.60s/it]"
     ]
    },
    {
     "name": "stdout",
     "output_type": "stream",
     "text": [
      "------- 1st valloss=0.0814\n",
      "\n",
      "Epoch 836 finished ! Training Loss: 0.0590\n",
      "\n"
     ]
    },
    {
     "name": "stderr",
     "output_type": "stream",
     "text": [
      "\r",
      "  8%|▊         | 376/4539 [95:33:55<1072:01:04, 927.04s/it]"
     ]
    },
    {
     "name": "stdout",
     "output_type": "stream",
     "text": [
      "------- 1st valloss=0.0627\n",
      "\n",
      "Epoch 837 finished ! Training Loss: 0.0580\n",
      "\n"
     ]
    },
    {
     "name": "stderr",
     "output_type": "stream",
     "text": [
      "\r",
      "  8%|▊         | 377/4539 [95:49:12<1068:23:17, 924.12s/it]"
     ]
    },
    {
     "name": "stdout",
     "output_type": "stream",
     "text": [
      "------- 1st valloss=0.0575\n",
      "\n",
      "Epoch 838 finished ! Training Loss: 0.0579\n",
      "\n"
     ]
    },
    {
     "name": "stderr",
     "output_type": "stream",
     "text": [
      "\r",
      "  8%|▊         | 378/4539 [96:04:47<1071:45:33, 927.26s/it]"
     ]
    },
    {
     "name": "stdout",
     "output_type": "stream",
     "text": [
      "------- 1st valloss=0.0966\n",
      "\n",
      "Epoch 839 finished ! Training Loss: 0.0568\n",
      "\n"
     ]
    },
    {
     "name": "stderr",
     "output_type": "stream",
     "text": [
      "\r",
      "  8%|▊         | 379/4539 [96:20:17<1072:28:14, 928.10s/it]"
     ]
    },
    {
     "name": "stdout",
     "output_type": "stream",
     "text": [
      "------- 1st valloss=0.0545\n",
      "\n",
      "Epoch 840 finished ! Training Loss: 0.0552\n",
      "\n",
      "------- 1st valloss=0.0796\n",
      "\n"
     ]
    },
    {
     "name": "stderr",
     "output_type": "stream",
     "text": [
      "\r",
      "  8%|▊         | 380/4539 [96:35:44<1071:55:52, 927.86s/it]"
     ]
    },
    {
     "name": "stdout",
     "output_type": "stream",
     "text": [
      "Checkpoint 840 saved !\n",
      "Epoch 841 finished ! Training Loss: 0.0578\n",
      "\n"
     ]
    },
    {
     "name": "stderr",
     "output_type": "stream",
     "text": [
      "\r",
      "  8%|▊         | 381/4539 [96:51:08<1070:27:57, 926.81s/it]"
     ]
    },
    {
     "name": "stdout",
     "output_type": "stream",
     "text": [
      "------- 1st valloss=0.0546\n",
      "\n",
      "Epoch 842 finished ! Training Loss: 0.0576\n",
      "\n"
     ]
    },
    {
     "name": "stderr",
     "output_type": "stream",
     "text": [
      "\r",
      "  8%|▊         | 382/4539 [97:06:44<1073:10:38, 929.38s/it]"
     ]
    },
    {
     "name": "stdout",
     "output_type": "stream",
     "text": [
      "------- 1st valloss=0.0580\n",
      "\n",
      "Epoch 843 finished ! Training Loss: 0.0580\n",
      "\n"
     ]
    },
    {
     "name": "stderr",
     "output_type": "stream",
     "text": [
      "\r",
      "  8%|▊         | 383/4539 [97:22:04<1069:40:55, 926.58s/it]"
     ]
    },
    {
     "name": "stdout",
     "output_type": "stream",
     "text": [
      "------- 1st valloss=0.1186\n",
      "\n",
      "Epoch 844 finished ! Training Loss: 0.0584\n",
      "\n"
     ]
    },
    {
     "name": "stderr",
     "output_type": "stream",
     "text": [
      "\r",
      "  8%|▊         | 384/4539 [97:37:23<1066:52:26, 924.37s/it]"
     ]
    },
    {
     "name": "stdout",
     "output_type": "stream",
     "text": [
      "------- 1st valloss=0.0908\n",
      "\n",
      "Epoch 845 finished ! Training Loss: 0.0572\n",
      "\n"
     ]
    },
    {
     "name": "stderr",
     "output_type": "stream",
     "text": [
      "\r",
      "  8%|▊         | 385/4539 [97:52:46<1066:00:25, 923.84s/it]"
     ]
    },
    {
     "name": "stdout",
     "output_type": "stream",
     "text": [
      "------- 1st valloss=0.0547\n",
      "\n",
      "Epoch 846 finished ! Training Loss: 0.0562\n",
      "\n"
     ]
    },
    {
     "name": "stderr",
     "output_type": "stream",
     "text": [
      "\r",
      "  9%|▊         | 386/4539 [98:08:02<1063:22:42, 921.78s/it]"
     ]
    },
    {
     "name": "stdout",
     "output_type": "stream",
     "text": [
      "------- 1st valloss=0.0782\n",
      "\n",
      "Epoch 847 finished ! Training Loss: 0.0569\n",
      "\n"
     ]
    },
    {
     "name": "stderr",
     "output_type": "stream",
     "text": [
      "\r",
      "  9%|▊         | 387/4539 [98:23:15<1059:48:03, 918.90s/it]"
     ]
    },
    {
     "name": "stdout",
     "output_type": "stream",
     "text": [
      "------- 1st valloss=0.0648\n",
      "\n",
      "Epoch 848 finished ! Training Loss: 0.0556\n",
      "\n"
     ]
    },
    {
     "name": "stderr",
     "output_type": "stream",
     "text": [
      "\r",
      "  9%|▊         | 388/4539 [98:38:50<1065:21:17, 923.94s/it]"
     ]
    },
    {
     "name": "stdout",
     "output_type": "stream",
     "text": [
      "------- 1st valloss=0.0783\n",
      "\n",
      "Epoch 849 finished ! Training Loss: 0.0561\n",
      "\n"
     ]
    },
    {
     "name": "stderr",
     "output_type": "stream",
     "text": [
      "\r",
      "  9%|▊         | 389/4539 [98:54:07<1062:28:44, 921.67s/it]"
     ]
    },
    {
     "name": "stdout",
     "output_type": "stream",
     "text": [
      "------- 1st valloss=0.0602\n",
      "\n",
      "Epoch 850 finished ! Training Loss: 0.0581\n",
      "\n",
      "------- 1st valloss=0.1144\n",
      "\n"
     ]
    },
    {
     "name": "stderr",
     "output_type": "stream",
     "text": [
      "\r",
      "  9%|▊         | 390/4539 [99:09:25<1061:00:18, 920.61s/it]"
     ]
    },
    {
     "name": "stdout",
     "output_type": "stream",
     "text": [
      "Checkpoint 850 saved !\n",
      "Epoch 851 finished ! Training Loss: 0.0653\n",
      "\n"
     ]
    },
    {
     "name": "stderr",
     "output_type": "stream",
     "text": [
      "\r",
      "  9%|▊         | 391/4539 [99:24:52<1062:54:12, 922.48s/it]"
     ]
    },
    {
     "name": "stdout",
     "output_type": "stream",
     "text": [
      "------- 1st valloss=0.0605\n",
      "\n",
      "Epoch 852 finished ! Training Loss: 0.0585\n",
      "\n"
     ]
    },
    {
     "name": "stderr",
     "output_type": "stream",
     "text": [
      "\r",
      "  9%|▊         | 392/4539 [99:40:14<1062:35:06, 922.43s/it]"
     ]
    },
    {
     "name": "stdout",
     "output_type": "stream",
     "text": [
      "------- 1st valloss=0.0895\n",
      "\n",
      "Epoch 853 finished ! Training Loss: 0.0560\n",
      "\n"
     ]
    },
    {
     "name": "stderr",
     "output_type": "stream",
     "text": [
      "\r",
      "  9%|▊         | 393/4539 [99:55:30<1059:57:52, 920.37s/it]"
     ]
    },
    {
     "name": "stdout",
     "output_type": "stream",
     "text": [
      "------- 1st valloss=0.0569\n",
      "\n",
      "Epoch 854 finished ! Training Loss: 0.0572\n",
      "\n"
     ]
    },
    {
     "name": "stderr",
     "output_type": "stream",
     "text": [
      "\r",
      "  9%|▊         | 394/4539 [100:10:57<1062:16:46, 922.61s/it]"
     ]
    },
    {
     "name": "stdout",
     "output_type": "stream",
     "text": [
      "------- 1st valloss=0.0548\n",
      "\n",
      "Epoch 855 finished ! Training Loss: 0.0560\n",
      "\n"
     ]
    },
    {
     "name": "stderr",
     "output_type": "stream",
     "text": [
      "\r",
      "  9%|▊         | 395/4539 [100:26:27<1064:36:02, 924.85s/it]"
     ]
    },
    {
     "name": "stdout",
     "output_type": "stream",
     "text": [
      "------- 1st valloss=0.0548\n",
      "\n",
      "Epoch 856 finished ! Training Loss: 0.0571\n",
      "\n"
     ]
    },
    {
     "name": "stderr",
     "output_type": "stream",
     "text": [
      "\r",
      "  9%|▊         | 396/4539 [100:41:46<1062:16:51, 923.05s/it]"
     ]
    },
    {
     "name": "stdout",
     "output_type": "stream",
     "text": [
      "------- 1st valloss=0.1093\n",
      "\n",
      "Epoch 857 finished ! Training Loss: 0.0579\n",
      "\n"
     ]
    },
    {
     "name": "stderr",
     "output_type": "stream",
     "text": [
      "\r",
      "  9%|▊         | 397/4539 [100:57:10<1062:03:22, 923.08s/it]"
     ]
    },
    {
     "name": "stdout",
     "output_type": "stream",
     "text": [
      "------- 1st valloss=0.0846\n",
      "\n",
      "Epoch 858 finished ! Training Loss: 0.0582\n",
      "\n"
     ]
    },
    {
     "name": "stderr",
     "output_type": "stream",
     "text": [
      "\r",
      "  9%|▉         | 398/4539 [101:12:30<1060:58:45, 922.37s/it]"
     ]
    },
    {
     "name": "stdout",
     "output_type": "stream",
     "text": [
      "------- 1st valloss=0.1570\n",
      "\n",
      "Epoch 859 finished ! Training Loss: 0.0561\n",
      "\n"
     ]
    },
    {
     "name": "stderr",
     "output_type": "stream",
     "text": [
      "\r",
      "  9%|▉         | 399/4539 [101:28:02<1063:56:55, 925.17s/it]"
     ]
    },
    {
     "name": "stdout",
     "output_type": "stream",
     "text": [
      "------- 1st valloss=0.1131\n",
      "\n",
      "Epoch 860 finished ! Training Loss: 0.0575\n",
      "\n",
      "------- 1st valloss=0.0800\n",
      "\n"
     ]
    },
    {
     "name": "stderr",
     "output_type": "stream",
     "text": [
      "\r",
      "  9%|▉         | 400/4539 [101:43:31<1064:56:08, 926.25s/it]"
     ]
    },
    {
     "name": "stdout",
     "output_type": "stream",
     "text": [
      "Checkpoint 860 saved !\n",
      "Epoch 861 finished ! Training Loss: 0.0561\n",
      "\n"
     ]
    },
    {
     "name": "stderr",
     "output_type": "stream",
     "text": [
      "\r",
      "  9%|▉         | 401/4539 [101:58:39<1058:28:53, 920.86s/it]"
     ]
    },
    {
     "name": "stdout",
     "output_type": "stream",
     "text": [
      "------- 1st valloss=0.1594\n",
      "\n",
      "Epoch 862 finished ! Training Loss: 0.0561\n",
      "\n"
     ]
    },
    {
     "name": "stderr",
     "output_type": "stream",
     "text": [
      "\r",
      "  9%|▉         | 402/4539 [102:13:55<1056:31:25, 919.38s/it]"
     ]
    },
    {
     "name": "stdout",
     "output_type": "stream",
     "text": [
      "------- 1st valloss=0.1210\n",
      "\n",
      "Epoch 863 finished ! Training Loss: 0.0572\n",
      "\n"
     ]
    },
    {
     "name": "stderr",
     "output_type": "stream",
     "text": [
      "\r",
      "  9%|▉         | 403/4539 [102:29:16<1056:42:38, 919.77s/it]"
     ]
    },
    {
     "name": "stdout",
     "output_type": "stream",
     "text": [
      "------- 1st valloss=0.0583\n",
      "\n",
      "Epoch 864 finished ! Training Loss: 0.0562\n",
      "\n"
     ]
    },
    {
     "name": "stderr",
     "output_type": "stream",
     "text": [
      "\r",
      "  9%|▉         | 404/4539 [102:44:39<1057:51:29, 920.99s/it]"
     ]
    },
    {
     "name": "stdout",
     "output_type": "stream",
     "text": [
      "------- 1st valloss=0.1484\n",
      "\n",
      "Epoch 865 finished ! Training Loss: 0.0575\n",
      "\n"
     ]
    },
    {
     "name": "stderr",
     "output_type": "stream",
     "text": [
      "\r",
      "  9%|▉         | 405/4539 [103:00:18<1063:35:09, 926.20s/it]"
     ]
    },
    {
     "name": "stdout",
     "output_type": "stream",
     "text": [
      "------- 1st valloss=0.0570\n",
      "\n",
      "Epoch 866 finished ! Training Loss: 0.0609\n",
      "\n"
     ]
    },
    {
     "name": "stderr",
     "output_type": "stream",
     "text": [
      "\r",
      "  9%|▉         | 406/4539 [103:15:49<1064:55:41, 927.59s/it]"
     ]
    },
    {
     "name": "stdout",
     "output_type": "stream",
     "text": [
      "------- 1st valloss=0.1173\n",
      "\n",
      "Epoch 867 finished ! Training Loss: 0.0572\n",
      "\n"
     ]
    },
    {
     "name": "stderr",
     "output_type": "stream",
     "text": [
      "\r",
      "  9%|▉         | 407/4539 [103:31:16<1064:37:04, 927.55s/it]"
     ]
    },
    {
     "name": "stdout",
     "output_type": "stream",
     "text": [
      "------- 1st valloss=0.0536\n",
      "\n",
      "Epoch 868 finished ! Training Loss: 0.0562\n",
      "\n"
     ]
    },
    {
     "name": "stderr",
     "output_type": "stream",
     "text": [
      "\r",
      "  9%|▉         | 408/4539 [103:46:48<1065:43:05, 928.73s/it]"
     ]
    },
    {
     "name": "stdout",
     "output_type": "stream",
     "text": [
      "------- 1st valloss=0.0554\n",
      "\n",
      "Epoch 869 finished ! Training Loss: 0.0551\n",
      "\n"
     ]
    },
    {
     "name": "stderr",
     "output_type": "stream",
     "text": [
      "\r",
      "  9%|▉         | 409/4539 [104:02:21<1066:55:52, 930.01s/it]"
     ]
    },
    {
     "name": "stdout",
     "output_type": "stream",
     "text": [
      "------- 1st valloss=0.0563\n",
      "\n",
      "Epoch 870 finished ! Training Loss: 0.0553\n",
      "\n",
      "------- 1st valloss=0.0536\n",
      "\n"
     ]
    },
    {
     "name": "stderr",
     "output_type": "stream",
     "text": [
      "\r",
      "  9%|▉         | 410/4539 [104:17:38<1062:25:36, 926.31s/it]"
     ]
    },
    {
     "name": "stdout",
     "output_type": "stream",
     "text": [
      "Checkpoint 870 saved !\n",
      "Epoch 871 finished ! Training Loss: 0.0560\n",
      "\n"
     ]
    },
    {
     "name": "stderr",
     "output_type": "stream",
     "text": [
      "\r",
      "  9%|▉         | 411/4539 [104:33:08<1063:26:45, 927.42s/it]"
     ]
    },
    {
     "name": "stdout",
     "output_type": "stream",
     "text": [
      "------- 1st valloss=0.0523\n",
      "\n",
      "Epoch 872 finished ! Training Loss: 0.0555\n",
      "\n"
     ]
    },
    {
     "name": "stderr",
     "output_type": "stream",
     "text": [
      "\r",
      "  9%|▉         | 412/4539 [104:48:53<1069:08:56, 932.62s/it]"
     ]
    },
    {
     "name": "stdout",
     "output_type": "stream",
     "text": [
      "------- 1st valloss=0.0545\n",
      "\n",
      "Epoch 873 finished ! Training Loss: 0.0544\n",
      "\n"
     ]
    },
    {
     "name": "stderr",
     "output_type": "stream",
     "text": [
      "\r",
      "  9%|▉         | 413/4539 [105:04:25<1068:41:49, 932.46s/it]"
     ]
    },
    {
     "name": "stdout",
     "output_type": "stream",
     "text": [
      "------- 1st valloss=0.1380\n",
      "\n",
      "Epoch 874 finished ! Training Loss: 0.0538\n",
      "\n"
     ]
    },
    {
     "name": "stderr",
     "output_type": "stream",
     "text": [
      "\r",
      "  9%|▉         | 414/4539 [105:20:01<1069:34:07, 933.44s/it]"
     ]
    },
    {
     "name": "stdout",
     "output_type": "stream",
     "text": [
      "------- 1st valloss=0.0653\n",
      "\n",
      "Epoch 875 finished ! Training Loss: 0.0571\n",
      "\n"
     ]
    },
    {
     "name": "stderr",
     "output_type": "stream",
     "text": [
      "\r",
      "  9%|▉         | 415/4539 [105:35:14<1062:11:51, 927.23s/it]"
     ]
    },
    {
     "name": "stdout",
     "output_type": "stream",
     "text": [
      "------- 1st valloss=0.0691\n",
      "\n",
      "Epoch 876 finished ! Training Loss: 0.0573\n",
      "\n"
     ]
    },
    {
     "name": "stderr",
     "output_type": "stream",
     "text": [
      "\r",
      "  9%|▉         | 416/4539 [105:50:28<1057:29:54, 923.36s/it]"
     ]
    },
    {
     "name": "stdout",
     "output_type": "stream",
     "text": [
      "------- 1st valloss=0.0650\n",
      "\n",
      "Epoch 877 finished ! Training Loss: 0.0564\n",
      "\n"
     ]
    },
    {
     "name": "stderr",
     "output_type": "stream",
     "text": [
      "\r",
      "  9%|▉         | 417/4539 [106:05:37<1052:28:10, 919.19s/it]"
     ]
    },
    {
     "name": "stdout",
     "output_type": "stream",
     "text": [
      "------- 1st valloss=0.1024\n",
      "\n",
      "Epoch 878 finished ! Training Loss: 0.0556\n",
      "\n"
     ]
    },
    {
     "name": "stderr",
     "output_type": "stream",
     "text": [
      "\r",
      "  9%|▉         | 418/4539 [106:21:04<1054:38:57, 921.31s/it]"
     ]
    },
    {
     "name": "stdout",
     "output_type": "stream",
     "text": [
      "------- 1st valloss=0.0517\n",
      "\n",
      "Epoch 879 finished ! Training Loss: 0.0559\n",
      "\n"
     ]
    },
    {
     "name": "stderr",
     "output_type": "stream",
     "text": [
      "\r",
      "  9%|▉         | 419/4539 [106:36:21<1053:08:31, 920.22s/it]"
     ]
    },
    {
     "name": "stdout",
     "output_type": "stream",
     "text": [
      "------- 1st valloss=0.1496\n",
      "\n",
      "Epoch 880 finished ! Training Loss: 0.0605\n",
      "\n",
      "------- 1st valloss=0.0606\n",
      "\n"
     ]
    },
    {
     "name": "stderr",
     "output_type": "stream",
     "text": [
      "\r",
      "  9%|▉         | 420/4539 [106:52:00<1059:10:22, 925.72s/it]"
     ]
    },
    {
     "name": "stdout",
     "output_type": "stream",
     "text": [
      "Checkpoint 880 saved !\n",
      "Epoch 881 finished ! Training Loss: 0.0562\n",
      "\n"
     ]
    },
    {
     "name": "stderr",
     "output_type": "stream",
     "text": [
      "\r",
      "  9%|▉         | 421/4539 [107:07:24<1058:22:53, 925.25s/it]"
     ]
    },
    {
     "name": "stdout",
     "output_type": "stream",
     "text": [
      "------- 1st valloss=0.0577\n",
      "\n",
      "Epoch 882 finished ! Training Loss: 0.0552\n",
      "\n"
     ]
    },
    {
     "name": "stderr",
     "output_type": "stream",
     "text": [
      "\r",
      "  9%|▉         | 422/4539 [107:22:35<1053:09:14, 920.90s/it]"
     ]
    },
    {
     "name": "stdout",
     "output_type": "stream",
     "text": [
      "------- 1st valloss=0.0920\n",
      "\n",
      "Epoch 883 finished ! Training Loss: 0.0563\n",
      "\n"
     ]
    },
    {
     "name": "stderr",
     "output_type": "stream",
     "text": [
      "\r",
      "  9%|▉         | 423/4539 [107:37:47<1049:54:10, 918.28s/it]"
     ]
    },
    {
     "name": "stdout",
     "output_type": "stream",
     "text": [
      "------- 1st valloss=0.0518\n",
      "\n",
      "Epoch 884 finished ! Training Loss: 0.0575\n",
      "\n"
     ]
    },
    {
     "name": "stderr",
     "output_type": "stream",
     "text": [
      "\r",
      "  9%|▉         | 424/4539 [107:53:05<1049:44:04, 918.36s/it]"
     ]
    },
    {
     "name": "stdout",
     "output_type": "stream",
     "text": [
      "------- 1st valloss=0.0643\n",
      "\n",
      "Epoch 885 finished ! Training Loss: 0.0583\n",
      "\n"
     ]
    },
    {
     "name": "stderr",
     "output_type": "stream",
     "text": [
      "\r",
      "  9%|▉         | 425/4539 [108:08:30<1051:46:24, 920.37s/it]"
     ]
    },
    {
     "name": "stdout",
     "output_type": "stream",
     "text": [
      "------- 1st valloss=0.0641\n",
      "\n",
      "Epoch 886 finished ! Training Loss: 0.0553\n",
      "\n"
     ]
    },
    {
     "name": "stderr",
     "output_type": "stream",
     "text": [
      "\r",
      "  9%|▉         | 426/4539 [108:23:52<1051:44:55, 920.57s/it]"
     ]
    },
    {
     "name": "stdout",
     "output_type": "stream",
     "text": [
      "------- 1st valloss=0.1771\n",
      "\n",
      "Epoch 887 finished ! Training Loss: 0.0553\n",
      "\n"
     ]
    },
    {
     "name": "stderr",
     "output_type": "stream",
     "text": [
      "\r",
      "  9%|▉         | 427/4539 [108:39:20<1054:14:43, 922.98s/it]"
     ]
    },
    {
     "name": "stdout",
     "output_type": "stream",
     "text": [
      "------- 1st valloss=0.0847\n",
      "\n",
      "Epoch 888 finished ! Training Loss: 0.0554\n",
      "\n"
     ]
    },
    {
     "name": "stderr",
     "output_type": "stream",
     "text": [
      "\r",
      "  9%|▉         | 428/4539 [108:54:41<1053:08:52, 922.24s/it]"
     ]
    },
    {
     "name": "stdout",
     "output_type": "stream",
     "text": [
      "------- 1st valloss=0.0526\n",
      "\n",
      "Epoch 889 finished ! Training Loss: 0.0562\n",
      "\n"
     ]
    },
    {
     "name": "stderr",
     "output_type": "stream",
     "text": [
      "\r",
      "  9%|▉         | 429/4539 [109:09:57<1050:53:41, 920.49s/it]"
     ]
    },
    {
     "name": "stdout",
     "output_type": "stream",
     "text": [
      "------- 1st valloss=0.1128\n",
      "\n",
      "Epoch 890 finished ! Training Loss: 0.0564\n",
      "\n",
      "------- 1st valloss=0.0754\n",
      "\n"
     ]
    },
    {
     "name": "stderr",
     "output_type": "stream",
     "text": [
      "\r",
      "  9%|▉         | 430/4539 [109:25:15<1049:43:04, 919.68s/it]"
     ]
    },
    {
     "name": "stdout",
     "output_type": "stream",
     "text": [
      "Checkpoint 890 saved !\n",
      "Epoch 891 finished ! Training Loss: 0.0547\n",
      "\n"
     ]
    },
    {
     "name": "stderr",
     "output_type": "stream",
     "text": [
      "\r",
      "  9%|▉         | 431/4539 [109:40:36<1049:54:30, 920.08s/it]"
     ]
    },
    {
     "name": "stdout",
     "output_type": "stream",
     "text": [
      "------- 1st valloss=0.0557\n",
      "\n",
      "Epoch 892 finished ! Training Loss: 0.0550\n",
      "\n"
     ]
    },
    {
     "name": "stderr",
     "output_type": "stream",
     "text": [
      "\r",
      " 10%|▉         | 432/4539 [109:55:44<1045:32:41, 916.47s/it]"
     ]
    },
    {
     "name": "stdout",
     "output_type": "stream",
     "text": [
      "------- 1st valloss=0.1689\n",
      "\n",
      "Epoch 893 finished ! Training Loss: 0.0582\n",
      "\n"
     ]
    },
    {
     "name": "stderr",
     "output_type": "stream",
     "text": [
      "\r",
      " 10%|▉         | 433/4539 [110:11:11<1049:02:53, 919.77s/it]"
     ]
    },
    {
     "name": "stdout",
     "output_type": "stream",
     "text": [
      "------- 1st valloss=0.1011\n",
      "\n",
      "Epoch 894 finished ! Training Loss: 0.0570\n",
      "\n"
     ]
    },
    {
     "name": "stderr",
     "output_type": "stream",
     "text": [
      "\r",
      " 10%|▉         | 434/4539 [110:26:14<1042:48:19, 914.52s/it]"
     ]
    },
    {
     "name": "stdout",
     "output_type": "stream",
     "text": [
      "------- 1st valloss=0.0704\n",
      "\n",
      "Epoch 895 finished ! Training Loss: 0.0582\n",
      "\n"
     ]
    },
    {
     "name": "stderr",
     "output_type": "stream",
     "text": [
      "\r",
      " 10%|▉         | 435/4539 [110:41:32<1044:01:02, 915.80s/it]"
     ]
    },
    {
     "name": "stdout",
     "output_type": "stream",
     "text": [
      "------- 1st valloss=0.0530\n",
      "\n",
      "Epoch 896 finished ! Training Loss: 0.0545\n",
      "\n"
     ]
    },
    {
     "name": "stderr",
     "output_type": "stream",
     "text": [
      "\r",
      " 10%|▉         | 436/4539 [110:56:52<1044:59:34, 916.88s/it]"
     ]
    },
    {
     "name": "stdout",
     "output_type": "stream",
     "text": [
      "------- 1st valloss=0.0846\n",
      "\n",
      "Epoch 897 finished ! Training Loss: 0.0551\n",
      "\n"
     ]
    },
    {
     "name": "stderr",
     "output_type": "stream",
     "text": [
      "\r",
      " 10%|▉         | 437/4539 [111:12:01<1042:04:25, 914.55s/it]"
     ]
    },
    {
     "name": "stdout",
     "output_type": "stream",
     "text": [
      "------- 1st valloss=0.1138\n",
      "\n",
      "Epoch 898 finished ! Training Loss: 0.0548\n",
      "\n"
     ]
    },
    {
     "name": "stderr",
     "output_type": "stream",
     "text": [
      "\r",
      " 10%|▉         | 438/4539 [111:27:25<1045:01:12, 917.35s/it]"
     ]
    },
    {
     "name": "stdout",
     "output_type": "stream",
     "text": [
      "------- 1st valloss=0.0827\n",
      "\n",
      "Epoch 899 finished ! Training Loss: 0.0553\n",
      "\n"
     ]
    },
    {
     "name": "stderr",
     "output_type": "stream",
     "text": [
      "\r",
      " 10%|▉         | 439/4539 [111:42:49<1047:00:13, 919.32s/it]"
     ]
    },
    {
     "name": "stdout",
     "output_type": "stream",
     "text": [
      "------- 1st valloss=0.0972\n",
      "\n",
      "Epoch 900 finished ! Training Loss: 0.0661\n",
      "\n",
      "------- 1st valloss=0.1335\n",
      "\n"
     ]
    },
    {
     "name": "stderr",
     "output_type": "stream",
     "text": [
      "\r",
      " 10%|▉         | 440/4539 [111:58:13<1048:21:46, 920.74s/it]"
     ]
    },
    {
     "name": "stdout",
     "output_type": "stream",
     "text": [
      "Checkpoint 900 saved !\n",
      "Epoch 901 finished ! Training Loss: 0.0783\n",
      "\n"
     ]
    },
    {
     "name": "stderr",
     "output_type": "stream",
     "text": [
      "\r",
      " 10%|▉         | 441/4539 [112:13:43<1051:20:09, 923.57s/it]"
     ]
    },
    {
     "name": "stdout",
     "output_type": "stream",
     "text": [
      "------- 1st valloss=0.2245\n",
      "\n",
      "Epoch 902 finished ! Training Loss: 0.0626\n",
      "\n"
     ]
    },
    {
     "name": "stderr",
     "output_type": "stream",
     "text": [
      "\r",
      " 10%|▉         | 442/4539 [112:29:01<1049:13:49, 921.95s/it]"
     ]
    },
    {
     "name": "stdout",
     "output_type": "stream",
     "text": [
      "------- 1st valloss=0.0796\n",
      "\n",
      "Epoch 903 finished ! Training Loss: 0.0610\n",
      "\n"
     ]
    },
    {
     "name": "stderr",
     "output_type": "stream",
     "text": [
      "\r",
      " 10%|▉         | 443/4539 [112:44:23<1048:58:12, 921.95s/it]"
     ]
    },
    {
     "name": "stdout",
     "output_type": "stream",
     "text": [
      "------- 1st valloss=0.0542\n",
      "\n",
      "Epoch 904 finished ! Training Loss: 0.0581\n",
      "\n"
     ]
    },
    {
     "name": "stderr",
     "output_type": "stream",
     "text": [
      "\r",
      " 10%|▉         | 444/4539 [112:59:41<1047:17:25, 920.69s/it]"
     ]
    },
    {
     "name": "stdout",
     "output_type": "stream",
     "text": [
      "------- 1st valloss=0.1039\n",
      "\n",
      "Epoch 905 finished ! Training Loss: 0.0580\n",
      "\n"
     ]
    },
    {
     "name": "stderr",
     "output_type": "stream",
     "text": [
      "\r",
      " 10%|▉         | 445/4539 [113:15:09<1049:37:34, 922.97s/it]"
     ]
    },
    {
     "name": "stdout",
     "output_type": "stream",
     "text": [
      "------- 1st valloss=0.0790\n",
      "\n",
      "Epoch 906 finished ! Training Loss: 0.0553\n",
      "\n"
     ]
    },
    {
     "name": "stderr",
     "output_type": "stream",
     "text": [
      "\r",
      " 10%|▉         | 446/4539 [113:30:27<1047:31:28, 921.35s/it]"
     ]
    },
    {
     "name": "stdout",
     "output_type": "stream",
     "text": [
      "------- 1st valloss=0.0747\n",
      "\n",
      "Epoch 907 finished ! Training Loss: 0.0599\n",
      "\n"
     ]
    },
    {
     "name": "stderr",
     "output_type": "stream",
     "text": [
      "\r",
      " 10%|▉         | 447/4539 [113:45:57<1050:26:28, 924.14s/it]"
     ]
    },
    {
     "name": "stdout",
     "output_type": "stream",
     "text": [
      "------- 1st valloss=0.0584\n",
      "\n",
      "Epoch 908 finished ! Training Loss: 0.0579\n",
      "\n"
     ]
    },
    {
     "name": "stderr",
     "output_type": "stream",
     "text": [
      "\r",
      " 10%|▉         | 448/4539 [114:01:10<1046:20:19, 920.76s/it]"
     ]
    },
    {
     "name": "stdout",
     "output_type": "stream",
     "text": [
      "------- 1st valloss=0.1321\n",
      "\n",
      "Epoch 909 finished ! Training Loss: 0.0552\n",
      "\n"
     ]
    },
    {
     "name": "stderr",
     "output_type": "stream",
     "text": [
      "\r",
      " 10%|▉         | 449/4539 [114:16:35<1047:21:22, 921.88s/it]"
     ]
    },
    {
     "name": "stdout",
     "output_type": "stream",
     "text": [
      "------- 1st valloss=0.0632\n",
      "\n",
      "Epoch 910 finished ! Training Loss: 0.0547\n",
      "\n",
      "------- 1st valloss=0.0584\n",
      "\n"
     ]
    },
    {
     "name": "stderr",
     "output_type": "stream",
     "text": [
      "\r",
      " 10%|▉         | 450/4539 [114:32:04<1049:34:05, 924.05s/it]"
     ]
    },
    {
     "name": "stdout",
     "output_type": "stream",
     "text": [
      "Checkpoint 910 saved !\n",
      "Epoch 911 finished ! Training Loss: 0.0551\n",
      "\n"
     ]
    },
    {
     "name": "stderr",
     "output_type": "stream",
     "text": [
      "\r",
      " 10%|▉         | 451/4539 [114:47:19<1046:11:34, 921.30s/it]"
     ]
    },
    {
     "name": "stdout",
     "output_type": "stream",
     "text": [
      "------- 1st valloss=0.1029\n",
      "\n",
      "Epoch 912 finished ! Training Loss: 0.0534\n",
      "\n"
     ]
    },
    {
     "name": "stderr",
     "output_type": "stream",
     "text": [
      "\r",
      " 10%|▉         | 452/4539 [115:02:28<1041:54:30, 917.76s/it]"
     ]
    },
    {
     "name": "stdout",
     "output_type": "stream",
     "text": [
      "------- 1st valloss=0.0645\n",
      "\n",
      "Epoch 913 finished ! Training Loss: 0.0543\n",
      "\n"
     ]
    },
    {
     "name": "stderr",
     "output_type": "stream",
     "text": [
      "\r",
      " 10%|▉         | 453/4539 [115:18:02<1047:11:37, 922.64s/it]"
     ]
    },
    {
     "name": "stdout",
     "output_type": "stream",
     "text": [
      "------- 1st valloss=0.0606\n",
      "\n",
      "Epoch 914 finished ! Training Loss: 0.0550\n",
      "\n"
     ]
    },
    {
     "name": "stderr",
     "output_type": "stream",
     "text": [
      "\r",
      " 10%|█         | 454/4539 [115:33:13<1043:03:17, 919.22s/it]"
     ]
    },
    {
     "name": "stdout",
     "output_type": "stream",
     "text": [
      "------- 1st valloss=0.0620\n",
      "\n",
      "Epoch 915 finished ! Training Loss: 0.0543\n",
      "\n"
     ]
    },
    {
     "name": "stderr",
     "output_type": "stream",
     "text": [
      "\r",
      " 10%|█         | 455/4539 [115:48:26<1040:25:06, 917.12s/it]"
     ]
    },
    {
     "name": "stdout",
     "output_type": "stream",
     "text": [
      "------- 1st valloss=0.0627\n",
      "\n",
      "Epoch 916 finished ! Training Loss: 0.0539\n",
      "\n"
     ]
    },
    {
     "name": "stderr",
     "output_type": "stream",
     "text": [
      "\r",
      " 10%|█         | 456/4539 [116:04:02<1046:45:10, 922.93s/it]"
     ]
    },
    {
     "name": "stdout",
     "output_type": "stream",
     "text": [
      "------- 1st valloss=0.1193\n",
      "\n",
      "Epoch 917 finished ! Training Loss: 0.0542\n",
      "\n"
     ]
    },
    {
     "name": "stderr",
     "output_type": "stream",
     "text": [
      "\r",
      " 10%|█         | 457/4539 [116:19:29<1047:39:00, 923.94s/it]"
     ]
    },
    {
     "name": "stdout",
     "output_type": "stream",
     "text": [
      "------- 1st valloss=0.0570\n",
      "\n",
      "Epoch 918 finished ! Training Loss: 0.0541\n",
      "\n"
     ]
    },
    {
     "name": "stderr",
     "output_type": "stream",
     "text": [
      "\r",
      " 10%|█         | 458/4539 [116:34:58<1049:22:51, 925.70s/it]"
     ]
    },
    {
     "name": "stdout",
     "output_type": "stream",
     "text": [
      "------- 1st valloss=0.0530\n",
      "\n",
      "Epoch 919 finished ! Training Loss: 0.0554\n",
      "\n"
     ]
    },
    {
     "name": "stderr",
     "output_type": "stream",
     "text": [
      "\r",
      " 10%|█         | 459/4539 [116:50:04<1042:18:41, 919.69s/it]"
     ]
    },
    {
     "name": "stdout",
     "output_type": "stream",
     "text": [
      "------- 1st valloss=0.0612\n",
      "\n",
      "Epoch 920 finished ! Training Loss: 0.0553\n",
      "\n",
      "------- 1st valloss=0.0511\n",
      "\n",
      "0.051125564814909645 less than 0.05146448152220767\n"
     ]
    },
    {
     "name": "stderr",
     "output_type": "stream",
     "text": [
      "\r",
      " 10%|█         | 460/4539 [117:05:38<1046:57:38, 924.02s/it]"
     ]
    },
    {
     "name": "stdout",
     "output_type": "stream",
     "text": [
      "Checkpoint 920 saved !\n",
      "Epoch 921 finished ! Training Loss: 0.0549\n",
      "\n"
     ]
    },
    {
     "name": "stderr",
     "output_type": "stream",
     "text": [
      "\r",
      " 10%|█         | 461/4539 [117:21:06<1047:58:19, 925.13s/it]"
     ]
    },
    {
     "name": "stdout",
     "output_type": "stream",
     "text": [
      "------- 1st valloss=0.0549\n",
      "\n",
      "Epoch 922 finished ! Training Loss: 0.0565\n",
      "\n"
     ]
    },
    {
     "name": "stderr",
     "output_type": "stream",
     "text": [
      "\r",
      " 10%|█         | 462/4539 [117:36:26<1046:02:44, 923.66s/it]"
     ]
    },
    {
     "name": "stdout",
     "output_type": "stream",
     "text": [
      "------- 1st valloss=0.0635\n",
      "\n",
      "Epoch 923 finished ! Training Loss: 0.0586\n",
      "\n"
     ]
    },
    {
     "name": "stderr",
     "output_type": "stream",
     "text": [
      "\r",
      " 10%|█         | 463/4539 [117:51:44<1043:56:44, 922.03s/it]"
     ]
    },
    {
     "name": "stdout",
     "output_type": "stream",
     "text": [
      "------- 1st valloss=0.0610\n",
      "\n",
      "Epoch 924 finished ! Training Loss: 0.0576\n",
      "\n"
     ]
    },
    {
     "name": "stderr",
     "output_type": "stream",
     "text": [
      "\r",
      " 10%|█         | 464/4539 [118:06:55<1039:43:58, 918.54s/it]"
     ]
    },
    {
     "name": "stdout",
     "output_type": "stream",
     "text": [
      "------- 1st valloss=0.0621\n",
      "\n",
      "Epoch 925 finished ! Training Loss: 0.0566\n",
      "\n"
     ]
    },
    {
     "name": "stderr",
     "output_type": "stream",
     "text": [
      "\r",
      " 10%|█         | 465/4539 [118:22:04<1036:23:07, 915.80s/it]"
     ]
    },
    {
     "name": "stdout",
     "output_type": "stream",
     "text": [
      "------- 1st valloss=0.1041\n",
      "\n",
      "Epoch 926 finished ! Training Loss: 0.0566\n",
      "\n"
     ]
    },
    {
     "name": "stderr",
     "output_type": "stream",
     "text": [
      "\r",
      " 10%|█         | 466/4539 [118:37:19<1035:43:53, 915.45s/it]"
     ]
    },
    {
     "name": "stdout",
     "output_type": "stream",
     "text": [
      "------- 1st valloss=0.0687\n",
      "\n",
      "Epoch 927 finished ! Training Loss: 0.0542\n",
      "\n"
     ]
    },
    {
     "name": "stderr",
     "output_type": "stream",
     "text": [
      "\r",
      " 10%|█         | 467/4539 [118:52:44<1038:55:38, 918.50s/it]"
     ]
    },
    {
     "name": "stdout",
     "output_type": "stream",
     "text": [
      "------- 1st valloss=0.1009\n",
      "\n",
      "Epoch 928 finished ! Training Loss: 0.0550\n",
      "\n"
     ]
    },
    {
     "name": "stderr",
     "output_type": "stream",
     "text": [
      "\r",
      " 10%|█         | 468/4539 [119:08:02<1038:22:22, 918.24s/it]"
     ]
    },
    {
     "name": "stdout",
     "output_type": "stream",
     "text": [
      "------- 1st valloss=0.0808\n",
      "\n",
      "Epoch 929 finished ! Training Loss: 0.0534\n",
      "\n"
     ]
    },
    {
     "name": "stderr",
     "output_type": "stream",
     "text": [
      "\r",
      " 10%|█         | 469/4539 [119:23:28<1040:37:02, 920.45s/it]"
     ]
    },
    {
     "name": "stdout",
     "output_type": "stream",
     "text": [
      "------- 1st valloss=0.0642\n",
      "\n",
      "Epoch 930 finished ! Training Loss: 0.0556\n",
      "\n",
      "------- 1st valloss=0.0550\n",
      "\n"
     ]
    },
    {
     "name": "stderr",
     "output_type": "stream",
     "text": [
      "\r",
      " 10%|█         | 470/4539 [119:38:45<1039:26:32, 919.63s/it]"
     ]
    },
    {
     "name": "stdout",
     "output_type": "stream",
     "text": [
      "Checkpoint 930 saved !\n",
      "Epoch 931 finished ! Training Loss: 0.0539\n",
      "\n"
     ]
    },
    {
     "name": "stderr",
     "output_type": "stream",
     "text": [
      "\r",
      " 10%|█         | 471/4539 [119:54:08<1040:18:22, 920.63s/it]"
     ]
    },
    {
     "name": "stdout",
     "output_type": "stream",
     "text": [
      "------- 1st valloss=0.1128\n",
      "\n",
      "Epoch 932 finished ! Training Loss: 0.0534\n",
      "\n"
     ]
    },
    {
     "name": "stderr",
     "output_type": "stream",
     "text": [
      "\r",
      " 10%|█         | 472/4539 [120:09:29<1040:14:58, 920.80s/it]"
     ]
    },
    {
     "name": "stdout",
     "output_type": "stream",
     "text": [
      "------- 1st valloss=0.0677\n",
      "\n",
      "Epoch 933 finished ! Training Loss: 0.0541\n",
      "\n"
     ]
    },
    {
     "name": "stderr",
     "output_type": "stream",
     "text": [
      "\r",
      " 10%|█         | 473/4539 [120:24:57<1042:25:42, 922.96s/it]"
     ]
    },
    {
     "name": "stdout",
     "output_type": "stream",
     "text": [
      "------- 1st valloss=0.0611\n",
      "\n",
      "Epoch 934 finished ! Training Loss: 0.0568\n",
      "\n"
     ]
    },
    {
     "name": "stderr",
     "output_type": "stream",
     "text": [
      "\r",
      " 10%|█         | 474/4539 [120:40:09<1038:24:54, 919.63s/it]"
     ]
    },
    {
     "name": "stdout",
     "output_type": "stream",
     "text": [
      "------- 1st valloss=0.0581\n",
      "\n",
      "Epoch 935 finished ! Training Loss: 0.0538\n",
      "\n"
     ]
    },
    {
     "name": "stderr",
     "output_type": "stream",
     "text": [
      "\r",
      " 10%|█         | 475/4539 [120:55:33<1039:36:11, 920.91s/it]"
     ]
    },
    {
     "name": "stdout",
     "output_type": "stream",
     "text": [
      "------- 1st valloss=0.0777\n",
      "\n",
      "Epoch 936 finished ! Training Loss: 0.0527\n",
      "\n"
     ]
    },
    {
     "name": "stderr",
     "output_type": "stream",
     "text": [
      "\r",
      " 10%|█         | 476/4539 [121:11:02<1042:07:03, 923.36s/it]"
     ]
    },
    {
     "name": "stdout",
     "output_type": "stream",
     "text": [
      "------- 1st valloss=0.0726\n",
      "\n",
      "Epoch 937 finished ! Training Loss: 0.0532\n",
      "\n"
     ]
    },
    {
     "name": "stderr",
     "output_type": "stream",
     "text": [
      "\r",
      " 11%|█         | 477/4539 [121:26:31<1043:42:37, 925.00s/it]"
     ]
    },
    {
     "name": "stdout",
     "output_type": "stream",
     "text": [
      "------- 1st valloss=0.1513\n",
      "\n",
      "Epoch 938 finished ! Training Loss: 0.0536\n",
      "\n"
     ]
    },
    {
     "name": "stderr",
     "output_type": "stream",
     "text": [
      "\r",
      " 11%|█         | 478/4539 [121:41:52<1042:04:39, 923.78s/it]"
     ]
    },
    {
     "name": "stdout",
     "output_type": "stream",
     "text": [
      "------- 1st valloss=0.1789\n",
      "\n",
      "Epoch 939 finished ! Training Loss: 0.0548\n",
      "\n"
     ]
    },
    {
     "name": "stderr",
     "output_type": "stream",
     "text": [
      "\r",
      " 11%|█         | 479/4539 [121:57:08<1039:08:31, 921.41s/it]"
     ]
    },
    {
     "name": "stdout",
     "output_type": "stream",
     "text": [
      "------- 1st valloss=0.0603\n",
      "\n",
      "Epoch 940 finished ! Training Loss: 0.0536\n",
      "\n",
      "------- 1st valloss=0.0565\n",
      "\n"
     ]
    },
    {
     "name": "stderr",
     "output_type": "stream",
     "text": [
      "\r",
      " 11%|█         | 480/4539 [122:12:29<1038:50:16, 921.36s/it]"
     ]
    },
    {
     "name": "stdout",
     "output_type": "stream",
     "text": [
      "Checkpoint 940 saved !\n",
      "Epoch 941 finished ! Training Loss: 0.0545\n",
      "\n"
     ]
    },
    {
     "name": "stderr",
     "output_type": "stream",
     "text": [
      "\r",
      " 11%|█         | 481/4539 [122:28:05<1043:29:42, 925.72s/it]"
     ]
    },
    {
     "name": "stdout",
     "output_type": "stream",
     "text": [
      "------- 1st valloss=0.0652\n",
      "\n",
      "Epoch 942 finished ! Training Loss: 0.0539\n",
      "\n"
     ]
    },
    {
     "name": "stderr",
     "output_type": "stream",
     "text": [
      "\r",
      " 11%|█         | 482/4539 [122:43:31<1043:13:37, 925.71s/it]"
     ]
    },
    {
     "name": "stdout",
     "output_type": "stream",
     "text": [
      "------- 1st valloss=0.0965\n",
      "\n",
      "Epoch 943 finished ! Training Loss: 0.0533\n",
      "\n"
     ]
    },
    {
     "name": "stderr",
     "output_type": "stream",
     "text": [
      "\r",
      " 11%|█         | 483/4539 [122:59:12<1048:09:51, 930.32s/it]"
     ]
    },
    {
     "name": "stdout",
     "output_type": "stream",
     "text": [
      "------- 1st valloss=0.0513\n",
      "\n",
      "Epoch 944 finished ! Training Loss: 0.0540\n",
      "\n"
     ]
    },
    {
     "name": "stderr",
     "output_type": "stream",
     "text": [
      "\r",
      " 11%|█         | 484/4539 [123:14:45<1048:56:36, 931.24s/it]"
     ]
    },
    {
     "name": "stdout",
     "output_type": "stream",
     "text": [
      "------- 1st valloss=0.0618\n",
      "\n",
      "Epoch 945 finished ! Training Loss: 0.0536\n",
      "\n"
     ]
    },
    {
     "name": "stderr",
     "output_type": "stream",
     "text": [
      "\r",
      " 11%|█         | 485/4539 [123:30:07<1045:37:25, 928.53s/it]"
     ]
    },
    {
     "name": "stdout",
     "output_type": "stream",
     "text": [
      "------- 1st valloss=0.0541\n",
      "\n",
      "Epoch 946 finished ! Training Loss: 0.0543\n",
      "\n"
     ]
    },
    {
     "name": "stderr",
     "output_type": "stream",
     "text": [
      "\r",
      " 11%|█         | 486/4539 [123:45:38<1046:01:52, 929.12s/it]"
     ]
    },
    {
     "name": "stdout",
     "output_type": "stream",
     "text": [
      "------- 1st valloss=0.0629\n",
      "\n",
      "Epoch 947 finished ! Training Loss: 0.0542\n",
      "\n"
     ]
    },
    {
     "name": "stderr",
     "output_type": "stream",
     "text": [
      "\r",
      " 11%|█         | 487/4539 [124:01:07<1045:40:21, 929.03s/it]"
     ]
    },
    {
     "name": "stdout",
     "output_type": "stream",
     "text": [
      "------- 1st valloss=0.0683\n",
      "\n",
      "Epoch 948 finished ! Training Loss: 0.0534\n",
      "\n"
     ]
    },
    {
     "name": "stderr",
     "output_type": "stream",
     "text": [
      "\r",
      " 11%|█         | 488/4539 [124:16:17<1039:11:59, 923.51s/it]"
     ]
    },
    {
     "name": "stdout",
     "output_type": "stream",
     "text": [
      "------- 1st valloss=0.1215\n",
      "\n",
      "Epoch 949 finished ! Training Loss: 0.0603\n",
      "\n"
     ]
    },
    {
     "name": "stderr",
     "output_type": "stream",
     "text": [
      "\r",
      " 11%|█         | 489/4539 [124:31:40<1038:34:55, 923.18s/it]"
     ]
    },
    {
     "name": "stdout",
     "output_type": "stream",
     "text": [
      "------- 1st valloss=0.1888\n",
      "\n",
      "Epoch 950 finished ! Training Loss: 0.0575\n",
      "\n",
      "------- 1st valloss=0.0912\n",
      "\n"
     ]
    },
    {
     "name": "stderr",
     "output_type": "stream",
     "text": [
      "\r",
      " 11%|█         | 490/4539 [124:46:58<1036:34:29, 921.63s/it]"
     ]
    },
    {
     "name": "stdout",
     "output_type": "stream",
     "text": [
      "Checkpoint 950 saved !\n",
      "Epoch 951 finished ! Training Loss: 0.0539\n",
      "\n"
     ]
    },
    {
     "name": "stderr",
     "output_type": "stream",
     "text": [
      "\r",
      " 11%|█         | 491/4539 [125:02:12<1033:46:43, 919.37s/it]"
     ]
    },
    {
     "name": "stdout",
     "output_type": "stream",
     "text": [
      "------- 1st valloss=0.1696\n",
      "\n",
      "Epoch 952 finished ! Training Loss: 0.0533\n",
      "\n"
     ]
    },
    {
     "name": "stderr",
     "output_type": "stream",
     "text": [
      "\r",
      " 11%|█         | 492/4539 [125:17:31<1033:20:10, 919.20s/it]"
     ]
    },
    {
     "name": "stdout",
     "output_type": "stream",
     "text": [
      "------- 1st valloss=0.0978\n",
      "\n",
      "Epoch 953 finished ! Training Loss: 0.0535\n",
      "\n"
     ]
    },
    {
     "name": "stderr",
     "output_type": "stream",
     "text": [
      "\r",
      " 11%|█         | 493/4539 [125:32:58<1035:39:30, 921.50s/it]"
     ]
    },
    {
     "name": "stdout",
     "output_type": "stream",
     "text": [
      "------- 1st valloss=0.1114\n",
      "\n",
      "Epoch 954 finished ! Training Loss: 0.0530\n",
      "\n"
     ]
    },
    {
     "name": "stderr",
     "output_type": "stream",
     "text": [
      "\r",
      " 11%|█         | 494/4539 [125:48:23<1036:44:15, 922.68s/it]"
     ]
    },
    {
     "name": "stdout",
     "output_type": "stream",
     "text": [
      "------- 1st valloss=0.0607\n",
      "\n",
      "Epoch 955 finished ! Training Loss: 0.0535\n",
      "\n"
     ]
    },
    {
     "name": "stderr",
     "output_type": "stream",
     "text": [
      "\r",
      " 11%|█         | 495/4539 [126:03:31<1031:32:04, 918.28s/it]"
     ]
    },
    {
     "name": "stdout",
     "output_type": "stream",
     "text": [
      "------- 1st valloss=0.0797\n",
      "\n",
      "Epoch 956 finished ! Training Loss: 0.0533\n",
      "\n"
     ]
    },
    {
     "name": "stderr",
     "output_type": "stream",
     "text": [
      "\r",
      " 11%|█         | 496/4539 [126:18:59<1034:28:42, 921.13s/it]"
     ]
    },
    {
     "name": "stdout",
     "output_type": "stream",
     "text": [
      "------- 1st valloss=0.0777\n",
      "\n",
      "Epoch 957 finished ! Training Loss: 0.0567\n",
      "\n"
     ]
    },
    {
     "name": "stderr",
     "output_type": "stream",
     "text": [
      "\r",
      " 11%|█         | 497/4539 [126:34:37<1040:08:53, 926.41s/it]"
     ]
    },
    {
     "name": "stdout",
     "output_type": "stream",
     "text": [
      "------- 1st valloss=0.1423\n",
      "\n",
      "Epoch 958 finished ! Training Loss: 0.0579\n",
      "\n"
     ]
    },
    {
     "name": "stderr",
     "output_type": "stream",
     "text": [
      "\r",
      " 11%|█         | 498/4539 [126:50:15<1043:38:28, 929.75s/it]"
     ]
    },
    {
     "name": "stdout",
     "output_type": "stream",
     "text": [
      "------- 1st valloss=0.0602\n",
      "\n",
      "Epoch 959 finished ! Training Loss: 0.0587\n",
      "\n"
     ]
    },
    {
     "name": "stderr",
     "output_type": "stream",
     "text": [
      "\r",
      " 11%|█         | 499/4539 [127:05:23<1036:03:34, 923.22s/it]"
     ]
    },
    {
     "name": "stdout",
     "output_type": "stream",
     "text": [
      "------- 1st valloss=0.1278\n",
      "\n",
      "Epoch 960 finished ! Training Loss: 0.0544\n",
      "\n",
      "------- 1st valloss=0.0762\n",
      "\n"
     ]
    },
    {
     "name": "stderr",
     "output_type": "stream",
     "text": [
      "\r",
      " 11%|█         | 500/4539 [127:20:47<1036:08:18, 923.52s/it]"
     ]
    },
    {
     "name": "stdout",
     "output_type": "stream",
     "text": [
      "Checkpoint 960 saved !\n",
      "Epoch 961 finished ! Training Loss: 0.0539\n",
      "\n"
     ]
    },
    {
     "name": "stderr",
     "output_type": "stream",
     "text": [
      "\r",
      " 11%|█         | 501/4539 [127:36:20<1039:00:53, 926.31s/it]"
     ]
    },
    {
     "name": "stdout",
     "output_type": "stream",
     "text": [
      "------- 1st valloss=0.1941\n",
      "\n",
      "Epoch 962 finished ! Training Loss: 0.0545\n",
      "\n"
     ]
    },
    {
     "name": "stderr",
     "output_type": "stream",
     "text": [
      "\r",
      " 11%|█         | 502/4539 [127:51:48<1039:26:33, 926.92s/it]"
     ]
    },
    {
     "name": "stdout",
     "output_type": "stream",
     "text": [
      "------- 1st valloss=0.1372\n",
      "\n",
      "Epoch 963 finished ! Training Loss: 0.0526\n",
      "\n"
     ]
    },
    {
     "name": "stderr",
     "output_type": "stream",
     "text": [
      "\r",
      " 11%|█         | 503/4539 [128:07:02<1034:39:00, 922.88s/it]"
     ]
    },
    {
     "name": "stdout",
     "output_type": "stream",
     "text": [
      "------- 1st valloss=0.0941\n",
      "\n",
      "Epoch 964 finished ! Training Loss: 0.0539\n",
      "\n"
     ]
    },
    {
     "name": "stderr",
     "output_type": "stream",
     "text": [
      "\r",
      " 11%|█         | 504/4539 [128:22:13<1030:31:35, 919.43s/it]"
     ]
    },
    {
     "name": "stdout",
     "output_type": "stream",
     "text": [
      "------- 1st valloss=0.0584\n",
      "\n",
      "Epoch 965 finished ! Training Loss: 0.0529\n",
      "\n"
     ]
    },
    {
     "name": "stderr",
     "output_type": "stream",
     "text": [
      "\r",
      " 11%|█         | 505/4539 [128:37:23<1027:06:05, 916.60s/it]"
     ]
    },
    {
     "name": "stdout",
     "output_type": "stream",
     "text": [
      "------- 1st valloss=0.1146\n",
      "\n",
      "Epoch 966 finished ! Training Loss: 0.0540\n",
      "\n"
     ]
    },
    {
     "name": "stderr",
     "output_type": "stream",
     "text": [
      "\r",
      " 11%|█         | 506/4539 [128:52:40<1026:47:46, 916.56s/it]"
     ]
    },
    {
     "name": "stdout",
     "output_type": "stream",
     "text": [
      "------- 1st valloss=0.0718\n",
      "\n",
      "Epoch 967 finished ! Training Loss: 0.0555\n",
      "\n"
     ]
    },
    {
     "name": "stderr",
     "output_type": "stream",
     "text": [
      "\r",
      " 11%|█         | 507/4539 [129:08:03<1028:43:19, 918.50s/it]"
     ]
    },
    {
     "name": "stdout",
     "output_type": "stream",
     "text": [
      "------- 1st valloss=0.1645\n",
      "\n",
      "Epoch 968 finished ! Training Loss: 0.0537\n",
      "\n"
     ]
    },
    {
     "name": "stderr",
     "output_type": "stream",
     "text": [
      "\r",
      " 11%|█         | 508/4539 [129:23:25<1029:53:11, 919.77s/it]"
     ]
    },
    {
     "name": "stdout",
     "output_type": "stream",
     "text": [
      "------- 1st valloss=0.1133\n",
      "\n",
      "Epoch 969 finished ! Training Loss: 0.0564\n",
      "\n"
     ]
    },
    {
     "name": "stderr",
     "output_type": "stream",
     "text": [
      "\r",
      " 11%|█         | 509/4539 [129:38:58<1034:04:50, 923.74s/it]"
     ]
    },
    {
     "name": "stdout",
     "output_type": "stream",
     "text": [
      "------- 1st valloss=0.1104\n",
      "\n",
      "Epoch 970 finished ! Training Loss: 0.0528\n",
      "\n",
      "------- 1st valloss=0.1097\n",
      "\n"
     ]
    },
    {
     "name": "stderr",
     "output_type": "stream",
     "text": [
      "\r",
      " 11%|█         | 510/4539 [129:54:20<1033:02:52, 923.05s/it]"
     ]
    },
    {
     "name": "stdout",
     "output_type": "stream",
     "text": [
      "Checkpoint 970 saved !\n",
      "Epoch 971 finished ! Training Loss: 0.0532\n",
      "\n"
     ]
    },
    {
     "name": "stderr",
     "output_type": "stream",
     "text": [
      "\r",
      " 11%|█▏        | 511/4539 [130:09:54<1036:26:46, 926.32s/it]"
     ]
    },
    {
     "name": "stdout",
     "output_type": "stream",
     "text": [
      "------- 1st valloss=0.0730\n",
      "\n",
      "Epoch 972 finished ! Training Loss: 0.0535\n",
      "\n"
     ]
    },
    {
     "name": "stderr",
     "output_type": "stream",
     "text": [
      "\r",
      " 11%|█▏        | 512/4539 [130:25:03<1030:18:34, 921.06s/it]"
     ]
    },
    {
     "name": "stdout",
     "output_type": "stream",
     "text": [
      "------- 1st valloss=0.0535\n",
      "\n",
      "Epoch 973 finished ! Training Loss: 0.0528\n",
      "\n"
     ]
    },
    {
     "name": "stderr",
     "output_type": "stream",
     "text": [
      "\r",
      " 11%|█▏        | 513/4539 [130:40:11<1025:45:34, 917.22s/it]"
     ]
    },
    {
     "name": "stdout",
     "output_type": "stream",
     "text": [
      "------- 1st valloss=0.0676\n",
      "\n",
      "Epoch 974 finished ! Training Loss: 0.0526\n",
      "\n"
     ]
    },
    {
     "name": "stderr",
     "output_type": "stream",
     "text": [
      "\r",
      " 11%|█▏        | 514/4539 [130:55:22<1023:33:58, 915.49s/it]"
     ]
    },
    {
     "name": "stdout",
     "output_type": "stream",
     "text": [
      "------- 1st valloss=0.0857\n",
      "\n",
      "Epoch 975 finished ! Training Loss: 0.0527\n",
      "\n"
     ]
    },
    {
     "name": "stderr",
     "output_type": "stream",
     "text": [
      "\r",
      " 11%|█▏        | 515/4539 [131:10:35<1022:22:23, 914.65s/it]"
     ]
    },
    {
     "name": "stdout",
     "output_type": "stream",
     "text": [
      "------- 1st valloss=0.1537\n",
      "\n",
      "Epoch 976 finished ! Training Loss: 0.0532\n",
      "\n"
     ]
    },
    {
     "name": "stderr",
     "output_type": "stream",
     "text": [
      "\r",
      " 11%|█▏        | 516/4539 [131:25:58<1024:44:37, 917.00s/it]"
     ]
    },
    {
     "name": "stdout",
     "output_type": "stream",
     "text": [
      "------- 1st valloss=0.0551\n",
      "\n",
      "Epoch 977 finished ! Training Loss: 0.0527\n",
      "\n"
     ]
    },
    {
     "name": "stderr",
     "output_type": "stream",
     "text": [
      "\r",
      " 11%|█▏        | 517/4539 [131:41:25<1028:08:39, 920.27s/it]"
     ]
    },
    {
     "name": "stdout",
     "output_type": "stream",
     "text": [
      "------- 1st valloss=0.0685\n",
      "\n",
      "Epoch 978 finished ! Training Loss: 0.0544\n",
      "\n"
     ]
    },
    {
     "name": "stderr",
     "output_type": "stream",
     "text": [
      "\r",
      " 11%|█▏        | 518/4539 [131:56:56<1031:25:28, 923.43s/it]"
     ]
    },
    {
     "name": "stdout",
     "output_type": "stream",
     "text": [
      "------- 1st valloss=0.0704\n",
      "\n",
      "Epoch 979 finished ! Training Loss: 0.0520\n",
      "\n"
     ]
    },
    {
     "name": "stderr",
     "output_type": "stream",
     "text": [
      "\r",
      " 11%|█▏        | 519/4539 [132:12:04<1026:00:25, 918.81s/it]"
     ]
    },
    {
     "name": "stdout",
     "output_type": "stream",
     "text": [
      "------- 1st valloss=0.0594\n",
      "\n",
      "Epoch 980 finished ! Training Loss: 0.0521\n",
      "\n",
      "------- 1st valloss=0.1355\n",
      "\n"
     ]
    },
    {
     "name": "stderr",
     "output_type": "stream",
     "text": [
      "\r",
      " 11%|█▏        | 520/4539 [132:27:29<1027:50:51, 920.69s/it]"
     ]
    },
    {
     "name": "stdout",
     "output_type": "stream",
     "text": [
      "Checkpoint 980 saved !\n",
      "Epoch 981 finished ! Training Loss: 0.0529\n",
      "\n"
     ]
    },
    {
     "name": "stderr",
     "output_type": "stream",
     "text": [
      "\r",
      " 11%|█▏        | 521/4539 [132:43:01<1031:10:39, 923.90s/it]"
     ]
    },
    {
     "name": "stdout",
     "output_type": "stream",
     "text": [
      "------- 1st valloss=0.0627\n",
      "\n",
      "Epoch 982 finished ! Training Loss: 0.0532\n",
      "\n"
     ]
    },
    {
     "name": "stderr",
     "output_type": "stream",
     "text": [
      "\r",
      " 12%|█▏        | 522/4539 [132:58:02<1023:27:04, 917.21s/it]"
     ]
    },
    {
     "name": "stdout",
     "output_type": "stream",
     "text": [
      "------- 1st valloss=0.0851\n",
      "\n",
      "Epoch 983 finished ! Training Loss: 0.0522\n",
      "\n"
     ]
    },
    {
     "name": "stderr",
     "output_type": "stream",
     "text": [
      "\r",
      " 12%|█▏        | 523/4539 [133:13:39<1029:49:09, 923.14s/it]"
     ]
    },
    {
     "name": "stdout",
     "output_type": "stream",
     "text": [
      "------- 1st valloss=0.0537\n",
      "\n",
      "Epoch 984 finished ! Training Loss: 0.0539\n",
      "\n"
     ]
    },
    {
     "name": "stderr",
     "output_type": "stream",
     "text": [
      "\r",
      " 12%|█▏        | 524/4539 [133:29:08<1031:20:09, 924.73s/it]"
     ]
    },
    {
     "name": "stdout",
     "output_type": "stream",
     "text": [
      "------- 1st valloss=0.1172\n",
      "\n",
      "Epoch 985 finished ! Training Loss: 0.0522\n",
      "\n"
     ]
    },
    {
     "name": "stderr",
     "output_type": "stream",
     "text": [
      "\r",
      " 12%|█▏        | 525/4539 [133:44:27<1029:06:21, 922.96s/it]"
     ]
    },
    {
     "name": "stdout",
     "output_type": "stream",
     "text": [
      "------- 1st valloss=0.1286\n",
      "\n"
     ]
    }
   ],
   "source": [
    "epochs = 5000\n",
    "\n",
    "min_val = 1\n",
    "\n",
    "record = open('train_deeplab_output_8_modified_elu.txt','a+')\n",
    "\n",
    "logger = {'train':[], 'validation_1': []}\n",
    "\n",
    "for e in tqdm(range(epoch + 1, epochs)):\n",
    "# iter over epoches\n",
    "\n",
    "    epoch_loss = 0\n",
    "        \n",
    "    for t, batch in enumerate(train_loader):\n",
    "    # iter over the train mini batches\n",
    "    \n",
    "        deeplab.train()\n",
    "        # Set the model flag to train\n",
    "        # 1. enable dropout\n",
    "        # 2. batchnorm behave differently in train and test\n",
    "        \n",
    "        image_1 = batch['image1_data'].to(device=device, dtype=dtype)\n",
    "        label_1 = batch['image1_label'].to(device=device, dtype=dtype)\n",
    "        # move data to device, convert dtype to desirable dtype\n",
    "        \n",
    "        out_1 = deeplab(image_1)\n",
    "        # do the inference\n",
    "        \n",
    "        del image_1\n",
    "        torch.cuda.empty_cache()\n",
    "\n",
    "        loss_1 = dice_loss_3(out_1, label_1)\n",
    "        # calculate loss\n",
    "        \n",
    "        epoch_loss += loss_1.item()\n",
    "        # record minibatch loss to epoch loss\n",
    "        \n",
    "        optimizer.zero_grad()\n",
    "        # set the model parameter gradient to zero\n",
    "        \n",
    "        loss_1.backward()\n",
    "        # calculate the gradient wrt loss\n",
    "        optimizer.step()\n",
    "        #scheduler.step(loss_1)\n",
    "        # take a gradient descent step\n",
    "        \n",
    "    outstr = 'Epoch {0} finished ! Training Loss: {1:.4f}'.format(e, epoch_loss/(t+1)) + '\\n'\n",
    "    \n",
    "    logger['train'].append(epoch_loss/(t+1))\n",
    "    \n",
    "    print(outstr)\n",
    "    record.write(outstr)\n",
    "    record.flush()\n",
    "    \n",
    "    if (e <= 150 and e%5 == 0) or (e > 150 and e <= 550 and e%3 == 0) or (e > 550 and e%1 == 0):\n",
    "        # do validation every 5 epoches\n",
    "\n",
    "            deeplab.eval()\n",
    "            # set model flag to eval\n",
    "            # 1. disable dropout\n",
    "            # 2. batchnorm behave differs\n",
    "\n",
    "            with torch.no_grad():\n",
    "            # stop taking gradient\n",
    "\n",
    "                #valloss_4 = 0\n",
    "                #valloss_2 = 0\n",
    "                valloss_1 = 0\n",
    "\n",
    "                for v, vbatch in enumerate(validation_loader):\n",
    "                # iter over validation mini batches\n",
    "\n",
    "                    image_1_val = vbatch['image1_data'].to(device=device, dtype=dtype)\n",
    "                    if get_dimensions(image_1_val) == 4:\n",
    "                        image_1_val.unsqueeze_(0)\n",
    "                    label_1_val = vbatch['image1_label'].to(device=device, dtype=dtype)\n",
    "                    if get_dimensions(label_1_val) == 4:\n",
    "                        label_1_val.unsqueeze_(0)\n",
    "                    # move data to device, convert dtype to desirable dtype\n",
    "                    # add one dimension to labels if they are 4D tensors\n",
    "\n",
    "                    out_1_val = deeplab(image_1_val)\n",
    "                    del image_1_val\n",
    "                    torch.cuda.empty_cache()\n",
    "                    # do the inference\n",
    "\n",
    "                    loss_1 = dice_loss_3(out_1_val, label_1_val)\n",
    "                    # calculate loss\n",
    "\n",
    "                    valloss_1 += loss_1.item()\n",
    "                    # record mini batch loss\n",
    "\n",
    "                avg_val_loss = (valloss_1 / (v+1))\n",
    "                outstr = '------- 1st valloss={0:.4f}'\\\n",
    "                    .format(avg_val_loss) + '\\n'\n",
    "\n",
    "                logger['validation_1'].append(avg_val_loss)\n",
    "                #scheduler.step(avg_val_loss)\n",
    "\n",
    "                print(outstr)\n",
    "                record.write(outstr)\n",
    "                record.flush()\n",
    "\n",
    "                if avg_val_loss < min_val:\n",
    "                    print(avg_val_loss, \"less than\", min_val)\n",
    "                    min_val = avg_val_loss\n",
    "                    save_1('deeplab_output_8_modified_elu_save', deeplab, optimizer, logger, e, scheduler)\n",
    "                elif e%10 == 0:\n",
    "                    save_1('deeplab_output_8_modified_elu_save', deeplab, optimizer, logger, e, scheduler)\n",
    "                    \n",
    "                torch.cuda.empty_cache()\n",
    "\n",
    "record.close()"
   ]
  },
  {
   "cell_type": "code",
   "execution_count": null,
   "metadata": {},
   "outputs": [],
   "source": [
    "deeplab.eval()\n",
    "\n",
    "with torch.no_grad():\n",
    "    \n",
    "    bgloss = 0\n",
    "    bdloss = 0\n",
    "    bvloss = 0\n",
    "    \n",
    "    for v, vbatch in tqdm(enumerate(validation_loader)):\n",
    "            # move data to device, convert dtype to desirable dtype\n",
    "\n",
    "        image_1 = vbatch['image1_data'].to(device=device, dtype=dtype)\n",
    "        label_1 = vbatch['image1_label'].to(device=device, dtype=dtype)\n",
    "\n",
    "        output = deeplab(image_1)\n",
    "        # do the inference\n",
    "        output_numpy = output.cpu().numpy()\n",
    "        \n",
    "        \n",
    "        #out_1 = torch.round(output)\n",
    "        out_1 = torch.from_numpy((output_numpy == output_numpy.max(axis=1)[:, None]).astype(int)).to(device=device, dtype=dtype)\n",
    "        loss_1 = dice_loss_3(out_1, label_1)\n",
    "\n",
    "        bg, bd, bv = dice_loss_3_debug(out_1, label_1)\n",
    "        # calculate loss\n",
    "        print(bg.item(), bd.item(), bv.item(), loss_1.item())\n",
    "        bgloss += bg.item()\n",
    "        bdloss += bd.item()\n",
    "        bvloss += bv.item()\n",
    "\n",
    "    outstr = '------- background loss = {0:.4f}, body loss = {1:.4f}, bv loss = {2:.4f}'\\\n",
    "        .format(bgloss/(v+1), bdloss/(v+1), bvloss/(v+1)) + '\\n'\n",
    "    print(outstr)"
   ]
  },
  {
   "cell_type": "code",
   "execution_count": null,
   "metadata": {},
   "outputs": [],
   "source": []
  }
 ],
 "metadata": {
  "kernelspec": {
   "display_name": "Python 3",
   "language": "python",
   "name": "python3"
  },
  "language_info": {
   "codemirror_mode": {
    "name": "ipython",
    "version": 3
   },
   "file_extension": ".py",
   "mimetype": "text/x-python",
   "name": "python",
   "nbconvert_exporter": "python",
   "pygments_lexer": "ipython3",
   "version": "3.7.3"
  }
 },
 "nbformat": 4,
 "nbformat_minor": 2
}
