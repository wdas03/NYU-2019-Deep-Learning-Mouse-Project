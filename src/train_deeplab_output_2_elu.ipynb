{
 "cells": [
  {
   "cell_type": "code",
   "execution_count": 1,
   "metadata": {},
   "outputs": [],
   "source": [
    "import sys\n",
    "if not sys.warnoptions:\n",
    "    import warnings\n",
    "    warnings.simplefilter(\"ignore\")\n",
    "\n",
    "import torch\n",
    "import torch.optim as optim\n",
    "from torchvision import transforms\n",
    "from torch.utils.data import DataLoader\n",
    "from tqdm import tqdm\n",
    "\n",
    "from data_utility import *\n",
    "from data_utils import *\n",
    "from loss import *\n",
    "from train import *\n",
    "from deeplab_model.deeplab import *\n",
    "from sync_batchnorm import convert_model\n",
    "import datetime\n",
    "\n",
    "%matplotlib inline\n",
    "%load_ext autoreload\n",
    "%autoreload 2"
   ]
  },
  {
   "cell_type": "code",
   "execution_count": 2,
   "metadata": {},
   "outputs": [
    {
     "name": "stdout",
     "output_type": "stream",
     "text": [
      "using GPU for training\n"
     ]
    }
   ],
   "source": [
    "USE_GPU = True\n",
    "NUM_WORKERS = 12\n",
    "BATCH_SIZE = 2 \n",
    "\n",
    "dtype = torch.float32 \n",
    "# define dtype, float is space efficient than double\n",
    "\n",
    "if USE_GPU and torch.cuda.is_available():\n",
    "    \n",
    "    device = torch.device('cuda')\n",
    "    \n",
    "    torch.backends.cudnn.benchmark = True\n",
    "    torch.backends.cudnn.enabled = True\n",
    "    # magic flag that accelerate\n",
    "    \n",
    "    print('using GPU for training')\n",
    "else:\n",
    "    device = torch.device('cpu')\n",
    "    print('using CPU for training')"
   ]
  },
  {
   "cell_type": "code",
   "execution_count": 3,
   "metadata": {},
   "outputs": [],
   "source": [
    "train_dataset = pyramid_dataset(data_type = 'nii_train', \n",
    "                transform=transforms.Compose([\n",
    "                random_affine(90, 15),\n",
    "                random_filp(0.5)\n",
    "                ]))\n",
    "# do data augumentation on train dataset\n",
    "\n",
    "validation_dataset = pyramid_dataset(data_type = 'nii_test', \n",
    "                transform=None)\n",
    "# no data augumentation on validation dataset\n",
    "\n",
    "train_loader = DataLoader(train_dataset, batch_size=BATCH_SIZE, shuffle=True,\n",
    "                    num_workers=NUM_WORKERS)\n",
    "validation_loader = DataLoader(validation_dataset, batch_size=BATCH_SIZE, shuffle=True,\n",
    "                    num_workers=NUM_WORKERS) # drop_last\n",
    "# loaders come with auto batch division and multi-thread acceleration"
   ]
  },
  {
   "cell_type": "code",
   "execution_count": 4,
   "metadata": {},
   "outputs": [
    {
     "data": {
      "text/plain": [
       "\"\\ndeeplab = DeepLab_ELU(output_stride=2)\\ndeeplab = nn.DataParallel(deeplab)\\ndeeplab = convert_model(deeplab)\\ndeeplab = deeplab.to(device=device, dtype=dtype)\\n#shape_test(icnet1, True)\\n# create the model, by default model type is float, use model.double(), model.float() to convert\\n# move the model to desirable device\\n\\noptimizer = optim.Adam(deeplab.parameters(), lr=1e-2)\\nscheduler = optim.lr_scheduler.ReduceLROnPlateau(optimizer, mode='min', factor=0.1, patience=25)\\nepoch = 0\\n\\n# create an optimizer object\\n# note that only the model_2 params and model_4 params will be optimized by optimizer\\n\""
      ]
     },
     "execution_count": 4,
     "metadata": {},
     "output_type": "execute_result"
    }
   ],
   "source": [
    "'''\n",
    "deeplab = DeepLab_ELU(output_stride=2)\n",
    "deeplab = nn.DataParallel(deeplab)\n",
    "deeplab = convert_model(deeplab)\n",
    "deeplab = deeplab.to(device=device, dtype=dtype)\n",
    "#shape_test(icnet1, True)\n",
    "# create the model, by default model type is float, use model.double(), model.float() to convert\n",
    "# move the model to desirable device\n",
    "\n",
    "optimizer = optim.Adam(deeplab.parameters(), lr=1e-2)\n",
    "scheduler = optim.lr_scheduler.ReduceLROnPlateau(optimizer, mode='min', factor=0.1, patience=25)\n",
    "epoch = 0\n",
    "\n",
    "# create an optimizer object\n",
    "# note that only the model_2 params and model_4 params will be optimized by optimizer\n",
    "'''"
   ]
  },
  {
   "cell_type": "code",
   "execution_count": 6,
   "metadata": {},
   "outputs": [
    {
     "name": "stdout",
     "output_type": "stream",
     "text": [
      "450\n",
      "0.01\n"
     ]
    }
   ],
   "source": [
    "\n",
    "deeplab = DeepLab_ELU(output_stride=2)\n",
    "deeplab = nn.DataParallel(deeplab)\n",
    "deeplab = convert_model(deeplab)\n",
    "\n",
    "checkpoint = torch.load('../deeplab_output_2_elu_save/2019-08-21 20:02:58.787116 epoch: 450.pth') # latest one\n",
    "\n",
    "deeplab.load_state_dict(checkpoint['state_dict_1'])\n",
    "deeplab = deeplab.to(device, dtype)\n",
    "\n",
    "optimizer = optim.Adam(deeplab.parameters(), lr=1e-2)\n",
    "#optimizer.load_state_dict(checkpoint['optimizer'])\n",
    "\n",
    "scheduler = optim.lr_scheduler.ReduceLROnPlateau(optimizer, mode='min', factor=0.1, patience=5)\n",
    "scheduler.load_state_dict(checkpoint['scheduler'])\n",
    "\n",
    "epoch = checkpoint['epoch']\n",
    "print(epoch)\n",
    "for param_group in optimizer.param_groups:\n",
    "    print(param_group['lr'])\n"
   ]
  },
  {
   "cell_type": "code",
   "execution_count": null,
   "metadata": {},
   "outputs": [
    {
     "name": "stderr",
     "output_type": "stream",
     "text": [
      "\r",
      "  0%|          | 0/4549 [00:00<?, ?it/s]"
     ]
    },
    {
     "name": "stdout",
     "output_type": "stream",
     "text": [
      "Epoch 451 finished ! Training Loss: 0.0803\n",
      "\n"
     ]
    },
    {
     "name": "stderr",
     "output_type": "stream",
     "text": [
      "\r",
      "  0%|          | 1/4549 [19:30<1478:36:28, 1170.40s/it]"
     ]
    },
    {
     "name": "stdout",
     "output_type": "stream",
     "text": [
      "------- 1st valloss=0.0746\n",
      "\n",
      "Epoch 452 finished ! Training Loss: 0.0819\n",
      "\n"
     ]
    },
    {
     "name": "stderr",
     "output_type": "stream",
     "text": [
      "\r",
      "  0%|          | 2/4549 [37:40<1447:49:35, 1146.29s/it]"
     ]
    },
    {
     "name": "stdout",
     "output_type": "stream",
     "text": [
      "------- 1st valloss=0.0824\n",
      "\n",
      "Epoch 453 finished ! Training Loss: 0.0830\n",
      "\n"
     ]
    },
    {
     "name": "stderr",
     "output_type": "stream",
     "text": [
      "\r",
      "  0%|          | 3/4549 [55:41<1422:58:01, 1126.85s/it]"
     ]
    },
    {
     "name": "stdout",
     "output_type": "stream",
     "text": [
      "------- 1st valloss=0.2967\n",
      "\n",
      "Epoch 454 finished ! Training Loss: 0.0814\n",
      "\n"
     ]
    },
    {
     "name": "stderr",
     "output_type": "stream",
     "text": [
      "\r",
      "  0%|          | 4/4549 [1:13:40<1404:30:21, 1112.48s/it]"
     ]
    },
    {
     "name": "stdout",
     "output_type": "stream",
     "text": [
      "------- 1st valloss=0.0734\n",
      "\n",
      "Epoch 455 finished ! Training Loss: 0.0768\n",
      "\n"
     ]
    },
    {
     "name": "stderr",
     "output_type": "stream",
     "text": [
      "\r",
      "  0%|          | 5/4549 [1:31:44<1393:26:59, 1103.97s/it]"
     ]
    },
    {
     "name": "stdout",
     "output_type": "stream",
     "text": [
      "------- 1st valloss=0.1055\n",
      "\n",
      "Epoch 456 finished ! Training Loss: 0.0773\n",
      "\n",
      "------- 1st valloss=0.0650\n",
      "\n",
      "0.06501817152551982 less than 0.07\n"
     ]
    },
    {
     "name": "stderr",
     "output_type": "stream",
     "text": [
      "\r",
      "  0%|          | 6/4549 [1:49:55<1388:10:25, 1100.03s/it]"
     ]
    },
    {
     "name": "stdout",
     "output_type": "stream",
     "text": [
      "Checkpoint 456 saved !\n",
      "Epoch 457 finished ! Training Loss: 0.0741\n",
      "\n"
     ]
    },
    {
     "name": "stderr",
     "output_type": "stream",
     "text": [
      "\r",
      "  0%|          | 7/4549 [2:07:54<1379:42:07, 1093.56s/it]"
     ]
    },
    {
     "name": "stdout",
     "output_type": "stream",
     "text": [
      "------- 1st valloss=0.1805\n",
      "\n",
      "Epoch 458 finished ! Training Loss: 0.0835\n",
      "\n"
     ]
    },
    {
     "name": "stderr",
     "output_type": "stream",
     "text": [
      "\r",
      "  0%|          | 8/4549 [2:25:42<1369:53:42, 1086.02s/it]"
     ]
    },
    {
     "name": "stdout",
     "output_type": "stream",
     "text": [
      "------- 1st valloss=0.1025\n",
      "\n",
      "Epoch 459 finished ! Training Loss: 0.0923\n",
      "\n"
     ]
    },
    {
     "name": "stderr",
     "output_type": "stream",
     "text": [
      "\r",
      "  0%|          | 9/4549 [2:43:42<1367:25:34, 1084.30s/it]"
     ]
    },
    {
     "name": "stdout",
     "output_type": "stream",
     "text": [
      "------- 1st valloss=0.1219\n",
      "\n",
      "Epoch 460 finished ! Training Loss: 0.0778\n",
      "\n",
      "------- 1st valloss=0.1208\n",
      "\n"
     ]
    },
    {
     "name": "stderr",
     "output_type": "stream",
     "text": [
      "\r",
      "  0%|          | 10/4549 [3:01:56<1370:40:08, 1087.11s/it]"
     ]
    },
    {
     "name": "stdout",
     "output_type": "stream",
     "text": [
      "Checkpoint 460 saved !\n",
      "Epoch 461 finished ! Training Loss: 0.0900\n",
      "\n"
     ]
    },
    {
     "name": "stderr",
     "output_type": "stream",
     "text": [
      "\r",
      "  0%|          | 11/4549 [3:19:45<1363:20:07, 1081.54s/it]"
     ]
    },
    {
     "name": "stdout",
     "output_type": "stream",
     "text": [
      "------- 1st valloss=0.0819\n",
      "\n",
      "Epoch 462 finished ! Training Loss: 0.0844\n",
      "\n"
     ]
    },
    {
     "name": "stderr",
     "output_type": "stream",
     "text": [
      "\r",
      "  0%|          | 12/4549 [3:38:09<1371:42:44, 1088.42s/it]"
     ]
    },
    {
     "name": "stdout",
     "output_type": "stream",
     "text": [
      "------- 1st valloss=0.0782\n",
      "\n",
      "Epoch 463 finished ! Training Loss: 0.0886\n",
      "\n"
     ]
    },
    {
     "name": "stderr",
     "output_type": "stream",
     "text": [
      "\r",
      "  0%|          | 13/4549 [3:56:28<1375:28:31, 1091.65s/it]"
     ]
    },
    {
     "name": "stdout",
     "output_type": "stream",
     "text": [
      "------- 1st valloss=0.0832\n",
      "\n",
      "Epoch 464 finished ! Training Loss: 0.0821\n",
      "\n"
     ]
    },
    {
     "name": "stderr",
     "output_type": "stream",
     "text": [
      "\r",
      "  0%|          | 14/4549 [4:14:26<1370:00:59, 1087.55s/it]"
     ]
    },
    {
     "name": "stdout",
     "output_type": "stream",
     "text": [
      "------- 1st valloss=0.1024\n",
      "\n",
      "Epoch 465 finished ! Training Loss: 0.0767\n",
      "\n"
     ]
    },
    {
     "name": "stderr",
     "output_type": "stream",
     "text": [
      "\r",
      "  0%|          | 15/4549 [4:32:34<1369:46:24, 1087.60s/it]"
     ]
    },
    {
     "name": "stdout",
     "output_type": "stream",
     "text": [
      "------- 1st valloss=0.1481\n",
      "\n",
      "Epoch 466 finished ! Training Loss: 0.0765\n",
      "\n"
     ]
    },
    {
     "name": "stderr",
     "output_type": "stream",
     "text": [
      "\r",
      "  0%|          | 16/4549 [4:50:48<1371:53:59, 1089.53s/it]"
     ]
    },
    {
     "name": "stdout",
     "output_type": "stream",
     "text": [
      "------- 1st valloss=0.1112\n",
      "\n",
      "Epoch 467 finished ! Training Loss: 0.0844\n",
      "\n"
     ]
    },
    {
     "name": "stderr",
     "output_type": "stream",
     "text": [
      "\r",
      "  0%|          | 17/4549 [5:08:54<1370:10:39, 1088.40s/it]"
     ]
    },
    {
     "name": "stdout",
     "output_type": "stream",
     "text": [
      "------- 1st valloss=0.1395\n",
      "\n",
      "Epoch 468 finished ! Training Loss: 0.0735\n",
      "\n"
     ]
    },
    {
     "name": "stderr",
     "output_type": "stream",
     "text": [
      "\r",
      "  0%|          | 18/4549 [5:27:07<1371:42:09, 1089.85s/it]"
     ]
    },
    {
     "name": "stdout",
     "output_type": "stream",
     "text": [
      "------- 1st valloss=0.0702\n",
      "\n",
      "Epoch 469 finished ! Training Loss: 0.0773\n",
      "\n"
     ]
    },
    {
     "name": "stderr",
     "output_type": "stream",
     "text": [
      "\r",
      "  0%|          | 19/4549 [5:45:20<1372:26:50, 1090.69s/it]"
     ]
    },
    {
     "name": "stdout",
     "output_type": "stream",
     "text": [
      "------- 1st valloss=0.0769\n",
      "\n",
      "Epoch 470 finished ! Training Loss: 0.0813\n",
      "\n",
      "------- 1st valloss=0.0793\n",
      "\n"
     ]
    },
    {
     "name": "stderr",
     "output_type": "stream",
     "text": [
      "\r",
      "  0%|          | 20/4549 [6:03:24<1369:41:40, 1088.74s/it]"
     ]
    },
    {
     "name": "stdout",
     "output_type": "stream",
     "text": [
      "Checkpoint 470 saved !\n",
      "Epoch 471 finished ! Training Loss: 0.0749\n",
      "\n"
     ]
    },
    {
     "name": "stderr",
     "output_type": "stream",
     "text": [
      "\r",
      "  0%|          | 21/4549 [6:21:30<1368:28:20, 1088.01s/it]"
     ]
    },
    {
     "name": "stdout",
     "output_type": "stream",
     "text": [
      "------- 1st valloss=0.0779\n",
      "\n",
      "Epoch 472 finished ! Training Loss: 0.0849\n",
      "\n"
     ]
    },
    {
     "name": "stderr",
     "output_type": "stream",
     "text": [
      "\r",
      "  0%|          | 22/4549 [6:39:42<1369:34:51, 1089.13s/it]"
     ]
    },
    {
     "name": "stdout",
     "output_type": "stream",
     "text": [
      "------- 1st valloss=0.1395\n",
      "\n",
      "Epoch 473 finished ! Training Loss: 0.0796\n",
      "\n"
     ]
    },
    {
     "name": "stderr",
     "output_type": "stream",
     "text": [
      "\r",
      "  1%|          | 23/4549 [6:57:49<1368:27:15, 1088.47s/it]"
     ]
    },
    {
     "name": "stdout",
     "output_type": "stream",
     "text": [
      "------- 1st valloss=0.0929\n",
      "\n",
      "Epoch 474 finished ! Training Loss: 0.0759\n",
      "\n"
     ]
    },
    {
     "name": "stderr",
     "output_type": "stream",
     "text": [
      "\r",
      "  1%|          | 24/4549 [7:15:44<1362:55:11, 1084.31s/it]"
     ]
    },
    {
     "name": "stdout",
     "output_type": "stream",
     "text": [
      "------- 1st valloss=0.0956\n",
      "\n",
      "Epoch 475 finished ! Training Loss: 0.0757\n",
      "\n"
     ]
    },
    {
     "name": "stderr",
     "output_type": "stream",
     "text": [
      "\r",
      "  1%|          | 25/4549 [7:33:44<1361:10:06, 1083.16s/it]"
     ]
    },
    {
     "name": "stdout",
     "output_type": "stream",
     "text": [
      "------- 1st valloss=0.0707\n",
      "\n",
      "Epoch 476 finished ! Training Loss: 0.0881\n",
      "\n"
     ]
    },
    {
     "name": "stderr",
     "output_type": "stream",
     "text": [
      "\r",
      "  1%|          | 26/4549 [7:51:58<1364:49:38, 1086.31s/it]"
     ]
    },
    {
     "name": "stdout",
     "output_type": "stream",
     "text": [
      "------- 1st valloss=0.0895\n",
      "\n",
      "Epoch 477 finished ! Training Loss: 0.0815\n",
      "\n"
     ]
    },
    {
     "name": "stderr",
     "output_type": "stream",
     "text": [
      "\r",
      "  1%|          | 27/4549 [8:10:12<1367:36:16, 1088.76s/it]"
     ]
    },
    {
     "name": "stdout",
     "output_type": "stream",
     "text": [
      "------- 1st valloss=0.0879\n",
      "\n",
      "Epoch 478 finished ! Training Loss: 0.0798\n",
      "\n"
     ]
    },
    {
     "name": "stderr",
     "output_type": "stream",
     "text": [
      "\r",
      "  1%|          | 28/4549 [8:28:23<1368:04:31, 1089.38s/it]"
     ]
    },
    {
     "name": "stdout",
     "output_type": "stream",
     "text": [
      "------- 1st valloss=0.0739\n",
      "\n",
      "Epoch 479 finished ! Training Loss: 0.0779\n",
      "\n"
     ]
    },
    {
     "name": "stderr",
     "output_type": "stream",
     "text": [
      "\r",
      "  1%|          | 29/4549 [8:46:31<1367:13:21, 1088.94s/it]"
     ]
    },
    {
     "name": "stdout",
     "output_type": "stream",
     "text": [
      "------- 1st valloss=0.0825\n",
      "\n",
      "Epoch 480 finished ! Training Loss: 0.0791\n",
      "\n",
      "------- 1st valloss=0.1117\n",
      "\n"
     ]
    },
    {
     "name": "stderr",
     "output_type": "stream",
     "text": [
      "\r",
      "  1%|          | 30/4549 [9:04:32<1363:57:00, 1086.57s/it]"
     ]
    },
    {
     "name": "stdout",
     "output_type": "stream",
     "text": [
      "Checkpoint 480 saved !\n",
      "Epoch 481 finished ! Training Loss: 0.0859\n",
      "\n"
     ]
    },
    {
     "name": "stderr",
     "output_type": "stream",
     "text": [
      "\r",
      "  1%|          | 31/4549 [9:22:31<1360:52:19, 1084.36s/it]"
     ]
    },
    {
     "name": "stdout",
     "output_type": "stream",
     "text": [
      "------- 1st valloss=0.1029\n",
      "\n",
      "Epoch 482 finished ! Training Loss: 0.0772\n",
      "\n"
     ]
    },
    {
     "name": "stderr",
     "output_type": "stream",
     "text": [
      "\r",
      "  1%|          | 32/4549 [9:40:45<1364:04:35, 1087.15s/it]"
     ]
    },
    {
     "name": "stdout",
     "output_type": "stream",
     "text": [
      "------- 1st valloss=0.0824\n",
      "\n",
      "Epoch 483 finished ! Training Loss: 0.0741\n",
      "\n"
     ]
    },
    {
     "name": "stderr",
     "output_type": "stream",
     "text": [
      "\r",
      "  1%|          | 33/4549 [9:58:53<1364:01:56, 1087.36s/it]"
     ]
    },
    {
     "name": "stdout",
     "output_type": "stream",
     "text": [
      "------- 1st valloss=0.0807\n",
      "\n",
      "Epoch 484 finished ! Training Loss: 0.0722\n",
      "\n"
     ]
    },
    {
     "name": "stderr",
     "output_type": "stream",
     "text": [
      "\r",
      "  1%|          | 34/4549 [10:17:00<1363:41:11, 1087.32s/it]"
     ]
    },
    {
     "name": "stdout",
     "output_type": "stream",
     "text": [
      "------- 1st valloss=0.0770\n",
      "\n",
      "Epoch 485 finished ! Training Loss: 0.0720\n",
      "\n"
     ]
    },
    {
     "name": "stderr",
     "output_type": "stream",
     "text": [
      "\r",
      "  1%|          | 35/4549 [10:35:04<1362:15:29, 1086.43s/it]"
     ]
    },
    {
     "name": "stdout",
     "output_type": "stream",
     "text": [
      "------- 1st valloss=0.0709\n",
      "\n",
      "Epoch 486 finished ! Training Loss: 0.0723\n",
      "\n"
     ]
    },
    {
     "name": "stderr",
     "output_type": "stream",
     "text": [
      "\r",
      "  1%|          | 36/4549 [10:53:00<1358:07:57, 1083.38s/it]"
     ]
    },
    {
     "name": "stdout",
     "output_type": "stream",
     "text": [
      "------- 1st valloss=0.0761\n",
      "\n",
      "Epoch 487 finished ! Training Loss: 0.0709\n",
      "\n",
      "------- 1st valloss=0.0623\n",
      "\n",
      "0.06232943547808606 less than 0.06501817152551982\n"
     ]
    },
    {
     "name": "stderr",
     "output_type": "stream",
     "text": [
      "\r",
      "  1%|          | 37/4549 [11:11:06<1358:30:01, 1083.91s/it]"
     ]
    },
    {
     "name": "stdout",
     "output_type": "stream",
     "text": [
      "Checkpoint 487 saved !\n",
      "Epoch 488 finished ! Training Loss: 0.0706\n",
      "\n"
     ]
    },
    {
     "name": "stderr",
     "output_type": "stream",
     "text": [
      "\r",
      "  1%|          | 38/4549 [11:29:21<1362:28:11, 1087.32s/it]"
     ]
    },
    {
     "name": "stdout",
     "output_type": "stream",
     "text": [
      "------- 1st valloss=0.0683\n",
      "\n",
      "Epoch 489 finished ! Training Loss: 0.0688\n",
      "\n"
     ]
    },
    {
     "name": "stderr",
     "output_type": "stream",
     "text": [
      "\r",
      "  1%|          | 39/4549 [11:47:30<1362:50:27, 1087.86s/it]"
     ]
    },
    {
     "name": "stdout",
     "output_type": "stream",
     "text": [
      "------- 1st valloss=0.0665\n",
      "\n",
      "Epoch 490 finished ! Training Loss: 0.0689\n",
      "\n",
      "------- 1st valloss=0.0745\n",
      "\n"
     ]
    },
    {
     "name": "stderr",
     "output_type": "stream",
     "text": [
      "\r",
      "  1%|          | 40/4549 [12:05:32<1360:11:12, 1085.98s/it]"
     ]
    },
    {
     "name": "stdout",
     "output_type": "stream",
     "text": [
      "Checkpoint 490 saved !\n",
      "Epoch 491 finished ! Training Loss: 0.0710\n",
      "\n"
     ]
    },
    {
     "name": "stderr",
     "output_type": "stream",
     "text": [
      "\r",
      "  1%|          | 41/4549 [12:23:48<1363:57:11, 1089.23s/it]"
     ]
    },
    {
     "name": "stdout",
     "output_type": "stream",
     "text": [
      "------- 1st valloss=0.0696\n",
      "\n",
      "Epoch 492 finished ! Training Loss: 0.0700\n",
      "\n"
     ]
    },
    {
     "name": "stderr",
     "output_type": "stream",
     "text": [
      "\r",
      "  1%|          | 42/4549 [12:42:01<1365:02:29, 1090.34s/it]"
     ]
    },
    {
     "name": "stdout",
     "output_type": "stream",
     "text": [
      "------- 1st valloss=0.0674\n",
      "\n",
      "Epoch 493 finished ! Training Loss: 0.0702\n",
      "\n"
     ]
    },
    {
     "name": "stderr",
     "output_type": "stream",
     "text": [
      "\r",
      "  1%|          | 43/4549 [13:00:02<1360:58:51, 1087.34s/it]"
     ]
    },
    {
     "name": "stdout",
     "output_type": "stream",
     "text": [
      "------- 1st valloss=0.0952\n",
      "\n",
      "Epoch 494 finished ! Training Loss: 0.0737\n",
      "\n"
     ]
    },
    {
     "name": "stderr",
     "output_type": "stream",
     "text": [
      "\r",
      "  1%|          | 44/4549 [13:18:14<1362:30:32, 1088.80s/it]"
     ]
    },
    {
     "name": "stdout",
     "output_type": "stream",
     "text": [
      "------- 1st valloss=0.0659\n",
      "\n",
      "Epoch 495 finished ! Training Loss: 0.0725\n",
      "\n"
     ]
    },
    {
     "name": "stderr",
     "output_type": "stream",
     "text": [
      "\r",
      "  1%|          | 45/4549 [13:36:43<1369:46:14, 1094.84s/it]"
     ]
    },
    {
     "name": "stdout",
     "output_type": "stream",
     "text": [
      "------- 1st valloss=0.0738\n",
      "\n",
      "Epoch 496 finished ! Training Loss: 0.0705\n",
      "\n"
     ]
    },
    {
     "name": "stderr",
     "output_type": "stream",
     "text": [
      "\r",
      "  1%|          | 46/4549 [13:54:37<1361:33:23, 1088.52s/it]"
     ]
    },
    {
     "name": "stdout",
     "output_type": "stream",
     "text": [
      "------- 1st valloss=0.0828\n",
      "\n",
      "Epoch 497 finished ! Training Loss: 0.0701\n",
      "\n"
     ]
    },
    {
     "name": "stderr",
     "output_type": "stream",
     "text": [
      "\r",
      "  1%|          | 47/4549 [14:12:49<1362:36:51, 1089.61s/it]"
     ]
    },
    {
     "name": "stdout",
     "output_type": "stream",
     "text": [
      "------- 1st valloss=0.0702\n",
      "\n",
      "Epoch 498 finished ! Training Loss: 0.0692\n",
      "\n"
     ]
    },
    {
     "name": "stderr",
     "output_type": "stream",
     "text": [
      "\r",
      "  1%|          | 48/4549 [14:30:57<1361:43:22, 1089.14s/it]"
     ]
    },
    {
     "name": "stdout",
     "output_type": "stream",
     "text": [
      "------- 1st valloss=0.0779\n",
      "\n",
      "Epoch 499 finished ! Training Loss: 0.0703\n",
      "\n"
     ]
    },
    {
     "name": "stderr",
     "output_type": "stream",
     "text": [
      "\r",
      "  1%|          | 49/4549 [14:48:58<1358:20:49, 1086.68s/it]"
     ]
    },
    {
     "name": "stdout",
     "output_type": "stream",
     "text": [
      "------- 1st valloss=0.0940\n",
      "\n",
      "Epoch 500 finished ! Training Loss: 0.0675\n",
      "\n",
      "------- 1st valloss=0.0730\n",
      "\n"
     ]
    },
    {
     "name": "stderr",
     "output_type": "stream",
     "text": [
      "\r",
      "  1%|          | 50/4549 [15:07:15<1361:52:23, 1089.74s/it]"
     ]
    },
    {
     "name": "stdout",
     "output_type": "stream",
     "text": [
      "Checkpoint 500 saved !\n",
      "Epoch 501 finished ! Training Loss: 0.0671\n",
      "\n"
     ]
    },
    {
     "name": "stderr",
     "output_type": "stream",
     "text": [
      "\r",
      "  1%|          | 51/4549 [15:25:29<1363:28:30, 1091.27s/it]"
     ]
    },
    {
     "name": "stdout",
     "output_type": "stream",
     "text": [
      "------- 1st valloss=0.1100\n",
      "\n",
      "Epoch 502 finished ! Training Loss: 0.0697\n",
      "\n"
     ]
    },
    {
     "name": "stderr",
     "output_type": "stream",
     "text": [
      "\r",
      "  1%|          | 52/4549 [15:43:40<1362:55:54, 1091.07s/it]"
     ]
    },
    {
     "name": "stdout",
     "output_type": "stream",
     "text": [
      "------- 1st valloss=0.0766\n",
      "\n",
      "Epoch 503 finished ! Training Loss: 0.0681\n",
      "\n"
     ]
    },
    {
     "name": "stderr",
     "output_type": "stream",
     "text": [
      "\r",
      "  1%|          | 53/4549 [16:01:43<1359:44:11, 1088.76s/it]"
     ]
    },
    {
     "name": "stdout",
     "output_type": "stream",
     "text": [
      "------- 1st valloss=0.1114\n",
      "\n",
      "Epoch 504 finished ! Training Loss: 0.0691\n",
      "\n"
     ]
    },
    {
     "name": "stderr",
     "output_type": "stream",
     "text": [
      "\r",
      "  1%|          | 54/4549 [16:19:48<1357:54:54, 1087.54s/it]"
     ]
    },
    {
     "name": "stdout",
     "output_type": "stream",
     "text": [
      "------- 1st valloss=0.0984\n",
      "\n",
      "Epoch 505 finished ! Training Loss: 0.0683\n",
      "\n"
     ]
    },
    {
     "name": "stderr",
     "output_type": "stream",
     "text": [
      "\r",
      "  1%|          | 55/4549 [16:37:46<1354:00:17, 1084.65s/it]"
     ]
    },
    {
     "name": "stdout",
     "output_type": "stream",
     "text": [
      "------- 1st valloss=0.1121\n",
      "\n",
      "Epoch 506 finished ! Training Loss: 0.0674\n",
      "\n"
     ]
    },
    {
     "name": "stderr",
     "output_type": "stream",
     "text": [
      "\r",
      "  1%|          | 56/4549 [16:55:44<1351:07:31, 1082.58s/it]"
     ]
    },
    {
     "name": "stdout",
     "output_type": "stream",
     "text": [
      "------- 1st valloss=0.0684\n",
      "\n",
      "Epoch 507 finished ! Training Loss: 0.0675\n",
      "\n"
     ]
    },
    {
     "name": "stderr",
     "output_type": "stream",
     "text": [
      "\r",
      "  1%|▏         | 57/4549 [17:13:39<1348:08:41, 1080.44s/it]"
     ]
    },
    {
     "name": "stdout",
     "output_type": "stream",
     "text": [
      "------- 1st valloss=0.1036\n",
      "\n",
      "Epoch 508 finished ! Training Loss: 0.0678\n",
      "\n"
     ]
    },
    {
     "name": "stderr",
     "output_type": "stream",
     "text": [
      "\r",
      "  1%|▏         | 58/4549 [17:31:37<1346:55:35, 1079.70s/it]"
     ]
    },
    {
     "name": "stdout",
     "output_type": "stream",
     "text": [
      "------- 1st valloss=0.0745\n",
      "\n",
      "Epoch 509 finished ! Training Loss: 0.0698\n",
      "\n"
     ]
    },
    {
     "name": "stderr",
     "output_type": "stream",
     "text": [
      "\r",
      "  1%|▏         | 59/4549 [17:49:53<1352:38:59, 1084.53s/it]"
     ]
    },
    {
     "name": "stdout",
     "output_type": "stream",
     "text": [
      "------- 1st valloss=0.0945\n",
      "\n",
      "Epoch 510 finished ! Training Loss: 0.0697\n",
      "\n",
      "------- 1st valloss=0.0649\n",
      "\n"
     ]
    },
    {
     "name": "stderr",
     "output_type": "stream",
     "text": [
      "\r",
      "  1%|▏         | 60/4549 [18:07:43<1347:05:51, 1080.32s/it]"
     ]
    },
    {
     "name": "stdout",
     "output_type": "stream",
     "text": [
      "Checkpoint 510 saved !\n",
      "Epoch 511 finished ! Training Loss: 0.0707\n",
      "\n"
     ]
    },
    {
     "name": "stderr",
     "output_type": "stream",
     "text": [
      "\r",
      "  1%|▏         | 61/4549 [18:25:35<1343:26:06, 1077.62s/it]"
     ]
    },
    {
     "name": "stdout",
     "output_type": "stream",
     "text": [
      "------- 1st valloss=0.0869\n",
      "\n",
      "Epoch 512 finished ! Training Loss: 0.0722\n",
      "\n"
     ]
    },
    {
     "name": "stderr",
     "output_type": "stream",
     "text": [
      "\r",
      "  1%|▏         | 62/4549 [18:44:00<1353:31:26, 1085.96s/it]"
     ]
    },
    {
     "name": "stdout",
     "output_type": "stream",
     "text": [
      "------- 1st valloss=0.0663\n",
      "\n",
      "Epoch 513 finished ! Training Loss: 0.0676\n",
      "\n"
     ]
    },
    {
     "name": "stderr",
     "output_type": "stream",
     "text": [
      "\r",
      "  1%|▏         | 63/4549 [19:02:11<1354:57:55, 1087.36s/it]"
     ]
    },
    {
     "name": "stdout",
     "output_type": "stream",
     "text": [
      "------- 1st valloss=0.0900\n",
      "\n",
      "Epoch 514 finished ! Training Loss: 0.0873\n",
      "\n"
     ]
    },
    {
     "name": "stderr",
     "output_type": "stream",
     "text": [
      "\r",
      "  1%|▏         | 64/4549 [19:20:27<1357:54:38, 1089.96s/it]"
     ]
    },
    {
     "name": "stdout",
     "output_type": "stream",
     "text": [
      "------- 1st valloss=0.0887\n",
      "\n",
      "Epoch 515 finished ! Training Loss: 0.0799\n",
      "\n"
     ]
    },
    {
     "name": "stderr",
     "output_type": "stream",
     "text": [
      "\r",
      "  1%|▏         | 65/4549 [19:38:29<1354:31:55, 1087.49s/it]"
     ]
    },
    {
     "name": "stdout",
     "output_type": "stream",
     "text": [
      "------- 1st valloss=0.0863\n",
      "\n",
      "Epoch 516 finished ! Training Loss: 0.0731\n",
      "\n"
     ]
    },
    {
     "name": "stderr",
     "output_type": "stream",
     "text": [
      "\r",
      "  1%|▏         | 66/4549 [19:56:34<1353:24:09, 1086.83s/it]"
     ]
    },
    {
     "name": "stdout",
     "output_type": "stream",
     "text": [
      "------- 1st valloss=0.0642\n",
      "\n",
      "Epoch 517 finished ! Training Loss: 0.0731\n",
      "\n"
     ]
    },
    {
     "name": "stderr",
     "output_type": "stream",
     "text": [
      "\r",
      "  1%|▏         | 67/4549 [20:14:34<1350:40:38, 1084.88s/it]"
     ]
    },
    {
     "name": "stdout",
     "output_type": "stream",
     "text": [
      "------- 1st valloss=0.0901\n",
      "\n",
      "Epoch 518 finished ! Training Loss: 0.0710\n",
      "\n"
     ]
    },
    {
     "name": "stderr",
     "output_type": "stream",
     "text": [
      "\r",
      "  1%|▏         | 68/4549 [20:32:36<1349:17:52, 1084.02s/it]"
     ]
    },
    {
     "name": "stdout",
     "output_type": "stream",
     "text": [
      "------- 1st valloss=0.0633\n",
      "\n",
      "Epoch 519 finished ! Training Loss: 0.0705\n",
      "\n"
     ]
    },
    {
     "name": "stderr",
     "output_type": "stream",
     "text": [
      "\r",
      "  2%|▏         | 69/4549 [20:50:45<1350:44:10, 1085.41s/it]"
     ]
    },
    {
     "name": "stdout",
     "output_type": "stream",
     "text": [
      "------- 1st valloss=0.0645\n",
      "\n",
      "Epoch 520 finished ! Training Loss: 0.0695\n",
      "\n",
      "------- 1st valloss=0.0632\n",
      "\n"
     ]
    },
    {
     "name": "stderr",
     "output_type": "stream",
     "text": [
      "\r",
      "  2%|▏         | 70/4549 [21:08:40<1346:24:48, 1082.18s/it]"
     ]
    },
    {
     "name": "stdout",
     "output_type": "stream",
     "text": [
      "Checkpoint 520 saved !\n",
      "Epoch 521 finished ! Training Loss: 0.0684\n",
      "\n"
     ]
    },
    {
     "name": "stderr",
     "output_type": "stream",
     "text": [
      "\r",
      "  2%|▏         | 71/4549 [21:26:51<1349:35:46, 1084.98s/it]"
     ]
    },
    {
     "name": "stdout",
     "output_type": "stream",
     "text": [
      "------- 1st valloss=0.0642\n",
      "\n",
      "Epoch 522 finished ! Training Loss: 0.0722\n",
      "\n"
     ]
    },
    {
     "name": "stderr",
     "output_type": "stream",
     "text": [
      "\r",
      "  2%|▏         | 72/4549 [21:45:04<1352:10:26, 1087.30s/it]"
     ]
    },
    {
     "name": "stdout",
     "output_type": "stream",
     "text": [
      "------- 1st valloss=0.0743\n",
      "\n",
      "Epoch 523 finished ! Training Loss: 0.0742\n",
      "\n"
     ]
    },
    {
     "name": "stderr",
     "output_type": "stream",
     "text": [
      "\r",
      "  2%|▏         | 73/4549 [22:03:07<1350:32:26, 1086.23s/it]"
     ]
    },
    {
     "name": "stdout",
     "output_type": "stream",
     "text": [
      "------- 1st valloss=0.0729\n",
      "\n",
      "Epoch 524 finished ! Training Loss: 0.0732\n",
      "\n"
     ]
    },
    {
     "name": "stderr",
     "output_type": "stream",
     "text": [
      "\r",
      "  2%|▏         | 74/4549 [22:21:15<1350:35:12, 1086.51s/it]"
     ]
    },
    {
     "name": "stdout",
     "output_type": "stream",
     "text": [
      "------- 1st valloss=0.0701\n",
      "\n",
      "Epoch 525 finished ! Training Loss: 0.0717\n",
      "\n"
     ]
    },
    {
     "name": "stderr",
     "output_type": "stream",
     "text": [
      "\r",
      "  2%|▏         | 75/4549 [22:39:30<1353:26:19, 1089.04s/it]"
     ]
    },
    {
     "name": "stdout",
     "output_type": "stream",
     "text": [
      "------- 1st valloss=0.0790\n",
      "\n",
      "Epoch 526 finished ! Training Loss: 0.0752\n",
      "\n"
     ]
    },
    {
     "name": "stderr",
     "output_type": "stream",
     "text": [
      "\r",
      "  2%|▏         | 76/4549 [22:57:37<1352:29:53, 1088.53s/it]"
     ]
    },
    {
     "name": "stdout",
     "output_type": "stream",
     "text": [
      "------- 1st valloss=0.0845\n",
      "\n",
      "Epoch 527 finished ! Training Loss: 0.0724\n",
      "\n"
     ]
    },
    {
     "name": "stderr",
     "output_type": "stream",
     "text": [
      "\r",
      "  2%|▏         | 77/4549 [23:15:30<1346:28:48, 1083.93s/it]"
     ]
    },
    {
     "name": "stdout",
     "output_type": "stream",
     "text": [
      "------- 1st valloss=0.0747\n",
      "\n",
      "Epoch 528 finished ! Training Loss: 0.0725\n",
      "\n"
     ]
    },
    {
     "name": "stderr",
     "output_type": "stream",
     "text": [
      "\r",
      "  2%|▏         | 78/4549 [23:33:32<1345:20:16, 1083.25s/it]"
     ]
    },
    {
     "name": "stdout",
     "output_type": "stream",
     "text": [
      "------- 1st valloss=0.0675\n",
      "\n",
      "Epoch 529 finished ! Training Loss: 0.0689\n",
      "\n"
     ]
    },
    {
     "name": "stderr",
     "output_type": "stream",
     "text": [
      "\r",
      "  2%|▏         | 79/4549 [23:51:46<1349:03:06, 1086.48s/it]"
     ]
    },
    {
     "name": "stdout",
     "output_type": "stream",
     "text": [
      "------- 1st valloss=0.0820\n",
      "\n",
      "Epoch 530 finished ! Training Loss: 0.0710\n",
      "\n",
      "------- 1st valloss=0.0924\n",
      "\n"
     ]
    },
    {
     "name": "stderr",
     "output_type": "stream",
     "text": [
      "\r",
      "  2%|▏         | 80/4549 [24:09:36<1342:45:31, 1081.66s/it]"
     ]
    },
    {
     "name": "stdout",
     "output_type": "stream",
     "text": [
      "Checkpoint 530 saved !\n",
      "Epoch 531 finished ! Training Loss: 0.0684\n",
      "\n"
     ]
    },
    {
     "name": "stderr",
     "output_type": "stream",
     "text": [
      "\r",
      "  2%|▏         | 81/4549 [24:27:48<1346:07:26, 1084.61s/it]"
     ]
    },
    {
     "name": "stdout",
     "output_type": "stream",
     "text": [
      "------- 1st valloss=0.0867\n",
      "\n",
      "Epoch 532 finished ! Training Loss: 0.0669\n",
      "\n"
     ]
    },
    {
     "name": "stderr",
     "output_type": "stream",
     "text": [
      "\r",
      "  2%|▏         | 82/4549 [24:45:49<1344:25:49, 1083.49s/it]"
     ]
    },
    {
     "name": "stdout",
     "output_type": "stream",
     "text": [
      "------- 1st valloss=0.0652\n",
      "\n",
      "Epoch 533 finished ! Training Loss: 0.0667\n",
      "\n"
     ]
    },
    {
     "name": "stderr",
     "output_type": "stream",
     "text": [
      "\r",
      "  2%|▏         | 83/4549 [25:03:52<1343:57:22, 1083.35s/it]"
     ]
    },
    {
     "name": "stdout",
     "output_type": "stream",
     "text": [
      "------- 1st valloss=0.0658\n",
      "\n",
      "Epoch 534 finished ! Training Loss: 0.0663\n",
      "\n"
     ]
    },
    {
     "name": "stderr",
     "output_type": "stream",
     "text": [
      "\r",
      "  2%|▏         | 84/4549 [25:21:43<1339:02:02, 1079.62s/it]"
     ]
    },
    {
     "name": "stdout",
     "output_type": "stream",
     "text": [
      "------- 1st valloss=0.0695\n",
      "\n",
      "Epoch 535 finished ! Training Loss: 0.0656\n",
      "\n"
     ]
    },
    {
     "name": "stderr",
     "output_type": "stream",
     "text": [
      "\r",
      "  2%|▏         | 85/4549 [25:39:54<1342:57:25, 1083.03s/it]"
     ]
    },
    {
     "name": "stdout",
     "output_type": "stream",
     "text": [
      "------- 1st valloss=0.0735\n",
      "\n",
      "Epoch 536 finished ! Training Loss: 0.0659\n",
      "\n"
     ]
    },
    {
     "name": "stderr",
     "output_type": "stream",
     "text": [
      "\r",
      "  2%|▏         | 86/4549 [25:58:06<1346:04:22, 1085.79s/it]"
     ]
    },
    {
     "name": "stdout",
     "output_type": "stream",
     "text": [
      "------- 1st valloss=0.0700\n",
      "\n",
      "Epoch 537 finished ! Training Loss: 0.0661\n",
      "\n"
     ]
    },
    {
     "name": "stderr",
     "output_type": "stream",
     "text": [
      "\r",
      "  2%|▏         | 87/4549 [26:16:09<1344:40:57, 1084.91s/it]"
     ]
    },
    {
     "name": "stdout",
     "output_type": "stream",
     "text": [
      "------- 1st valloss=0.0658\n",
      "\n",
      "Epoch 538 finished ! Training Loss: 0.0661\n",
      "\n"
     ]
    },
    {
     "name": "stderr",
     "output_type": "stream",
     "text": [
      "\r",
      "  2%|▏         | 88/4549 [26:34:07<1341:57:02, 1082.95s/it]"
     ]
    },
    {
     "name": "stdout",
     "output_type": "stream",
     "text": [
      "------- 1st valloss=0.1426\n",
      "\n",
      "Epoch 539 finished ! Training Loss: 0.0758\n",
      "\n"
     ]
    },
    {
     "name": "stderr",
     "output_type": "stream",
     "text": [
      "\r",
      "  2%|▏         | 89/4549 [26:52:18<1344:50:34, 1085.52s/it]"
     ]
    },
    {
     "name": "stdout",
     "output_type": "stream",
     "text": [
      "------- 1st valloss=0.1207\n",
      "\n",
      "Epoch 540 finished ! Training Loss: 0.0718\n",
      "\n",
      "------- 1st valloss=0.0909\n",
      "\n"
     ]
    },
    {
     "name": "stderr",
     "output_type": "stream",
     "text": [
      "\r",
      "  2%|▏         | 90/4549 [27:10:08<1338:29:19, 1080.64s/it]"
     ]
    },
    {
     "name": "stdout",
     "output_type": "stream",
     "text": [
      "Checkpoint 540 saved !\n",
      "Epoch 541 finished ! Training Loss: 0.0712\n",
      "\n"
     ]
    },
    {
     "name": "stderr",
     "output_type": "stream",
     "text": [
      "\r",
      "  2%|▏         | 91/4549 [27:28:19<1342:06:05, 1083.80s/it]"
     ]
    },
    {
     "name": "stdout",
     "output_type": "stream",
     "text": [
      "------- 1st valloss=0.0715\n",
      "\n",
      "Epoch 542 finished ! Training Loss: 0.0747\n",
      "\n"
     ]
    },
    {
     "name": "stderr",
     "output_type": "stream",
     "text": [
      "\r",
      "  2%|▏         | 92/4549 [27:46:30<1344:31:32, 1086.00s/it]"
     ]
    },
    {
     "name": "stdout",
     "output_type": "stream",
     "text": [
      "------- 1st valloss=0.0723\n",
      "\n",
      "Epoch 543 finished ! Training Loss: 0.0697\n",
      "\n"
     ]
    },
    {
     "name": "stderr",
     "output_type": "stream",
     "text": [
      "\r",
      "  2%|▏         | 93/4549 [28:04:31<1342:29:07, 1084.59s/it]"
     ]
    },
    {
     "name": "stdout",
     "output_type": "stream",
     "text": [
      "------- 1st valloss=0.0723\n",
      "\n",
      "Epoch 544 finished ! Training Loss: 0.0714\n",
      "\n"
     ]
    },
    {
     "name": "stderr",
     "output_type": "stream",
     "text": [
      "\r",
      "  2%|▏         | 94/4549 [28:22:19<1335:51:24, 1079.48s/it]"
     ]
    },
    {
     "name": "stdout",
     "output_type": "stream",
     "text": [
      "------- 1st valloss=0.0721\n",
      "\n",
      "Epoch 545 finished ! Training Loss: 0.0672\n",
      "\n"
     ]
    },
    {
     "name": "stderr",
     "output_type": "stream",
     "text": [
      "\r",
      "  2%|▏         | 95/4549 [28:40:35<1341:42:09, 1084.45s/it]"
     ]
    },
    {
     "name": "stdout",
     "output_type": "stream",
     "text": [
      "------- 1st valloss=0.0672\n",
      "\n",
      "Epoch 546 finished ! Training Loss: 0.0672\n",
      "\n"
     ]
    },
    {
     "name": "stderr",
     "output_type": "stream",
     "text": [
      "\r",
      "  2%|▏         | 96/4549 [28:58:46<1343:59:42, 1086.54s/it]"
     ]
    },
    {
     "name": "stdout",
     "output_type": "stream",
     "text": [
      "------- 1st valloss=0.0652\n",
      "\n",
      "Epoch 547 finished ! Training Loss: 0.0668\n",
      "\n"
     ]
    },
    {
     "name": "stderr",
     "output_type": "stream",
     "text": [
      "\r",
      "  2%|▏         | 97/4549 [29:17:16<1352:10:30, 1093.40s/it]"
     ]
    },
    {
     "name": "stdout",
     "output_type": "stream",
     "text": [
      "------- 1st valloss=0.0691\n",
      "\n",
      "Epoch 548 finished ! Training Loss: 0.0646\n",
      "\n"
     ]
    },
    {
     "name": "stderr",
     "output_type": "stream",
     "text": [
      "\r",
      "  2%|▏         | 98/4549 [29:35:36<1354:13:43, 1095.31s/it]"
     ]
    },
    {
     "name": "stdout",
     "output_type": "stream",
     "text": [
      "------- 1st valloss=0.0722\n",
      "\n",
      "Epoch 549 finished ! Training Loss: 0.0660\n",
      "\n"
     ]
    },
    {
     "name": "stderr",
     "output_type": "stream",
     "text": [
      "\r",
      "  2%|▏         | 99/4549 [29:53:42<1350:37:35, 1092.64s/it]"
     ]
    },
    {
     "name": "stdout",
     "output_type": "stream",
     "text": [
      "------- 1st valloss=0.0648\n",
      "\n",
      "Epoch 550 finished ! Training Loss: 0.0652\n",
      "\n",
      "------- 1st valloss=0.0650\n",
      "\n"
     ]
    },
    {
     "name": "stderr",
     "output_type": "stream",
     "text": [
      "\r",
      "  2%|▏         | 100/4549 [30:11:55<1350:34:53, 1092.85s/it]"
     ]
    },
    {
     "name": "stdout",
     "output_type": "stream",
     "text": [
      "Checkpoint 550 saved !\n",
      "Epoch 551 finished ! Training Loss: 0.0645\n",
      "\n"
     ]
    },
    {
     "name": "stderr",
     "output_type": "stream",
     "text": [
      "\r",
      "  2%|▏         | 101/4549 [30:29:57<1346:10:24, 1089.53s/it]"
     ]
    },
    {
     "name": "stdout",
     "output_type": "stream",
     "text": [
      "------- 1st valloss=0.0711\n",
      "\n",
      "Epoch 552 finished ! Training Loss: 0.0656\n",
      "\n"
     ]
    },
    {
     "name": "stderr",
     "output_type": "stream",
     "text": [
      "\r",
      "  2%|▏         | 102/4549 [30:48:19<1350:22:08, 1093.17s/it]"
     ]
    },
    {
     "name": "stdout",
     "output_type": "stream",
     "text": [
      "------- 1st valloss=0.0637\n",
      "\n",
      "Epoch 553 finished ! Training Loss: 0.0650\n",
      "\n"
     ]
    },
    {
     "name": "stderr",
     "output_type": "stream",
     "text": [
      "\r",
      "  2%|▏         | 103/4549 [31:06:33<1350:34:33, 1093.58s/it]"
     ]
    },
    {
     "name": "stdout",
     "output_type": "stream",
     "text": [
      "------- 1st valloss=0.0755\n",
      "\n",
      "Epoch 554 finished ! Training Loss: 0.0663\n",
      "\n"
     ]
    },
    {
     "name": "stderr",
     "output_type": "stream",
     "text": [
      "\r",
      "  2%|▏         | 104/4549 [31:24:40<1347:54:26, 1091.67s/it]"
     ]
    },
    {
     "name": "stdout",
     "output_type": "stream",
     "text": [
      "------- 1st valloss=0.0636\n",
      "\n",
      "Epoch 555 finished ! Training Loss: 0.0646\n",
      "\n"
     ]
    },
    {
     "name": "stderr",
     "output_type": "stream",
     "text": [
      "\r",
      "  2%|▏         | 105/4549 [31:42:43<1344:12:49, 1088.92s/it]"
     ]
    },
    {
     "name": "stdout",
     "output_type": "stream",
     "text": [
      "------- 1st valloss=0.0651\n",
      "\n",
      "Epoch 556 finished ! Training Loss: 0.0654\n",
      "\n"
     ]
    },
    {
     "name": "stderr",
     "output_type": "stream",
     "text": [
      "\r",
      "  2%|▏         | 106/4549 [32:00:51<1343:26:17, 1088.54s/it]"
     ]
    },
    {
     "name": "stdout",
     "output_type": "stream",
     "text": [
      "------- 1st valloss=0.0659\n",
      "\n",
      "Epoch 557 finished ! Training Loss: 0.0634\n",
      "\n"
     ]
    },
    {
     "name": "stderr",
     "output_type": "stream",
     "text": [
      "\r",
      "  2%|▏         | 107/4549 [32:18:50<1339:46:48, 1085.82s/it]"
     ]
    },
    {
     "name": "stdout",
     "output_type": "stream",
     "text": [
      "------- 1st valloss=0.0650\n",
      "\n",
      "Epoch 558 finished ! Training Loss: 0.0651\n",
      "\n"
     ]
    },
    {
     "name": "stderr",
     "output_type": "stream",
     "text": [
      "\r",
      "  2%|▏         | 108/4549 [32:36:43<1334:41:01, 1081.93s/it]"
     ]
    },
    {
     "name": "stdout",
     "output_type": "stream",
     "text": [
      "------- 1st valloss=0.1034\n",
      "\n",
      "Epoch 559 finished ! Training Loss: 0.0639\n",
      "\n"
     ]
    },
    {
     "name": "stderr",
     "output_type": "stream",
     "text": [
      "\r",
      "  2%|▏         | 109/4549 [32:54:38<1331:52:26, 1079.90s/it]"
     ]
    },
    {
     "name": "stdout",
     "output_type": "stream",
     "text": [
      "------- 1st valloss=0.0657\n",
      "\n",
      "Epoch 560 finished ! Training Loss: 0.0637\n",
      "\n",
      "------- 1st valloss=0.0637\n",
      "\n"
     ]
    },
    {
     "name": "stderr",
     "output_type": "stream",
     "text": [
      "\r",
      "  2%|▏         | 110/4549 [33:12:38<1331:44:00, 1080.03s/it]"
     ]
    },
    {
     "name": "stdout",
     "output_type": "stream",
     "text": [
      "Checkpoint 560 saved !\n",
      "Epoch 561 finished ! Training Loss: 0.0645\n",
      "\n",
      "------- 1st valloss=0.0606\n",
      "\n",
      "0.060552956455427666 less than 0.06232943547808606\n"
     ]
    },
    {
     "name": "stderr",
     "output_type": "stream",
     "text": [
      "\r",
      "  2%|▏         | 111/4549 [33:30:39<1331:39:57, 1080.22s/it]"
     ]
    },
    {
     "name": "stdout",
     "output_type": "stream",
     "text": [
      "Checkpoint 561 saved !\n",
      "Epoch 562 finished ! Training Loss: 0.0665\n",
      "\n"
     ]
    },
    {
     "name": "stderr",
     "output_type": "stream",
     "text": [
      "\r",
      "  2%|▏         | 112/4549 [33:48:40<1331:26:07, 1080.27s/it]"
     ]
    },
    {
     "name": "stdout",
     "output_type": "stream",
     "text": [
      "------- 1st valloss=0.0655\n",
      "\n",
      "Epoch 563 finished ! Training Loss: 0.0650\n",
      "\n"
     ]
    },
    {
     "name": "stderr",
     "output_type": "stream",
     "text": [
      "\r",
      "  2%|▏         | 113/4549 [34:06:37<1330:07:13, 1079.45s/it]"
     ]
    },
    {
     "name": "stdout",
     "output_type": "stream",
     "text": [
      "------- 1st valloss=0.0690\n",
      "\n",
      "Epoch 564 finished ! Training Loss: 0.0634\n",
      "\n"
     ]
    },
    {
     "name": "stderr",
     "output_type": "stream",
     "text": [
      "\r",
      "  3%|▎         | 114/4549 [34:24:56<1336:52:02, 1085.17s/it]"
     ]
    },
    {
     "name": "stdout",
     "output_type": "stream",
     "text": [
      "------- 1st valloss=0.0654\n",
      "\n",
      "Epoch 565 finished ! Training Loss: 0.0632\n",
      "\n"
     ]
    },
    {
     "name": "stderr",
     "output_type": "stream",
     "text": [
      "\r",
      "  3%|▎         | 115/4549 [34:43:14<1341:32:26, 1089.21s/it]"
     ]
    },
    {
     "name": "stdout",
     "output_type": "stream",
     "text": [
      "------- 1st valloss=0.0749\n",
      "\n",
      "Epoch 566 finished ! Training Loss: 0.0663\n",
      "\n"
     ]
    },
    {
     "name": "stderr",
     "output_type": "stream",
     "text": [
      "\r",
      "  3%|▎         | 116/4549 [35:01:20<1339:56:40, 1088.16s/it]"
     ]
    },
    {
     "name": "stdout",
     "output_type": "stream",
     "text": [
      "------- 1st valloss=0.0754\n",
      "\n",
      "Epoch 567 finished ! Training Loss: 0.0685\n",
      "\n"
     ]
    },
    {
     "name": "stderr",
     "output_type": "stream",
     "text": [
      "\r",
      "  3%|▎         | 117/4549 [35:19:34<1341:39:15, 1089.79s/it]"
     ]
    },
    {
     "name": "stdout",
     "output_type": "stream",
     "text": [
      "------- 1st valloss=0.0758\n",
      "\n",
      "Epoch 568 finished ! Training Loss: 0.0652\n",
      "\n"
     ]
    },
    {
     "name": "stderr",
     "output_type": "stream",
     "text": [
      "\r",
      "  3%|▎         | 118/4549 [35:37:39<1339:53:53, 1088.61s/it]"
     ]
    },
    {
     "name": "stdout",
     "output_type": "stream",
     "text": [
      "------- 1st valloss=0.0655\n",
      "\n",
      "Epoch 569 finished ! Training Loss: 0.0725\n",
      "\n"
     ]
    },
    {
     "name": "stderr",
     "output_type": "stream",
     "text": [
      "\r",
      "  3%|▎         | 119/4549 [35:55:36<1335:12:10, 1085.04s/it]"
     ]
    },
    {
     "name": "stdout",
     "output_type": "stream",
     "text": [
      "------- 1st valloss=0.0916\n",
      "\n",
      "Epoch 570 finished ! Training Loss: 0.0683\n",
      "\n",
      "------- 1st valloss=0.0668\n",
      "\n"
     ]
    },
    {
     "name": "stderr",
     "output_type": "stream",
     "text": [
      "\r",
      "  3%|▎         | 120/4549 [36:13:36<1333:09:19, 1083.62s/it]"
     ]
    },
    {
     "name": "stdout",
     "output_type": "stream",
     "text": [
      "Checkpoint 570 saved !\n",
      "Epoch 571 finished ! Training Loss: 0.0841\n",
      "\n"
     ]
    },
    {
     "name": "stderr",
     "output_type": "stream",
     "text": [
      "\r",
      "  3%|▎         | 121/4549 [36:31:43<1334:01:05, 1084.57s/it]"
     ]
    },
    {
     "name": "stdout",
     "output_type": "stream",
     "text": [
      "------- 1st valloss=0.1210\n",
      "\n",
      "Epoch 572 finished ! Training Loss: 0.0818\n",
      "\n"
     ]
    },
    {
     "name": "stderr",
     "output_type": "stream",
     "text": [
      "\r",
      "  3%|▎         | 122/4549 [36:49:58<1337:27:47, 1087.61s/it]"
     ]
    },
    {
     "name": "stdout",
     "output_type": "stream",
     "text": [
      "------- 1st valloss=0.0804\n",
      "\n",
      "Epoch 573 finished ! Training Loss: 0.0776\n",
      "\n"
     ]
    },
    {
     "name": "stderr",
     "output_type": "stream",
     "text": [
      "\r",
      "  3%|▎         | 123/4549 [37:07:50<1331:25:31, 1082.95s/it]"
     ]
    },
    {
     "name": "stdout",
     "output_type": "stream",
     "text": [
      "------- 1st valloss=0.0832\n",
      "\n",
      "Epoch 574 finished ! Training Loss: 0.0690\n",
      "\n"
     ]
    },
    {
     "name": "stderr",
     "output_type": "stream",
     "text": [
      "\r",
      "  3%|▎         | 124/4549 [37:25:50<1330:13:01, 1082.21s/it]"
     ]
    },
    {
     "name": "stdout",
     "output_type": "stream",
     "text": [
      "------- 1st valloss=0.0702\n",
      "\n",
      "Epoch 575 finished ! Training Loss: 0.0685\n",
      "\n"
     ]
    },
    {
     "name": "stderr",
     "output_type": "stream",
     "text": [
      "\r",
      "  3%|▎         | 125/4549 [37:44:05<1334:37:50, 1086.05s/it]"
     ]
    },
    {
     "name": "stdout",
     "output_type": "stream",
     "text": [
      "------- 1st valloss=0.0837\n",
      "\n",
      "Epoch 576 finished ! Training Loss: 0.0677\n",
      "\n"
     ]
    },
    {
     "name": "stderr",
     "output_type": "stream",
     "text": [
      "\r",
      "  3%|▎         | 126/4549 [38:02:01<1330:28:20, 1082.91s/it]"
     ]
    },
    {
     "name": "stdout",
     "output_type": "stream",
     "text": [
      "------- 1st valloss=0.0876\n",
      "\n",
      "Epoch 577 finished ! Training Loss: 0.0662\n",
      "\n"
     ]
    },
    {
     "name": "stderr",
     "output_type": "stream",
     "text": [
      "\r",
      "  3%|▎         | 127/4549 [38:20:21<1336:25:43, 1088.00s/it]"
     ]
    },
    {
     "name": "stdout",
     "output_type": "stream",
     "text": [
      "------- 1st valloss=0.0755\n",
      "\n",
      "Epoch 578 finished ! Training Loss: 0.0660\n",
      "\n"
     ]
    },
    {
     "name": "stderr",
     "output_type": "stream",
     "text": [
      "\r",
      "  3%|▎         | 128/4549 [38:38:32<1337:14:03, 1088.90s/it]"
     ]
    },
    {
     "name": "stdout",
     "output_type": "stream",
     "text": [
      "------- 1st valloss=0.0740\n",
      "\n",
      "Epoch 579 finished ! Training Loss: 0.0687\n",
      "\n"
     ]
    },
    {
     "name": "stderr",
     "output_type": "stream",
     "text": [
      "\r",
      "  3%|▎         | 129/4549 [38:56:41<1337:06:11, 1089.04s/it]"
     ]
    },
    {
     "name": "stdout",
     "output_type": "stream",
     "text": [
      "------- 1st valloss=0.0856\n",
      "\n",
      "Epoch 580 finished ! Training Loss: 0.0671\n",
      "\n",
      "------- 1st valloss=0.0794\n",
      "\n"
     ]
    },
    {
     "name": "stderr",
     "output_type": "stream",
     "text": [
      "\r",
      "  3%|▎         | 130/4549 [39:14:56<1338:54:19, 1090.76s/it]"
     ]
    },
    {
     "name": "stdout",
     "output_type": "stream",
     "text": [
      "Checkpoint 580 saved !\n",
      "Epoch 581 finished ! Training Loss: 0.0662\n",
      "\n"
     ]
    },
    {
     "name": "stderr",
     "output_type": "stream",
     "text": [
      "\r",
      "  3%|▎         | 131/4549 [39:33:00<1336:02:40, 1088.67s/it]"
     ]
    },
    {
     "name": "stdout",
     "output_type": "stream",
     "text": [
      "------- 1st valloss=0.0638\n",
      "\n",
      "Epoch 582 finished ! Training Loss: 0.0675\n",
      "\n"
     ]
    },
    {
     "name": "stderr",
     "output_type": "stream",
     "text": [
      "\r",
      "  3%|▎         | 132/4549 [39:50:57<1331:26:25, 1085.17s/it]"
     ]
    },
    {
     "name": "stdout",
     "output_type": "stream",
     "text": [
      "------- 1st valloss=0.0641\n",
      "\n",
      "Epoch 583 finished ! Training Loss: 0.0669\n",
      "\n"
     ]
    },
    {
     "name": "stderr",
     "output_type": "stream",
     "text": [
      "\r",
      "  3%|▎         | 133/4549 [40:09:08<1333:21:53, 1086.98s/it]"
     ]
    },
    {
     "name": "stdout",
     "output_type": "stream",
     "text": [
      "------- 1st valloss=0.0831\n",
      "\n",
      "Epoch 584 finished ! Training Loss: 0.0649\n",
      "\n"
     ]
    },
    {
     "name": "stderr",
     "output_type": "stream",
     "text": [
      "\r",
      "  3%|▎         | 134/4549 [40:27:04<1329:09:40, 1083.80s/it]"
     ]
    },
    {
     "name": "stdout",
     "output_type": "stream",
     "text": [
      "------- 1st valloss=0.0637\n",
      "\n",
      "Epoch 585 finished ! Training Loss: 0.0643\n",
      "\n"
     ]
    }
   ],
   "source": [
    "epochs = 5000\n",
    "\n",
    "min_val = .07\n",
    "\n",
    "record = open('train_deeplab_output_2_elu.txt','a+')\n",
    "\n",
    "logger = {'train':[], 'validation_1': []}\n",
    "\n",
    "for e in tqdm(range(epoch + 1, epochs)):\n",
    "# iter over epoches\n",
    "\n",
    "    epoch_loss = 0\n",
    "        \n",
    "    for t, batch in enumerate(train_loader):\n",
    "    # iter over the train mini batches\n",
    "    \n",
    "        deeplab.train()\n",
    "        # Set the model flag to train\n",
    "        # 1. enable dropout\n",
    "        # 2. batchnorm behave differently in train and test\n",
    "        \n",
    "        image_1 = batch['image1_data'].to(device=device, dtype=dtype)\n",
    "        label_1 = batch['image1_label'].to(device=device, dtype=dtype)\n",
    "        # move data to device, convert dtype to desirable dtype\n",
    "        \n",
    "        out_1 = deeplab(image_1)\n",
    "        # do the inference\n",
    "\n",
    "        loss_1 = dice_loss_3(out_1, label_1)\n",
    "        # calculate loss\n",
    "        \n",
    "        epoch_loss += loss_1.item()\n",
    "        # record minibatch loss to epoch loss\n",
    "        \n",
    "        optimizer.zero_grad()\n",
    "        # set the model parameter gradient to zero\n",
    "        \n",
    "        loss_1.backward()\n",
    "        # calculate the gradient wrt loss\n",
    "        optimizer.step()\n",
    "        #scheduler.step(loss_1)\n",
    "        # take a gradient descent step\n",
    "        \n",
    "    outstr = 'Epoch {0} finished ! Training Loss: {1:.4f}'.format(e, epoch_loss/(t+1)) + '\\n'\n",
    "    \n",
    "    logger['train'].append(epoch_loss/(t+1))\n",
    "    \n",
    "    print(outstr)\n",
    "    record.write(outstr)\n",
    "    record.flush()\n",
    "    \n",
    "    if (e <= 150 and e % 5 == 0) or (e > 150 and e % 1 == 0):\n",
    "        # do validation every 5 epoches\n",
    "\n",
    "        deeplab.eval()\n",
    "        # set model flag to eval\n",
    "        # 1. disable dropout\n",
    "        # 2. batchnorm behave differs\n",
    "\n",
    "        with torch.no_grad():\n",
    "        # stop taking gradient\n",
    "\n",
    "            #valloss_4 = 0\n",
    "            #valloss_2 = 0\n",
    "            valloss_1 = 0\n",
    "\n",
    "            for v, vbatch in enumerate(validation_loader):\n",
    "            # iter over validation mini batches\n",
    "\n",
    "                image_1_val = vbatch['image1_data'].to(device=device, dtype=dtype)\n",
    "                if get_dimensions(image_1_val) == 4:\n",
    "                    image_1_val.unsqueeze_(0)\n",
    "                label_1_val = vbatch['image1_label'].to(device=device, dtype=dtype)\n",
    "                if get_dimensions(label_1_val) == 4:\n",
    "                    label_1_val.unsqueeze_(0)\n",
    "                # move data to device, convert dtype to desirable dtype\n",
    "                # add one dimension to labels if they are 4D tensors\n",
    "\n",
    "                out_1_val = deeplab(image_1_val)\n",
    "                # do the inference\n",
    "\n",
    "                loss_1 = dice_loss_3(out_1_val, label_1_val)\n",
    "                # calculate loss\n",
    "\n",
    "                valloss_1 += loss_1.item()\n",
    "                # record mini batch loss\n",
    "\n",
    "            avg_val_loss = (valloss_1 / (v+1))\n",
    "            outstr = '------- 1st valloss={0:.4f}'\\\n",
    "                .format(avg_val_loss) + '\\n'\n",
    "\n",
    "            logger['validation_1'].append(avg_val_loss)\n",
    "            #scheduler.step(avg_val_loss)\n",
    "\n",
    "            print(outstr)\n",
    "            record.write(outstr)\n",
    "            record.flush()\n",
    "\n",
    "            if avg_val_loss < min_val:\n",
    "                print(avg_val_loss, \"less than\", min_val)\n",
    "                min_val = avg_val_loss\n",
    "                save_1('deeplab_output_2_elu_save', deeplab, optimizer, logger, e, scheduler)\n",
    "            elif e%10 == 0:\n",
    "                save_1('deeplab_output_2_elu_save', deeplab, optimizer, logger, e, scheduler)\n",
    "\n",
    "record.close()"
   ]
  },
  {
   "cell_type": "code",
   "execution_count": null,
   "metadata": {},
   "outputs": [],
   "source": [
    "deeplab.eval()\n",
    "\n",
    "with torch.no_grad():\n",
    "    \n",
    "    bgloss = 0\n",
    "    bdloss = 0\n",
    "    bvloss = 0\n",
    "    \n",
    "    for v, vbatch in tqdm(enumerate(validation_loader)):\n",
    "            # move data to device, convert dtype to desirable dtype\n",
    "\n",
    "        image_1 = vbatch['image1_data'].to(device=device, dtype=dtype)\n",
    "        label_1 = vbatch['image1_label'].to(device=device, dtype=dtype)\n",
    "\n",
    "        output = deeplab(image_1)\n",
    "        # do the inference\n",
    "        output_numpy = output.cpu().numpy()\n",
    "        \n",
    "        \n",
    "        #out_1 = torch.round(output)\n",
    "        out_1 = torch.from_numpy((output_numpy == output_numpy.max(axis=1)[:, None]).astype(int)).to(device=device, dtype=dtype)\n",
    "        loss_1 = dice_loss_3(out_1, label_1)\n",
    "\n",
    "        bg, bd, bv = dice_loss_3_debug(out_1, label_1)\n",
    "        # calculate loss\n",
    "        print(bg.item(), bd.item(), bv.item(), loss_1.item())\n",
    "        bgloss += bg.item()\n",
    "        bdloss += bd.item()\n",
    "        bvloss += bv.item()\n",
    "\n",
    "    outstr = '------- background loss = {0:.4f}, body loss = {1:.4f}, bv loss = {2:.4f}'\\\n",
    "        .format(bgloss/(v+1), bdloss/(v+1), bvloss/(v+1)) + '\\n'\n",
    "    print(outstr)"
   ]
  },
  {
   "cell_type": "code",
   "execution_count": null,
   "metadata": {},
   "outputs": [],
   "source": []
  }
 ],
 "metadata": {
  "kernelspec": {
   "display_name": "Python 3",
   "language": "python",
   "name": "python3"
  },
  "language_info": {
   "codemirror_mode": {
    "name": "ipython",
    "version": 3
   },
   "file_extension": ".py",
   "mimetype": "text/x-python",
   "name": "python",
   "nbconvert_exporter": "python",
   "pygments_lexer": "ipython3",
   "version": "3.7.3"
  }
 },
 "nbformat": 4,
 "nbformat_minor": 2
}
