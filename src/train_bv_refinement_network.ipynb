{
 "cells": [
  {
   "cell_type": "code",
   "execution_count": 1,
   "metadata": {},
   "outputs": [],
   "source": [
    "import sys\n",
    "if not sys.warnoptions:\n",
    "    import warnings\n",
    "    warnings.simplefilter(\"ignore\")\n",
    "\n",
    "import torch\n",
    "import torch.optim as optim\n",
    "from torchvision import transforms\n",
    "from torch.utils.data import DataLoader\n",
    "from tqdm import tqdm\n",
    "\n",
    "from data_utility import *\n",
    "from data_utils import *\n",
    "from loss import *\n",
    "from train import *\n",
    "from deeplab_model.deeplab import *\n",
    "from dense_vnet.DenseVNet import DenseVNet\n",
    "from sync_batchnorm import convert_model\n",
    "import datetime\n",
    "\n",
    "%matplotlib inline\n",
    "%load_ext autoreload\n",
    "%autoreload 2"
   ]
  },
  {
   "cell_type": "code",
   "execution_count": 2,
   "metadata": {},
   "outputs": [
    {
     "name": "stdout",
     "output_type": "stream",
     "text": [
      "using GPU for training\n"
     ]
    }
   ],
   "source": [
    "USE_GPU = True\n",
    "NUM_WORKERS = 12\n",
    "BATCH_SIZE = 2 \n",
    "\n",
    "dtype = torch.float32 \n",
    "# define dtype, float is space efficient than double\n",
    "\n",
    "if USE_GPU and torch.cuda.is_available():\n",
    "    \n",
    "    device = torch.device(\"cuda:0\")\n",
    "    \n",
    "    torch.backends.cudnn.benchmark = True\n",
    "    torch.backends.cudnn.enabled = True\n",
    "    # magic flag that accelerate\n",
    "    \n",
    "    print('using GPU for training')\n",
    "else:\n",
    "    device = torch.device('cpu')\n",
    "    print('using CPU for training')"
   ]
  },
  {
   "cell_type": "code",
   "execution_count": 3,
   "metadata": {},
   "outputs": [],
   "source": [
    "train_dataset = get_full_resolution_dataset(data_type = 'nii_train', \n",
    "                transform=transforms.Compose([\n",
    "                random_affine(90, 15),\n",
    "                random_filp(0.5)]))\n",
    "# do data augumentation on train dataset\n",
    "\n",
    "validation_dataset = get_full_resolution_dataset(data_type = 'nii_test', \n",
    "                transform=None)\n",
    "# no data augumentation on validation dataset\n",
    "\n",
    "train_loader = DataLoader(train_dataset, batch_size=BATCH_SIZE, shuffle=True,\n",
    "                    num_workers=NUM_WORKERS)\n",
    "validation_loader = DataLoader(validation_dataset, batch_size=BATCH_SIZE, shuffle=True,\n",
    "                    num_workers=NUM_WORKERS) # drop_last\n",
    "# loaders come with auto batch division and multi-thread acceleration"
   ]
  },
  {
   "cell_type": "code",
   "execution_count": null,
   "metadata": {},
   "outputs": [
    {
     "name": "stdout",
     "output_type": "stream",
     "text": [
      "Let's use 2 GPUs!\n"
     ]
    }
   ],
   "source": [
    "from bv_refinement_network.RefinementModel import RefinementModel\n",
    "\n",
    "if torch.cuda.device_count() > 1:\n",
    "    print(\"Let's use\", torch.cuda.device_count(), \"GPUs!\")\n",
    "    # dim = 0 [30, xxx] -> [10, ...], [10, ...], [10, ...] on 3 GPUs\n",
    "    \n",
    "refine_model = RefinementModel(num_classes=1)\n",
    "refine_model = nn.DataParallel(refine_model)\n",
    "refine_model = convert_model(refine_model)\n",
    "refine_model = refine_model.to(device, dtype)\n",
    "\n",
    "optimizer = optim.Adam(refine_model.parameters(), lr=1e-3)\n",
    "scheduler = optim.lr_scheduler.ReduceLROnPlateau(optimizer)\n",
    "\n",
    "deeplab = DeepLab(output_stride=16)\n",
    "deeplab = nn.DataParallel(deeplab)\n",
    "deeplab = convert_model(deeplab)\n",
    "\n",
    "checkpoint = torch.load('../deeplab_dilated_save/2019-08-10 09:28:43.844872 epoch: 1160.pth') # best one\n",
    "\n",
    "deeplab.load_state_dict(checkpoint['state_dict_1'])\n",
    "deeplab = deeplab.to(device, dtype)\n",
    "\n",
    "epoch = 0"
   ]
  },
  {
   "cell_type": "code",
   "execution_count": null,
   "metadata": {},
   "outputs": [
    {
     "data": {
      "text/plain": [
       "\"\\ntest_dictionary = train_dataset[33]\\n\\nimage_1 = test_dictionary['image1_data'].view(1, 1, 256, 256, 256)\\nlabel_1 = test_dictionary['image1_label'].view(1, 3, 256, 256, 256)\\nbv_label = label_1.narrow(1,2,1).to(device, dtype)\\nif get_dimensions(bv_label) == 4:\\n    bv_label.unsqueeze_(0)\\n\\nimage_1 = image_1.to(device=device, dtype=dtype) \\nlabel_1 = label_1.to(device=device, dtype=dtype)\\n\\ndeeplab.eval()\\n\\nout_coarse = deeplab(image_1)\\nbv_coarse = out_coarse.narrow(1,2,1)\\n\\nif get_dimensions(bv_coarse) == 4:\\n    bv_coarse.unsqueeze_(0)\\n\\nseg_image_concat = torch.cat([bv_coarse, image_1], dim=1)\\nprint(bv_label.shape)\\nprint(bv_coarse.shape)\\nprint(dice_loss(bv_coarse, bv_label))\\nprint(seg_image_concat.shape)\\n\""
      ]
     },
     "execution_count": 5,
     "metadata": {},
     "output_type": "execute_result"
    }
   ],
   "source": [
    "'''\n",
    "test_dictionary = train_dataset[33]\n",
    "\n",
    "image_1 = test_dictionary['image1_data'].view(1, 1, 256, 256, 256)\n",
    "label_1 = test_dictionary['image1_label'].view(1, 3, 256, 256, 256)\n",
    "bv_label = label_1.narrow(1,2,1).to(device, dtype)\n",
    "if get_dimensions(bv_label) == 4:\n",
    "    bv_label.unsqueeze_(0)\n",
    "\n",
    "image_1 = image_1.to(device=device, dtype=dtype) \n",
    "label_1 = label_1.to(device=device, dtype=dtype)\n",
    "\n",
    "deeplab.eval()\n",
    "\n",
    "out_coarse = deeplab(image_1)\n",
    "bv_coarse = out_coarse.narrow(1,2,1)\n",
    "\n",
    "if get_dimensions(bv_coarse) == 4:\n",
    "    bv_coarse.unsqueeze_(0)\n",
    "\n",
    "seg_image_concat = torch.cat([bv_coarse, image_1], dim=1)\n",
    "print(bv_label.shape)\n",
    "print(bv_coarse.shape)\n",
    "print(dice_loss(bv_coarse, bv_label))\n",
    "print(seg_image_concat.shape)\n",
    "'''"
   ]
  },
  {
   "cell_type": "code",
   "execution_count": null,
   "metadata": {},
   "outputs": [],
   "source": [
    "def get_bboxes(image, label, output, batchsize):\n",
    "    image_final = torch.zeros((batchsize, 1, 128, 128, 128)).to(device, dtype)\n",
    "    label_final = torch.zeros((batchsize, 1, 128, 128, 128)).to(device, dtype)\n",
    "    output_final = torch.zeros((batchsize, 1, 128, 128, 128)).to(device, dtype)\n",
    "    for b in range(batchsize):\n",
    "        out = output[b]\n",
    "        x,y,z = loadbvcenter(binarize_output(out))\n",
    "        x, y, z = np.clip([x, y, z], a_min=64, a_max=192)\n",
    "        x1 = max(x-64, 0)\n",
    "        x2 = min(x+64, 256)\n",
    "        y1 = max(y-64, 0)\n",
    "        y2 = min(y+64, 256)\n",
    "        z1 = max(z-64, 0)\n",
    "        z2 = min(z+64, 256)\n",
    "        image_final[b] = image[b, :, x1:x2, y1:y2, z1:z2]\n",
    "        label_final[b] = label[b, :, x1:x2, y1:y2, z1:z2]\n",
    "        output_final[b] = output[b, :, x1:x2, y1:y2, z1:z2]\n",
    "    return image_final, label_final, output_final"
   ]
  },
  {
   "cell_type": "code",
   "execution_count": null,
   "metadata": {},
   "outputs": [
    {
     "name": "stderr",
     "output_type": "stream",
     "text": [
      "  0%|          | 1/4999 [04:35<382:52:07, 275.78s/it]"
     ]
    },
    {
     "name": "stdout",
     "output_type": "stream",
     "text": [
      "Epoch 1 finished ! Training Loss: 0.6732\n",
      "\n"
     ]
    },
    {
     "name": "stderr",
     "output_type": "stream",
     "text": [
      "\r",
      "  0%|          | 2/4999 [09:14<384:09:01, 276.75s/it]"
     ]
    },
    {
     "name": "stdout",
     "output_type": "stream",
     "text": [
      "Epoch 2 finished ! Training Loss: 0.5335\n",
      "\n"
     ]
    },
    {
     "name": "stderr",
     "output_type": "stream",
     "text": [
      "\r",
      "  0%|          | 3/4999 [13:55<385:44:12, 277.95s/it]"
     ]
    },
    {
     "name": "stdout",
     "output_type": "stream",
     "text": [
      "Epoch 3 finished ! Training Loss: 0.5018\n",
      "\n"
     ]
    },
    {
     "name": "stderr",
     "output_type": "stream",
     "text": [
      "\r",
      "  0%|          | 4/4999 [18:31<384:43:00, 277.27s/it]"
     ]
    },
    {
     "name": "stdout",
     "output_type": "stream",
     "text": [
      "Epoch 4 finished ! Training Loss: 0.4639\n",
      "\n",
      "Epoch 5 finished ! Training Loss: 0.4734\n",
      "\n",
      "tensor(0.7188, device='cuda:0')\n",
      "tensor(0.4222, device='cuda:0')\n",
      "tensor(0.2345, device='cuda:0')\n",
      "tensor(0.2143, device='cuda:0')\n",
      "tensor(0.3626, device='cuda:0')\n",
      "tensor(0.2045, device='cuda:0')\n",
      "tensor(0.2586, device='cuda:0')\n",
      "tensor(0.2213, device='cuda:0')\n",
      "tensor(0.2362, device='cuda:0')\n",
      "tensor(0.2692, device='cuda:0')\n",
      "tensor(0.1549, device='cuda:0')\n",
      "tensor(0.1428, device='cuda:0')\n",
      "tensor(0.2164, device='cuda:0')\n",
      "tensor(0.1960, device='cuda:0')\n",
      "tensor(0.1949, device='cuda:0')\n",
      "tensor(0.3342, device='cuda:0')\n",
      "tensor(0.3477, device='cuda:0')\n",
      "tensor(0.1991, device='cuda:0')\n",
      "tensor(0.2006, device='cuda:0')\n",
      "tensor(0.1394, device='cuda:0')\n",
      "tensor(0.1777, device='cuda:0')\n",
      "tensor(0.3338, device='cuda:0')\n",
      "tensor(0.2718, device='cuda:0')\n"
     ]
    },
    {
     "name": "stderr",
     "output_type": "stream",
     "text": [
      "\r",
      "  0%|          | 5/4999 [23:59<405:46:21, 292.51s/it]"
     ]
    },
    {
     "name": "stdout",
     "output_type": "stream",
     "text": [
      "Checkpoint 5 saved !\n",
      "------- 1st valloss=0.2631\n",
      "\n"
     ]
    },
    {
     "name": "stderr",
     "output_type": "stream",
     "text": [
      "\r",
      "  0%|          | 6/4999 [28:43<402:19:13, 290.08s/it]"
     ]
    },
    {
     "name": "stdout",
     "output_type": "stream",
     "text": [
      "Epoch 6 finished ! Training Loss: 0.4737\n",
      "\n"
     ]
    },
    {
     "name": "stderr",
     "output_type": "stream",
     "text": [
      "\r",
      "  0%|          | 7/4999 [33:25<398:41:04, 287.51s/it]"
     ]
    },
    {
     "name": "stdout",
     "output_type": "stream",
     "text": [
      "Epoch 7 finished ! Training Loss: 0.4652\n",
      "\n"
     ]
    },
    {
     "name": "stderr",
     "output_type": "stream",
     "text": [
      "\r",
      "  0%|          | 8/4999 [38:01<393:45:04, 284.01s/it]"
     ]
    },
    {
     "name": "stdout",
     "output_type": "stream",
     "text": [
      "Epoch 8 finished ! Training Loss: 0.4541\n",
      "\n"
     ]
    },
    {
     "name": "stderr",
     "output_type": "stream",
     "text": [
      "\r",
      "  0%|          | 9/4999 [42:42<392:30:28, 283.17s/it]"
     ]
    },
    {
     "name": "stdout",
     "output_type": "stream",
     "text": [
      "Epoch 9 finished ! Training Loss: 0.4600\n",
      "\n",
      "Epoch 10 finished ! Training Loss: 0.4535\n",
      "\n",
      "tensor(0.4733, device='cuda:0')\n",
      "tensor(0.1639, device='cuda:0')\n",
      "tensor(0.2517, device='cuda:0')\n",
      "tensor(0.1993, device='cuda:0')\n",
      "tensor(0.3559, device='cuda:0')\n",
      "tensor(0.2174, device='cuda:0')\n",
      "tensor(0.1601, device='cuda:0')\n",
      "tensor(0.2400, device='cuda:0')\n",
      "tensor(0.2145, device='cuda:0')\n",
      "tensor(0.2734, device='cuda:0')\n",
      "tensor(0.1915, device='cuda:0')\n",
      "tensor(0.1570, device='cuda:0')\n",
      "tensor(0.6651, device='cuda:0')\n",
      "tensor(0.1486, device='cuda:0')\n",
      "tensor(0.1264, device='cuda:0')\n",
      "tensor(0.1998, device='cuda:0')\n",
      "tensor(0.4486, device='cuda:0')\n",
      "tensor(0.1334, device='cuda:0')\n",
      "tensor(0.3889, device='cuda:0')\n",
      "tensor(0.4816, device='cuda:0')\n",
      "tensor(0.5276, device='cuda:0')\n",
      "tensor(0.2636, device='cuda:0')\n",
      "tensor(0.2902, device='cuda:0')\n"
     ]
    },
    {
     "name": "stderr",
     "output_type": "stream",
     "text": [
      "\r",
      "  0%|          | 10/4999 [48:14<412:57:39, 297.99s/it]"
     ]
    },
    {
     "name": "stdout",
     "output_type": "stream",
     "text": [
      "Checkpoint 10 saved !\n",
      "------- 1st valloss=0.2857\n",
      "\n"
     ]
    },
    {
     "name": "stderr",
     "output_type": "stream",
     "text": [
      "\r",
      "  0%|          | 11/4999 [52:55<405:45:07, 292.84s/it]"
     ]
    },
    {
     "name": "stdout",
     "output_type": "stream",
     "text": [
      "Epoch 11 finished ! Training Loss: 0.4381\n",
      "\n"
     ]
    },
    {
     "name": "stderr",
     "output_type": "stream",
     "text": [
      "\r",
      "  0%|          | 12/4999 [57:31<398:45:36, 287.86s/it]"
     ]
    },
    {
     "name": "stdout",
     "output_type": "stream",
     "text": [
      "Epoch 12 finished ! Training Loss: 0.4236\n",
      "\n"
     ]
    },
    {
     "name": "stderr",
     "output_type": "stream",
     "text": [
      "\r",
      "  0%|          | 13/4999 [1:02:13<396:15:01, 286.10s/it]"
     ]
    },
    {
     "name": "stdout",
     "output_type": "stream",
     "text": [
      "Epoch 13 finished ! Training Loss: 0.4465\n",
      "\n"
     ]
    },
    {
     "name": "stderr",
     "output_type": "stream",
     "text": [
      "\r",
      "  0%|          | 14/4999 [1:06:55<394:23:23, 284.82s/it]"
     ]
    },
    {
     "name": "stdout",
     "output_type": "stream",
     "text": [
      "Epoch 14 finished ! Training Loss: 0.4382\n",
      "\n",
      "Epoch 15 finished ! Training Loss: 0.4244\n",
      "\n",
      "tensor(0.6114, device='cuda:0')\n",
      "tensor(0.2914, device='cuda:0')\n",
      "tensor(0.2433, device='cuda:0')\n",
      "tensor(0.1771, device='cuda:0')\n",
      "tensor(0.3370, device='cuda:0')\n",
      "tensor(0.0901, device='cuda:0')\n",
      "tensor(0.2183, device='cuda:0')\n",
      "tensor(0.3074, device='cuda:0')\n",
      "tensor(0.2919, device='cuda:0')\n",
      "tensor(0.5972, device='cuda:0')\n",
      "tensor(0.3306, device='cuda:0')\n",
      "tensor(0.4412, device='cuda:0')\n",
      "tensor(0.1469, device='cuda:0')\n",
      "tensor(0.5913, device='cuda:0')\n",
      "tensor(0.5226, device='cuda:0')\n",
      "tensor(0.4777, device='cuda:0')\n",
      "tensor(0.2809, device='cuda:0')\n",
      "tensor(0.1976, device='cuda:0')\n",
      "tensor(0.3023, device='cuda:0')\n",
      "tensor(0.4633, device='cuda:0')\n",
      "tensor(0.4895, device='cuda:0')\n",
      "tensor(0.3025, device='cuda:0')\n",
      "tensor(0.4995, device='cuda:0')\n"
     ]
    },
    {
     "name": "stderr",
     "output_type": "stream",
     "text": [
      "\r",
      "  0%|          | 15/4999 [1:12:35<417:00:24, 301.21s/it]"
     ]
    },
    {
     "name": "stdout",
     "output_type": "stream",
     "text": [
      "Checkpoint 15 saved !\n",
      "------- 1st valloss=0.3570\n",
      "\n"
     ]
    },
    {
     "name": "stderr",
     "output_type": "stream",
     "text": [
      "\r",
      "  0%|          | 16/4999 [1:17:13<407:28:59, 294.39s/it]"
     ]
    },
    {
     "name": "stdout",
     "output_type": "stream",
     "text": [
      "Epoch 16 finished ! Training Loss: 0.4329\n",
      "\n"
     ]
    }
   ],
   "source": [
    "epochs = 5000\n",
    "\n",
    "record = open('train_bv_refine.txt','a+')\n",
    "\n",
    "logger = {'train':[], 'validation_1': []}\n",
    "\n",
    "min_val = 1\n",
    "\n",
    "for e in tqdm(range(epoch + 1, epochs)):\n",
    "# iter over epoches\n",
    "    epoch_loss = 0\n",
    "        \n",
    "    for t, batch in enumerate(train_loader):\n",
    "    # iter over the train mini batches\n",
    "        train_losses=[]\n",
    "        for minibatch in range(BATCH_SIZE):\n",
    "            refine_model.train()\n",
    "            deeplab.eval()\n",
    "            # Set the model flag to train\n",
    "            # 1. enable dropout\n",
    "            # 2. batchnorm behave differently in train and test\n",
    "            #print(batch['image1_data'])\n",
    "            image_1 = batch['image1_data'][minibatch].to(device=device, dtype=dtype)\n",
    "            image_1 = image_1.view(1,1,256,256,256)\n",
    "\n",
    "            label_1 = batch['image1_label'][minibatch].to(device=device, dtype=dtype)\n",
    "            label_1 = label_1.view(1,3,256,256,256)\n",
    "\n",
    "            bv_label = label_1[:, 2, :, :, :]\n",
    "            bv_label = bv_label.view(1,1,256,256,256)\n",
    "\n",
    "            original_res = [a[minibatch].item() for a in batch['original_resolution']]\n",
    "\n",
    "            image_1_resize = F.interpolate(image_1, size=original_res, mode='trilinear', align_corners=True)\n",
    "            image_1_resize = image_1_resize.view(1, 1, original_res[0], original_res[1], original_res[2])\n",
    "\n",
    "            bv_label_resize = F.interpolate(bv_label, size=original_res, mode='trilinear', align_corners=True)\n",
    "\n",
    "            # Get coarse output from deeplab model from 256 resolution input\n",
    "            out_coarse = deeplab(image_1)\n",
    "            out_coarse = out_coarse.view(1,3,256,256,256)\n",
    "\n",
    "            bv_coarse = out_coarse[:, 2, :, :, :]\n",
    "            bv_coarse = bv_coarse.view(1,1,256,256,256)\n",
    "\n",
    "            bv_coarse_resize = F.interpolate(bv_coarse, size=original_res, mode='trilinear', align_corners=True)\n",
    "            \n",
    "            pred_x, pred_y, pred_z = loadbvcenter(binarize_output(bv_coarse_resize).view([1] + original_res))\n",
    "            bbox_bv = bv_coarse_resize.view(original_res)[pred_x-64:pred_x+64, pred_y-64:pred_y+64, pred_z-64:pred_z+64]\n",
    "            bbox_bv = reshape_image(bbox_bv.squeeze(), 128, 128, 128).to(device, dtype)\n",
    "            bbox_bv = bbox_bv.view(1,1,128,128,128)\n",
    "            \n",
    "            bbox_bv_label = bv_label_resize.view(original_res)[pred_x-64:pred_x+64, pred_y-64:pred_y+64, pred_z-64:pred_z+64]\n",
    "            bbox_bv_label = reshape_image(bbox_bv_label.squeeze(), 128, 128, 128).to(device, dtype)\n",
    "            bbox_bv_label = bbox_bv_label.view(1,1,128,128,128)\n",
    "\n",
    "            bbox_image = image_1_resize[:, :, pred_x-64:pred_x+64, pred_y-64:pred_y+64, pred_z-64:pred_z+64]\n",
    "            bbox_image = reshape_image(bbox_image.squeeze(), 128, 128, 128).to(device, dtype)\n",
    "            bbox_image = bbox_image.view(1, 1, 128, 128, 128)\n",
    "\n",
    "            bbox_concat = torch.cat([bbox_bv, bbox_image], dim=1)\n",
    "\n",
    "            del out_coarse\n",
    "            del image_1\n",
    "            del bv_coarse\n",
    "            del label_1\n",
    "            del bv_label\n",
    "            del bbox_image\n",
    "            del bbox_bv\n",
    "\n",
    "            torch.cuda.empty_cache()\n",
    "\n",
    "            refine_out = refine_model(bbox_concat)\n",
    "            #refine_out = refine_model(seg_image_concat)\n",
    "            # do the inference\n",
    "\n",
    "            #print(refine_out.shape)\n",
    "            #print(bbox_bv_label.shape)\n",
    "\n",
    "            loss = dice_loss(refine_out, bbox_bv_label)\n",
    "            train_losses.append(loss)\n",
    "        \n",
    "        loss = sum(train_losses) / BATCH_SIZE\n",
    "        train_losses=[]\n",
    "        epoch_loss += loss.item()\n",
    "        # record minibatch loss to epoch loss\n",
    "        \n",
    "        optimizer.zero_grad()\n",
    "        # set the model parameter gradient to zero\n",
    "        \n",
    "        loss.backward()\n",
    "        # calculate the gradient wrt loss\n",
    "        optimizer.step()\n",
    "        #scheduler.step(loss_1)\n",
    "        # take a gradient descent step\n",
    "        torch.cuda.empty_cache()\n",
    "        \n",
    "    outstr = 'Epoch {0} finished ! Training Loss: {1:.4f}'.format(e, epoch_loss/(t+1)) + '\\n'\n",
    "    \n",
    "    logger['train'].append(epoch_loss/(t+1))\n",
    "    \n",
    "    print(outstr)\n",
    "    record.write(outstr)\n",
    "    record.flush()\n",
    "\n",
    "    if e%5 == 0:\n",
    "    # do validation every 5 epoches\n",
    "        deeplab.eval()\n",
    "        refine_model.eval()\n",
    "        # set model flag to eval\n",
    "        # 1. disable dropout\n",
    "        # 2. batchnorm behave differs\n",
    "\n",
    "        with torch.no_grad():\n",
    "        # stop taking gradient\n",
    "        \n",
    "            #valloss_4 = 0\n",
    "            #valloss_2 = 0\n",
    "            valloss_1 = 0\n",
    "            \n",
    "            for v, vbatch in enumerate(validation_loader):\n",
    "            # iter over validation mini batches\n",
    "                val_losses = []\n",
    "                for minibatch in range(BATCH_SIZE):\n",
    "                    image_1 = vbatch['image1_data'][minibatch].to(device=device, dtype=dtype)\n",
    "                    image_1 = image_1.view(1,1,256,256,256)\n",
    "\n",
    "                    label_1 = vbatch['image1_label'][minibatch].to(device=device, dtype=dtype)\n",
    "                    label_1 = label_1.view(1,3,256,256,256)\n",
    "\n",
    "                    bv_label = label_1[:, 2, :, :, :]\n",
    "                    bv_label = bv_label.view(1,1,256,256,256)\n",
    "\n",
    "                    original_res = [a[minibatch].item() for a in vbatch['original_resolution']]\n",
    "                    #print(original_res)\n",
    "                    #print(batch['original_resolution'])\n",
    "\n",
    "                    image_1_resize = F.interpolate(image_1, size=original_res, mode='trilinear', align_corners=True)\n",
    "                    image_1_resize = image_1_resize.view(1,1,original_res[0], original_res[1], original_res[2])\n",
    "\n",
    "                    bv_label_resize = F.interpolate(bv_label, size=original_res, mode='trilinear', align_corners=True)\n",
    "\n",
    "                    # Get coarse output from deeplab model from 256 resolution input\n",
    "                    out_coarse = deeplab(image_1)\n",
    "                    out_coarse = out_coarse.view(1,3,256,256,256)\n",
    "\n",
    "                    bv_coarse = out_coarse[:, 2, :, :, :]\n",
    "                    bv_coarse = bv_coarse.view(1,1,256,256,256)\n",
    "\n",
    "                    bv_coarse_resize = F.interpolate(bv_coarse, size=original_res, mode='trilinear', align_corners=True)\n",
    "\n",
    "                    pred_x, pred_y, pred_z = loadbvcenter(binarize_output(bv_coarse_resize).view([1] + original_res))\n",
    "                    bbox_bv = bv_coarse_resize.view(original_res)[pred_x-64:pred_x+64, pred_y-64:pred_y+64, pred_z-64:pred_z+64]\n",
    "                    bbox_bv = reshape_image(bbox_bv.squeeze(), 128, 128, 128).to(device, dtype)\n",
    "                    bbox_bv = bbox_bv.view(1,1,128,128,128)\n",
    "\n",
    "                    bbox_bv_label = bv_label_resize.view(original_res)[pred_x-64:pred_x+64, pred_y-64:pred_y+64, pred_z-64:pred_z+64]\n",
    "                    bbox_bv_label = reshape_image(bbox_bv_label.squeeze(), 128, 128, 128).to(device, dtype)\n",
    "                    bbox_bv_label = bbox_bv_label.view(1,1,128,128,128)\n",
    "\n",
    "                    #bbox_image = get_bounding_box_image(image_1, (256,256,256)).to(device, dtype)\n",
    "                    bbox_image = image_1_resize[:, :, pred_x-64:pred_x+64, pred_y-64:pred_y+64, pred_z-64:pred_z+64]\n",
    "                    bbox_image = reshape_image(bbox_image.squeeze(), 128, 128, 128).to(device, dtype)\n",
    "                    bbox_image = bbox_image.view(1, 1, 128, 128, 128)\n",
    "\n",
    "                    bbox_concat = torch.cat([bbox_bv, bbox_image], dim=1)\n",
    "\n",
    "                    del out_coarse\n",
    "                    del image_1\n",
    "                    del bv_coarse\n",
    "                    del label_1\n",
    "                    del bv_label\n",
    "                    del bbox_image\n",
    "                    del bbox_bv\n",
    "                    \n",
    "                    torch.cuda.empty_cache()\n",
    "\n",
    "                    refine_out = refine_model(bbox_concat)\n",
    "                    \n",
    "                    loss = dice_loss(refine_out, bbox_bv_label)\n",
    "                    val_losses.append(loss)\n",
    "                \n",
    "                avg_loss = sum(val_losses) / BATCH_SIZE\n",
    "                val_losses = []\n",
    "                print(avg_loss)\n",
    "            \n",
    "                # calculate loss\n",
    "                valloss_1 += avg_loss.item()\n",
    "                \n",
    "                torch.cuda.empty_cache()\n",
    "                \n",
    "            \n",
    "            avg_val_loss = (valloss_1 / (v+1))\n",
    "            outstr = '------- 1st valloss={0:.4f}'\\\n",
    "                .format(avg_val_loss) + '\\n'\n",
    "            \n",
    "            logger['validation_1'].append(avg_val_loss)\n",
    "            #scheduler.step(avg_val_loss)\n",
    "            \n",
    "            if avg_val_loss < min_val:\n",
    "                save_1('refine_bv_save', refine_model, optimizer, logger, e, scheduler)\n",
    "            elif e % 10 == 0:\n",
    "                save_1('refine_bv_save', refine_model, optimizer, logger, e, scheduler)\n",
    "            \n",
    "            torch.cuda.empty_cache()\n",
    "            \n",
    "            print(outstr)\n",
    "            record.write(outstr)\n",
    "            record.flush()\n",
    "    \n",
    "\n",
    "\n",
    "record.close()"
   ]
  },
  {
   "cell_type": "code",
   "execution_count": null,
   "metadata": {},
   "outputs": [],
   "source": [
    "print(image_1_resize.view([-1]).shape)\n",
    "x,y,z = loadbvcenter(binarize_output(bv_coarse_resize.squeeze(0)))\n",
    "print(x,y,z)"
   ]
  },
  {
   "cell_type": "code",
   "execution_count": null,
   "metadata": {},
   "outputs": [],
   "source": [
    "print(image_1_resize.shape)"
   ]
  },
  {
   "cell_type": "code",
   "execution_count": null,
   "metadata": {},
   "outputs": [],
   "source": [
    "show_image_slice(image_1)\n",
    "show_image_slice(label_1)\n",
    "show_image_slice(bbox_bv_label)\n",
    "show_image_slice(out_coarse)\n",
    "show_image_slice(bbox_bv)\n",
    "show_image_slice(bbox_image)"
   ]
  },
  {
   "cell_type": "code",
   "execution_count": null,
   "metadata": {},
   "outputs": [],
   "source": [
    "b = loadbvcenter(image_1.squeeze(0).cpu().detach().numpy())\n",
    "x1 = int(b[0])\n",
    "y1 = int(b[1])\n",
    "z1 = int(b[2])\n",
    "show_image_slice(bv_label[x1-64:x1+64, y1-64:y1+64, z1-64:z1+64])\n",
    "c = find_bv_centroid(bv_label)\n",
    "x2 = int(c[0])\n",
    "y2 = int(c[1])\n",
    "z2 = int(c[2])\n",
    "show_image_slice(bv_label[x2-64:x2+64, y2-64:y2+64, z2-64:z2+64])"
   ]
  },
  {
   "cell_type": "code",
   "execution_count": null,
   "metadata": {},
   "outputs": [],
   "source": [
    "print(bv_coarse.shape)\n",
    "print(\"bbox_bv_label\", bbox_bv_label.shape)\n",
    "print(\"bbox_bv\", bbox_bv.shape)\n",
    "print(\"bbox_image\", bbox_image.shape)"
   ]
  },
  {
   "cell_type": "code",
   "execution_count": null,
   "metadata": {},
   "outputs": [],
   "source": [
    "deeplab.eval()\n",
    "\n",
    "with torch.no_grad():\n",
    "    \n",
    "    bgloss = 0\n",
    "    bdloss = 0\n",
    "    bvloss = 0\n",
    "    \n",
    "    for v, vbatch in tqdm(enumerate(validation_loader)):\n",
    "        # move data to device, convert dtype to desirable dtype\n",
    "        image_1 = vbatch['image1_data'].to(device=device, dtype=dtype)\n",
    "        label_1 = vbatch['image1_label'].to(device=device, dtype=dtype)\n",
    "\n",
    "        output = deeplab(image_1)\n",
    "        # do the inference\n",
    "        output_numpy = output.cpu().numpy()\n",
    "        \n",
    "        \n",
    "        #out_1 = torch.round(output)\n",
    "        out_1 = torch.from_numpy((output_numpy == output_numpy.max(axis=1)[:, None]).astype(int)).to(device=device, dtype=dtype)\n",
    "        loss_1 = dice_loss_3(out_1, label_1)\n",
    "\n",
    "        bg, bd, bv = dice_loss_3_debug(out_1, label_1)\n",
    "        # calculate loss\n",
    "        print(bg.item(), bd.item(), bv.item(), loss_1.item())\n",
    "        bgloss += bg.item()\n",
    "        bdloss += bd.item()\n",
    "        bvloss += bv.item()\n",
    "        \n",
    "        if bv.item() >= 0.2 or bd.item() >= 0.1:\n",
    "            show_image_slice(image_1)\n",
    "            show_image_slice(label_1)\n",
    "            show_image_slice(output)\n",
    "\n",
    "    outstr = '------- background loss = {0:.4f}, body loss = {1:.4f}, bv loss = {2:.4f}'\\\n",
    "        .format(bgloss/(v+1), bdloss/(v+1), bvloss/(v+1)) + '\\n'\n",
    "    print(outstr)"
   ]
  },
  {
   "cell_type": "code",
   "execution_count": null,
   "metadata": {},
   "outputs": [],
   "source": []
  }
 ],
 "metadata": {
  "kernelspec": {
   "display_name": "Python 3",
   "language": "python",
   "name": "python3"
  },
  "language_info": {
   "codemirror_mode": {
    "name": "ipython",
    "version": 3
   },
   "file_extension": ".py",
   "mimetype": "text/x-python",
   "name": "python",
   "nbconvert_exporter": "python",
   "pygments_lexer": "ipython3",
   "version": "3.7.3"
  }
 },
 "nbformat": 4,
 "nbformat_minor": 2
}
