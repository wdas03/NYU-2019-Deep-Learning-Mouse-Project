{
 "cells": [
  {
   "cell_type": "code",
   "execution_count": 1,
   "metadata": {},
   "outputs": [],
   "source": [
    "import sys\n",
    "if not sys.warnoptions:\n",
    "    import warnings\n",
    "    warnings.simplefilter(\"ignore\")\n",
    "\n",
    "import torch\n",
    "import torch.optim as optim\n",
    "from torchvision import transforms\n",
    "from torch.utils.data import DataLoader\n",
    "from tqdm import tqdm\n",
    "\n",
    "from data_utility import *\n",
    "from data_utils import *\n",
    "from loss import *\n",
    "from train import *\n",
    "from deeplab_model.deeplab import *\n",
    "from dense_vnet.DenseVNet import DenseVNet\n",
    "from sync_batchnorm import convert_model\n",
    "import datetime\n",
    "\n",
    "%matplotlib inline\n",
    "%load_ext autoreload\n",
    "%autoreload 2"
   ]
  },
  {
   "cell_type": "code",
   "execution_count": 2,
   "metadata": {},
   "outputs": [
    {
     "name": "stdout",
     "output_type": "stream",
     "text": [
      "using GPU for training\n"
     ]
    }
   ],
   "source": [
    "USE_GPU = True\n",
    "NUM_WORKERS = 12\n",
    "BATCH_SIZE = 2 \n",
    "\n",
    "dtype = torch.float32 \n",
    "# define dtype, float is space efficient than double\n",
    "\n",
    "if USE_GPU and torch.cuda.is_available():\n",
    "    \n",
    "    device = torch.device(\"cuda:0\")\n",
    "    \n",
    "    torch.backends.cudnn.benchmark = True\n",
    "    torch.backends.cudnn.enabled = True\n",
    "    # magic flag that accelerate\n",
    "    \n",
    "    print('using GPU for training')\n",
    "else:\n",
    "    device = torch.device('cpu')\n",
    "    print('using CPU for training')"
   ]
  },
  {
   "cell_type": "code",
   "execution_count": 3,
   "metadata": {},
   "outputs": [],
   "source": [
    "train_dataset = get_full_resolution_dataset(data_type = 'nii_train', \n",
    "                transform=transforms.Compose([\n",
    "                random_affine(90, 15),\n",
    "                random_filp(0.5)]))\n",
    "# do data augumentation on train dataset\n",
    "\n",
    "validation_dataset = get_full_resolution_dataset(data_type = 'nii_test', \n",
    "                transform=None)\n",
    "# no data augumentation on validation dataset\n",
    "\n",
    "train_loader = DataLoader(train_dataset, batch_size=BATCH_SIZE, shuffle=True,\n",
    "                    num_workers=NUM_WORKERS)\n",
    "validation_loader = DataLoader(validation_dataset, batch_size=BATCH_SIZE, shuffle=True,\n",
    "                    num_workers=NUM_WORKERS) # drop_last\n",
    "# loaders come with auto batch division and multi-thread acceleration"
   ]
  },
  {
   "cell_type": "code",
   "execution_count": null,
   "metadata": {},
   "outputs": [
    {
     "name": "stdout",
     "output_type": "stream",
     "text": [
      "Let's use 2 GPUs!\n"
     ]
    }
   ],
   "source": [
    "from bv_refinement_network.RefinementModel import RefinementModel\n",
    "\n",
    "if torch.cuda.device_count() > 1:\n",
    "    print(\"Let's use\", torch.cuda.device_count(), \"GPUs!\")\n",
    "    # dim = 0 [30, xxx] -> [10, ...], [10, ...], [10, ...] on 3 GPUs\n",
    "    \n",
    "refine_model = RefinementModel(num_classes=1)\n",
    "refine_model = nn.DataParallel(refine_model)\n",
    "refine_model = convert_model(refine_model)\n",
    "refine_model = refine_model.to(device, dtype)\n",
    "\n",
    "optimizer = optim.Adam(refine_model.parameters(), lr=1e-3)\n",
    "scheduler = optim.lr_scheduler.ReduceLROnPlateau(optimizer)\n",
    "\n",
    "deeplab = DeepLab(output_stride=16)\n",
    "deeplab = nn.DataParallel(deeplab)\n",
    "deeplab = convert_model(deeplab)\n",
    "\n",
    "checkpoint = torch.load('../deeplab_dilated_save/2019-08-10 09:28:43.844872 epoch: 1160.pth') # best one\n",
    "\n",
    "deeplab.load_state_dict(checkpoint['state_dict_1'])\n",
    "deeplab = deeplab.to(device, dtype)\n",
    "\n",
    "epoch = 0"
   ]
  },
  {
   "cell_type": "code",
   "execution_count": null,
   "metadata": {},
   "outputs": [
    {
     "data": {
      "text/plain": [
       "\"\\ntest_dictionary = train_dataset[33]\\n\\nimage_1 = test_dictionary['image1_data'].view(1, 1, 256, 256, 256)\\nlabel_1 = test_dictionary['image1_label'].view(1, 3, 256, 256, 256)\\nbv_label = label_1.narrow(1,2,1).to(device, dtype)\\nif get_dimensions(bv_label) == 4:\\n    bv_label.unsqueeze_(0)\\n\\nimage_1 = image_1.to(device=device, dtype=dtype) \\nlabel_1 = label_1.to(device=device, dtype=dtype)\\n\\ndeeplab.eval()\\n\\nout_coarse = deeplab(image_1)\\nbv_coarse = out_coarse.narrow(1,2,1)\\n\\nif get_dimensions(bv_coarse) == 4:\\n    bv_coarse.unsqueeze_(0)\\n\\nseg_image_concat = torch.cat([bv_coarse, image_1], dim=1)\\nprint(bv_label.shape)\\nprint(bv_coarse.shape)\\nprint(dice_loss(bv_coarse, bv_label))\\nprint(seg_image_concat.shape)\\n\""
      ]
     },
     "execution_count": 5,
     "metadata": {},
     "output_type": "execute_result"
    }
   ],
   "source": [
    "'''\n",
    "test_dictionary = train_dataset[33]\n",
    "\n",
    "image_1 = test_dictionary['image1_data'].view(1, 1, 256, 256, 256)\n",
    "label_1 = test_dictionary['image1_label'].view(1, 3, 256, 256, 256)\n",
    "bv_label = label_1.narrow(1,2,1).to(device, dtype)\n",
    "if get_dimensions(bv_label) == 4:\n",
    "    bv_label.unsqueeze_(0)\n",
    "\n",
    "image_1 = image_1.to(device=device, dtype=dtype) \n",
    "label_1 = label_1.to(device=device, dtype=dtype)\n",
    "\n",
    "deeplab.eval()\n",
    "\n",
    "out_coarse = deeplab(image_1)\n",
    "bv_coarse = out_coarse.narrow(1,2,1)\n",
    "\n",
    "if get_dimensions(bv_coarse) == 4:\n",
    "    bv_coarse.unsqueeze_(0)\n",
    "\n",
    "seg_image_concat = torch.cat([bv_coarse, image_1], dim=1)\n",
    "print(bv_label.shape)\n",
    "print(bv_coarse.shape)\n",
    "print(dice_loss(bv_coarse, bv_label))\n",
    "print(seg_image_concat.shape)\n",
    "'''"
   ]
  },
  {
   "cell_type": "code",
   "execution_count": null,
   "metadata": {},
   "outputs": [],
   "source": [
    "def get_bboxes(image, label, output, batchsize):\n",
    "    image_final = torch.zeros((batchsize, 1, 128, 128, 128)).to(device, dtype)\n",
    "    label_final = torch.zeros((batchsize, 1, 128, 128, 128)).to(device, dtype)\n",
    "    output_final = torch.zeros((batchsize, 1, 128, 128, 128)).to(device, dtype)\n",
    "    for b in range(batchsize):\n",
    "        out = output[b]\n",
    "        x,y,z = loadbvcenter(binarize_output(out))\n",
    "        x, y, z = np.clip([x, y, z], a_min=64, a_max=192)\n",
    "        x1 = max(x-64, 0)\n",
    "        x2 = min(x+64, 256)\n",
    "        y1 = max(y-64, 0)\n",
    "        y2 = min(y+64, 256)\n",
    "        z1 = max(z-64, 0)\n",
    "        z2 = min(z+64, 256)\n",
    "        image_final[b] = image[b, :, x1:x2, y1:y2, z1:z2]\n",
    "        label_final[b] = label[b, :, x1:x2, y1:y2, z1:z2]\n",
    "        output_final[b] = output[b, :, x1:x2, y1:y2, z1:z2]\n",
    "    return image_final, label_final, output_final"
   ]
  },
  {
   "cell_type": "code",
   "execution_count": null,
   "metadata": {},
   "outputs": [
    {
     "name": "stderr",
     "output_type": "stream",
     "text": [
      "  0%|          | 1/4999 [05:06<425:47:18, 306.69s/it]"
     ]
    },
    {
     "name": "stdout",
     "output_type": "stream",
     "text": [
      "Epoch 1 finished ! Training Loss: 0.6829\n",
      "\n"
     ]
    },
    {
     "name": "stderr",
     "output_type": "stream",
     "text": [
      "\r",
      "  0%|          | 2/4999 [10:16<426:55:52, 307.57s/it]"
     ]
    },
    {
     "name": "stdout",
     "output_type": "stream",
     "text": [
      "Epoch 2 finished ! Training Loss: 0.5473\n",
      "\n"
     ]
    },
    {
     "name": "stderr",
     "output_type": "stream",
     "text": [
      "\r",
      "  0%|          | 3/4999 [15:59<441:28:44, 318.12s/it]"
     ]
    },
    {
     "name": "stdout",
     "output_type": "stream",
     "text": [
      "Epoch 3 finished ! Training Loss: 0.4993\n",
      "\n"
     ]
    },
    {
     "name": "stderr",
     "output_type": "stream",
     "text": [
      "\r",
      "  0%|          | 4/4999 [21:03<435:48:55, 314.10s/it]"
     ]
    },
    {
     "name": "stdout",
     "output_type": "stream",
     "text": [
      "Epoch 4 finished ! Training Loss: 0.5079\n",
      "\n",
      "Epoch 5 finished ! Training Loss: 0.4876\n",
      "\n",
      "tensor(0.2038, device='cuda:0')\n",
      "tensor(0.2641, device='cuda:0')\n",
      "tensor(0.3898, device='cuda:0')\n",
      "tensor(0.1983, device='cuda:0')\n",
      "tensor(0.1861, device='cuda:0')\n",
      "tensor(0.6043, device='cuda:0')\n",
      "tensor(0.3104, device='cuda:0')\n",
      "tensor(0.2269, device='cuda:0')\n",
      "tensor(0.4356, device='cuda:0')\n",
      "tensor(0.3786, device='cuda:0')\n",
      "tensor(0.2052, device='cuda:0')\n",
      "tensor(0.3631, device='cuda:0')\n",
      "tensor(0.2412, device='cuda:0')\n",
      "tensor(0.1566, device='cuda:0')\n",
      "tensor(0.1474, device='cuda:0')\n",
      "tensor(0.2374, device='cuda:0')\n",
      "tensor(0.2451, device='cuda:0')\n",
      "tensor(0.2874, device='cuda:0')\n",
      "tensor(0.3521, device='cuda:0')\n",
      "tensor(0.3958, device='cuda:0')\n",
      "tensor(0.2832, device='cuda:0')\n",
      "tensor(0.4513, device='cuda:0')\n",
      "tensor(0.2380, device='cuda:0')\n"
     ]
    },
    {
     "name": "stderr",
     "output_type": "stream",
     "text": [
      "\r",
      "  0%|          | 5/4999 [27:17<460:33:44, 332.00s/it]"
     ]
    },
    {
     "name": "stdout",
     "output_type": "stream",
     "text": [
      "Checkpoint 5 saved !\n",
      "------- 1st valloss=0.2957\n",
      "\n"
     ]
    },
    {
     "name": "stderr",
     "output_type": "stream",
     "text": [
      "\r",
      "  0%|          | 6/4999 [32:31<453:04:00, 326.67s/it]"
     ]
    },
    {
     "name": "stdout",
     "output_type": "stream",
     "text": [
      "Epoch 6 finished ! Training Loss: 0.4884\n",
      "\n"
     ]
    },
    {
     "name": "stderr",
     "output_type": "stream",
     "text": [
      "\r",
      "  0%|          | 7/4999 [37:39<444:53:46, 320.84s/it]"
     ]
    },
    {
     "name": "stdout",
     "output_type": "stream",
     "text": [
      "Epoch 7 finished ! Training Loss: 0.4572\n",
      "\n"
     ]
    },
    {
     "name": "stderr",
     "output_type": "stream",
     "text": [
      "\r",
      "  0%|          | 8/4999 [43:11<449:36:53, 324.31s/it]"
     ]
    },
    {
     "name": "stdout",
     "output_type": "stream",
     "text": [
      "Epoch 8 finished ! Training Loss: 0.4702\n",
      "\n"
     ]
    },
    {
     "name": "stderr",
     "output_type": "stream",
     "text": [
      "\r",
      "  0%|          | 9/4999 [48:09<438:49:22, 316.59s/it]"
     ]
    },
    {
     "name": "stdout",
     "output_type": "stream",
     "text": [
      "Epoch 9 finished ! Training Loss: 0.4550\n",
      "\n",
      "Epoch 10 finished ! Training Loss: 0.4573\n",
      "\n",
      "tensor(0.2196, device='cuda:0')\n",
      "tensor(0.2481, device='cuda:0')\n",
      "tensor(0.2531, device='cuda:0')\n",
      "tensor(0.1787, device='cuda:0')\n",
      "tensor(0.6425, device='cuda:0')\n",
      "tensor(0.4374, device='cuda:0')\n",
      "tensor(0.1436, device='cuda:0')\n",
      "tensor(0.2479, device='cuda:0')\n",
      "tensor(0.3453, device='cuda:0')\n",
      "tensor(0.1767, device='cuda:0')\n",
      "tensor(0.3385, device='cuda:0')\n",
      "tensor(0.3348, device='cuda:0')\n",
      "tensor(0.3497, device='cuda:0')\n",
      "tensor(0.1918, device='cuda:0')\n",
      "tensor(0.2734, device='cuda:0')\n",
      "tensor(0.3049, device='cuda:0')\n",
      "tensor(0.1635, device='cuda:0')\n",
      "tensor(0.4547, device='cuda:0')\n",
      "tensor(0.1996, device='cuda:0')\n",
      "tensor(0.3011, device='cuda:0')\n",
      "tensor(0.3142, device='cuda:0')\n",
      "tensor(0.4854, device='cuda:0')\n",
      "tensor(0.2193, device='cuda:0')\n"
     ]
    },
    {
     "name": "stderr",
     "output_type": "stream",
     "text": [
      "\r",
      "  0%|          | 10/4999 [54:24<462:49:47, 333.97s/it]"
     ]
    },
    {
     "name": "stdout",
     "output_type": "stream",
     "text": [
      "Checkpoint 10 saved !\n",
      "------- 1st valloss=0.2967\n",
      "\n"
     ]
    },
    {
     "name": "stderr",
     "output_type": "stream",
     "text": [
      "\r",
      "  0%|          | 11/4999 [1:00:02<464:35:57, 335.32s/it]"
     ]
    },
    {
     "name": "stdout",
     "output_type": "stream",
     "text": [
      "Epoch 11 finished ! Training Loss: 0.4563\n",
      "\n"
     ]
    },
    {
     "name": "stderr",
     "output_type": "stream",
     "text": [
      "\r",
      "  0%|          | 12/4999 [1:05:07<451:45:41, 326.12s/it]"
     ]
    },
    {
     "name": "stdout",
     "output_type": "stream",
     "text": [
      "Epoch 12 finished ! Training Loss: 0.4317\n",
      "\n"
     ]
    },
    {
     "name": "stderr",
     "output_type": "stream",
     "text": [
      "\r",
      "  0%|          | 13/4999 [1:10:19<445:44:36, 321.84s/it]"
     ]
    },
    {
     "name": "stdout",
     "output_type": "stream",
     "text": [
      "Epoch 13 finished ! Training Loss: 0.4547\n",
      "\n"
     ]
    },
    {
     "name": "stderr",
     "output_type": "stream",
     "text": [
      "\r",
      "  0%|          | 14/4999 [1:15:53<450:53:05, 325.61s/it]"
     ]
    },
    {
     "name": "stdout",
     "output_type": "stream",
     "text": [
      "Epoch 14 finished ! Training Loss: 0.4193\n",
      "\n",
      "Epoch 15 finished ! Training Loss: 0.4322\n",
      "\n",
      "tensor(0.4923, device='cuda:0')\n",
      "tensor(0.7325, device='cuda:0')\n",
      "tensor(0.5713, device='cuda:0')\n",
      "tensor(0.4731, device='cuda:0')\n",
      "tensor(0.2384, device='cuda:0')\n",
      "tensor(0.9327, device='cuda:0')\n",
      "tensor(0.4045, device='cuda:0')\n",
      "tensor(0.4606, device='cuda:0')\n",
      "tensor(0.6858, device='cuda:0')\n",
      "tensor(0.5696, device='cuda:0')\n",
      "tensor(0.8855, device='cuda:0')\n",
      "tensor(0.3583, device='cuda:0')\n",
      "tensor(0.2845, device='cuda:0')\n",
      "tensor(0.3602, device='cuda:0')\n",
      "tensor(0.6592, device='cuda:0')\n",
      "tensor(0.8537, device='cuda:0')\n",
      "tensor(0.5458, device='cuda:0')\n",
      "tensor(0.6476, device='cuda:0')\n",
      "tensor(0.7348, device='cuda:0')\n",
      "tensor(0.5688, device='cuda:0')\n",
      "tensor(0.2279, device='cuda:0')\n",
      "tensor(0.2620, device='cuda:0')\n",
      "tensor(0.6985, device='cuda:0')\n"
     ]
    },
    {
     "name": "stderr",
     "output_type": "stream",
     "text": [
      "\r",
      "  0%|          | 15/4999 [1:22:11<472:12:19, 341.08s/it]"
     ]
    },
    {
     "name": "stdout",
     "output_type": "stream",
     "text": [
      "Checkpoint 15 saved !\n",
      "------- 1st valloss=0.5499\n",
      "\n"
     ]
    },
    {
     "name": "stderr",
     "output_type": "stream",
     "text": [
      "\r",
      "  0%|          | 16/4999 [1:27:44<468:47:48, 338.69s/it]"
     ]
    },
    {
     "name": "stdout",
     "output_type": "stream",
     "text": [
      "Epoch 16 finished ! Training Loss: 0.4360\n",
      "\n"
     ]
    },
    {
     "name": "stderr",
     "output_type": "stream",
     "text": [
      "\r",
      "  0%|          | 17/4999 [1:32:45<453:10:54, 327.47s/it]"
     ]
    },
    {
     "name": "stdout",
     "output_type": "stream",
     "text": [
      "Epoch 17 finished ! Training Loss: 0.4139\n",
      "\n"
     ]
    },
    {
     "name": "stderr",
     "output_type": "stream",
     "text": [
      "\r",
      "  0%|          | 18/4999 [1:38:19<455:44:24, 329.38s/it]"
     ]
    },
    {
     "name": "stdout",
     "output_type": "stream",
     "text": [
      "Epoch 18 finished ! Training Loss: 0.4169\n",
      "\n"
     ]
    },
    {
     "name": "stderr",
     "output_type": "stream",
     "text": [
      "\r",
      "  0%|          | 19/4999 [1:43:37<451:00:30, 326.03s/it]"
     ]
    },
    {
     "name": "stdout",
     "output_type": "stream",
     "text": [
      "Epoch 19 finished ! Training Loss: 0.4047\n",
      "\n",
      "Epoch 20 finished ! Training Loss: 0.4144\n",
      "\n",
      "tensor(0.1892, device='cuda:0')\n",
      "tensor(0.1764, device='cuda:0')\n",
      "tensor(0.5608, device='cuda:0')\n",
      "tensor(0.1852, device='cuda:0')\n",
      "tensor(0.3937, device='cuda:0')\n",
      "tensor(0.2754, device='cuda:0')\n",
      "tensor(0.2798, device='cuda:0')\n",
      "tensor(0.2435, device='cuda:0')\n",
      "tensor(0.5751, device='cuda:0')\n",
      "tensor(0.5143, device='cuda:0')\n",
      "tensor(0.3810, device='cuda:0')\n",
      "tensor(0.3708, device='cuda:0')\n",
      "tensor(0.1179, device='cuda:0')\n",
      "tensor(0.2022, device='cuda:0')\n",
      "tensor(0.1915, device='cuda:0')\n",
      "tensor(0.2114, device='cuda:0')\n",
      "tensor(0.2044, device='cuda:0')\n",
      "tensor(0.2097, device='cuda:0')\n",
      "tensor(0.4227, device='cuda:0')\n",
      "tensor(0.5746, device='cuda:0')\n",
      "tensor(0.1136, device='cuda:0')\n",
      "tensor(0.1240, device='cuda:0')\n",
      "tensor(0.5383, device='cuda:0')\n"
     ]
    },
    {
     "name": "stderr",
     "output_type": "stream",
     "text": [
      "\r",
      "  0%|          | 20/4999 [1:49:53<471:49:42, 341.15s/it]"
     ]
    },
    {
     "name": "stdout",
     "output_type": "stream",
     "text": [
      "Checkpoint 20 saved !\n",
      "------- 1st valloss=0.3068\n",
      "\n"
     ]
    }
   ],
   "source": [
    "epochs = 5000\n",
    "\n",
    "record = open('train_bv_refine.txt','a+')\n",
    "\n",
    "logger = {'train':[], 'validation_1': []}\n",
    "\n",
    "min_val = 1\n",
    "\n",
    "for e in tqdm(range(epoch + 1, epochs)):\n",
    "# iter over epoches\n",
    "    epoch_loss = 0\n",
    "        \n",
    "    for t, batch in enumerate(train_loader):\n",
    "    # iter over the train mini batches\n",
    "        train_losses=[]\n",
    "        for minibatch in range(BATCH_SIZE):\n",
    "            refine_model.train()\n",
    "            deeplab.eval()\n",
    "            # Set the model flag to train\n",
    "            # 1. enable dropout\n",
    "            # 2. batchnorm behave differently in train and test\n",
    "            #print(batch['image1_data'])\n",
    "            image_1 = batch['image1_data'][minibatch].to(device=device, dtype=dtype)\n",
    "            image_1 = image_1.view(1,1,256,256,256)\n",
    "\n",
    "            label_1 = batch['image1_label'][minibatch].to(device=device, dtype=dtype)\n",
    "            label_1 = label_1.view(1,3,256,256,256)\n",
    "\n",
    "            bv_label = label_1[:, 2, :, :, :]\n",
    "            bv_label = bv_label.view(1,1,256,256,256)\n",
    "\n",
    "            original_res = [a[minibatch].item() for a in batch['original_resolution']]\n",
    "\n",
    "            image_1_resize = F.interpolate(image_1, size=original_res, mode='trilinear', align_corners=True)\n",
    "            image_1_resize = image_1_resize.view(1, 1, original_res[0], original_res[1], original_res[2])\n",
    "\n",
    "            bv_label_resize = F.interpolate(bv_label, size=original_res, mode='trilinear', align_corners=True)\n",
    "\n",
    "            # Get coarse output from deeplab model from 256 resolution input\n",
    "            out_coarse = deeplab(image_1)\n",
    "            out_coarse = out_coarse.view(1,3,256,256,256)\n",
    "\n",
    "            bv_coarse = out_coarse[:, 2, :, :, :]\n",
    "            bv_coarse = bv_coarse.view(1,1,256,256,256)\n",
    "\n",
    "            bv_coarse_resize = F.interpolate(bv_coarse, size=original_res, mode='trilinear', align_corners=True)\n",
    "            \n",
    "            pred_x, pred_y, pred_z = loadbvcenter(binarize_output(bv_coarse_resize).view([1] + original_res))\n",
    "            bbox_bv = bv_coarse_resize.view(original_res)[pred_x-64:pred_x+64, pred_y-64:pred_y+64, pred_z-64:pred_z+64]\n",
    "            bbox_bv = reshape_image(bbox_bv.squeeze(), 128, 128, 128).to(device, dtype)\n",
    "            bbox_bv = bbox_bv.view(1,1,128,128,128)\n",
    "            \n",
    "            bbox_bv_label = bv_label_resize.view(original_res)[pred_x-64:pred_x+64, pred_y-64:pred_y+64, pred_z-64:pred_z+64]\n",
    "            bbox_bv_label = reshape_image(bbox_bv_label.squeeze(), 128, 128, 128).to(device, dtype)\n",
    "            bbox_bv_label = bbox_bv_label.view(1,1,128,128,128)\n",
    "\n",
    "            bbox_image = image_1_resize[:, :, pred_x-64:pred_x+64, pred_y-64:pred_y+64, pred_z-64:pred_z+64]\n",
    "            bbox_image = reshape_image(bbox_image.squeeze(), 128, 128, 128).to(device, dtype)\n",
    "            bbox_image = bbox_image.view(1, 1, 128, 128, 128)\n",
    "\n",
    "            bbox_concat = torch.cat([bbox_bv, bbox_image], dim=1)\n",
    "\n",
    "            del out_coarse\n",
    "            del image_1\n",
    "            del bv_coarse\n",
    "            del label_1\n",
    "            del bv_label\n",
    "            del bbox_image\n",
    "            del bbox_bv\n",
    "\n",
    "            torch.cuda.empty_cache()\n",
    "\n",
    "            refine_out = refine_model(bbox_concat)\n",
    "            #refine_out = refine_model(seg_image_concat)\n",
    "            # do the inference\n",
    "\n",
    "            #print(refine_out.shape)\n",
    "            #print(bbox_bv_label.shape)\n",
    "\n",
    "            loss = dice_loss(refine_out, bbox_bv_label)\n",
    "            train_losses.append(loss)\n",
    "        \n",
    "        loss = sum(train_losses) / BATCH_SIZE\n",
    "        train_losses=[]\n",
    "        epoch_loss += loss.item()\n",
    "        # record minibatch loss to epoch loss\n",
    "        \n",
    "        optimizer.zero_grad()\n",
    "        # set the model parameter gradient to zero\n",
    "        \n",
    "        loss.backward()\n",
    "        # calculate the gradient wrt loss\n",
    "        optimizer.step()\n",
    "        #scheduler.step(loss_1)\n",
    "        # take a gradient descent step\n",
    "        torch.cuda.empty_cache()\n",
    "        \n",
    "    outstr = 'Epoch {0} finished ! Training Loss: {1:.4f}'.format(e, epoch_loss/(t+1)) + '\\n'\n",
    "    \n",
    "    logger['train'].append(epoch_loss/(t+1))\n",
    "    \n",
    "    print(outstr)\n",
    "    record.write(outstr)\n",
    "    record.flush()\n",
    "\n",
    "    if e%5 == 0:\n",
    "    # do validation every 5 epoches\n",
    "        deeplab.eval()\n",
    "        refine_model.eval()\n",
    "        # set model flag to eval\n",
    "        # 1. disable dropout\n",
    "        # 2. batchnorm behave differs\n",
    "\n",
    "        with torch.no_grad():\n",
    "        # stop taking gradient\n",
    "        \n",
    "            #valloss_4 = 0\n",
    "            #valloss_2 = 0\n",
    "            valloss_1 = 0\n",
    "            \n",
    "            for v, vbatch in enumerate(validation_loader):\n",
    "            # iter over validation mini batches\n",
    "                val_losses = []\n",
    "                for minibatch in range(BATCH_SIZE):\n",
    "                    image_1 = vbatch['image1_data'][minibatch].to(device=device, dtype=dtype)\n",
    "                    image_1 = image_1.view(1,1,256,256,256)\n",
    "\n",
    "                    label_1 = vbatch['image1_label'][minibatch].to(device=device, dtype=dtype)\n",
    "                    label_1 = label_1.view(1,3,256,256,256)\n",
    "\n",
    "                    bv_label = label_1[:, 2, :, :, :]\n",
    "                    bv_label = bv_label.view(1,1,256,256,256)\n",
    "\n",
    "                    original_res = [a[minibatch].item() for a in vbatch['original_resolution']]\n",
    "                    #print(original_res)\n",
    "                    #print(batch['original_resolution'])\n",
    "\n",
    "                    image_1_resize = F.interpolate(image_1, size=original_res, mode='trilinear', align_corners=True)\n",
    "                    image_1_resize = image_1_resize.view(1,1,original_res[0], original_res[1], original_res[2])\n",
    "\n",
    "                    bv_label_resize = F.interpolate(bv_label, size=original_res, mode='trilinear', align_corners=True)\n",
    "\n",
    "                    # Get coarse output from deeplab model from 256 resolution input\n",
    "                    out_coarse = deeplab(image_1)\n",
    "                    out_coarse = out_coarse.view(1,3,256,256,256)\n",
    "\n",
    "                    bv_coarse = out_coarse[:, 2, :, :, :]\n",
    "                    bv_coarse = bv_coarse.view(1,1,256,256,256)\n",
    "\n",
    "                    bv_coarse_resize = F.interpolate(bv_coarse, size=original_res, mode='trilinear', align_corners=True)\n",
    "\n",
    "                    pred_x, pred_y, pred_z = loadbvcenter(binarize_output(bv_coarse_resize).view([1] + original_res))\n",
    "                    bbox_bv = bv_coarse_resize.view(original_res)[pred_x-64:pred_x+64, pred_y-64:pred_y+64, pred_z-64:pred_z+64]\n",
    "                    bbox_bv = reshape_image(bbox_bv.squeeze(), 128, 128, 128).to(device, dtype)\n",
    "                    bbox_bv = bbox_bv.view(1,1,128,128,128)\n",
    "\n",
    "                    bbox_bv_label = bv_label_resize.view(original_res)[pred_x-64:pred_x+64, pred_y-64:pred_y+64, pred_z-64:pred_z+64]\n",
    "                    bbox_bv_label = reshape_image(bbox_bv_label.squeeze(), 128, 128, 128).to(device, dtype)\n",
    "                    bbox_bv_label = bbox_bv_label.view(1,1,128,128,128)\n",
    "\n",
    "                    #bbox_image = get_bounding_box_image(image_1, (256,256,256)).to(device, dtype)\n",
    "                    bbox_image = image_1_resize[:, :, pred_x-64:pred_x+64, pred_y-64:pred_y+64, pred_z-64:pred_z+64]\n",
    "                    bbox_image = reshape_image(bbox_image.squeeze(), 128, 128, 128).to(device, dtype)\n",
    "                    bbox_image = bbox_image.view(1, 1, 128, 128, 128)\n",
    "\n",
    "                    bbox_concat = torch.cat([bbox_bv, bbox_image], dim=1)\n",
    "\n",
    "                    del out_coarse\n",
    "                    del image_1\n",
    "                    del bv_coarse\n",
    "                    del label_1\n",
    "                    del bv_label\n",
    "                    del bbox_image\n",
    "                    del bbox_bv\n",
    "                    \n",
    "                    torch.cuda.empty_cache()\n",
    "\n",
    "                    refine_out = refine_model(bbox_concat)\n",
    "                    \n",
    "                    loss = dice_loss(refine_out, bbox_bv_label)\n",
    "                    val_losses.append(loss)\n",
    "                \n",
    "                avg_loss = sum(val_losses) / BATCH_SIZE\n",
    "                val_losses = []\n",
    "                print(avg_loss)\n",
    "            \n",
    "                # calculate loss\n",
    "                valloss_1 += avg_loss.item()\n",
    "                \n",
    "                torch.cuda.empty_cache()\n",
    "                \n",
    "            \n",
    "            avg_val_loss = (valloss_1 / (v+1))\n",
    "            outstr = '------- 1st valloss={0:.4f}'\\\n",
    "                .format(avg_val_loss) + '\\n'\n",
    "            \n",
    "            logger['validation_1'].append(avg_val_loss)\n",
    "            #scheduler.step(avg_val_loss)\n",
    "            \n",
    "            if avg_val_loss < min_val:\n",
    "                save_1('refine_bv_save', refine_model, optimizer, logger, e, scheduler)\n",
    "            elif e % 10 == 0:\n",
    "                save_1('refine_bv_save', refine_model, optimizer, logger, e, scheduler)\n",
    "            \n",
    "            torch.cuda.empty_cache()\n",
    "            \n",
    "            print(outstr)\n",
    "            record.write(outstr)\n",
    "            record.flush()\n",
    "    \n",
    "\n",
    "\n",
    "record.close()"
   ]
  },
  {
   "cell_type": "code",
   "execution_count": null,
   "metadata": {},
   "outputs": [],
   "source": [
    "print(image_1_resize.view([-1]).shape)\n",
    "x,y,z = loadbvcenter(binarize_output(bv_coarse_resize.squeeze(0)))\n",
    "print(x,y,z)"
   ]
  },
  {
   "cell_type": "code",
   "execution_count": null,
   "metadata": {},
   "outputs": [],
   "source": [
    "print(image_1_resize.shape)"
   ]
  },
  {
   "cell_type": "code",
   "execution_count": null,
   "metadata": {},
   "outputs": [],
   "source": [
    "show_image_slice(image_1)\n",
    "show_image_slice(label_1)\n",
    "show_image_slice(bbox_bv_label)\n",
    "show_image_slice(out_coarse)\n",
    "show_image_slice(bbox_bv)\n",
    "show_image_slice(bbox_image)"
   ]
  },
  {
   "cell_type": "code",
   "execution_count": null,
   "metadata": {},
   "outputs": [],
   "source": [
    "b = loadbvcenter(image_1.squeeze(0).cpu().detach().numpy())\n",
    "x1 = int(b[0])\n",
    "y1 = int(b[1])\n",
    "z1 = int(b[2])\n",
    "show_image_slice(bv_label[x1-64:x1+64, y1-64:y1+64, z1-64:z1+64])\n",
    "c = find_bv_centroid(bv_label)\n",
    "x2 = int(c[0])\n",
    "y2 = int(c[1])\n",
    "z2 = int(c[2])\n",
    "show_image_slice(bv_label[x2-64:x2+64, y2-64:y2+64, z2-64:z2+64])"
   ]
  },
  {
   "cell_type": "code",
   "execution_count": null,
   "metadata": {},
   "outputs": [],
   "source": [
    "print(bv_coarse.shape)\n",
    "print(\"bbox_bv_label\", bbox_bv_label.shape)\n",
    "print(\"bbox_bv\", bbox_bv.shape)\n",
    "print(\"bbox_image\", bbox_image.shape)"
   ]
  },
  {
   "cell_type": "code",
   "execution_count": null,
   "metadata": {},
   "outputs": [],
   "source": [
    "deeplab.eval()\n",
    "\n",
    "with torch.no_grad():\n",
    "    \n",
    "    bgloss = 0\n",
    "    bdloss = 0\n",
    "    bvloss = 0\n",
    "    \n",
    "    for v, vbatch in tqdm(enumerate(validation_loader)):\n",
    "        # move data to device, convert dtype to desirable dtype\n",
    "        image_1 = vbatch['image1_data'].to(device=device, dtype=dtype)\n",
    "        label_1 = vbatch['image1_label'].to(device=device, dtype=dtype)\n",
    "\n",
    "        output = deeplab(image_1)\n",
    "        # do the inference\n",
    "        output_numpy = output.cpu().numpy()\n",
    "        \n",
    "        \n",
    "        #out_1 = torch.round(output)\n",
    "        out_1 = torch.from_numpy((output_numpy == output_numpy.max(axis=1)[:, None]).astype(int)).to(device=device, dtype=dtype)\n",
    "        loss_1 = dice_loss_3(out_1, label_1)\n",
    "\n",
    "        bg, bd, bv = dice_loss_3_debug(out_1, label_1)\n",
    "        # calculate loss\n",
    "        print(bg.item(), bd.item(), bv.item(), loss_1.item())\n",
    "        bgloss += bg.item()\n",
    "        bdloss += bd.item()\n",
    "        bvloss += bv.item()\n",
    "        \n",
    "        if bv.item() >= 0.2 or bd.item() >= 0.1:\n",
    "            show_image_slice(image_1)\n",
    "            show_image_slice(label_1)\n",
    "            show_image_slice(output)\n",
    "\n",
    "    outstr = '------- background loss = {0:.4f}, body loss = {1:.4f}, bv loss = {2:.4f}'\\\n",
    "        .format(bgloss/(v+1), bdloss/(v+1), bvloss/(v+1)) + '\\n'\n",
    "    print(outstr)"
   ]
  },
  {
   "cell_type": "code",
   "execution_count": null,
   "metadata": {},
   "outputs": [],
   "source": []
  }
 ],
 "metadata": {
  "kernelspec": {
   "display_name": "Python 3",
   "language": "python",
   "name": "python3"
  },
  "language_info": {
   "codemirror_mode": {
    "name": "ipython",
    "version": 3
   },
   "file_extension": ".py",
   "mimetype": "text/x-python",
   "name": "python",
   "nbconvert_exporter": "python",
   "pygments_lexer": "ipython3",
   "version": "3.7.3"
  }
 },
 "nbformat": 4,
 "nbformat_minor": 2
}
